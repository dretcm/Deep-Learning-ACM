{
  "nbformat": 4,
  "nbformat_minor": 0,
  "metadata": {
    "colab": {
      "name": "Deep_Learning_Keras.ipynb",
      "provenance": [],
      "collapsed_sections": [
        "wVNGXRfSyH1D",
        "GNomPctnFoKO",
        "w7cLEovNW-YT",
        "_VfqD089-WuQ",
        "mxvW1nUuF7Fd",
        "kE4W-Wnvscle",
        "0K2FnvFybBQq",
        "qXqyslIFeCGZ",
        "1nAzEb1EdoFz",
        "4IMmvCh0kXPe",
        "OuFgM0SukZn9",
        "brE_DNtmvJLq",
        "UFmVGngrLecw",
        "xUIq7klCEbDy",
        "YXq9LqCzKUDD",
        "tZGUpG_ZAKsP",
        "B9_dNCTum1Hw",
        "3pYJQ7EJ35vl",
        "APBt-AAfNBQj",
        "f6Qd8SigDTs3",
        "05zQQbvNll6Y",
        "Ov_yk6qcahG5",
        "OqRCC1wcz3yB",
        "VMon9Ib3tsdy",
        "9rUZKOyJvbcs",
        "cSWTI9p6ZH9O",
        "vRCjvmPz63n7",
        "zNe4ZFzCv_H_",
        "528iJ6fQ86ds",
        "A0jrCeGnwFN6"
      ],
      "authorship_tag": "ABX9TyPJX9hDCOHufyRpVnaN/hWL",
      "include_colab_link": true
    },
    "kernelspec": {
      "name": "python3",
      "display_name": "Python 3"
    }
  },
  "cells": [
    {
      "cell_type": "markdown",
      "metadata": {
        "id": "view-in-github",
        "colab_type": "text"
      },
      "source": [
        "<a href=\"https://colab.research.google.com/github/dretcm/Deep-Learning-ACM/blob/main/Deep_Learning_Keras.ipynb\" target=\"_parent\"><img src=\"https://colab.research.google.com/assets/colab-badge.svg\" alt=\"Open In Colab\"/></a>"
      ]
    },
    {
      "cell_type": "markdown",
      "metadata": {
        "id": "wVNGXRfSyH1D"
      },
      "source": [
        "# 1. Apropiar conceptos fundamentales de las redes neuronales"
      ]
    },
    {
      "cell_type": "markdown",
      "metadata": {
        "id": "0gZxnJ2BHpWe"
      },
      "source": [
        "**todo el curso:** [lo encontre en un comentario muy bueno](https://github.com/rb-one/Curso_RedesNeuronales_ScikitLearn/blob/master/Notes/notes.md)\n",
        "\n",
        "**Youtube:** [Buen video de 3Blue1Brown Español ](https://www.youtube.com/watch?v=jKCQsndqEGQ)\n",
        "\n",
        "**Optimización Bayesiana:** [link de colab](https://colab.research.google.com/drive/1rr0nhaCO31A9FSbFR7B_FeufP7KXBc_E#scrollTo=ZWHTXvyi53pQ)"
      ]
    },
    {
      "cell_type": "markdown",
      "metadata": {
        "id": "WPRCd-rMQls_"
      },
      "source": [
        "**Tipos de Red Neuronal:**\n",
        "* DNN(Deep Neuronal Network): la NN que tiene 2 o más capas.\n",
        "* CNN(Covolutional Neuronal Network): Esta se especializa en el procesamiento de imagenes y un poco en texto.\n",
        "* RNN(Recurrent Neuronal Network): se usa para datos los cuales son secuenciales, texto, precios, etc. con el LSTM.\n",
        "\n",
        "**Explicacion basica de una RN:** [link](https://vincentblog.xyz/posts/conceptos-basicos-sobre-redes-neuronales)"
      ]
    },
    {
      "cell_type": "markdown",
      "metadata": {
        "id": "rV9H6YcLUoUC"
      },
      "source": [
        "![](https://github.com/rb-one/Curso_RedesNeuronales_ScikitLearn/raw/master/Notes/src/hiper_parametros_1.png) $2^n$ es el número mayor más cercano a 2$*$(features).\n",
        "\n",
        "* Aumentar la cantidad de capas es necesariamente aumentar la complejidad y el tiempo necesario para el entrenamiento, en contraste nos da la posibilidad de que la red aprenda comportamientos muy complejos\n",
        "\n",
        "* La recomendación es siempre comenzar con una pequeña arquitectura e ir incrementando paulatinamente la cantidad de capas, lo recomendable para el numero de neuronas de entrada máximo es usar la formula de $2^n$ e ir disminuyendo la cantidad de neuronas en las capas subsecuentes de la misma manera $2^{n-1}$"
      ]
    },
    {
      "cell_type": "markdown",
      "metadata": {
        "id": "YA-I2sgAwed2"
      },
      "source": [
        "**Por que usar redes Neuronales:**\n",
        "\n",
        "* Disponibilidad de datos para entrenar redes.\n",
        "\n",
        "* Capacidad computacional a menor costo y con mayor disponibilidad.\n",
        "\n",
        "* Mejores algoritmos de entrenamiento.\n",
        "\n",
        "* Gran comunidad que constantemente comparte desarrollos, nuevas arquitecturas o nuevas aplicaciones.\n",
        "\n",
        "* APIs flexibles, simples y gratuitos"
      ]
    },
    {
      "cell_type": "markdown",
      "metadata": {
        "id": "xbksiQfnxZzE"
      },
      "source": [
        "**¿Qué es transfer learning?**\n",
        "\n",
        "* cuando elegimos a una red neuronal para un trabajo similar al que hace, que opcion sería mejor para reconocer imagenes medicas, un red neuronal que ya se entreno para ver imagenes en general de todo(perros, gatos, carros, etc.) o una red recien creada que no tiene experiencia alguna. La respuesta es la RN que tenga ya experiencia con imagenes.\n",
        "\n",
        "ejemplo: queremos que nos lleven en moto al centro, a quien elegiriamos a un niño que no sabe nada sobre conducción, o el joven que conduce bicicleta todos los días para entregar el pan."
      ]
    },
    {
      "cell_type": "markdown",
      "metadata": {
        "id": "D6avD2EnztWM"
      },
      "source": [
        "**En las redes neuronales artificiales, ¿se declaran explícitamente las relaciones entre conjuntos de datos?**\n",
        "\n",
        "* Falso, Una red neuronal consiste en una serie de algoritmos que se esfuerzan por reconocer las relaciones subyacentes en conjunto de datos a traves de un proceso que imita la forma en que opera el cerebro humano."
      ]
    },
    {
      "cell_type": "markdown",
      "metadata": {
        "id": "GNomPctnFoKO"
      },
      "source": [
        "## **Construyendo un Perceptrón**"
      ]
    },
    {
      "cell_type": "markdown",
      "metadata": {
        "id": "ZWHTXvyi53pQ"
      },
      "source": [
        "Aunque es común que usemos librerias y simplemente ingresemos parametros. Creo que vale mucho la pena entender a profundidad como está estructurado sino todo al menos algunas cosas desde adentro.\n",
        "\n",
        "\n",
        "---\n",
        "\n",
        "\n",
        "\n",
        "![texto alternativo](https://upload.wikimedia.org/wikipedia/commons/thumb/b/b0/Perceptr%C3%B3n_5_unidades.svg/400px-Perceptr%C3%B3n_5_unidades.svg.png)\n",
        "\n",
        "\n",
        "\n",
        "---\n",
        "\n",
        "\n",
        "En este caso quiero mostrarles como construir un Perceptrón de una capa desde cero.\n",
        "Usaremos el concepto de clase para encapsular los atributos y métodos que queremos asignar a nuestro perceptrón simple."
      ]
    },
    {
      "cell_type": "code",
      "metadata": {
        "id": "x99MYBpl5SRa"
      },
      "source": [
        "import numpy as np\n",
        "class Perceptron:\n",
        "    def __init__(self,X=None, y=None,lr=0.001, niter=1000):\n",
        "        self.lr = lr\n",
        "        self.niter = niter\n",
        "        self.w = None\n",
        "        self.b = None\n",
        "    # modelo de ajuste fit\n",
        "    def fit(self,X,y):\n",
        "        samples,features = X.shape\n",
        "        self.w = np.zeros(features)\n",
        "        self.b = 0\n",
        "        y_ = np.array([1 if i>0 else 0 for i in y])\n",
        "        for _ in range(self.niter):\n",
        "            for indice,X_i in enumerate(X):\n",
        "                self.w += self.lr*(y_[indice]-self.predic(X_i))* X_i\n",
        "      # método predict \n",
        "    def predic(self, X):\n",
        "        y_hat = np.dot(X,self.w) + self.b\n",
        "        y_hat =self.activate_fun(y_hat)\n",
        "        return y_hat\n",
        "      #agregamos una función de activación  basado en el modelo de perceptro\n",
        "    def activate_fun(self,z):\n",
        "        return np.where(z>0, 1,0)\n",
        "      # agregamos un accuracy score \n",
        "    def score(self, y_true, y_pred):\n",
        "        accuracy = np.sum(y_true == y_pred)/len(y_true)\n",
        "        return accuracy\n"
      ],
      "execution_count": null,
      "outputs": []
    },
    {
      "cell_type": "markdown",
      "metadata": {
        "id": "cYlOicmf3vYS"
      },
      "source": [
        "**Comparando el perceptrón con el MLP - Iris**\n",
        "\n",
        "Comparemos el comportamiento del perceptrón construidos con el MLP(Multilayer_perceptron), para el dataset **iris**"
      ]
    },
    {
      "cell_type": "code",
      "metadata": {
        "id": "SnBvqsQQ78_h",
        "outputId": "f38391d6-d992-4859-b0de-c41906432640",
        "colab": {
          "base_uri": "https://localhost:8080/",
          "height": 51
        }
      },
      "source": [
        "import numpy as np \n",
        "from sklearn.datasets import load_iris\n",
        "from sklearn.model_selection import train_test_split\n",
        "from sklearn.neural_network import MLPClassifier\n",
        "from sklearn.metrics import accuracy_score\n",
        "import  matplotlib.pyplot as plt\n",
        "\n",
        "if __name__==\"__main__\":\n",
        "    iris = load_iris() \n",
        "    X = iris.data\n",
        "    y = iris.target\n",
        "\n",
        "\n",
        "    # construyendo el train y test\n",
        "    # hay que tener en cuenta la nomenclatura:\n",
        "    # Setosa (0)\n",
        "    # Versicolor (1)\n",
        "    # Virginica (2)\n",
        "\n",
        "    X_train,X_test, y_train,y_test = train_test_split(X,y, test_size = 0.2)\n",
        "    # indicamos que clase queremos clasificar\n",
        "    y_entrenamiento = (y_train==1).astype(np.int)\n",
        "    y_testing = (y_test==1).astype(np.int)\n",
        "    # entrenando el modelo\n",
        "    p = Perceptron()\n",
        "    p.fit(X_train,y_entrenamiento)\n",
        "    prediccion = p.predic(X_test)\n",
        "    accuracy = p.score(y_testing,prediccion)\n",
        "    print('Simple Perceptron accuracy:', round(accuracy,3))\n",
        "\n",
        "    # ================================================\n",
        "    # iris multilayer\n",
        "    #=================================================\n",
        "    MLP=MLPClassifier(hidden_layer_sizes=(1000,), max_iter=500)\n",
        "    MLP.fit(X_train,y_entrenamiento)\n",
        "    predic = MLP.predict(X_test)\n",
        "    accuracy_MLP = MLP.score(X_test,y_testing)\n",
        "    print('MLP accuracy:', round(accuracy_MLP,4))\n"
      ],
      "execution_count": null,
      "outputs": [
        {
          "output_type": "stream",
          "text": [
            "Simple Perceptron accuracy: 0.667\n",
            "MLP accuracy: 0.9667\n"
          ],
          "name": "stdout"
        }
      ]
    },
    {
      "cell_type": "markdown",
      "metadata": {
        "id": "w7cLEovNW-YT"
      },
      "source": [
        "# DL with Keras and Scikit-learn"
      ]
    },
    {
      "cell_type": "markdown",
      "metadata": {
        "id": "_VfqD089-WuQ"
      },
      "source": [
        "##<h1 id=\"perceptron\">Perceptrón</h1>\n",
        "\n",
        "Representación más simple de una neurona, su salida es de característica binaria (1, 0) y depende de una combinación lineal de las señales de entrada.\n"
      ]
    },
    {
      "cell_type": "markdown",
      "metadata": {
        "id": "iRC6JT-P_l6Y"
      },
      "source": [
        "<h1 id=\"iris\">Dataset IRIS</h1>\n",
        "\n",
        "El Famoso set de datos [IRIS](https://scikit-learn.org/stable/modules/generated/sklearn.datasets.load_iris.html) contiene información de 3 diferentes especies (target):\n",
        "\n",
        "* Iris-Setosa (0)\n",
        "* Iris-Versicolor (1)\n",
        "* Iris-Virginica (2)\n",
        "\n",
        "El dataset contiene 150 muestras (50 por cada especie) y 4 características:\n",
        "\n",
        "* Longitud del sepalo (cm)\n",
        "* Ancho del sepalo (cm)\n",
        "* Longitud del petalo (cm)\n",
        "* Ancho del petalo (cm)\n"
      ]
    },
    {
      "cell_type": "code",
      "metadata": {
        "id": "uBEkwHe0nHVv"
      },
      "source": [
        "import numpy as np\n",
        "import matplotlib.pyplot as plt\n",
        "%matplotlib inline\n",
        "from sklearn.datasets import load_iris\n",
        "from sklearn.linear_model import Perceptron\n",
        "\n",
        "iris = load_iris()"
      ],
      "execution_count": null,
      "outputs": []
    },
    {
      "cell_type": "code",
      "metadata": {
        "id": "PyKtlupinIeS"
      },
      "source": [
        "iris.target"
      ],
      "execution_count": null,
      "outputs": []
    },
    {
      "cell_type": "code",
      "metadata": {
        "id": "92rABB_XnKL7"
      },
      "source": [
        "iris.data[:5, :]"
      ],
      "execution_count": null,
      "outputs": []
    },
    {
      "cell_type": "code",
      "metadata": {
        "id": "_VqpU132nZmR"
      },
      "source": [
        "## Gráfiquemos dos variables: longitud y ancho del pétalo ##\n",
        "data = iris.data[:, (2, 3)]\n",
        "labels = iris.target\n",
        "\n",
        "plt.figure(figsize=(13,6))\n",
        "plt.scatter(data[:, 0], data[:, 1], c=labels, cmap=plt.cm.Set1, edgecolor='face')\n",
        "plt.xlabel('Longitud pétalo (cm)')\n",
        "plt.ylabel('Ancho pétalo (cm)')\n",
        "plt.show()"
      ],
      "execution_count": null,
      "outputs": []
    },
    {
      "cell_type": "code",
      "metadata": {
        "id": "mk_J8GDjoEcY",
        "outputId": "4d99b6c6-1432-4c75-b0f1-620c67fb0db4",
        "colab": {
          "base_uri": "https://localhost:8080/",
          "height": 85
        }
      },
      "source": [
        "## Longitud y ancho del petalo ##\n",
        "X = iris.data[:, (2, 3)] \n",
        "## Es Iris Virginica?\n",
        "y = (iris.target == 2).astype(np.int) \n",
        "\n",
        "test_perceptron = Perceptron()\n",
        "test_perceptron.fit(X, y)"
      ],
      "execution_count": null,
      "outputs": [
        {
          "output_type": "execute_result",
          "data": {
            "text/plain": [
              "Perceptron(alpha=0.0001, class_weight=None, early_stopping=False, eta0=1.0,\n",
              "           fit_intercept=True, max_iter=1000, n_iter_no_change=5, n_jobs=None,\n",
              "           penalty=None, random_state=0, shuffle=True, tol=0.001,\n",
              "           validation_fraction=0.1, verbose=0, warm_start=False)"
            ]
          },
          "metadata": {
            "tags": []
          },
          "execution_count": 9
        }
      ]
    },
    {
      "cell_type": "code",
      "metadata": {
        "id": "YJmS7LTvqdZf",
        "outputId": "d06f861f-529e-4bf7-a0ed-a04630d9b5d7",
        "colab": {
          "base_uri": "https://localhost:8080/",
          "height": 34
        }
      },
      "source": [
        "y1_pred = test_perceptron.predict([[5.1, 2]])\n",
        "y2_pred = test_perceptron.predict([[1.4, 0.2]])\n",
        "print('Predicción 1:', y1_pred, 'Predicción 2:', y2_pred)"
      ],
      "execution_count": null,
      "outputs": [
        {
          "output_type": "stream",
          "text": [
            "Predicción 1: [1] Predicción 2: [0]\n"
          ],
          "name": "stdout"
        }
      ]
    },
    {
      "cell_type": "markdown",
      "metadata": {
        "id": "3ffC6CUUryhZ"
      },
      "source": [
        "El Perceptrón permite implementar clasificadores binarios muy simples, sin embargo a la hora de enfrentar problemas más complejos como la identificación de patrones se recurre a combinar múltiples perceptrones."
      ]
    },
    {
      "cell_type": "markdown",
      "metadata": {
        "id": "mxvW1nUuF7Fd"
      },
      "source": [
        "## <h1 id=\"mlp\">Multi-layer Perceptron (MLP)</h1>"
      ]
    },
    {
      "cell_type": "markdown",
      "metadata": {
        "id": "zDEjLOCmSJiE"
      },
      "source": [
        "Una arquitectura de múltiples capas de perceptrones o MLP) es la respuesta a la necesidad de poder analizar problemas más complejos como lo es la clasificación de imágenes. A grandes rasgos y tal y como se muestra en la animación está compuesta por una capa de entrada, una o múltiples capas de TLUs denominadas capas ocultas cada una compuesta por diferentes perceptrones y una capa final denominada capa de salida. Cuando se incluyen más de dos capas ocultas se suele denominar red neuronal profunda (Deep Neural Network DNN)\n",
        "\n"
      ]
    },
    {
      "cell_type": "markdown",
      "metadata": {
        "id": "kE4W-Wnvscle"
      },
      "source": [
        "### <h1 id=\"problema\">Contexto analítico</h1>\n",
        "\n",
        "Requerimos diseñar un modelo que permita determinar el precio medio de las viviendas en Boston, para ello contamos con un set de información disponible en Keras con características y precios de viviendas en diferentes ubicaciones de Boston de finales de 1970. (Mayor detalle disponible en http://lib.stat.cmu.edu/datasets/boston \n",
        "\n",
        "En total contamos con 506 muestras caracterizadas por 13 variables. \n"
      ]
    },
    {
      "cell_type": "markdown",
      "metadata": {
        "id": "cj8zz7e4stLM"
      },
      "source": [
        " Variables | Description\n",
        " --- | ---\n",
        " CRIM   |  per capita crime rate by town\n",
        " ZN     |  proportion of residential land zoned for lots over 25,000 sq.ft.\n",
        " INDUS  |  proportion of non-retail business acres per town\n",
        " CHAS   |  Charles River dummy variable (= 1 if tract bounds river; 0 otherwise)\n",
        " NOX    |  nitric oxides concentration (parts per 10 million)\n",
        " RM     |  average number of rooms per dwelling\n",
        " AGE    |  proportion of owner-occupied units built prior to 1940\n",
        " DIS    |  weighted distances to five Boston employment centres\n",
        " RAD    |  index of accessibility to radial highways\n",
        " TAX    |  full-value property-tax rate per \\$10,000\n",
        " PTRATIO|  pupil-teacher ratio by town\n",
        " B      |  1000(Bk - 0.63)^2 where Bk is the proportion of blacks by town\n",
        " LSTAT  |  % lower status of the population\n",
        " MEDV   |  Median value of owner-occupied homes in $1000's"
      ]
    },
    {
      "cell_type": "code",
      "metadata": {
        "id": "aO34lT0OoXkK",
        "outputId": "603ee13c-1b7d-4363-846b-3ffbea372db7",
        "colab": {
          "base_uri": "https://localhost:8080/",
          "height": 51
        }
      },
      "source": [
        "from keras.datasets import boston_housing\n",
        "(x_train, y_train), (x_test, y_test) = boston_housing.load_data(test_split=0.2,seed=10)"
      ],
      "execution_count": null,
      "outputs": [
        {
          "output_type": "stream",
          "text": [
            "Downloading data from https://storage.googleapis.com/tensorflow/tf-keras-datasets/boston_housing.npz\n",
            "57344/57026 [==============================] - 0s 0us/step\n"
          ],
          "name": "stdout"
        }
      ]
    },
    {
      "cell_type": "code",
      "metadata": {
        "id": "nLdXM4YnoYcV",
        "outputId": "c596ab13-2177-4bfd-bae9-a5649e950bf3",
        "colab": {
          "base_uri": "https://localhost:8080/",
          "height": 51
        }
      },
      "source": [
        "print(\"Tamaño set de entrenamiento:\",x_train.shape)\n",
        "print(\"Tamaño set de prueba:\",x_test.shape)"
      ],
      "execution_count": null,
      "outputs": [
        {
          "output_type": "stream",
          "text": [
            "Tamaño set de entrenamiento: (404, 13)\n",
            "Tamaño set de prueba: (102, 13)\n"
          ],
          "name": "stdout"
        }
      ]
    },
    {
      "cell_type": "code",
      "metadata": {
        "id": "jUiiDR13oaTB",
        "outputId": "2f1f21b1-07ba-4a86-e26c-7527f73f55f5",
        "colab": {
          "base_uri": "https://localhost:8080/",
          "height": 68
        }
      },
      "source": [
        "x_train[:1]"
      ],
      "execution_count": null,
      "outputs": [
        {
          "output_type": "execute_result",
          "data": {
            "text/plain": [
              "array([[5.4790e-02, 3.3000e+01, 2.1800e+00, 0.0000e+00, 4.7200e-01,\n",
              "        6.6160e+00, 5.8100e+01, 3.3700e+00, 7.0000e+00, 2.2200e+02,\n",
              "        1.8400e+01, 3.9336e+02, 8.9300e+00]])"
            ]
          },
          "metadata": {
            "tags": []
          },
          "execution_count": 3
        }
      ]
    },
    {
      "cell_type": "code",
      "metadata": {
        "id": "ZYBHPyiHoiFx"
      },
      "source": [
        "import numpy as np\n",
        "from keras.models import Sequential\n",
        "from keras.layers import Dense, Activation\n",
        "\n",
        "#Definición de la arquitectura\n",
        "model = Sequential()\n",
        "model.add(Dense(13, input_dim=13, kernel_initializer='normal',activation='relu'))\n",
        "model.add(Dense(6, kernel_initializer='normal',activation='relu'))\n",
        "model.add(Dense(4, kernel_initializer='normal',activation='relu'))\n",
        "model.add(Dense(1, kernel_initializer='normal'))\n",
        "\n",
        "# Compilación del modelo\n",
        "model.compile(loss='mean_squared_error', optimizer='adam',metrics=['mean_absolute_percentage_error'])"
      ],
      "execution_count": null,
      "outputs": []
    },
    {
      "cell_type": "code",
      "metadata": {
        "id": "Y5AHJ_sbroJH",
        "outputId": "85e980d8-338b-4870-9cc3-4add65a87d6e",
        "colab": {
          "base_uri": "https://localhost:8080/",
          "height": 306
        }
      },
      "source": [
        "print(model.summary())"
      ],
      "execution_count": null,
      "outputs": [
        {
          "output_type": "stream",
          "text": [
            "Model: \"sequential\"\n",
            "_________________________________________________________________\n",
            "Layer (type)                 Output Shape              Param #   \n",
            "=================================================================\n",
            "dense (Dense)                (None, 13)                182       \n",
            "_________________________________________________________________\n",
            "dense_1 (Dense)              (None, 6)                 84        \n",
            "_________________________________________________________________\n",
            "dense_2 (Dense)              (None, 4)                 28        \n",
            "_________________________________________________________________\n",
            "dense_3 (Dense)              (None, 1)                 5         \n",
            "=================================================================\n",
            "Total params: 299\n",
            "Trainable params: 299\n",
            "Non-trainable params: 0\n",
            "_________________________________________________________________\n",
            "None\n"
          ],
          "name": "stdout"
        }
      ]
    },
    {
      "cell_type": "code",
      "metadata": {
        "id": "FgfszjucruZf",
        "outputId": "79dbcc4e-9732-417f-bc7b-c34de8111382",
        "colab": {
          "base_uri": "https://localhost:8080/",
          "height": 533
        }
      },
      "source": [
        "from keras.utils import plot_model\n",
        "plot_model(model, to_file='model.png',show_shapes=True)"
      ],
      "execution_count": null,
      "outputs": [
        {
          "output_type": "execute_result",
          "data": {
            "image/png": "[encoded data removed]",
            "text/plain": [
              "<IPython.core.display.Image object>"
            ]
          },
          "metadata": {
            "tags": []
          },
          "execution_count": 6
        }
      ]
    },
    {
      "cell_type": "markdown",
      "metadata": {
        "id": "0K2FnvFybBQq"
      },
      "source": [
        "### <h1 id=\"keras\">Entrenamiento y Evaluación del modelo</h1>\n",
        "\n",
        "Ahora realizaremos diferentes entrenamientos de la red neuronal diseña y evaluaremos su desempeño."
      ]
    },
    {
      "cell_type": "code",
      "metadata": {
        "id": "v8_7RJYpyBiO",
        "outputId": "666fb0f0-c11c-4fdc-cdca-7b0bb2836b19",
        "colab": {
          "base_uri": "https://localhost:8080/",
          "height": 224
        }
      },
      "source": [
        "#Entrena el modelo\n",
        "x_val = x_train[300:,]\n",
        "y_val = y_train[300:,]\n",
        "#Entrena el modelo\n",
        "model.fit(x_train, y_train, batch_size=32, epochs=5,validation_data=(x_val,y_val))"
      ],
      "execution_count": null,
      "outputs": [
        {
          "output_type": "stream",
          "text": [
            "Epoch 1/5\n",
            "13/13 [==============================] - 0s 15ms/step - loss: 589.0016 - mean_absolute_percentage_error: 99.8426 - val_loss: 533.6537 - val_mean_absolute_percentage_error: 99.5929\n",
            "Epoch 2/5\n",
            "13/13 [==============================] - 0s 3ms/step - loss: 583.8458 - mean_absolute_percentage_error: 99.2407 - val_loss: 526.0100 - val_mean_absolute_percentage_error: 98.6090\n",
            "Epoch 3/5\n",
            "13/13 [==============================] - 0s 3ms/step - loss: 571.1353 - mean_absolute_percentage_error: 97.6716 - val_loss: 506.0570 - val_mean_absolute_percentage_error: 95.8349\n",
            "Epoch 4/5\n",
            "13/13 [==============================] - 0s 3ms/step - loss: 536.3995 - mean_absolute_percentage_error: 93.1283 - val_loss: 450.8304 - val_mean_absolute_percentage_error: 87.5798\n",
            "Epoch 5/5\n",
            "13/13 [==============================] - 0s 3ms/step - loss: 444.9887 - mean_absolute_percentage_error: 80.1858 - val_loss: 321.8651 - val_mean_absolute_percentage_error: 66.6681\n"
          ],
          "name": "stdout"
        },
        {
          "output_type": "execute_result",
          "data": {
            "text/plain": [
              "<tensorflow.python.keras.callbacks.History at 0x7fb9b82bcda0>"
            ]
          },
          "metadata": {
            "tags": []
          },
          "execution_count": 7
        }
      ]
    },
    {
      "cell_type": "code",
      "metadata": {
        "id": "0drLqVPmHAMU",
        "outputId": "28d21bd4-f351-4b0d-eb8c-97154a718e69",
        "colab": {
          "base_uri": "https://localhost:8080/",
          "height": 68
        }
      },
      "source": [
        "results = model.evaluate(x_test, y_test)\n",
        "\n",
        "for i in range(len(model.metrics_names)):\n",
        "  print(model.metrics_names[i],\" : \", results[i])"
      ],
      "execution_count": null,
      "outputs": [
        {
          "output_type": "stream",
          "text": [
            "4/4 [==============================] - 0s 2ms/step - loss: 356.1848 - mean_absolute_percentage_error: 68.3216\n",
            "loss  :  356.184814453125\n",
            "mean_absolute_percentage_error  :  68.32160186767578\n"
          ],
          "name": "stdout"
        }
      ]
    },
    {
      "cell_type": "code",
      "metadata": {
        "id": "QUtyPQ7xyBl5",
        "outputId": "947f4998-165d-4b8e-c14e-fd13342a7fcb",
        "colab": {
          "base_uri": "https://localhost:8080/",
          "height": 1000
        }
      },
      "source": [
        "model.fit(x_train, y_train, batch_size=32, epochs=200,validation_data=(x_val,y_val))"
      ],
      "execution_count": null,
      "outputs": [
        {
          "output_type": "stream",
          "text": [
            "Epoch 1/200\n",
            "13/13 [==============================] - 0s 5ms/step - loss: 11.5163 - mean_absolute_percentage_error: 12.7526 - val_loss: 15.5811 - val_mean_absolute_percentage_error: 17.2635\n",
            "Epoch 2/200\n",
            "13/13 [==============================] - 0s 3ms/step - loss: 12.3709 - mean_absolute_percentage_error: 12.8833 - val_loss: 11.6535 - val_mean_absolute_percentage_error: 13.6030\n",
            "Epoch 3/200\n",
            "13/13 [==============================] - 0s 3ms/step - loss: 11.5601 - mean_absolute_percentage_error: 12.6122 - val_loss: 12.6083 - val_mean_absolute_percentage_error: 15.4259\n",
            "Epoch 4/200\n",
            "13/13 [==============================] - 0s 3ms/step - loss: 12.2503 - mean_absolute_percentage_error: 12.7498 - val_loss: 14.5000 - val_mean_absolute_percentage_error: 16.2652\n",
            "Epoch 5/200\n",
            "13/13 [==============================] - 0s 3ms/step - loss: 12.8725 - mean_absolute_percentage_error: 13.0008 - val_loss: 13.4210 - val_mean_absolute_percentage_error: 16.0870\n",
            "Epoch 6/200\n",
            "13/13 [==============================] - 0s 3ms/step - loss: 12.0728 - mean_absolute_percentage_error: 13.0168 - val_loss: 12.3551 - val_mean_absolute_percentage_error: 15.2225\n",
            "Epoch 7/200\n",
            "13/13 [==============================] - 0s 3ms/step - loss: 12.3949 - mean_absolute_percentage_error: 13.1594 - val_loss: 11.8357 - val_mean_absolute_percentage_error: 13.2188\n",
            "Epoch 8/200\n",
            "13/13 [==============================] - 0s 3ms/step - loss: 11.4016 - mean_absolute_percentage_error: 12.5705 - val_loss: 12.0308 - val_mean_absolute_percentage_error: 14.3280\n",
            "Epoch 9/200\n",
            "13/13 [==============================] - 0s 3ms/step - loss: 11.3054 - mean_absolute_percentage_error: 12.3775 - val_loss: 11.8094 - val_mean_absolute_percentage_error: 14.0921\n",
            "Epoch 10/200\n",
            "13/13 [==============================] - 0s 3ms/step - loss: 11.2943 - mean_absolute_percentage_error: 12.4368 - val_loss: 12.4448 - val_mean_absolute_percentage_error: 15.1444\n",
            "Epoch 11/200\n",
            "13/13 [==============================] - 0s 3ms/step - loss: 11.3709 - mean_absolute_percentage_error: 12.3904 - val_loss: 11.9132 - val_mean_absolute_percentage_error: 14.4782\n",
            "Epoch 12/200\n",
            "13/13 [==============================] - 0s 3ms/step - loss: 11.4342 - mean_absolute_percentage_error: 12.2182 - val_loss: 11.8764 - val_mean_absolute_percentage_error: 13.7463\n",
            "Epoch 13/200\n",
            "13/13 [==============================] - 0s 3ms/step - loss: 11.6004 - mean_absolute_percentage_error: 12.7804 - val_loss: 11.7063 - val_mean_absolute_percentage_error: 13.9184\n",
            "Epoch 14/200\n",
            "13/13 [==============================] - 0s 4ms/step - loss: 11.3967 - mean_absolute_percentage_error: 12.3959 - val_loss: 11.7486 - val_mean_absolute_percentage_error: 13.7504\n",
            "Epoch 15/200\n",
            "13/13 [==============================] - 0s 3ms/step - loss: 11.2147 - mean_absolute_percentage_error: 12.3577 - val_loss: 12.3575 - val_mean_absolute_percentage_error: 15.1765\n",
            "Epoch 16/200\n",
            "13/13 [==============================] - 0s 3ms/step - loss: 11.8687 - mean_absolute_percentage_error: 12.4425 - val_loss: 14.1124 - val_mean_absolute_percentage_error: 16.5524\n",
            "Epoch 17/200\n",
            "13/13 [==============================] - 0s 3ms/step - loss: 11.6550 - mean_absolute_percentage_error: 12.6970 - val_loss: 12.1831 - val_mean_absolute_percentage_error: 13.0976\n",
            "Epoch 18/200\n",
            "13/13 [==============================] - 0s 3ms/step - loss: 12.8862 - mean_absolute_percentage_error: 13.4272 - val_loss: 12.3172 - val_mean_absolute_percentage_error: 15.0614\n",
            "Epoch 19/200\n",
            "13/13 [==============================] - 0s 3ms/step - loss: 12.1538 - mean_absolute_percentage_error: 12.3386 - val_loss: 12.2863 - val_mean_absolute_percentage_error: 14.7881\n",
            "Epoch 20/200\n",
            "13/13 [==============================] - 0s 3ms/step - loss: 11.5529 - mean_absolute_percentage_error: 12.4275 - val_loss: 11.8942 - val_mean_absolute_percentage_error: 14.6712\n",
            "Epoch 21/200\n",
            "13/13 [==============================] - 0s 3ms/step - loss: 11.8252 - mean_absolute_percentage_error: 12.8196 - val_loss: 11.9284 - val_mean_absolute_percentage_error: 14.6544\n",
            "Epoch 22/200\n",
            "13/13 [==============================] - 0s 3ms/step - loss: 11.3398 - mean_absolute_percentage_error: 12.4805 - val_loss: 13.1085 - val_mean_absolute_percentage_error: 15.8276\n",
            "Epoch 23/200\n",
            "13/13 [==============================] - 0s 3ms/step - loss: 11.3035 - mean_absolute_percentage_error: 12.1361 - val_loss: 12.1093 - val_mean_absolute_percentage_error: 14.6198\n",
            "Epoch 24/200\n",
            "13/13 [==============================] - 0s 3ms/step - loss: 11.7041 - mean_absolute_percentage_error: 12.5090 - val_loss: 12.4906 - val_mean_absolute_percentage_error: 15.1585\n",
            "Epoch 25/200\n",
            "13/13 [==============================] - 0s 3ms/step - loss: 11.6819 - mean_absolute_percentage_error: 12.9401 - val_loss: 12.2152 - val_mean_absolute_percentage_error: 13.6688\n",
            "Epoch 26/200\n",
            "13/13 [==============================] - 0s 3ms/step - loss: 11.7285 - mean_absolute_percentage_error: 12.7581 - val_loss: 11.9552 - val_mean_absolute_percentage_error: 13.4362\n",
            "Epoch 27/200\n",
            "13/13 [==============================] - 0s 3ms/step - loss: 12.8472 - mean_absolute_percentage_error: 12.7032 - val_loss: 11.3612 - val_mean_absolute_percentage_error: 13.4555\n",
            "Epoch 28/200\n",
            "13/13 [==============================] - 0s 3ms/step - loss: 11.5083 - mean_absolute_percentage_error: 12.8450 - val_loss: 13.1843 - val_mean_absolute_percentage_error: 16.2687\n",
            "Epoch 29/200\n",
            "13/13 [==============================] - 0s 3ms/step - loss: 11.4968 - mean_absolute_percentage_error: 12.2948 - val_loss: 11.8346 - val_mean_absolute_percentage_error: 14.0949\n",
            "Epoch 30/200\n",
            "13/13 [==============================] - 0s 3ms/step - loss: 11.3335 - mean_absolute_percentage_error: 12.8044 - val_loss: 11.6798 - val_mean_absolute_percentage_error: 14.4267\n",
            "Epoch 31/200\n",
            "13/13 [==============================] - 0s 3ms/step - loss: 11.4677 - mean_absolute_percentage_error: 12.3635 - val_loss: 11.8693 - val_mean_absolute_percentage_error: 13.1289\n",
            "Epoch 32/200\n",
            "13/13 [==============================] - 0s 3ms/step - loss: 11.9352 - mean_absolute_percentage_error: 12.6721 - val_loss: 13.1854 - val_mean_absolute_percentage_error: 16.1690\n",
            "Epoch 33/200\n",
            "13/13 [==============================] - 0s 3ms/step - loss: 10.8520 - mean_absolute_percentage_error: 12.2708 - val_loss: 11.8927 - val_mean_absolute_percentage_error: 13.4211\n",
            "Epoch 34/200\n",
            "13/13 [==============================] - 0s 3ms/step - loss: 11.5247 - mean_absolute_percentage_error: 12.4613 - val_loss: 11.5491 - val_mean_absolute_percentage_error: 14.5847\n",
            "Epoch 35/200\n",
            "13/13 [==============================] - 0s 3ms/step - loss: 11.0220 - mean_absolute_percentage_error: 12.2028 - val_loss: 12.2071 - val_mean_absolute_percentage_error: 14.8766\n",
            "Epoch 36/200\n",
            "13/13 [==============================] - 0s 3ms/step - loss: 11.8003 - mean_absolute_percentage_error: 12.4164 - val_loss: 11.5215 - val_mean_absolute_percentage_error: 14.2121\n",
            "Epoch 37/200\n",
            "13/13 [==============================] - 0s 3ms/step - loss: 11.4494 - mean_absolute_percentage_error: 12.6715 - val_loss: 11.6123 - val_mean_absolute_percentage_error: 13.3564\n",
            "Epoch 38/200\n",
            "13/13 [==============================] - 0s 3ms/step - loss: 11.0486 - mean_absolute_percentage_error: 12.6051 - val_loss: 11.4944 - val_mean_absolute_percentage_error: 13.8618\n",
            "Epoch 39/200\n",
            "13/13 [==============================] - 0s 3ms/step - loss: 11.2076 - mean_absolute_percentage_error: 12.1233 - val_loss: 11.8094 - val_mean_absolute_percentage_error: 14.3020\n",
            "Epoch 40/200\n",
            "13/13 [==============================] - 0s 3ms/step - loss: 10.7005 - mean_absolute_percentage_error: 12.0557 - val_loss: 13.1847 - val_mean_absolute_percentage_error: 16.3890\n",
            "Epoch 41/200\n",
            "13/13 [==============================] - 0s 3ms/step - loss: 11.5996 - mean_absolute_percentage_error: 12.4257 - val_loss: 12.1280 - val_mean_absolute_percentage_error: 14.9951\n",
            "Epoch 42/200\n",
            "13/13 [==============================] - 0s 3ms/step - loss: 11.4093 - mean_absolute_percentage_error: 12.5437 - val_loss: 12.4002 - val_mean_absolute_percentage_error: 15.2135\n",
            "Epoch 43/200\n",
            "13/13 [==============================] - 0s 3ms/step - loss: 11.5016 - mean_absolute_percentage_error: 12.5862 - val_loss: 11.9132 - val_mean_absolute_percentage_error: 14.8434\n",
            "Epoch 44/200\n",
            "13/13 [==============================] - 0s 3ms/step - loss: 11.0675 - mean_absolute_percentage_error: 12.1832 - val_loss: 11.4211 - val_mean_absolute_percentage_error: 14.2293\n",
            "Epoch 45/200\n",
            "13/13 [==============================] - 0s 3ms/step - loss: 10.7006 - mean_absolute_percentage_error: 12.2105 - val_loss: 11.5872 - val_mean_absolute_percentage_error: 14.2491\n",
            "Epoch 46/200\n",
            "13/13 [==============================] - 0s 3ms/step - loss: 10.6860 - mean_absolute_percentage_error: 12.2522 - val_loss: 11.5403 - val_mean_absolute_percentage_error: 13.1958\n",
            "Epoch 47/200\n",
            "13/13 [==============================] - 0s 3ms/step - loss: 11.4331 - mean_absolute_percentage_error: 12.3473 - val_loss: 11.3241 - val_mean_absolute_percentage_error: 13.6108\n",
            "Epoch 48/200\n",
            "13/13 [==============================] - 0s 2ms/step - loss: 11.2715 - mean_absolute_percentage_error: 12.3053 - val_loss: 11.4594 - val_mean_absolute_percentage_error: 13.9515\n",
            "Epoch 49/200\n",
            "13/13 [==============================] - 0s 3ms/step - loss: 11.4333 - mean_absolute_percentage_error: 12.3693 - val_loss: 11.3145 - val_mean_absolute_percentage_error: 14.3587\n",
            "Epoch 50/200\n",
            "13/13 [==============================] - 0s 3ms/step - loss: 11.1880 - mean_absolute_percentage_error: 12.4889 - val_loss: 11.6618 - val_mean_absolute_percentage_error: 14.1481\n",
            "Epoch 51/200\n",
            "13/13 [==============================] - 0s 3ms/step - loss: 11.0598 - mean_absolute_percentage_error: 11.9521 - val_loss: 12.8037 - val_mean_absolute_percentage_error: 15.7545\n",
            "Epoch 52/200\n",
            "13/13 [==============================] - 0s 3ms/step - loss: 11.5391 - mean_absolute_percentage_error: 12.4368 - val_loss: 13.8046 - val_mean_absolute_percentage_error: 17.0704\n",
            "Epoch 53/200\n",
            "13/13 [==============================] - 0s 2ms/step - loss: 11.1830 - mean_absolute_percentage_error: 12.9875 - val_loss: 11.7893 - val_mean_absolute_percentage_error: 12.9642\n",
            "Epoch 54/200\n",
            "13/13 [==============================] - 0s 3ms/step - loss: 11.2847 - mean_absolute_percentage_error: 12.4895 - val_loss: 11.6818 - val_mean_absolute_percentage_error: 13.2102\n",
            "Epoch 55/200\n",
            "13/13 [==============================] - 0s 3ms/step - loss: 12.1812 - mean_absolute_percentage_error: 12.8946 - val_loss: 11.1670 - val_mean_absolute_percentage_error: 13.9819\n",
            "Epoch 56/200\n",
            "13/13 [==============================] - 0s 2ms/step - loss: 10.5510 - mean_absolute_percentage_error: 11.8550 - val_loss: 11.3189 - val_mean_absolute_percentage_error: 13.9783\n",
            "Epoch 57/200\n",
            "13/13 [==============================] - 0s 2ms/step - loss: 10.7378 - mean_absolute_percentage_error: 12.1116 - val_loss: 11.7844 - val_mean_absolute_percentage_error: 14.7016\n",
            "Epoch 58/200\n",
            "13/13 [==============================] - 0s 3ms/step - loss: 10.5476 - mean_absolute_percentage_error: 11.9126 - val_loss: 11.3519 - val_mean_absolute_percentage_error: 14.3879\n",
            "Epoch 59/200\n",
            "13/13 [==============================] - 0s 3ms/step - loss: 11.1918 - mean_absolute_percentage_error: 12.1825 - val_loss: 11.2898 - val_mean_absolute_percentage_error: 13.8898\n",
            "Epoch 60/200\n",
            "13/13 [==============================] - 0s 3ms/step - loss: 10.7561 - mean_absolute_percentage_error: 12.1969 - val_loss: 11.0041 - val_mean_absolute_percentage_error: 13.0807\n",
            "Epoch 61/200\n",
            "13/13 [==============================] - 0s 3ms/step - loss: 10.6784 - mean_absolute_percentage_error: 12.3394 - val_loss: 10.9183 - val_mean_absolute_percentage_error: 13.6088\n",
            "Epoch 62/200\n",
            "13/13 [==============================] - 0s 3ms/step - loss: 11.2270 - mean_absolute_percentage_error: 12.4585 - val_loss: 11.1612 - val_mean_absolute_percentage_error: 13.4214\n",
            "Epoch 63/200\n",
            "13/13 [==============================] - 0s 3ms/step - loss: 11.1591 - mean_absolute_percentage_error: 12.2827 - val_loss: 10.9696 - val_mean_absolute_percentage_error: 13.7972\n",
            "Epoch 64/200\n",
            "13/13 [==============================] - 0s 3ms/step - loss: 10.9014 - mean_absolute_percentage_error: 12.1929 - val_loss: 11.6833 - val_mean_absolute_percentage_error: 14.9469\n",
            "Epoch 65/200\n",
            "13/13 [==============================] - 0s 3ms/step - loss: 11.0821 - mean_absolute_percentage_error: 12.6343 - val_loss: 11.4577 - val_mean_absolute_percentage_error: 14.5415\n",
            "Epoch 66/200\n",
            "13/13 [==============================] - 0s 3ms/step - loss: 10.7317 - mean_absolute_percentage_error: 12.1089 - val_loss: 11.3281 - val_mean_absolute_percentage_error: 14.3536\n",
            "Epoch 67/200\n",
            "13/13 [==============================] - 0s 3ms/step - loss: 10.1886 - mean_absolute_percentage_error: 12.0283 - val_loss: 10.8022 - val_mean_absolute_percentage_error: 13.0346\n",
            "Epoch 68/200\n",
            "13/13 [==============================] - 0s 3ms/step - loss: 11.1058 - mean_absolute_percentage_error: 11.9704 - val_loss: 10.8941 - val_mean_absolute_percentage_error: 12.9541\n",
            "Epoch 69/200\n",
            "13/13 [==============================] - 0s 3ms/step - loss: 10.6999 - mean_absolute_percentage_error: 12.5508 - val_loss: 10.9688 - val_mean_absolute_percentage_error: 13.6393\n",
            "Epoch 70/200\n",
            "13/13 [==============================] - 0s 3ms/step - loss: 10.4322 - mean_absolute_percentage_error: 12.0021 - val_loss: 10.6652 - val_mean_absolute_percentage_error: 13.0333\n",
            "Epoch 71/200\n",
            "13/13 [==============================] - 0s 3ms/step - loss: 10.5770 - mean_absolute_percentage_error: 12.2871 - val_loss: 11.0081 - val_mean_absolute_percentage_error: 13.3190\n",
            "Epoch 72/200\n",
            "13/13 [==============================] - 0s 2ms/step - loss: 10.3832 - mean_absolute_percentage_error: 11.7269 - val_loss: 12.8012 - val_mean_absolute_percentage_error: 15.9268\n",
            "Epoch 73/200\n",
            "13/13 [==============================] - 0s 3ms/step - loss: 10.3952 - mean_absolute_percentage_error: 11.8907 - val_loss: 11.2393 - val_mean_absolute_percentage_error: 12.9589\n",
            "Epoch 74/200\n",
            "13/13 [==============================] - 0s 3ms/step - loss: 10.7510 - mean_absolute_percentage_error: 12.7896 - val_loss: 11.0804 - val_mean_absolute_percentage_error: 13.0526\n",
            "Epoch 75/200\n",
            "13/13 [==============================] - 0s 3ms/step - loss: 11.7150 - mean_absolute_percentage_error: 12.1728 - val_loss: 11.1809 - val_mean_absolute_percentage_error: 14.3955\n",
            "Epoch 76/200\n",
            "13/13 [==============================] - 0s 3ms/step - loss: 11.8262 - mean_absolute_percentage_error: 12.7595 - val_loss: 12.7379 - val_mean_absolute_percentage_error: 16.2666\n",
            "Epoch 77/200\n",
            "13/13 [==============================] - 0s 3ms/step - loss: 10.5969 - mean_absolute_percentage_error: 11.8735 - val_loss: 10.7461 - val_mean_absolute_percentage_error: 13.2752\n",
            "Epoch 78/200\n",
            "13/13 [==============================] - 0s 3ms/step - loss: 10.6141 - mean_absolute_percentage_error: 11.7992 - val_loss: 10.7479 - val_mean_absolute_percentage_error: 13.3335\n",
            "Epoch 79/200\n",
            "13/13 [==============================] - 0s 3ms/step - loss: 10.3195 - mean_absolute_percentage_error: 12.3176 - val_loss: 10.5835 - val_mean_absolute_percentage_error: 13.4332\n",
            "Epoch 80/200\n",
            "13/13 [==============================] - 0s 3ms/step - loss: 10.4542 - mean_absolute_percentage_error: 12.0624 - val_loss: 11.2005 - val_mean_absolute_percentage_error: 14.3130\n",
            "Epoch 81/200\n",
            "13/13 [==============================] - 0s 3ms/step - loss: 10.2052 - mean_absolute_percentage_error: 11.8654 - val_loss: 11.2973 - val_mean_absolute_percentage_error: 14.8815\n",
            "Epoch 82/200\n",
            "13/13 [==============================] - 0s 3ms/step - loss: 10.5093 - mean_absolute_percentage_error: 12.0922 - val_loss: 10.9670 - val_mean_absolute_percentage_error: 13.9981\n",
            "Epoch 83/200\n",
            "13/13 [==============================] - 0s 3ms/step - loss: 10.1854 - mean_absolute_percentage_error: 11.7931 - val_loss: 11.6987 - val_mean_absolute_percentage_error: 15.2753\n",
            "Epoch 84/200\n",
            "13/13 [==============================] - 0s 3ms/step - loss: 10.3936 - mean_absolute_percentage_error: 12.0309 - val_loss: 10.4359 - val_mean_absolute_percentage_error: 13.3441\n",
            "Epoch 85/200\n",
            "13/13 [==============================] - 0s 3ms/step - loss: 10.2239 - mean_absolute_percentage_error: 11.8361 - val_loss: 11.1064 - val_mean_absolute_percentage_error: 14.4419\n",
            "Epoch 86/200\n",
            "13/13 [==============================] - 0s 3ms/step - loss: 10.3176 - mean_absolute_percentage_error: 11.8465 - val_loss: 11.5392 - val_mean_absolute_percentage_error: 15.1480\n",
            "Epoch 87/200\n",
            "13/13 [==============================] - 0s 3ms/step - loss: 10.2398 - mean_absolute_percentage_error: 12.2081 - val_loss: 10.3420 - val_mean_absolute_percentage_error: 12.9251\n",
            "Epoch 88/200\n",
            "13/13 [==============================] - 0s 3ms/step - loss: 10.2945 - mean_absolute_percentage_error: 12.1300 - val_loss: 12.1273 - val_mean_absolute_percentage_error: 15.4301\n",
            "Epoch 89/200\n",
            "13/13 [==============================] - 0s 3ms/step - loss: 10.9740 - mean_absolute_percentage_error: 12.0485 - val_loss: 13.3169 - val_mean_absolute_percentage_error: 16.1568\n",
            "Epoch 90/200\n",
            "13/13 [==============================] - 0s 2ms/step - loss: 10.5054 - mean_absolute_percentage_error: 12.1341 - val_loss: 10.5003 - val_mean_absolute_percentage_error: 13.8209\n",
            "Epoch 91/200\n",
            "13/13 [==============================] - 0s 3ms/step - loss: 10.1415 - mean_absolute_percentage_error: 12.1306 - val_loss: 11.0245 - val_mean_absolute_percentage_error: 14.3779\n",
            "Epoch 92/200\n",
            "13/13 [==============================] - 0s 3ms/step - loss: 10.1150 - mean_absolute_percentage_error: 11.8302 - val_loss: 10.1679 - val_mean_absolute_percentage_error: 12.9777\n",
            "Epoch 93/200\n",
            "13/13 [==============================] - 0s 3ms/step - loss: 10.2355 - mean_absolute_percentage_error: 12.0758 - val_loss: 10.3926 - val_mean_absolute_percentage_error: 13.1566\n",
            "Epoch 94/200\n",
            "13/13 [==============================] - 0s 3ms/step - loss: 10.5147 - mean_absolute_percentage_error: 11.9867 - val_loss: 11.4950 - val_mean_absolute_percentage_error: 12.8383\n",
            "Epoch 95/200\n",
            "13/13 [==============================] - 0s 3ms/step - loss: 10.6287 - mean_absolute_percentage_error: 12.0268 - val_loss: 10.3212 - val_mean_absolute_percentage_error: 13.4077\n",
            "Epoch 96/200\n",
            "13/13 [==============================] - 0s 3ms/step - loss: 10.0461 - mean_absolute_percentage_error: 11.7293 - val_loss: 11.1114 - val_mean_absolute_percentage_error: 14.4942\n",
            "Epoch 97/200\n",
            "13/13 [==============================] - 0s 3ms/step - loss: 10.5787 - mean_absolute_percentage_error: 11.9269 - val_loss: 12.2276 - val_mean_absolute_percentage_error: 15.4839\n",
            "Epoch 98/200\n",
            "13/13 [==============================] - 0s 3ms/step - loss: 9.9141 - mean_absolute_percentage_error: 11.8064 - val_loss: 10.2358 - val_mean_absolute_percentage_error: 13.0708\n",
            "Epoch 99/200\n",
            "13/13 [==============================] - 0s 2ms/step - loss: 10.5242 - mean_absolute_percentage_error: 11.9926 - val_loss: 11.2679 - val_mean_absolute_percentage_error: 12.7983\n",
            "Epoch 100/200\n",
            "13/13 [==============================] - 0s 3ms/step - loss: 10.9364 - mean_absolute_percentage_error: 12.4958 - val_loss: 10.4788 - val_mean_absolute_percentage_error: 13.6582\n",
            "Epoch 101/200\n",
            "13/13 [==============================] - 0s 3ms/step - loss: 10.2737 - mean_absolute_percentage_error: 11.8564 - val_loss: 11.7018 - val_mean_absolute_percentage_error: 14.8658\n",
            "Epoch 102/200\n",
            "13/13 [==============================] - 0s 3ms/step - loss: 9.9625 - mean_absolute_percentage_error: 11.8094 - val_loss: 10.3726 - val_mean_absolute_percentage_error: 13.7298\n",
            "Epoch 103/200\n",
            "13/13 [==============================] - 0s 3ms/step - loss: 10.1911 - mean_absolute_percentage_error: 11.9136 - val_loss: 13.3109 - val_mean_absolute_percentage_error: 16.4149\n",
            "Epoch 104/200\n",
            "13/13 [==============================] - 0s 3ms/step - loss: 10.5692 - mean_absolute_percentage_error: 12.2233 - val_loss: 10.1337 - val_mean_absolute_percentage_error: 13.1332\n",
            "Epoch 105/200\n",
            "13/13 [==============================] - 0s 3ms/step - loss: 10.3023 - mean_absolute_percentage_error: 11.8407 - val_loss: 10.5737 - val_mean_absolute_percentage_error: 14.0298\n",
            "Epoch 106/200\n",
            "13/13 [==============================] - 0s 3ms/step - loss: 9.9140 - mean_absolute_percentage_error: 11.8803 - val_loss: 10.3459 - val_mean_absolute_percentage_error: 13.7080\n",
            "Epoch 107/200\n",
            "13/13 [==============================] - 0s 3ms/step - loss: 10.0785 - mean_absolute_percentage_error: 11.9866 - val_loss: 10.3938 - val_mean_absolute_percentage_error: 13.4606\n",
            "Epoch 108/200\n",
            "13/13 [==============================] - 0s 3ms/step - loss: 10.7829 - mean_absolute_percentage_error: 12.1677 - val_loss: 10.5748 - val_mean_absolute_percentage_error: 14.1650\n",
            "Epoch 109/200\n",
            "13/13 [==============================] - 0s 3ms/step - loss: 10.3206 - mean_absolute_percentage_error: 12.1688 - val_loss: 10.5467 - val_mean_absolute_percentage_error: 13.8224\n",
            "Epoch 110/200\n",
            "13/13 [==============================] - 0s 3ms/step - loss: 9.9590 - mean_absolute_percentage_error: 11.7204 - val_loss: 10.3346 - val_mean_absolute_percentage_error: 12.7339\n",
            "Epoch 111/200\n",
            "13/13 [==============================] - 0s 3ms/step - loss: 10.6902 - mean_absolute_percentage_error: 12.2333 - val_loss: 10.2080 - val_mean_absolute_percentage_error: 13.8908\n",
            "Epoch 112/200\n",
            "13/13 [==============================] - 0s 3ms/step - loss: 10.2216 - mean_absolute_percentage_error: 11.7821 - val_loss: 11.0411 - val_mean_absolute_percentage_error: 14.5521\n",
            "Epoch 113/200\n",
            "13/13 [==============================] - 0s 3ms/step - loss: 9.7259 - mean_absolute_percentage_error: 11.7290 - val_loss: 10.0634 - val_mean_absolute_percentage_error: 13.2984\n",
            "Epoch 114/200\n",
            "13/13 [==============================] - 0s 3ms/step - loss: 9.9084 - mean_absolute_percentage_error: 12.0457 - val_loss: 10.3699 - val_mean_absolute_percentage_error: 12.5706\n",
            "Epoch 115/200\n",
            "13/13 [==============================] - 0s 3ms/step - loss: 10.1472 - mean_absolute_percentage_error: 11.9744 - val_loss: 10.5384 - val_mean_absolute_percentage_error: 13.9384\n",
            "Epoch 116/200\n",
            "13/13 [==============================] - 0s 3ms/step - loss: 10.5068 - mean_absolute_percentage_error: 12.0166 - val_loss: 10.4319 - val_mean_absolute_percentage_error: 13.9882\n",
            "Epoch 117/200\n",
            "13/13 [==============================] - 0s 3ms/step - loss: 10.0800 - mean_absolute_percentage_error: 11.8208 - val_loss: 10.1542 - val_mean_absolute_percentage_error: 12.6915\n",
            "Epoch 118/200\n",
            "13/13 [==============================] - 0s 2ms/step - loss: 10.4007 - mean_absolute_percentage_error: 12.0544 - val_loss: 11.4165 - val_mean_absolute_percentage_error: 15.0996\n",
            "Epoch 119/200\n",
            "13/13 [==============================] - 0s 3ms/step - loss: 10.9495 - mean_absolute_percentage_error: 12.3159 - val_loss: 14.0311 - val_mean_absolute_percentage_error: 16.6446\n",
            "Epoch 120/200\n",
            "13/13 [==============================] - 0s 3ms/step - loss: 11.0827 - mean_absolute_percentage_error: 11.8330 - val_loss: 11.9298 - val_mean_absolute_percentage_error: 15.2760\n",
            "Epoch 121/200\n",
            "13/13 [==============================] - 0s 3ms/step - loss: 9.8673 - mean_absolute_percentage_error: 12.2136 - val_loss: 10.1373 - val_mean_absolute_percentage_error: 12.9320\n",
            "Epoch 122/200\n",
            "13/13 [==============================] - 0s 3ms/step - loss: 9.8259 - mean_absolute_percentage_error: 11.7722 - val_loss: 10.2661 - val_mean_absolute_percentage_error: 13.0208\n",
            "Epoch 123/200\n",
            "13/13 [==============================] - 0s 3ms/step - loss: 9.7738 - mean_absolute_percentage_error: 11.5274 - val_loss: 10.7531 - val_mean_absolute_percentage_error: 14.5503\n",
            "Epoch 124/200\n",
            "13/13 [==============================] - 0s 3ms/step - loss: 9.9387 - mean_absolute_percentage_error: 11.9576 - val_loss: 10.2567 - val_mean_absolute_percentage_error: 13.5728\n",
            "Epoch 125/200\n",
            "13/13 [==============================] - 0s 3ms/step - loss: 9.6645 - mean_absolute_percentage_error: 11.7147 - val_loss: 10.0250 - val_mean_absolute_percentage_error: 13.2406\n",
            "Epoch 126/200\n",
            "13/13 [==============================] - 0s 3ms/step - loss: 10.2394 - mean_absolute_percentage_error: 11.9679 - val_loss: 11.2651 - val_mean_absolute_percentage_error: 14.9697\n",
            "Epoch 127/200\n",
            "13/13 [==============================] - 0s 3ms/step - loss: 10.0530 - mean_absolute_percentage_error: 11.9694 - val_loss: 10.0782 - val_mean_absolute_percentage_error: 12.6758\n",
            "Epoch 128/200\n",
            "13/13 [==============================] - 0s 3ms/step - loss: 9.9934 - mean_absolute_percentage_error: 11.9776 - val_loss: 10.8327 - val_mean_absolute_percentage_error: 13.0760\n",
            "Epoch 129/200\n",
            "13/13 [==============================] - 0s 3ms/step - loss: 10.4862 - mean_absolute_percentage_error: 12.1926 - val_loss: 10.0467 - val_mean_absolute_percentage_error: 12.7468\n",
            "Epoch 130/200\n",
            "13/13 [==============================] - 0s 3ms/step - loss: 10.3753 - mean_absolute_percentage_error: 11.6409 - val_loss: 10.1265 - val_mean_absolute_percentage_error: 12.7037\n",
            "Epoch 131/200\n",
            "13/13 [==============================] - 0s 3ms/step - loss: 9.9609 - mean_absolute_percentage_error: 11.9397 - val_loss: 10.2488 - val_mean_absolute_percentage_error: 12.6582\n",
            "Epoch 132/200\n",
            "13/13 [==============================] - 0s 5ms/step - loss: 9.9231 - mean_absolute_percentage_error: 11.9831 - val_loss: 10.0059 - val_mean_absolute_percentage_error: 12.8767\n",
            "Epoch 133/200\n",
            "13/13 [==============================] - 0s 3ms/step - loss: 9.5860 - mean_absolute_percentage_error: 11.5815 - val_loss: 10.5420 - val_mean_absolute_percentage_error: 14.0227\n",
            "Epoch 134/200\n",
            "13/13 [==============================] - 0s 3ms/step - loss: 10.1383 - mean_absolute_percentage_error: 12.1590 - val_loss: 10.5607 - val_mean_absolute_percentage_error: 14.2670\n",
            "Epoch 135/200\n",
            "13/13 [==============================] - 0s 3ms/step - loss: 11.0991 - mean_absolute_percentage_error: 12.2877 - val_loss: 12.2822 - val_mean_absolute_percentage_error: 15.7478\n",
            "Epoch 136/200\n",
            "13/13 [==============================] - 0s 3ms/step - loss: 10.4494 - mean_absolute_percentage_error: 11.8768 - val_loss: 11.6158 - val_mean_absolute_percentage_error: 15.2125\n",
            "Epoch 137/200\n",
            "13/13 [==============================] - 0s 3ms/step - loss: 9.9839 - mean_absolute_percentage_error: 11.9771 - val_loss: 9.9997 - val_mean_absolute_percentage_error: 13.5736\n",
            "Epoch 138/200\n",
            "13/13 [==============================] - 0s 3ms/step - loss: 9.7381 - mean_absolute_percentage_error: 11.8669 - val_loss: 10.1503 - val_mean_absolute_percentage_error: 13.8153\n",
            "Epoch 139/200\n",
            "13/13 [==============================] - 0s 3ms/step - loss: 9.6850 - mean_absolute_percentage_error: 11.9490 - val_loss: 10.1613 - val_mean_absolute_percentage_error: 13.5615\n",
            "Epoch 140/200\n",
            "13/13 [==============================] - 0s 3ms/step - loss: 9.8708 - mean_absolute_percentage_error: 11.5396 - val_loss: 9.9355 - val_mean_absolute_percentage_error: 13.1738\n",
            "Epoch 141/200\n",
            "13/13 [==============================] - 0s 3ms/step - loss: 9.8526 - mean_absolute_percentage_error: 11.7462 - val_loss: 10.0965 - val_mean_absolute_percentage_error: 13.6607\n",
            "Epoch 142/200\n",
            "13/13 [==============================] - 0s 3ms/step - loss: 10.2638 - mean_absolute_percentage_error: 11.8839 - val_loss: 9.8607 - val_mean_absolute_percentage_error: 12.8385\n",
            "Epoch 143/200\n",
            "13/13 [==============================] - 0s 3ms/step - loss: 10.1482 - mean_absolute_percentage_error: 12.0080 - val_loss: 10.0704 - val_mean_absolute_percentage_error: 12.8481\n",
            "Epoch 144/200\n",
            "13/13 [==============================] - 0s 3ms/step - loss: 9.7076 - mean_absolute_percentage_error: 12.0587 - val_loss: 10.6735 - val_mean_absolute_percentage_error: 14.5161\n",
            "Epoch 145/200\n",
            "13/13 [==============================] - 0s 3ms/step - loss: 9.7651 - mean_absolute_percentage_error: 11.7696 - val_loss: 11.0877 - val_mean_absolute_percentage_error: 14.3075\n",
            "Epoch 146/200\n",
            "13/13 [==============================] - 0s 3ms/step - loss: 9.6681 - mean_absolute_percentage_error: 11.7118 - val_loss: 9.7342 - val_mean_absolute_percentage_error: 13.1525\n",
            "Epoch 147/200\n",
            "13/13 [==============================] - 0s 3ms/step - loss: 9.6266 - mean_absolute_percentage_error: 11.5347 - val_loss: 10.2800 - val_mean_absolute_percentage_error: 13.8218\n",
            "Epoch 148/200\n",
            "13/13 [==============================] - 0s 3ms/step - loss: 9.9027 - mean_absolute_percentage_error: 11.9665 - val_loss: 9.9571 - val_mean_absolute_percentage_error: 13.5595\n",
            "Epoch 149/200\n",
            "13/13 [==============================] - 0s 3ms/step - loss: 9.5283 - mean_absolute_percentage_error: 11.5933 - val_loss: 10.0282 - val_mean_absolute_percentage_error: 13.1145\n",
            "Epoch 150/200\n",
            "13/13 [==============================] - 0s 3ms/step - loss: 9.8931 - mean_absolute_percentage_error: 11.5911 - val_loss: 9.7374 - val_mean_absolute_percentage_error: 13.0107\n",
            "Epoch 151/200\n",
            "13/13 [==============================] - 0s 3ms/step - loss: 9.6787 - mean_absolute_percentage_error: 11.7223 - val_loss: 11.2282 - val_mean_absolute_percentage_error: 15.0263\n",
            "Epoch 152/200\n",
            "13/13 [==============================] - 0s 3ms/step - loss: 10.3621 - mean_absolute_percentage_error: 12.1059 - val_loss: 10.3339 - val_mean_absolute_percentage_error: 13.6872\n",
            "Epoch 153/200\n",
            "13/13 [==============================] - 0s 3ms/step - loss: 9.9069 - mean_absolute_percentage_error: 11.8339 - val_loss: 10.2459 - val_mean_absolute_percentage_error: 14.1120\n",
            "Epoch 154/200\n",
            "13/13 [==============================] - 0s 3ms/step - loss: 10.5019 - mean_absolute_percentage_error: 12.0627 - val_loss: 12.0767 - val_mean_absolute_percentage_error: 13.0222\n",
            "Epoch 155/200\n",
            "13/13 [==============================] - 0s 3ms/step - loss: 12.1309 - mean_absolute_percentage_error: 13.0248 - val_loss: 12.0000 - val_mean_absolute_percentage_error: 15.5760\n",
            "Epoch 156/200\n",
            "13/13 [==============================] - 0s 3ms/step - loss: 10.4057 - mean_absolute_percentage_error: 11.8759 - val_loss: 13.1631 - val_mean_absolute_percentage_error: 16.0549\n",
            "Epoch 157/200\n",
            "13/13 [==============================] - 0s 3ms/step - loss: 10.9161 - mean_absolute_percentage_error: 12.1292 - val_loss: 12.8188 - val_mean_absolute_percentage_error: 16.0092\n",
            "Epoch 158/200\n",
            "13/13 [==============================] - 0s 3ms/step - loss: 10.7879 - mean_absolute_percentage_error: 12.1707 - val_loss: 9.8498 - val_mean_absolute_percentage_error: 13.4331\n",
            "Epoch 159/200\n",
            "13/13 [==============================] - 0s 3ms/step - loss: 9.9956 - mean_absolute_percentage_error: 12.1122 - val_loss: 10.3629 - val_mean_absolute_percentage_error: 13.7865\n",
            "Epoch 160/200\n",
            "13/13 [==============================] - 0s 3ms/step - loss: 9.7538 - mean_absolute_percentage_error: 11.5921 - val_loss: 10.2514 - val_mean_absolute_percentage_error: 14.0565\n",
            "Epoch 161/200\n",
            "13/13 [==============================] - 0s 3ms/step - loss: 9.7347 - mean_absolute_percentage_error: 11.7220 - val_loss: 9.6776 - val_mean_absolute_percentage_error: 13.1171\n",
            "Epoch 162/200\n",
            "13/13 [==============================] - 0s 3ms/step - loss: 9.4059 - mean_absolute_percentage_error: 11.7019 - val_loss: 10.0468 - val_mean_absolute_percentage_error: 13.5765\n",
            "Epoch 163/200\n",
            "13/13 [==============================] - 0s 3ms/step - loss: 9.4692 - mean_absolute_percentage_error: 11.4705 - val_loss: 10.1688 - val_mean_absolute_percentage_error: 13.9577\n",
            "Epoch 164/200\n",
            "13/13 [==============================] - 0s 3ms/step - loss: 9.3394 - mean_absolute_percentage_error: 11.6338 - val_loss: 9.6426 - val_mean_absolute_percentage_error: 12.8362\n",
            "Epoch 165/200\n",
            "13/13 [==============================] - 0s 3ms/step - loss: 9.3641 - mean_absolute_percentage_error: 11.5293 - val_loss: 10.2906 - val_mean_absolute_percentage_error: 14.1308\n",
            "Epoch 166/200\n",
            "13/13 [==============================] - 0s 3ms/step - loss: 10.3610 - mean_absolute_percentage_error: 12.0833 - val_loss: 10.1290 - val_mean_absolute_percentage_error: 13.0587\n",
            "Epoch 167/200\n",
            "13/13 [==============================] - 0s 3ms/step - loss: 10.6274 - mean_absolute_percentage_error: 12.4199 - val_loss: 10.4795 - val_mean_absolute_percentage_error: 12.6527\n",
            "Epoch 168/200\n",
            "13/13 [==============================] - 0s 3ms/step - loss: 9.7131 - mean_absolute_percentage_error: 11.7536 - val_loss: 10.0500 - val_mean_absolute_percentage_error: 12.5299\n",
            "Epoch 169/200\n",
            "13/13 [==============================] - 0s 3ms/step - loss: 9.5284 - mean_absolute_percentage_error: 11.4387 - val_loss: 11.1624 - val_mean_absolute_percentage_error: 15.0693\n",
            "Epoch 170/200\n",
            "13/13 [==============================] - 0s 3ms/step - loss: 9.6249 - mean_absolute_percentage_error: 11.6916 - val_loss: 10.6692 - val_mean_absolute_percentage_error: 14.2210\n",
            "Epoch 171/200\n",
            "13/13 [==============================] - 0s 3ms/step - loss: 10.0719 - mean_absolute_percentage_error: 11.8356 - val_loss: 10.1264 - val_mean_absolute_percentage_error: 13.8508\n",
            "Epoch 172/200\n",
            "13/13 [==============================] - 0s 3ms/step - loss: 9.3605 - mean_absolute_percentage_error: 11.6149 - val_loss: 10.1801 - val_mean_absolute_percentage_error: 13.6193\n",
            "Epoch 173/200\n",
            "13/13 [==============================] - 0s 3ms/step - loss: 9.3131 - mean_absolute_percentage_error: 11.5002 - val_loss: 9.7498 - val_mean_absolute_percentage_error: 13.5711\n",
            "Epoch 174/200\n",
            "13/13 [==============================] - 0s 3ms/step - loss: 9.4534 - mean_absolute_percentage_error: 11.8266 - val_loss: 10.2624 - val_mean_absolute_percentage_error: 12.7326\n",
            "Epoch 175/200\n",
            "13/13 [==============================] - 0s 3ms/step - loss: 9.6960 - mean_absolute_percentage_error: 11.9620 - val_loss: 9.6359 - val_mean_absolute_percentage_error: 12.8175\n",
            "Epoch 176/200\n",
            "13/13 [==============================] - 0s 3ms/step - loss: 9.7197 - mean_absolute_percentage_error: 11.5834 - val_loss: 9.5491 - val_mean_absolute_percentage_error: 12.6399\n",
            "Epoch 177/200\n",
            "13/13 [==============================] - 0s 3ms/step - loss: 9.3481 - mean_absolute_percentage_error: 11.6886 - val_loss: 9.8174 - val_mean_absolute_percentage_error: 13.2611\n",
            "Epoch 178/200\n",
            "13/13 [==============================] - 0s 4ms/step - loss: 9.4911 - mean_absolute_percentage_error: 11.4813 - val_loss: 10.5434 - val_mean_absolute_percentage_error: 12.5698\n",
            "Epoch 179/200\n",
            "13/13 [==============================] - 0s 4ms/step - loss: 10.0633 - mean_absolute_percentage_error: 11.8708 - val_loss: 10.2237 - val_mean_absolute_percentage_error: 12.5557\n",
            "Epoch 180/200\n",
            "13/13 [==============================] - 0s 3ms/step - loss: 10.3208 - mean_absolute_percentage_error: 11.9337 - val_loss: 10.1906 - val_mean_absolute_percentage_error: 13.6803\n",
            "Epoch 181/200\n",
            "13/13 [==============================] - 0s 3ms/step - loss: 9.4834 - mean_absolute_percentage_error: 11.6445 - val_loss: 9.6258 - val_mean_absolute_percentage_error: 12.8951\n",
            "Epoch 182/200\n",
            "13/13 [==============================] - 0s 3ms/step - loss: 9.5849 - mean_absolute_percentage_error: 11.6012 - val_loss: 9.9653 - val_mean_absolute_percentage_error: 13.5478\n",
            "Epoch 183/200\n",
            "13/13 [==============================] - 0s 3ms/step - loss: 9.3601 - mean_absolute_percentage_error: 11.8473 - val_loss: 9.9588 - val_mean_absolute_percentage_error: 12.5996\n",
            "Epoch 184/200\n",
            "13/13 [==============================] - 0s 3ms/step - loss: 9.8920 - mean_absolute_percentage_error: 12.2089 - val_loss: 9.7456 - val_mean_absolute_percentage_error: 12.5820\n",
            "Epoch 185/200\n",
            "13/13 [==============================] - 0s 3ms/step - loss: 10.2695 - mean_absolute_percentage_error: 11.8739 - val_loss: 10.5515 - val_mean_absolute_percentage_error: 14.2362\n",
            "Epoch 186/200\n",
            "13/13 [==============================] - 0s 3ms/step - loss: 9.2062 - mean_absolute_percentage_error: 11.3730 - val_loss: 10.3249 - val_mean_absolute_percentage_error: 14.2942\n",
            "Epoch 187/200\n",
            "13/13 [==============================] - 0s 3ms/step - loss: 9.7323 - mean_absolute_percentage_error: 11.8831 - val_loss: 11.0238 - val_mean_absolute_percentage_error: 14.6670\n",
            "Epoch 188/200\n",
            "13/13 [==============================] - 0s 3ms/step - loss: 10.2106 - mean_absolute_percentage_error: 11.9031 - val_loss: 10.5030 - val_mean_absolute_percentage_error: 14.3288\n",
            "Epoch 189/200\n",
            "13/13 [==============================] - 0s 4ms/step - loss: 9.5373 - mean_absolute_percentage_error: 11.7441 - val_loss: 10.4862 - val_mean_absolute_percentage_error: 14.4892\n",
            "Epoch 190/200\n",
            "13/13 [==============================] - 0s 3ms/step - loss: 9.7686 - mean_absolute_percentage_error: 11.8510 - val_loss: 9.5727 - val_mean_absolute_percentage_error: 12.9563\n",
            "Epoch 191/200\n",
            "13/13 [==============================] - 0s 3ms/step - loss: 9.0397 - mean_absolute_percentage_error: 11.6464 - val_loss: 9.8235 - val_mean_absolute_percentage_error: 13.4043\n",
            "Epoch 192/200\n",
            "13/13 [==============================] - 0s 4ms/step - loss: 9.3814 - mean_absolute_percentage_error: 11.3963 - val_loss: 11.8442 - val_mean_absolute_percentage_error: 15.3041\n",
            "Epoch 193/200\n",
            "13/13 [==============================] - 0s 4ms/step - loss: 10.3866 - mean_absolute_percentage_error: 12.1457 - val_loss: 11.2113 - val_mean_absolute_percentage_error: 14.9739\n",
            "Epoch 194/200\n",
            "13/13 [==============================] - 0s 3ms/step - loss: 9.6183 - mean_absolute_percentage_error: 11.5937 - val_loss: 10.7603 - val_mean_absolute_percentage_error: 14.7128\n",
            "Epoch 195/200\n",
            "13/13 [==============================] - 0s 3ms/step - loss: 9.8422 - mean_absolute_percentage_error: 11.7128 - val_loss: 10.3277 - val_mean_absolute_percentage_error: 13.9908\n",
            "Epoch 196/200\n",
            "13/13 [==============================] - 0s 4ms/step - loss: 9.8273 - mean_absolute_percentage_error: 11.6796 - val_loss: 10.7890 - val_mean_absolute_percentage_error: 15.0138\n",
            "Epoch 197/200\n",
            "13/13 [==============================] - 0s 4ms/step - loss: 9.5615 - mean_absolute_percentage_error: 11.6979 - val_loss: 9.5824 - val_mean_absolute_percentage_error: 12.8675\n",
            "Epoch 198/200\n",
            "13/13 [==============================] - 0s 4ms/step - loss: 9.0971 - mean_absolute_percentage_error: 11.5990 - val_loss: 9.4648 - val_mean_absolute_percentage_error: 13.1636\n",
            "Epoch 199/200\n",
            "13/13 [==============================] - 0s 5ms/step - loss: 9.0309 - mean_absolute_percentage_error: 11.5445 - val_loss: 9.7305 - val_mean_absolute_percentage_error: 13.1894\n",
            "Epoch 200/200\n",
            "13/13 [==============================] - 0s 4ms/step - loss: 9.6635 - mean_absolute_percentage_error: 11.7418 - val_loss: 10.3370 - val_mean_absolute_percentage_error: 14.0301\n"
          ],
          "name": "stdout"
        },
        {
          "output_type": "execute_result",
          "data": {
            "text/plain": [
              "<tensorflow.python.keras.callbacks.History at 0x7fb9b4c6d320>"
            ]
          },
          "metadata": {
            "tags": []
          },
          "execution_count": 13
        }
      ]
    },
    {
      "cell_type": "code",
      "metadata": {
        "id": "CXOs8bbIyBea",
        "outputId": "7e31fc41-0688-4184-ca24-e23e9a870b3d",
        "colab": {
          "base_uri": "https://localhost:8080/",
          "height": 68
        }
      },
      "source": [
        "results = model.evaluate(x_test, y_test)\n",
        "\n",
        "for i in range(len(model.metrics_names)):\n",
        "  print(model.metrics_names[i],\" : \", results[i])"
      ],
      "execution_count": null,
      "outputs": [
        {
          "output_type": "stream",
          "text": [
            "4/4 [==============================] - 0s 2ms/step - loss: 33.8687 - mean_absolute_percentage_error: 15.4814\n",
            "loss  :  33.868709564208984\n",
            "mean_absolute_percentage_error  :  15.481425285339355\n"
          ],
          "name": "stdout"
        }
      ]
    },
    {
      "cell_type": "code",
      "metadata": {
        "id": "33VggdD0JZyt",
        "outputId": "a0a8ca6b-bb19-4806-d4cb-631ce427e066",
        "colab": {
          "base_uri": "https://localhost:8080/",
          "height": 791
        }
      },
      "source": [
        "import matplotlib.pyplot as plt\n",
        "\n",
        "history = model.fit(x_train, y_train, batch_size=32, epochs=200,validation_data=(x_val,y_val), verbose=0)\n",
        "# Plot training & validation accuracy values\n",
        "plt.figure(figsize=(13,6))\n",
        "plt.plot(history.history['mean_absolute_percentage_error'],c='blue')\n",
        "plt.plot(history.history['val_mean_absolute_percentage_error'],c='orange')\n",
        "plt.title('Model mean_absolute_percentage_error')\n",
        "plt.ylabel('MAPE %')\n",
        "plt.xlabel('Epoch')\n",
        "plt.legend(['Train', 'Test'], loc='upper right')\n",
        "plt.show()\n",
        "\n",
        "# Plot training & validation loss values\n",
        "plt.figure(figsize=(13,6))\n",
        "plt.plot(history.history['loss'])\n",
        "plt.plot(history.history['val_loss'])\n",
        "plt.title('Model loss')\n",
        "plt.ylabel('Loss')\n",
        "plt.xlabel('Epoch')\n",
        "plt.legend(['Train', 'Test'], loc='upper right')\n",
        "plt.show()"
      ],
      "execution_count": null,
      "outputs": [
        {
          "output_type": "display_data",
          "data": {
            "image/png": "[encoded data removed]",
            "text/plain": [
              "<Figure size 936x432 with 1 Axes>"
            ]
          },
          "metadata": {
            "tags": [],
            "needs_background": "light"
          }
        },
        {
          "output_type": "display_data",
          "data": {
            "image/png": "[encoded data removed]",
            "text/plain": [
              "<Figure size 936x432 with 1 Axes>"
            ]
          },
          "metadata": {
            "tags": [],
            "needs_background": "light"
          }
        }
      ]
    },
    {
      "cell_type": "markdown",
      "metadata": {
        "id": "J0w7ZKcNTuar"
      },
      "source": [
        "**Importante:** Como vemos la perdida de la set de validation es mayor a la de entrenamiento, esta claro que estamos en un problema de overfitting, espera QUE!, retrocedamos un poco, la data de validacion se saco de la data de entrenamiento así que no es un problema de overfitting, sino de underfitting, porque nuestro modelo no es capaz de generalizar la misma data de entrenamiento y mucho menos al momento de generalizar con una nueva data o con la data test."
      ]
    },
    {
      "cell_type": "markdown",
      "metadata": {
        "id": "IUP6lj9SU9hD"
      },
      "source": [
        "En el curso de ML en coursera Andrew Ng en realidad dice que agregando mas datos no solucionara el underfitting(si lo hace con overfitting), por el contrario lo que se debe hacer es:\n",
        "\n",
        "* Aumentar el numero de features\n",
        "* Aumentar la complejidad de tu modelo, por ejemplo usar una regresion polinomica en vez de una lineal\n",
        "* Si usas regularizacion disminuir el valor del parametro alpha o lambda\n",
        "* En el caso de redes neuronales, agregar mas capas “ajusta” mas tu modelo, por lo que seria tambien una buena opcion"
      ]
    },
    {
      "cell_type": "markdown",
      "metadata": {
        "id": "fyLmk_zOVkSp"
      },
      "source": [
        "**Recordar:** que habra un parametro optimo para los EPOCH, como se vio al aumentar los EPOCH disminuyo nuestro valor de perdida, pero tambien puede pasar que al aumentar demasiado nuestro EPOCH pueda aumentar nuestro valor de perdida."
      ]
    },
    {
      "cell_type": "markdown",
      "metadata": {
        "id": "qXqyslIFeCGZ"
      },
      "source": [
        "###<h1 id=\"backward\">Backward Propagation</h1>\n",
        "\n",
        "La propagación hacia atrás o backpropagation es un algoritmo de entrenamiento de redes neuronales. El método consiste en un ciclo de propagación y adaptación en dos fases. Primero se aplica un estímulo a la entrada de la red que se propaga por todas las capas hasta generar una salida. Luego la señal de salida se compara con la salida deseada y se calcula el error para cada una de las salidas. Enseguida, el error calculado se propaga hacia atrás partiendo desde la capa de salida hasta la capa de entrada de tal manera que todas las neuronas reciben una retroalimentación respecto a su contribución relativa al error. \n"
      ]
    },
    {
      "cell_type": "markdown",
      "metadata": {
        "id": "X9Nlfrn5w-jC"
      },
      "source": [
        "####**Algoritmo Backward propagation**\n",
        "\n",
        "* Se procesa un mini-lote de información a la vez. Cada paso de la información por la red se denomina época. \n",
        "*  Cada mini-batch de información es pasado por la capa de entrada la cual lo envía a la primera capa oculta. \n",
        "*  Luego se procesa la salida de todas las neuronas en esta capa (por cada muestra en el batch) \n",
        "*  El resultado se pasa a la siguiente capa y así sucesivamente hasta la capa de salida. Hasta ahora el proceso es el mismo que forward pass, todos los resultados intermedios son almacenados hasta que son necesitados por el paso de backward.\n",
        "*  Enseguida el algoritmo mide el error en la salida mediante funciones de pérdidas y retorna la medida del error.\n",
        "*  Luego se calcula la contribución en el error de conexión correspondiente con la capa anterior aplicando la regla de la cadena, fundamental en el cálculo. Este proceso se reitera hasta la capa de entrada.\n",
        "*  En efecto el algoritmo propaga el gradiente del error a todos los pesos correspondientes de las conexiones en la red.\n",
        "*  Finalmente se ejecuta un gradiente descendente para ajustar todos los pesos sinápticos en la red empleando los gradientes de error.\n"
      ]
    },
    {
      "cell_type": "markdown",
      "metadata": {
        "id": "1nAzEb1EdoFz"
      },
      "source": [
        "# Funciones(Activation and Loss)"
      ]
    },
    {
      "cell_type": "markdown",
      "metadata": {
        "id": "4IMmvCh0kXPe"
      },
      "source": [
        "## Funciones de activación"
      ]
    },
    {
      "cell_type": "markdown",
      "metadata": {
        "id": "MDgNzj2ufn2e"
      },
      "source": [
        "La razón de por qué se usa una función de activación. Generalmente se hace para lograr agregar el factor de “no linearidad” que se necesita, para atacar ciertos problemas, donde no se puede usar simplemente una frontera de decisión lineal(hiperplano) que nos separe los puntos, esto para un problema de clasificación. Luego usar estas funciones nos permite encontrar regiones o fronteras no lineales que separen mejor los puntos."
      ]
    },
    {
      "cell_type": "markdown",
      "metadata": {
        "id": "iqFR_I4WdyHA"
      },
      "source": [
        "![XD](https://miro.medium.com/max/1400/1*p_hyqAtyI8pbt2kEl6siOQ.png)"
      ]
    },
    {
      "cell_type": "markdown",
      "metadata": {
        "id": "OuFgM0SukZn9"
      },
      "source": [
        "## Funciones de costo o pérdidas"
      ]
    },
    {
      "cell_type": "markdown",
      "metadata": {
        "id": "3JyYZhE-lqTY"
      },
      "source": [
        "La función de perdida al igual que la función de activación depende de la naturaleza del problema a resolver. La siguiente es una selección común encontrada en la literatura:\n",
        "\n",
        "* Para un problema de regresión la función de perdida es MSE\n",
        "\n",
        "* Para un problema de clasificación binaria la función de perdida favorita es BCE(Binary Cross Entropy)\n",
        "\n",
        "* Para un problema de categorización, la función de perdida más usada es CCE(Categorical Cross-Entropy.)\n",
        "\n",
        "* Para un problema de clasificación multiclase, la función de perdida más usada es NLL (Negative Log-likehood).\n",
        "\n",
        "Estas funciones de costo se usan para problemas de regresion, es decir, con variables continuas."
      ]
    },
    {
      "cell_type": "markdown",
      "metadata": {
        "id": "q5ab3RvPl9a7"
      },
      "source": [
        "MAE es más robusta a outliders o ruido que MSR, ya que el error medio con ruido elevado al cuadrado es muy grande y eso podria distorcionar nuestro modelo.\n",
        "\n",
        "en el caso del mean absolute error, su gran desventaja, la cual radica en que su “derivada” tiene problemas muy cerca a cero, lo cual es poco conveniente ya que en las iteraciones, el conocido “back propagation” hace uso de dichas derivadas.\n",
        "\n",
        "**Mean Absolute Percentage Error**\n",
        "\n",
        "Utiliza las distancias entre la muestras y la recta pero se escala con el valor real para obtener el valor porcentual, No esta definido cuando los valores sean cero, Penaliza el modelo cuando existen errores grandes, y es robusto frente a los outliers por el uso del valor absoluto.\n",
        "\n",
        "![](https://github.com/rb-one/Curso_RedesNeuronales_ScikitLearn/raw/master/Notes/src/funcion_mean_absolute_percentage_error.png)"
      ]
    },
    {
      "cell_type": "markdown",
      "metadata": {
        "id": "brE_DNtmvJLq"
      },
      "source": [
        "# Inicialización y Entrenamiento de RN"
      ]
    },
    {
      "cell_type": "markdown",
      "metadata": {
        "id": "UFmVGngrLecw"
      },
      "source": [
        "## Inicializadores disponibles en Keras:"
      ]
    },
    {
      "cell_type": "markdown",
      "metadata": {
        "id": "6kNd_TZcx50L"
      },
      "source": [
        "**MINST classification:**\n",
        "(Inicialización por defectuo en keras)\n",
        "1. Dense: glorot_uniform\n",
        "2. LSTM: glorot_uniform\n",
        "3. CNN: glorot_uniform\n",
        "\n",
        "**ALGORITMO DE ENTRENAMIENTO:**\n",
        "\n",
        "![link text](https://github.com/rb-one/Curso_RedesNeuronales_ScikitLearn/raw/master/Notes/src/descenso_gradiente.png)\n",
        "![](https://github.com/rb-one/Curso_RedesNeuronales_ScikitLearn/raw/master/Notes/src/limitaciones_gradiente.png)"
      ]
    },
    {
      "cell_type": "markdown",
      "metadata": {
        "id": "xUIq7klCEbDy"
      },
      "source": [
        "## Optimizadores\n",
        "* como vimos en el \"Descenso del Gradiente\", podemos encontrarnos con el problema de quedarnos en un mino local, o nunca encontrar el minimo global, ir muy lento, etc. Para solucionar los optimizadores nos proporcionaran metodos los cuales quitaran las limitaciones anteriores."
      ]
    },
    {
      "cell_type": "markdown",
      "metadata": {
        "id": "GFDkrDBkEdvl"
      },
      "source": [
        "**Adam**\n",
        "* Es una combinacion de AdaGrad(varianza de la taza de aprendisaje) y Momentum.\n",
        "\n",
        "![link text](https://rnrahman.com/img/visualising-optim/saddle.gif)\n"
      ]
    },
    {
      "cell_type": "markdown",
      "metadata": {
        "id": "frfWeq4NIPeZ"
      },
      "source": [
        "**Recordando que los optimizadores nos permitiran modificar el \"Learning Rate\" y haci liberarnos de ciertos problemas con el \"Descenso del Gradiente\".**"
      ]
    },
    {
      "cell_type": "markdown",
      "metadata": {
        "id": "YXq9LqCzKUDD"
      },
      "source": [
        "#Clasificación Binaria"
      ]
    },
    {
      "cell_type": "markdown",
      "metadata": {
        "id": "9W-W59yBtLy4"
      },
      "source": [
        "Como aporte, algunos ingenieros de datos recomiendan no eliminar las columnas con un alto valor de datos Nan sino imputar su argumento con el valor None. Esto para no eliminar caracteristicas y darles luego un Label Encoding. Esto es recomendable sobre todo si el dataset de prueba también contiene información nula.\n",
        "\n",
        "Ahora si los valores nulos solo se encuetran en el dataset de training y no su alcance no afecta para nada el problema, ahí sí se recomienda eliminar la caracteristica."
      ]
    },
    {
      "cell_type": "markdown",
      "metadata": {
        "id": "tZGUpG_ZAKsP"
      },
      "source": [
        "##<h1 id=\"problema\">Contexto analítico</h1>\n",
        "\n",
        "Este caso se basa en un reto propuesto por Red Hat en la plataforma Kaggle. (https://www.kaggle.com/c/predicting-red-hat-business-value/data) \n",
        "\n",
        "Red Hat es capaz de obtener una importante cantidad de información de comportamiento de sus clientes. El interes de la compañia se basa en la busqueda de mejores metodos para analizar sus clientes para predecir sobre cuales deberian hacer un especial enfasis que podrian convertirse en clientes de alto valor.\n",
        "\n",
        "En este reto se propone crear un algoritmo de clasificación que identifique los clientes con mayor potencial para convertirse en clientes de alto valor para Red Hat basados en su actividad.\n",
        "\n",
        "Se cuenta con dos datasets (people.csv y act_train.csv) los cuales cargaremos directamente a Colab."
      ]
    },
    {
      "cell_type": "code",
      "metadata": {
        "id": "81NuhirF8YN6"
      },
      "source": [
        "#Importamos las librerias necesarias\n",
        "import pandas as pd\n",
        "import numpy as np\n",
        "import io\n",
        "from google.colab import files #Librería necesaria para interactuar con archivos en Colab"
      ],
      "execution_count": null,
      "outputs": []
    },
    {
      "cell_type": "code",
      "metadata": {
        "id": "DY7h0LeB9BXG",
        "outputId": "06d8430c-e232-47c1-9342-247b7def41f4",
        "colab": {
          "base_uri": "https://localhost:8080/",
          "height": 34
        }
      },
      "source": [
        "from google.colab import drive\n",
        "people = drive.mount('/content/drive')\n",
        "path_people = '/content/drive/My Drive/data/people.csv'"
      ],
      "execution_count": null,
      "outputs": [
        {
          "output_type": "stream",
          "text": [
            "Mounted at /content/drive\n"
          ],
          "name": "stdout"
        }
      ]
    },
    {
      "cell_type": "code",
      "metadata": {
        "id": "N0UX1Xjx-QTP",
        "outputId": "34fca7dc-8955-47cc-e7ca-381ca80940a0",
        "colab": {
          "base_uri": "https://localhost:8080/",
          "height": 309
        }
      },
      "source": [
        "people = pd.read_csv(path_people,sep=',')\n",
        "people.head()"
      ],
      "execution_count": null,
      "outputs": [
        {
          "output_type": "execute_result",
          "data": {
            "text/html": [
              "<div>\n",
              "<style scoped>\n",
              "    .dataframe tbody tr th:only-of-type {\n",
              "        vertical-align: middle;\n",
              "    }\n",
              "\n",
              "    .dataframe tbody tr th {\n",
              "        vertical-align: top;\n",
              "    }\n",
              "\n",
              "    .dataframe thead th {\n",
              "        text-align: right;\n",
              "    }\n",
              "</style>\n",
              "<table border=\"1\" class=\"dataframe\">\n",
              "  <thead>\n",
              "    <tr style=\"text-align: right;\">\n",
              "      <th></th>\n",
              "      <th>people_id</th>\n",
              "      <th>char_1</th>\n",
              "      <th>group_1</th>\n",
              "      <th>char_2</th>\n",
              "      <th>date</th>\n",
              "      <th>char_3</th>\n",
              "      <th>char_4</th>\n",
              "      <th>char_5</th>\n",
              "      <th>char_6</th>\n",
              "      <th>char_7</th>\n",
              "      <th>char_8</th>\n",
              "      <th>char_9</th>\n",
              "      <th>char_10</th>\n",
              "      <th>char_11</th>\n",
              "      <th>char_12</th>\n",
              "      <th>char_13</th>\n",
              "      <th>char_14</th>\n",
              "      <th>char_15</th>\n",
              "      <th>char_16</th>\n",
              "      <th>char_17</th>\n",
              "      <th>char_18</th>\n",
              "      <th>char_19</th>\n",
              "      <th>char_20</th>\n",
              "      <th>char_21</th>\n",
              "      <th>char_22</th>\n",
              "      <th>char_23</th>\n",
              "      <th>char_24</th>\n",
              "      <th>char_25</th>\n",
              "      <th>char_26</th>\n",
              "      <th>char_27</th>\n",
              "      <th>char_28</th>\n",
              "      <th>char_29</th>\n",
              "      <th>char_30</th>\n",
              "      <th>char_31</th>\n",
              "      <th>char_32</th>\n",
              "      <th>char_33</th>\n",
              "      <th>char_34</th>\n",
              "      <th>char_35</th>\n",
              "      <th>char_36</th>\n",
              "      <th>char_37</th>\n",
              "      <th>char_38</th>\n",
              "    </tr>\n",
              "  </thead>\n",
              "  <tbody>\n",
              "    <tr>\n",
              "      <th>0</th>\n",
              "      <td>ppl_100</td>\n",
              "      <td>type 2</td>\n",
              "      <td>group 17304</td>\n",
              "      <td>type 2</td>\n",
              "      <td>2021-06-29</td>\n",
              "      <td>type 5</td>\n",
              "      <td>type 5</td>\n",
              "      <td>type 5</td>\n",
              "      <td>type 3</td>\n",
              "      <td>type 11</td>\n",
              "      <td>type 2</td>\n",
              "      <td>type 2</td>\n",
              "      <td>True</td>\n",
              "      <td>False</td>\n",
              "      <td>False</td>\n",
              "      <td>True</td>\n",
              "      <td>True</td>\n",
              "      <td>False</td>\n",
              "      <td>True</td>\n",
              "      <td>False</td>\n",
              "      <td>False</td>\n",
              "      <td>False</td>\n",
              "      <td>False</td>\n",
              "      <td>True</td>\n",
              "      <td>False</td>\n",
              "      <td>False</td>\n",
              "      <td>False</td>\n",
              "      <td>False</td>\n",
              "      <td>False</td>\n",
              "      <td>True</td>\n",
              "      <td>True</td>\n",
              "      <td>False</td>\n",
              "      <td>True</td>\n",
              "      <td>True</td>\n",
              "      <td>False</td>\n",
              "      <td>False</td>\n",
              "      <td>True</td>\n",
              "      <td>True</td>\n",
              "      <td>True</td>\n",
              "      <td>False</td>\n",
              "      <td>36</td>\n",
              "    </tr>\n",
              "    <tr>\n",
              "      <th>1</th>\n",
              "      <td>ppl_100002</td>\n",
              "      <td>type 2</td>\n",
              "      <td>group 8688</td>\n",
              "      <td>type 3</td>\n",
              "      <td>2021-01-06</td>\n",
              "      <td>type 28</td>\n",
              "      <td>type 9</td>\n",
              "      <td>type 5</td>\n",
              "      <td>type 3</td>\n",
              "      <td>type 11</td>\n",
              "      <td>type 2</td>\n",
              "      <td>type 4</td>\n",
              "      <td>False</td>\n",
              "      <td>False</td>\n",
              "      <td>True</td>\n",
              "      <td>True</td>\n",
              "      <td>False</td>\n",
              "      <td>False</td>\n",
              "      <td>False</td>\n",
              "      <td>True</td>\n",
              "      <td>False</td>\n",
              "      <td>False</td>\n",
              "      <td>False</td>\n",
              "      <td>False</td>\n",
              "      <td>False</td>\n",
              "      <td>True</td>\n",
              "      <td>False</td>\n",
              "      <td>True</td>\n",
              "      <td>True</td>\n",
              "      <td>True</td>\n",
              "      <td>False</td>\n",
              "      <td>False</td>\n",
              "      <td>True</td>\n",
              "      <td>True</td>\n",
              "      <td>True</td>\n",
              "      <td>True</td>\n",
              "      <td>True</td>\n",
              "      <td>True</td>\n",
              "      <td>True</td>\n",
              "      <td>False</td>\n",
              "      <td>76</td>\n",
              "    </tr>\n",
              "    <tr>\n",
              "      <th>2</th>\n",
              "      <td>ppl_100003</td>\n",
              "      <td>type 2</td>\n",
              "      <td>group 33592</td>\n",
              "      <td>type 3</td>\n",
              "      <td>2022-06-10</td>\n",
              "      <td>type 4</td>\n",
              "      <td>type 8</td>\n",
              "      <td>type 5</td>\n",
              "      <td>type 2</td>\n",
              "      <td>type 5</td>\n",
              "      <td>type 2</td>\n",
              "      <td>type 2</td>\n",
              "      <td>True</td>\n",
              "      <td>True</td>\n",
              "      <td>True</td>\n",
              "      <td>True</td>\n",
              "      <td>True</td>\n",
              "      <td>True</td>\n",
              "      <td>False</td>\n",
              "      <td>True</td>\n",
              "      <td>False</td>\n",
              "      <td>True</td>\n",
              "      <td>False</td>\n",
              "      <td>True</td>\n",
              "      <td>True</td>\n",
              "      <td>True</td>\n",
              "      <td>True</td>\n",
              "      <td>True</td>\n",
              "      <td>True</td>\n",
              "      <td>True</td>\n",
              "      <td>True</td>\n",
              "      <td>False</td>\n",
              "      <td>False</td>\n",
              "      <td>True</td>\n",
              "      <td>True</td>\n",
              "      <td>True</td>\n",
              "      <td>True</td>\n",
              "      <td>False</td>\n",
              "      <td>True</td>\n",
              "      <td>True</td>\n",
              "      <td>99</td>\n",
              "    </tr>\n",
              "    <tr>\n",
              "      <th>3</th>\n",
              "      <td>ppl_100004</td>\n",
              "      <td>type 2</td>\n",
              "      <td>group 22593</td>\n",
              "      <td>type 3</td>\n",
              "      <td>2022-07-20</td>\n",
              "      <td>type 40</td>\n",
              "      <td>type 25</td>\n",
              "      <td>type 9</td>\n",
              "      <td>type 4</td>\n",
              "      <td>type 16</td>\n",
              "      <td>type 2</td>\n",
              "      <td>type 2</td>\n",
              "      <td>True</td>\n",
              "      <td>True</td>\n",
              "      <td>True</td>\n",
              "      <td>True</td>\n",
              "      <td>True</td>\n",
              "      <td>False</td>\n",
              "      <td>True</td>\n",
              "      <td>True</td>\n",
              "      <td>True</td>\n",
              "      <td>True</td>\n",
              "      <td>True</td>\n",
              "      <td>True</td>\n",
              "      <td>True</td>\n",
              "      <td>True</td>\n",
              "      <td>False</td>\n",
              "      <td>True</td>\n",
              "      <td>True</td>\n",
              "      <td>True</td>\n",
              "      <td>True</td>\n",
              "      <td>True</td>\n",
              "      <td>True</td>\n",
              "      <td>True</td>\n",
              "      <td>True</td>\n",
              "      <td>True</td>\n",
              "      <td>True</td>\n",
              "      <td>True</td>\n",
              "      <td>True</td>\n",
              "      <td>True</td>\n",
              "      <td>76</td>\n",
              "    </tr>\n",
              "    <tr>\n",
              "      <th>4</th>\n",
              "      <td>ppl_100006</td>\n",
              "      <td>type 2</td>\n",
              "      <td>group 6534</td>\n",
              "      <td>type 3</td>\n",
              "      <td>2022-07-27</td>\n",
              "      <td>type 40</td>\n",
              "      <td>type 25</td>\n",
              "      <td>type 9</td>\n",
              "      <td>type 3</td>\n",
              "      <td>type 8</td>\n",
              "      <td>type 2</td>\n",
              "      <td>type 2</td>\n",
              "      <td>False</td>\n",
              "      <td>False</td>\n",
              "      <td>False</td>\n",
              "      <td>False</td>\n",
              "      <td>False</td>\n",
              "      <td>False</td>\n",
              "      <td>False</td>\n",
              "      <td>False</td>\n",
              "      <td>False</td>\n",
              "      <td>False</td>\n",
              "      <td>False</td>\n",
              "      <td>False</td>\n",
              "      <td>False</td>\n",
              "      <td>False</td>\n",
              "      <td>False</td>\n",
              "      <td>False</td>\n",
              "      <td>False</td>\n",
              "      <td>False</td>\n",
              "      <td>False</td>\n",
              "      <td>False</td>\n",
              "      <td>False</td>\n",
              "      <td>True</td>\n",
              "      <td>False</td>\n",
              "      <td>False</td>\n",
              "      <td>False</td>\n",
              "      <td>True</td>\n",
              "      <td>True</td>\n",
              "      <td>False</td>\n",
              "      <td>84</td>\n",
              "    </tr>\n",
              "  </tbody>\n",
              "</table>\n",
              "</div>"
            ],
            "text/plain": [
              "    people_id  char_1      group_1  char_2  ... char_35 char_36 char_37 char_38\n",
              "0     ppl_100  type 2  group 17304  type 2  ...    True    True   False      36\n",
              "1  ppl_100002  type 2   group 8688  type 3  ...    True    True   False      76\n",
              "2  ppl_100003  type 2  group 33592  type 3  ...   False    True    True      99\n",
              "3  ppl_100004  type 2  group 22593  type 3  ...    True    True    True      76\n",
              "4  ppl_100006  type 2   group 6534  type 3  ...    True    True   False      84\n",
              "\n",
              "[5 rows x 41 columns]"
            ]
          },
          "metadata": {
            "tags": []
          },
          "execution_count": 20
        }
      ]
    },
    {
      "cell_type": "markdown",
      "metadata": {
        "id": "AbY5_MNEAOdo"
      },
      "source": [
        "El primer hecho a resaltar es que la información se presenta anonimizada, algo muy común en la ciencia de datos. \n",
        "\n",
        "Se aprecia una gran cantidad de campos de naturaleza categórica. "
      ]
    },
    {
      "cell_type": "code",
      "metadata": {
        "id": "m22vO2EY_ZB5",
        "outputId": "a363ef03-1ccd-46b9-f540-d64ba8ce3074",
        "colab": {
          "base_uri": "https://localhost:8080/",
          "height": 204
        }
      },
      "source": [
        "path_act_train = '/content/drive/My Drive/data/act_train.csv'\n",
        "activity = pd.read_csv(path_act_train, sep=',')\n",
        "activity.head()"
      ],
      "execution_count": null,
      "outputs": [
        {
          "output_type": "execute_result",
          "data": {
            "text/html": [
              "<div>\n",
              "<style scoped>\n",
              "    .dataframe tbody tr th:only-of-type {\n",
              "        vertical-align: middle;\n",
              "    }\n",
              "\n",
              "    .dataframe tbody tr th {\n",
              "        vertical-align: top;\n",
              "    }\n",
              "\n",
              "    .dataframe thead th {\n",
              "        text-align: right;\n",
              "    }\n",
              "</style>\n",
              "<table border=\"1\" class=\"dataframe\">\n",
              "  <thead>\n",
              "    <tr style=\"text-align: right;\">\n",
              "      <th></th>\n",
              "      <th>people_id</th>\n",
              "      <th>activity_id</th>\n",
              "      <th>date</th>\n",
              "      <th>activity_category</th>\n",
              "      <th>char_1</th>\n",
              "      <th>char_2</th>\n",
              "      <th>char_3</th>\n",
              "      <th>char_4</th>\n",
              "      <th>char_5</th>\n",
              "      <th>char_6</th>\n",
              "      <th>char_7</th>\n",
              "      <th>char_8</th>\n",
              "      <th>char_9</th>\n",
              "      <th>char_10</th>\n",
              "      <th>outcome</th>\n",
              "    </tr>\n",
              "  </thead>\n",
              "  <tbody>\n",
              "    <tr>\n",
              "      <th>0</th>\n",
              "      <td>ppl_100</td>\n",
              "      <td>act2_1734928</td>\n",
              "      <td>2023-08-26</td>\n",
              "      <td>type 4</td>\n",
              "      <td>NaN</td>\n",
              "      <td>NaN</td>\n",
              "      <td>NaN</td>\n",
              "      <td>NaN</td>\n",
              "      <td>NaN</td>\n",
              "      <td>NaN</td>\n",
              "      <td>NaN</td>\n",
              "      <td>NaN</td>\n",
              "      <td>NaN</td>\n",
              "      <td>type 76</td>\n",
              "      <td>0</td>\n",
              "    </tr>\n",
              "    <tr>\n",
              "      <th>1</th>\n",
              "      <td>ppl_100</td>\n",
              "      <td>act2_2434093</td>\n",
              "      <td>2022-09-27</td>\n",
              "      <td>type 2</td>\n",
              "      <td>NaN</td>\n",
              "      <td>NaN</td>\n",
              "      <td>NaN</td>\n",
              "      <td>NaN</td>\n",
              "      <td>NaN</td>\n",
              "      <td>NaN</td>\n",
              "      <td>NaN</td>\n",
              "      <td>NaN</td>\n",
              "      <td>NaN</td>\n",
              "      <td>type 1</td>\n",
              "      <td>0</td>\n",
              "    </tr>\n",
              "    <tr>\n",
              "      <th>2</th>\n",
              "      <td>ppl_100</td>\n",
              "      <td>act2_3404049</td>\n",
              "      <td>2022-09-27</td>\n",
              "      <td>type 2</td>\n",
              "      <td>NaN</td>\n",
              "      <td>NaN</td>\n",
              "      <td>NaN</td>\n",
              "      <td>NaN</td>\n",
              "      <td>NaN</td>\n",
              "      <td>NaN</td>\n",
              "      <td>NaN</td>\n",
              "      <td>NaN</td>\n",
              "      <td>NaN</td>\n",
              "      <td>type 1</td>\n",
              "      <td>0</td>\n",
              "    </tr>\n",
              "    <tr>\n",
              "      <th>3</th>\n",
              "      <td>ppl_100</td>\n",
              "      <td>act2_3651215</td>\n",
              "      <td>2023-08-04</td>\n",
              "      <td>type 2</td>\n",
              "      <td>NaN</td>\n",
              "      <td>NaN</td>\n",
              "      <td>NaN</td>\n",
              "      <td>NaN</td>\n",
              "      <td>NaN</td>\n",
              "      <td>NaN</td>\n",
              "      <td>NaN</td>\n",
              "      <td>NaN</td>\n",
              "      <td>NaN</td>\n",
              "      <td>type 1</td>\n",
              "      <td>0</td>\n",
              "    </tr>\n",
              "    <tr>\n",
              "      <th>4</th>\n",
              "      <td>ppl_100</td>\n",
              "      <td>act2_4109017</td>\n",
              "      <td>2023-08-26</td>\n",
              "      <td>type 2</td>\n",
              "      <td>NaN</td>\n",
              "      <td>NaN</td>\n",
              "      <td>NaN</td>\n",
              "      <td>NaN</td>\n",
              "      <td>NaN</td>\n",
              "      <td>NaN</td>\n",
              "      <td>NaN</td>\n",
              "      <td>NaN</td>\n",
              "      <td>NaN</td>\n",
              "      <td>type 1</td>\n",
              "      <td>0</td>\n",
              "    </tr>\n",
              "  </tbody>\n",
              "</table>\n",
              "</div>"
            ],
            "text/plain": [
              "  people_id   activity_id        date  ... char_9  char_10 outcome\n",
              "0   ppl_100  act2_1734928  2023-08-26  ...    NaN  type 76       0\n",
              "1   ppl_100  act2_2434093  2022-09-27  ...    NaN   type 1       0\n",
              "2   ppl_100  act2_3404049  2022-09-27  ...    NaN   type 1       0\n",
              "3   ppl_100  act2_3651215  2023-08-04  ...    NaN   type 1       0\n",
              "4   ppl_100  act2_4109017  2023-08-26  ...    NaN   type 1       0\n",
              "\n",
              "[5 rows x 15 columns]"
            ]
          },
          "metadata": {
            "tags": []
          },
          "execution_count": 21
        }
      ]
    },
    {
      "cell_type": "markdown",
      "metadata": {
        "id": "B9_dNCTum1Hw"
      },
      "source": [
        "## <h1 id=\"ingenieria\">Ingeniería de datos</h1>\n",
        "\n",
        "Evaluaremos ahora el tamaño de los datasets y la completitud de información en las distintas variables disponibles."
      ]
    },
    {
      "cell_type": "code",
      "metadata": {
        "id": "XPzJRTCwO7zy",
        "outputId": "9ef8ce90-a34b-4adf-a849-c63aff08b0cf",
        "colab": {
          "base_uri": "https://localhost:8080/",
          "height": 748
        }
      },
      "source": [
        "print(people.shape)\n",
        "100*people.isnull().sum()/people.shape[0]"
      ],
      "execution_count": null,
      "outputs": [
        {
          "output_type": "stream",
          "text": [
            "(189118, 41)\n"
          ],
          "name": "stdout"
        },
        {
          "output_type": "execute_result",
          "data": {
            "text/plain": [
              "people_id    0.0\n",
              "char_1       0.0\n",
              "group_1      0.0\n",
              "char_2       0.0\n",
              "date         0.0\n",
              "char_3       0.0\n",
              "char_4       0.0\n",
              "char_5       0.0\n",
              "char_6       0.0\n",
              "char_7       0.0\n",
              "char_8       0.0\n",
              "char_9       0.0\n",
              "char_10      0.0\n",
              "char_11      0.0\n",
              "char_12      0.0\n",
              "char_13      0.0\n",
              "char_14      0.0\n",
              "char_15      0.0\n",
              "char_16      0.0\n",
              "char_17      0.0\n",
              "char_18      0.0\n",
              "char_19      0.0\n",
              "char_20      0.0\n",
              "char_21      0.0\n",
              "char_22      0.0\n",
              "char_23      0.0\n",
              "char_24      0.0\n",
              "char_25      0.0\n",
              "char_26      0.0\n",
              "char_27      0.0\n",
              "char_28      0.0\n",
              "char_29      0.0\n",
              "char_30      0.0\n",
              "char_31      0.0\n",
              "char_32      0.0\n",
              "char_33      0.0\n",
              "char_34      0.0\n",
              "char_35      0.0\n",
              "char_36      0.0\n",
              "char_37      0.0\n",
              "char_38      0.0\n",
              "dtype: float64"
            ]
          },
          "metadata": {
            "tags": []
          },
          "execution_count": 22
        }
      ]
    },
    {
      "cell_type": "code",
      "metadata": {
        "id": "Xpucjyj0O7p3",
        "outputId": "4c1b4c49-03e7-4185-a9a2-e1bf7d6d7e28",
        "colab": {
          "base_uri": "https://localhost:8080/",
          "height": 306
        }
      },
      "source": [
        "#Repetimos el procedimiento con el dataset de activity\n",
        "print(activity.shape)\n",
        "100*activity.isnull().sum()/activity.shape[0]   # lo dividimos por el total para ver el porcentaje "
      ],
      "execution_count": null,
      "outputs": [
        {
          "output_type": "stream",
          "text": [
            "(2197291, 15)\n"
          ],
          "name": "stdout"
        },
        {
          "output_type": "execute_result",
          "data": {
            "text/plain": [
              "people_id             0.000000\n",
              "activity_id           0.000000\n",
              "date                  0.000000\n",
              "activity_category     0.000000\n",
              "char_1               92.826849\n",
              "char_2               92.826849\n",
              "char_3               92.826849\n",
              "char_4               92.826849\n",
              "char_5               92.826849\n",
              "char_6               92.826849\n",
              "char_7               92.826849\n",
              "char_8               92.826849\n",
              "char_9               92.826849\n",
              "char_10               7.173151\n",
              "outcome               0.000000\n",
              "dtype: float64"
            ]
          },
          "metadata": {
            "tags": []
          },
          "execution_count": 23
        }
      ]
    },
    {
      "cell_type": "markdown",
      "metadata": {
        "id": "C0wRxOQ6msBO"
      },
      "source": [
        "Se evidencia que los campos char_1 al char_9 tienen el 92% de sus valores en nulo Esta cantidad es muy elevada para aplicar metodos de imputación, por lo cual optaremos por elminar las columnas con este inconveniente."
      ]
    },
    {
      "cell_type": "code",
      "metadata": {
        "id": "ifiOGXJfxZvD",
        "outputId": "063ccf08-19aa-475f-f475-0625b7e0ab7d",
        "colab": {
          "base_uri": "https://localhost:8080/",
          "height": 85
        }
      },
      "source": [
        "activity.columns"
      ],
      "execution_count": null,
      "outputs": [
        {
          "output_type": "execute_result",
          "data": {
            "text/plain": [
              "Index(['people_id', 'activity_id', 'date', 'activity_category', 'char_1',\n",
              "       'char_2', 'char_3', 'char_4', 'char_5', 'char_6', 'char_7', 'char_8',\n",
              "       'char_9', 'char_10', 'outcome'],\n",
              "      dtype='object')"
            ]
          },
          "metadata": {
            "tags": []
          },
          "execution_count": 24
        }
      ]
    },
    {
      "cell_type": "code",
      "metadata": {
        "id": "XtrcEw2Bvm7t",
        "outputId": "4fdafd45-4e4e-4c9b-f3e4-67fad1d311d7",
        "colab": {
          "base_uri": "https://localhost:8080/",
          "height": 159
        }
      },
      "source": [
        "# activity.drop(columns=['char_1','char_2', 'char_3', 'char_4', 'char_5', 'char_6',\\\n",
        "#                        'char_7', 'char_8','char_9'],inplace=True)\n",
        "activity.drop(columns= activity.iloc[:, 4:13], inplace=True)\n",
        "print(activity.shape)\n",
        "activity.head(3)"
      ],
      "execution_count": null,
      "outputs": [
        {
          "output_type": "stream",
          "text": [
            "(2197291, 6)\n"
          ],
          "name": "stdout"
        },
        {
          "output_type": "execute_result",
          "data": {
            "text/html": [
              "<div>\n",
              "<style scoped>\n",
              "    .dataframe tbody tr th:only-of-type {\n",
              "        vertical-align: middle;\n",
              "    }\n",
              "\n",
              "    .dataframe tbody tr th {\n",
              "        vertical-align: top;\n",
              "    }\n",
              "\n",
              "    .dataframe thead th {\n",
              "        text-align: right;\n",
              "    }\n",
              "</style>\n",
              "<table border=\"1\" class=\"dataframe\">\n",
              "  <thead>\n",
              "    <tr style=\"text-align: right;\">\n",
              "      <th></th>\n",
              "      <th>people_id</th>\n",
              "      <th>activity_id</th>\n",
              "      <th>date</th>\n",
              "      <th>activity_category</th>\n",
              "      <th>char_10</th>\n",
              "      <th>outcome</th>\n",
              "    </tr>\n",
              "  </thead>\n",
              "  <tbody>\n",
              "    <tr>\n",
              "      <th>0</th>\n",
              "      <td>ppl_100</td>\n",
              "      <td>act2_1734928</td>\n",
              "      <td>2023-08-26</td>\n",
              "      <td>type 4</td>\n",
              "      <td>type 76</td>\n",
              "      <td>0</td>\n",
              "    </tr>\n",
              "    <tr>\n",
              "      <th>1</th>\n",
              "      <td>ppl_100</td>\n",
              "      <td>act2_2434093</td>\n",
              "      <td>2022-09-27</td>\n",
              "      <td>type 2</td>\n",
              "      <td>type 1</td>\n",
              "      <td>0</td>\n",
              "    </tr>\n",
              "    <tr>\n",
              "      <th>2</th>\n",
              "      <td>ppl_100</td>\n",
              "      <td>act2_3404049</td>\n",
              "      <td>2022-09-27</td>\n",
              "      <td>type 2</td>\n",
              "      <td>type 1</td>\n",
              "      <td>0</td>\n",
              "    </tr>\n",
              "  </tbody>\n",
              "</table>\n",
              "</div>"
            ],
            "text/plain": [
              "  people_id   activity_id        date activity_category  char_10  outcome\n",
              "0   ppl_100  act2_1734928  2023-08-26            type 4  type 76        0\n",
              "1   ppl_100  act2_2434093  2022-09-27            type 2   type 1        0\n",
              "2   ppl_100  act2_3404049  2022-09-27            type 2   type 1        0"
            ]
          },
          "metadata": {
            "tags": []
          },
          "execution_count": 25
        }
      ]
    },
    {
      "cell_type": "markdown",
      "metadata": {
        "id": "D_Sp5RPopl9O"
      },
      "source": [
        "Para consolidar un dataset debemos tener un par de consideraciones previas: \n",
        "\n",
        "* Se aprecia que existen dos variables que tienen los mismos nombres en ambos \n",
        "datasets (char_2 y char_10) por lo cual es buena practica renombrar estas columnas para evitar confusiones al momento de unificar las fuentes.\n",
        "* En el caso de la variable categórica \"tipo_actividad\" existe una proporción de nulos que podemos reemplazar por el valor más frecuente o la moda.\n",
        "\n"
      ]
    },
    {
      "cell_type": "code",
      "metadata": {
        "id": "hVNrQiqFO78K",
        "outputId": "31d86158-6364-46a7-df4e-8263062ca903",
        "colab": {
          "base_uri": "https://localhost:8080/",
          "height": 136
        }
      },
      "source": [
        "# Renombramos columnas\n",
        "activity = activity.rename(columns={\"date\":\"fecha_actividad\",\"char_10\":\"tipo_actividad\"})\n",
        "# Reenplazamos el tipo de actividad por la moda \n",
        "# activity[\"tipo_actividad\"] = activity[\"tipo_actividad\"].fillna(activity[\"tipo_actividad\"].mode()[0])\n",
        "activity[\"tipo_actividad\"].fillna(activity[\"tipo_actividad\"].mode()[0], inplace=True)\n",
        "\n",
        "# Verificamos el cambio\n",
        "100*activity.isnull().sum()/activity.shape[0]"
      ],
      "execution_count": null,
      "outputs": [
        {
          "output_type": "execute_result",
          "data": {
            "text/plain": [
              "people_id            0.0\n",
              "activity_id          0.0\n",
              "fecha_actividad      0.0\n",
              "activity_category    0.0\n",
              "tipo_actividad       0.0\n",
              "outcome              0.0\n",
              "dtype: float64"
            ]
          },
          "metadata": {
            "tags": []
          },
          "execution_count": 26
        }
      ]
    },
    {
      "cell_type": "markdown",
      "metadata": {
        "id": "Ccc9A9hRrgej"
      },
      "source": [
        "Ahora unificamos los datasets empleando la función merge y evaluamos la consistencia luego de esta operación "
      ]
    },
    {
      "cell_type": "code",
      "metadata": {
        "id": "uMkkwvb5Pf1t",
        "outputId": "dc15d3e8-b64f-4d2b-8b7c-fa5af0b3cb50",
        "colab": {
          "base_uri": "https://localhost:8080/",
          "height": 51
        }
      },
      "source": [
        "consolidado = activity.merge(people,on=[\"people_id\"],how=\"inner\") # (data_Set, variable_comun, como_lo_hace)\n",
        "print(\"Tamaño previo: \",activity.shape)\n",
        "print(\"Nuevo tamaño: \",consolidado.shape)"
      ],
      "execution_count": null,
      "outputs": [
        {
          "output_type": "stream",
          "text": [
            "Tamaño previo:  (2197291, 6)\n",
            "Nuevo tamaño:  (2197291, 46)\n"
          ],
          "name": "stdout"
        }
      ]
    },
    {
      "cell_type": "markdown",
      "metadata": {
        "id": "GwHDh2f_sNPN"
      },
      "source": [
        "La variable objetivo que clasifica la actividad de los usuarios como potenciales clientes es denominada \"outcome\", evaluaremos la distribución de este variable: "
      ]
    },
    {
      "cell_type": "code",
      "metadata": {
        "id": "P_TbTWpnPf6U",
        "outputId": "6021e72b-e4ee-427a-a684-10e7e0e76b51",
        "colab": {
          "base_uri": "https://localhost:8080/",
          "height": 85
        }
      },
      "source": [
        "print(\"Distribución de outcome: \\n\", 100*consolidado[\"outcome\"].value_counts()/consolidado.shape[0])"
      ],
      "execution_count": null,
      "outputs": [
        {
          "output_type": "stream",
          "text": [
            "Distribución de outcome: \n",
            " 0    55.60456\n",
            "1    44.39544\n",
            "Name: outcome, dtype: float64\n"
          ],
          "name": "stdout"
        }
      ]
    },
    {
      "cell_type": "markdown",
      "metadata": {
        "id": "bg0W_YUOuQJX"
      },
      "source": [
        "Como lo hemos mencionado, las redes neuronales requieren de entrada sólo valores numericos, por lo cual debemos convertir aquellas que no lo son. El dataset consolidado cuenta con 46 variables de tipo booleanas, numericas o categóricas que deben ser transformadas."
      ]
    },
    {
      "cell_type": "code",
      "metadata": {
        "id": "KStwi9ZtPf9E",
        "outputId": "f5ff348c-8bb5-4f43-9a28-dc16045d8589",
        "colab": {
          "base_uri": "https://localhost:8080/",
          "height": 170
        }
      },
      "source": [
        "types = pd.DataFrame(consolidado.dtypes)\n",
        "print(\"Tipos de variables\",types.groupby(0).size())  # grouby columnas\n",
        "\n",
        "consolidado = consolidado.replace({False: 0, True: 1})\n",
        "\n",
        "types = pd.DataFrame(consolidado.dtypes)\n",
        "print(\"Tipos de variables luego de reemplazo\",types.groupby(0).size())"
      ],
      "execution_count": null,
      "outputs": [
        {
          "output_type": "stream",
          "text": [
            "Tipos de variables 0\n",
            "bool      28\n",
            "int64      2\n",
            "object    16\n",
            "dtype: int64\n",
            "Tipos de variables luego de reemplazo 0\n",
            "int64     30\n",
            "object    16\n",
            "dtype: int64\n"
          ],
          "name": "stdout"
        }
      ]
    },
    {
      "cell_type": "markdown",
      "metadata": {
        "id": "xkjmFo88943p"
      },
      "source": [
        "Si recordamos, el identificador people_id se compone por un prefijo \"ppl_\" seguido de un número único por usuario.En este caso basta con recortar el prefijo para transformar esta variable en numerica."
      ]
    },
    {
      "cell_type": "code",
      "metadata": {
        "id": "UC3Ph9sD6YRT",
        "outputId": "9ca18b80-8599-4aff-fdf3-e87475f17054",
        "colab": {
          "base_uri": "https://localhost:8080/",
          "height": 85
        }
      },
      "source": [
        "consolidado.people_id = consolidado.people_id.str.slice(start=4).astype(float).astype(int)\n",
        "\n",
        "types = pd.DataFrame(consolidado.dtypes)\n",
        "print(\"Tipos de variables luego de 2do reemplazo\",types.groupby(0).size())"
      ],
      "execution_count": null,
      "outputs": [
        {
          "output_type": "stream",
          "text": [
            "Tipos de variables luego de 2do reemplazo 0\n",
            "int64     31\n",
            "object    15\n",
            "dtype: int64\n"
          ],
          "name": "stdout"
        }
      ]
    },
    {
      "cell_type": "markdown",
      "metadata": {
        "id": "0Xw6Pde0D_Sx"
      },
      "source": [
        "Al validar el dataset consolidado podemos aplicar la misma metodología previamente mencionada a otro par de columnas: \n",
        "\n",
        "\"activity_id\", \"activity_category\", \"group_1\", \"tipo_actividad\""
      ]
    },
    {
      "cell_type": "code",
      "metadata": {
        "id": "Pxbqt9iwE3el",
        "outputId": "f3117240-5482-481a-c900-dee73a2f4d6d",
        "colab": {
          "base_uri": "https://localhost:8080/",
          "height": 142
        }
      },
      "source": [
        "consolidado[[\"activity_id\", \"activity_category\", \"group_1\", \"tipo_actividad\"]].head(3)"
      ],
      "execution_count": null,
      "outputs": [
        {
          "output_type": "execute_result",
          "data": {
            "text/html": [
              "<div>\n",
              "<style scoped>\n",
              "    .dataframe tbody tr th:only-of-type {\n",
              "        vertical-align: middle;\n",
              "    }\n",
              "\n",
              "    .dataframe tbody tr th {\n",
              "        vertical-align: top;\n",
              "    }\n",
              "\n",
              "    .dataframe thead th {\n",
              "        text-align: right;\n",
              "    }\n",
              "</style>\n",
              "<table border=\"1\" class=\"dataframe\">\n",
              "  <thead>\n",
              "    <tr style=\"text-align: right;\">\n",
              "      <th></th>\n",
              "      <th>activity_id</th>\n",
              "      <th>activity_category</th>\n",
              "      <th>group_1</th>\n",
              "      <th>tipo_actividad</th>\n",
              "    </tr>\n",
              "  </thead>\n",
              "  <tbody>\n",
              "    <tr>\n",
              "      <th>0</th>\n",
              "      <td>act2_1734928</td>\n",
              "      <td>type 4</td>\n",
              "      <td>group 17304</td>\n",
              "      <td>type 76</td>\n",
              "    </tr>\n",
              "    <tr>\n",
              "      <th>1</th>\n",
              "      <td>act2_2434093</td>\n",
              "      <td>type 2</td>\n",
              "      <td>group 17304</td>\n",
              "      <td>type 1</td>\n",
              "    </tr>\n",
              "    <tr>\n",
              "      <th>2</th>\n",
              "      <td>act2_3404049</td>\n",
              "      <td>type 2</td>\n",
              "      <td>group 17304</td>\n",
              "      <td>type 1</td>\n",
              "    </tr>\n",
              "  </tbody>\n",
              "</table>\n",
              "</div>"
            ],
            "text/plain": [
              "    activity_id activity_category      group_1 tipo_actividad\n",
              "0  act2_1734928            type 4  group 17304        type 76\n",
              "1  act2_2434093            type 2  group 17304         type 1\n",
              "2  act2_3404049            type 2  group 17304         type 1"
            ]
          },
          "metadata": {
            "tags": []
          },
          "execution_count": 31
        }
      ]
    },
    {
      "cell_type": "code",
      "metadata": {
        "id": "zwHaLBSsBzIW",
        "outputId": "6b70a7b9-bc96-497b-b54f-d1fb60c1dbfc",
        "colab": {
          "base_uri": "https://localhost:8080/",
          "height": 85
        }
      },
      "source": [
        "consolidado.activity_id = consolidado.activity_id.str.slice(start=5).astype(float).astype(int)\n",
        "consolidado.activity_category = consolidado.activity_category.str.slice(start=5).astype(float).astype(int)\n",
        "consolidado.group_1 = consolidado.group_1.str.slice(start=6).astype(float).astype(int)\n",
        "consolidado.tipo_actividad = consolidado.tipo_actividad.str.slice(start=5).astype(float).astype(int)\n",
        "\n",
        "types = pd.DataFrame(consolidado.dtypes)\n",
        "print(\"Tipos de variables luego de 3er reemplazo\",types.groupby(0).size())"
      ],
      "execution_count": null,
      "outputs": [
        {
          "output_type": "stream",
          "text": [
            "Tipos de variables luego de 3er reemplazo 0\n",
            "int64     35\n",
            "object    11\n",
            "dtype: int64\n"
          ],
          "name": "stdout"
        }
      ]
    },
    {
      "cell_type": "markdown",
      "metadata": {
        "id": "N212VqnfBEsA"
      },
      "source": [
        "Evaluemos las variables que siguen tipo object y la cantidad de valores distintos que poseen"
      ]
    },
    {
      "cell_type": "code",
      "metadata": {
        "id": "gs2LPHTT3Xd5",
        "outputId": "90f8d22c-bbb7-48f0-e315-bcf966af1b56",
        "colab": {
          "base_uri": "https://localhost:8080/",
          "height": 204
        }
      },
      "source": [
        "categoricas = types.index[types[0] == 'O'].values\n",
        "for line in categoricas:\n",
        " print(\"La variable \"+ line +\" contiene:\",str(len(consolidado[line].unique()))+\" distinct values\")"
      ],
      "execution_count": null,
      "outputs": [
        {
          "output_type": "stream",
          "text": [
            "La variable fecha_actividad contiene: 411 distinct values\n",
            "La variable char_1 contiene: 2 distinct values\n",
            "La variable char_2 contiene: 3 distinct values\n",
            "La variable date contiene: 1196 distinct values\n",
            "La variable char_3 contiene: 43 distinct values\n",
            "La variable char_4 contiene: 25 distinct values\n",
            "La variable char_5 contiene: 9 distinct values\n",
            "La variable char_6 contiene: 7 distinct values\n",
            "La variable char_7 contiene: 25 distinct values\n",
            "La variable char_8 contiene: 8 distinct values\n",
            "La variable char_9 contiene: 9 distinct values\n"
          ],
          "name": "stdout"
        }
      ]
    },
    {
      "cell_type": "markdown",
      "metadata": {
        "id": "YGMo1pAGF4at"
      },
      "source": [
        "Del listado anterior resaltamos dos variables tipo fecha (\"date\", \"fecha_actividad\") Para la red neuronal representa una oportunidad poder extraer una serie de caracteristicas adicionales que le permitan entender patrones estacionales de diferentes periodicidades (diario, semanal, mensual, etc) es por esto que crearemos una serie de variables adicionales (de naturaleza numérica) a partir de estas dos fechas:"
      ]
    },
    {
      "cell_type": "code",
      "metadata": {
        "id": "cH_A3NfKPgCK",
        "outputId": "b9b6ab02-0b92-46ae-9b1c-05f1dcb501e9",
        "colab": {
          "base_uri": "https://localhost:8080/",
          "height": 85
        }
      },
      "source": [
        "#Convertimos la variable objeto en datetime\n",
        "consolidado[\"date\"] = pd.to_datetime(consolidado[\"date\"])\n",
        "#Creamos nuevas variables\n",
        "consolidado[\"dia\"] = consolidado[\"date\"].dt.day\n",
        "consolidado[\"dia_semana\"] = consolidado[\"date\"].dt.weekday\n",
        "consolidado[\"semana\"] = consolidado[\"date\"].dt.week\n",
        "consolidado[\"mes\"] = consolidado[\"date\"].dt.month\n",
        "consolidado[\"trimestre\"] = consolidado[\"date\"].dt.quarter\n",
        "consolidado[\"año\"] = consolidado[\"date\"].dt.year\n",
        "\n",
        "#Repetimos el procedimiento anterior con fecha_actividad\n",
        "consolidado[\"fecha_actividad\"] = pd.to_datetime(consolidado[\"fecha_actividad\"])\n",
        "consolidado[\"dia_actividad\"] = consolidado[\"fecha_actividad\"].dt.day\n",
        "consolidado[\"dia_semana_actividad\"] = consolidado[\"fecha_actividad\"].dt.weekday\n",
        "consolidado[\"semana_actividad\"] = consolidado[\"fecha_actividad\"].dt.week\n",
        "consolidado[\"mes_actividad\"] = consolidado[\"fecha_actividad\"].dt.month\n",
        "consolidado[\"trimestre_actividad\"] = consolidado[\"fecha_actividad\"].dt.quarter\n",
        "consolidado[\"año_actividad\"] = consolidado[\"fecha_actividad\"].dt.year\n",
        "\n",
        "#Delete the original date columns\n",
        "del(consolidado[\"date\"])\n",
        "del(consolidado[\"fecha_actividad\"])\n",
        "\n",
        "types = pd.DataFrame(consolidado.dtypes)\n",
        "print(\"Tipos de variables luego de 4to reemplazo\",types.groupby(0).size())"
      ],
      "execution_count": null,
      "outputs": [
        {
          "output_type": "stream",
          "text": [
            "Tipos de variables luego de 4to reemplazo 0\n",
            "int64     47\n",
            "object     9\n",
            "dtype: int64\n"
          ],
          "name": "stdout"
        }
      ]
    },
    {
      "cell_type": "code",
      "metadata": {
        "id": "yCt_KKF3PgHN",
        "outputId": "c2f07b53-7628-4816-c700-32c8d5739eea",
        "colab": {
          "base_uri": "https://localhost:8080/",
          "height": 534
        }
      },
      "source": [
        "consolidado.head(15)"
      ],
      "execution_count": null,
      "outputs": [
        {
          "output_type": "execute_result",
          "data": {
            "text/html": [
              "<div>\n",
              "<style scoped>\n",
              "    .dataframe tbody tr th:only-of-type {\n",
              "        vertical-align: middle;\n",
              "    }\n",
              "\n",
              "    .dataframe tbody tr th {\n",
              "        vertical-align: top;\n",
              "    }\n",
              "\n",
              "    .dataframe thead th {\n",
              "        text-align: right;\n",
              "    }\n",
              "</style>\n",
              "<table border=\"1\" class=\"dataframe\">\n",
              "  <thead>\n",
              "    <tr style=\"text-align: right;\">\n",
              "      <th></th>\n",
              "      <th>people_id</th>\n",
              "      <th>activity_id</th>\n",
              "      <th>activity_category</th>\n",
              "      <th>tipo_actividad</th>\n",
              "      <th>outcome</th>\n",
              "      <th>char_1</th>\n",
              "      <th>group_1</th>\n",
              "      <th>char_2</th>\n",
              "      <th>char_3</th>\n",
              "      <th>char_4</th>\n",
              "      <th>char_5</th>\n",
              "      <th>char_6</th>\n",
              "      <th>char_7</th>\n",
              "      <th>char_8</th>\n",
              "      <th>char_9</th>\n",
              "      <th>char_10</th>\n",
              "      <th>char_11</th>\n",
              "      <th>char_12</th>\n",
              "      <th>char_13</th>\n",
              "      <th>char_14</th>\n",
              "      <th>char_15</th>\n",
              "      <th>char_16</th>\n",
              "      <th>char_17</th>\n",
              "      <th>char_18</th>\n",
              "      <th>char_19</th>\n",
              "      <th>char_20</th>\n",
              "      <th>char_21</th>\n",
              "      <th>char_22</th>\n",
              "      <th>char_23</th>\n",
              "      <th>char_24</th>\n",
              "      <th>char_25</th>\n",
              "      <th>char_26</th>\n",
              "      <th>char_27</th>\n",
              "      <th>char_28</th>\n",
              "      <th>char_29</th>\n",
              "      <th>char_30</th>\n",
              "      <th>char_31</th>\n",
              "      <th>char_32</th>\n",
              "      <th>char_33</th>\n",
              "      <th>char_34</th>\n",
              "      <th>char_35</th>\n",
              "      <th>char_36</th>\n",
              "      <th>char_37</th>\n",
              "      <th>char_38</th>\n",
              "      <th>dia</th>\n",
              "      <th>dia_semana</th>\n",
              "      <th>semana</th>\n",
              "      <th>mes</th>\n",
              "      <th>trimestre</th>\n",
              "      <th>año</th>\n",
              "      <th>dia_actividad</th>\n",
              "      <th>dia_semana_actividad</th>\n",
              "      <th>semana_actividad</th>\n",
              "      <th>mes_actividad</th>\n",
              "      <th>trimestre_actividad</th>\n",
              "      <th>año_actividad</th>\n",
              "    </tr>\n",
              "  </thead>\n",
              "  <tbody>\n",
              "    <tr>\n",
              "      <th>0</th>\n",
              "      <td>100</td>\n",
              "      <td>1734928</td>\n",
              "      <td>4</td>\n",
              "      <td>76</td>\n",
              "      <td>0</td>\n",
              "      <td>type 2</td>\n",
              "      <td>17304</td>\n",
              "      <td>type 2</td>\n",
              "      <td>type 5</td>\n",
              "      <td>type 5</td>\n",
              "      <td>type 5</td>\n",
              "      <td>type 3</td>\n",
              "      <td>type 11</td>\n",
              "      <td>type 2</td>\n",
              "      <td>type 2</td>\n",
              "      <td>1</td>\n",
              "      <td>0</td>\n",
              "      <td>0</td>\n",
              "      <td>1</td>\n",
              "      <td>1</td>\n",
              "      <td>0</td>\n",
              "      <td>1</td>\n",
              "      <td>0</td>\n",
              "      <td>0</td>\n",
              "      <td>0</td>\n",
              "      <td>0</td>\n",
              "      <td>1</td>\n",
              "      <td>0</td>\n",
              "      <td>0</td>\n",
              "      <td>0</td>\n",
              "      <td>0</td>\n",
              "      <td>0</td>\n",
              "      <td>1</td>\n",
              "      <td>1</td>\n",
              "      <td>0</td>\n",
              "      <td>1</td>\n",
              "      <td>1</td>\n",
              "      <td>0</td>\n",
              "      <td>0</td>\n",
              "      <td>1</td>\n",
              "      <td>1</td>\n",
              "      <td>1</td>\n",
              "      <td>0</td>\n",
              "      <td>36</td>\n",
              "      <td>29</td>\n",
              "      <td>1</td>\n",
              "      <td>26</td>\n",
              "      <td>6</td>\n",
              "      <td>2</td>\n",
              "      <td>2021</td>\n",
              "      <td>26</td>\n",
              "      <td>5</td>\n",
              "      <td>34</td>\n",
              "      <td>8</td>\n",
              "      <td>3</td>\n",
              "      <td>2023</td>\n",
              "    </tr>\n",
              "    <tr>\n",
              "      <th>1</th>\n",
              "      <td>100</td>\n",
              "      <td>2434093</td>\n",
              "      <td>2</td>\n",
              "      <td>1</td>\n",
              "      <td>0</td>\n",
              "      <td>type 2</td>\n",
              "      <td>17304</td>\n",
              "      <td>type 2</td>\n",
              "      <td>type 5</td>\n",
              "      <td>type 5</td>\n",
              "      <td>type 5</td>\n",
              "      <td>type 3</td>\n",
              "      <td>type 11</td>\n",
              "      <td>type 2</td>\n",
              "      <td>type 2</td>\n",
              "      <td>1</td>\n",
              "      <td>0</td>\n",
              "      <td>0</td>\n",
              "      <td>1</td>\n",
              "      <td>1</td>\n",
              "      <td>0</td>\n",
              "      <td>1</td>\n",
              "      <td>0</td>\n",
              "      <td>0</td>\n",
              "      <td>0</td>\n",
              "      <td>0</td>\n",
              "      <td>1</td>\n",
              "      <td>0</td>\n",
              "      <td>0</td>\n",
              "      <td>0</td>\n",
              "      <td>0</td>\n",
              "      <td>0</td>\n",
              "      <td>1</td>\n",
              "      <td>1</td>\n",
              "      <td>0</td>\n",
              "      <td>1</td>\n",
              "      <td>1</td>\n",
              "      <td>0</td>\n",
              "      <td>0</td>\n",
              "      <td>1</td>\n",
              "      <td>1</td>\n",
              "      <td>1</td>\n",
              "      <td>0</td>\n",
              "      <td>36</td>\n",
              "      <td>29</td>\n",
              "      <td>1</td>\n",
              "      <td>26</td>\n",
              "      <td>6</td>\n",
              "      <td>2</td>\n",
              "      <td>2021</td>\n",
              "      <td>27</td>\n",
              "      <td>1</td>\n",
              "      <td>39</td>\n",
              "      <td>9</td>\n",
              "      <td>3</td>\n",
              "      <td>2022</td>\n",
              "    </tr>\n",
              "    <tr>\n",
              "      <th>2</th>\n",
              "      <td>100</td>\n",
              "      <td>3404049</td>\n",
              "      <td>2</td>\n",
              "      <td>1</td>\n",
              "      <td>0</td>\n",
              "      <td>type 2</td>\n",
              "      <td>17304</td>\n",
              "      <td>type 2</td>\n",
              "      <td>type 5</td>\n",
              "      <td>type 5</td>\n",
              "      <td>type 5</td>\n",
              "      <td>type 3</td>\n",
              "      <td>type 11</td>\n",
              "      <td>type 2</td>\n",
              "      <td>type 2</td>\n",
              "      <td>1</td>\n",
              "      <td>0</td>\n",
              "      <td>0</td>\n",
              "      <td>1</td>\n",
              "      <td>1</td>\n",
              "      <td>0</td>\n",
              "      <td>1</td>\n",
              "      <td>0</td>\n",
              "      <td>0</td>\n",
              "      <td>0</td>\n",
              "      <td>0</td>\n",
              "      <td>1</td>\n",
              "      <td>0</td>\n",
              "      <td>0</td>\n",
              "      <td>0</td>\n",
              "      <td>0</td>\n",
              "      <td>0</td>\n",
              "      <td>1</td>\n",
              "      <td>1</td>\n",
              "      <td>0</td>\n",
              "      <td>1</td>\n",
              "      <td>1</td>\n",
              "      <td>0</td>\n",
              "      <td>0</td>\n",
              "      <td>1</td>\n",
              "      <td>1</td>\n",
              "      <td>1</td>\n",
              "      <td>0</td>\n",
              "      <td>36</td>\n",
              "      <td>29</td>\n",
              "      <td>1</td>\n",
              "      <td>26</td>\n",
              "      <td>6</td>\n",
              "      <td>2</td>\n",
              "      <td>2021</td>\n",
              "      <td>27</td>\n",
              "      <td>1</td>\n",
              "      <td>39</td>\n",
              "      <td>9</td>\n",
              "      <td>3</td>\n",
              "      <td>2022</td>\n",
              "    </tr>\n",
              "    <tr>\n",
              "      <th>3</th>\n",
              "      <td>100</td>\n",
              "      <td>3651215</td>\n",
              "      <td>2</td>\n",
              "      <td>1</td>\n",
              "      <td>0</td>\n",
              "      <td>type 2</td>\n",
              "      <td>17304</td>\n",
              "      <td>type 2</td>\n",
              "      <td>type 5</td>\n",
              "      <td>type 5</td>\n",
              "      <td>type 5</td>\n",
              "      <td>type 3</td>\n",
              "      <td>type 11</td>\n",
              "      <td>type 2</td>\n",
              "      <td>type 2</td>\n",
              "      <td>1</td>\n",
              "      <td>0</td>\n",
              "      <td>0</td>\n",
              "      <td>1</td>\n",
              "      <td>1</td>\n",
              "      <td>0</td>\n",
              "      <td>1</td>\n",
              "      <td>0</td>\n",
              "      <td>0</td>\n",
              "      <td>0</td>\n",
              "      <td>0</td>\n",
              "      <td>1</td>\n",
              "      <td>0</td>\n",
              "      <td>0</td>\n",
              "      <td>0</td>\n",
              "      <td>0</td>\n",
              "      <td>0</td>\n",
              "      <td>1</td>\n",
              "      <td>1</td>\n",
              "      <td>0</td>\n",
              "      <td>1</td>\n",
              "      <td>1</td>\n",
              "      <td>0</td>\n",
              "      <td>0</td>\n",
              "      <td>1</td>\n",
              "      <td>1</td>\n",
              "      <td>1</td>\n",
              "      <td>0</td>\n",
              "      <td>36</td>\n",
              "      <td>29</td>\n",
              "      <td>1</td>\n",
              "      <td>26</td>\n",
              "      <td>6</td>\n",
              "      <td>2</td>\n",
              "      <td>2021</td>\n",
              "      <td>4</td>\n",
              "      <td>4</td>\n",
              "      <td>31</td>\n",
              "      <td>8</td>\n",
              "      <td>3</td>\n",
              "      <td>2023</td>\n",
              "    </tr>\n",
              "    <tr>\n",
              "      <th>4</th>\n",
              "      <td>100</td>\n",
              "      <td>4109017</td>\n",
              "      <td>2</td>\n",
              "      <td>1</td>\n",
              "      <td>0</td>\n",
              "      <td>type 2</td>\n",
              "      <td>17304</td>\n",
              "      <td>type 2</td>\n",
              "      <td>type 5</td>\n",
              "      <td>type 5</td>\n",
              "      <td>type 5</td>\n",
              "      <td>type 3</td>\n",
              "      <td>type 11</td>\n",
              "      <td>type 2</td>\n",
              "      <td>type 2</td>\n",
              "      <td>1</td>\n",
              "      <td>0</td>\n",
              "      <td>0</td>\n",
              "      <td>1</td>\n",
              "      <td>1</td>\n",
              "      <td>0</td>\n",
              "      <td>1</td>\n",
              "      <td>0</td>\n",
              "      <td>0</td>\n",
              "      <td>0</td>\n",
              "      <td>0</td>\n",
              "      <td>1</td>\n",
              "      <td>0</td>\n",
              "      <td>0</td>\n",
              "      <td>0</td>\n",
              "      <td>0</td>\n",
              "      <td>0</td>\n",
              "      <td>1</td>\n",
              "      <td>1</td>\n",
              "      <td>0</td>\n",
              "      <td>1</td>\n",
              "      <td>1</td>\n",
              "      <td>0</td>\n",
              "      <td>0</td>\n",
              "      <td>1</td>\n",
              "      <td>1</td>\n",
              "      <td>1</td>\n",
              "      <td>0</td>\n",
              "      <td>36</td>\n",
              "      <td>29</td>\n",
              "      <td>1</td>\n",
              "      <td>26</td>\n",
              "      <td>6</td>\n",
              "      <td>2</td>\n",
              "      <td>2021</td>\n",
              "      <td>26</td>\n",
              "      <td>5</td>\n",
              "      <td>34</td>\n",
              "      <td>8</td>\n",
              "      <td>3</td>\n",
              "      <td>2023</td>\n",
              "    </tr>\n",
              "    <tr>\n",
              "      <th>5</th>\n",
              "      <td>100</td>\n",
              "      <td>898576</td>\n",
              "      <td>4</td>\n",
              "      <td>1727</td>\n",
              "      <td>0</td>\n",
              "      <td>type 2</td>\n",
              "      <td>17304</td>\n",
              "      <td>type 2</td>\n",
              "      <td>type 5</td>\n",
              "      <td>type 5</td>\n",
              "      <td>type 5</td>\n",
              "      <td>type 3</td>\n",
              "      <td>type 11</td>\n",
              "      <td>type 2</td>\n",
              "      <td>type 2</td>\n",
              "      <td>1</td>\n",
              "      <td>0</td>\n",
              "      <td>0</td>\n",
              "      <td>1</td>\n",
              "      <td>1</td>\n",
              "      <td>0</td>\n",
              "      <td>1</td>\n",
              "      <td>0</td>\n",
              "      <td>0</td>\n",
              "      <td>0</td>\n",
              "      <td>0</td>\n",
              "      <td>1</td>\n",
              "      <td>0</td>\n",
              "      <td>0</td>\n",
              "      <td>0</td>\n",
              "      <td>0</td>\n",
              "      <td>0</td>\n",
              "      <td>1</td>\n",
              "      <td>1</td>\n",
              "      <td>0</td>\n",
              "      <td>1</td>\n",
              "      <td>1</td>\n",
              "      <td>0</td>\n",
              "      <td>0</td>\n",
              "      <td>1</td>\n",
              "      <td>1</td>\n",
              "      <td>1</td>\n",
              "      <td>0</td>\n",
              "      <td>36</td>\n",
              "      <td>29</td>\n",
              "      <td>1</td>\n",
              "      <td>26</td>\n",
              "      <td>6</td>\n",
              "      <td>2</td>\n",
              "      <td>2021</td>\n",
              "      <td>4</td>\n",
              "      <td>4</td>\n",
              "      <td>31</td>\n",
              "      <td>8</td>\n",
              "      <td>3</td>\n",
              "      <td>2023</td>\n",
              "    </tr>\n",
              "    <tr>\n",
              "      <th>6</th>\n",
              "      <td>100002</td>\n",
              "      <td>1233489</td>\n",
              "      <td>2</td>\n",
              "      <td>1</td>\n",
              "      <td>1</td>\n",
              "      <td>type 2</td>\n",
              "      <td>8688</td>\n",
              "      <td>type 3</td>\n",
              "      <td>type 28</td>\n",
              "      <td>type 9</td>\n",
              "      <td>type 5</td>\n",
              "      <td>type 3</td>\n",
              "      <td>type 11</td>\n",
              "      <td>type 2</td>\n",
              "      <td>type 4</td>\n",
              "      <td>0</td>\n",
              "      <td>0</td>\n",
              "      <td>1</td>\n",
              "      <td>1</td>\n",
              "      <td>0</td>\n",
              "      <td>0</td>\n",
              "      <td>0</td>\n",
              "      <td>1</td>\n",
              "      <td>0</td>\n",
              "      <td>0</td>\n",
              "      <td>0</td>\n",
              "      <td>0</td>\n",
              "      <td>0</td>\n",
              "      <td>1</td>\n",
              "      <td>0</td>\n",
              "      <td>1</td>\n",
              "      <td>1</td>\n",
              "      <td>1</td>\n",
              "      <td>0</td>\n",
              "      <td>0</td>\n",
              "      <td>1</td>\n",
              "      <td>1</td>\n",
              "      <td>1</td>\n",
              "      <td>1</td>\n",
              "      <td>1</td>\n",
              "      <td>1</td>\n",
              "      <td>1</td>\n",
              "      <td>0</td>\n",
              "      <td>76</td>\n",
              "      <td>6</td>\n",
              "      <td>2</td>\n",
              "      <td>1</td>\n",
              "      <td>1</td>\n",
              "      <td>1</td>\n",
              "      <td>2021</td>\n",
              "      <td>23</td>\n",
              "      <td>2</td>\n",
              "      <td>47</td>\n",
              "      <td>11</td>\n",
              "      <td>4</td>\n",
              "      <td>2022</td>\n",
              "    </tr>\n",
              "    <tr>\n",
              "      <th>7</th>\n",
              "      <td>100002</td>\n",
              "      <td>1623405</td>\n",
              "      <td>2</td>\n",
              "      <td>1</td>\n",
              "      <td>1</td>\n",
              "      <td>type 2</td>\n",
              "      <td>8688</td>\n",
              "      <td>type 3</td>\n",
              "      <td>type 28</td>\n",
              "      <td>type 9</td>\n",
              "      <td>type 5</td>\n",
              "      <td>type 3</td>\n",
              "      <td>type 11</td>\n",
              "      <td>type 2</td>\n",
              "      <td>type 4</td>\n",
              "      <td>0</td>\n",
              "      <td>0</td>\n",
              "      <td>1</td>\n",
              "      <td>1</td>\n",
              "      <td>0</td>\n",
              "      <td>0</td>\n",
              "      <td>0</td>\n",
              "      <td>1</td>\n",
              "      <td>0</td>\n",
              "      <td>0</td>\n",
              "      <td>0</td>\n",
              "      <td>0</td>\n",
              "      <td>0</td>\n",
              "      <td>1</td>\n",
              "      <td>0</td>\n",
              "      <td>1</td>\n",
              "      <td>1</td>\n",
              "      <td>1</td>\n",
              "      <td>0</td>\n",
              "      <td>0</td>\n",
              "      <td>1</td>\n",
              "      <td>1</td>\n",
              "      <td>1</td>\n",
              "      <td>1</td>\n",
              "      <td>1</td>\n",
              "      <td>1</td>\n",
              "      <td>1</td>\n",
              "      <td>0</td>\n",
              "      <td>76</td>\n",
              "      <td>6</td>\n",
              "      <td>2</td>\n",
              "      <td>1</td>\n",
              "      <td>1</td>\n",
              "      <td>1</td>\n",
              "      <td>2021</td>\n",
              "      <td>23</td>\n",
              "      <td>2</td>\n",
              "      <td>47</td>\n",
              "      <td>11</td>\n",
              "      <td>4</td>\n",
              "      <td>2022</td>\n",
              "    </tr>\n",
              "    <tr>\n",
              "      <th>8</th>\n",
              "      <td>100003</td>\n",
              "      <td>1111598</td>\n",
              "      <td>2</td>\n",
              "      <td>1</td>\n",
              "      <td>1</td>\n",
              "      <td>type 2</td>\n",
              "      <td>33592</td>\n",
              "      <td>type 3</td>\n",
              "      <td>type 4</td>\n",
              "      <td>type 8</td>\n",
              "      <td>type 5</td>\n",
              "      <td>type 2</td>\n",
              "      <td>type 5</td>\n",
              "      <td>type 2</td>\n",
              "      <td>type 2</td>\n",
              "      <td>1</td>\n",
              "      <td>1</td>\n",
              "      <td>1</td>\n",
              "      <td>1</td>\n",
              "      <td>1</td>\n",
              "      <td>1</td>\n",
              "      <td>0</td>\n",
              "      <td>1</td>\n",
              "      <td>0</td>\n",
              "      <td>1</td>\n",
              "      <td>0</td>\n",
              "      <td>1</td>\n",
              "      <td>1</td>\n",
              "      <td>1</td>\n",
              "      <td>1</td>\n",
              "      <td>1</td>\n",
              "      <td>1</td>\n",
              "      <td>1</td>\n",
              "      <td>1</td>\n",
              "      <td>0</td>\n",
              "      <td>0</td>\n",
              "      <td>1</td>\n",
              "      <td>1</td>\n",
              "      <td>1</td>\n",
              "      <td>1</td>\n",
              "      <td>0</td>\n",
              "      <td>1</td>\n",
              "      <td>1</td>\n",
              "      <td>99</td>\n",
              "      <td>10</td>\n",
              "      <td>4</td>\n",
              "      <td>23</td>\n",
              "      <td>6</td>\n",
              "      <td>2</td>\n",
              "      <td>2022</td>\n",
              "      <td>7</td>\n",
              "      <td>1</td>\n",
              "      <td>6</td>\n",
              "      <td>2</td>\n",
              "      <td>1</td>\n",
              "      <td>2023</td>\n",
              "    </tr>\n",
              "    <tr>\n",
              "      <th>9</th>\n",
              "      <td>100003</td>\n",
              "      <td>1177453</td>\n",
              "      <td>2</td>\n",
              "      <td>1</td>\n",
              "      <td>1</td>\n",
              "      <td>type 2</td>\n",
              "      <td>33592</td>\n",
              "      <td>type 3</td>\n",
              "      <td>type 4</td>\n",
              "      <td>type 8</td>\n",
              "      <td>type 5</td>\n",
              "      <td>type 2</td>\n",
              "      <td>type 5</td>\n",
              "      <td>type 2</td>\n",
              "      <td>type 2</td>\n",
              "      <td>1</td>\n",
              "      <td>1</td>\n",
              "      <td>1</td>\n",
              "      <td>1</td>\n",
              "      <td>1</td>\n",
              "      <td>1</td>\n",
              "      <td>0</td>\n",
              "      <td>1</td>\n",
              "      <td>0</td>\n",
              "      <td>1</td>\n",
              "      <td>0</td>\n",
              "      <td>1</td>\n",
              "      <td>1</td>\n",
              "      <td>1</td>\n",
              "      <td>1</td>\n",
              "      <td>1</td>\n",
              "      <td>1</td>\n",
              "      <td>1</td>\n",
              "      <td>1</td>\n",
              "      <td>0</td>\n",
              "      <td>0</td>\n",
              "      <td>1</td>\n",
              "      <td>1</td>\n",
              "      <td>1</td>\n",
              "      <td>1</td>\n",
              "      <td>0</td>\n",
              "      <td>1</td>\n",
              "      <td>1</td>\n",
              "      <td>99</td>\n",
              "      <td>10</td>\n",
              "      <td>4</td>\n",
              "      <td>23</td>\n",
              "      <td>6</td>\n",
              "      <td>2</td>\n",
              "      <td>2022</td>\n",
              "      <td>28</td>\n",
              "      <td>2</td>\n",
              "      <td>26</td>\n",
              "      <td>6</td>\n",
              "      <td>2</td>\n",
              "      <td>2023</td>\n",
              "    </tr>\n",
              "    <tr>\n",
              "      <th>10</th>\n",
              "      <td>100003</td>\n",
              "      <td>133509</td>\n",
              "      <td>4</td>\n",
              "      <td>894</td>\n",
              "      <td>1</td>\n",
              "      <td>type 2</td>\n",
              "      <td>33592</td>\n",
              "      <td>type 3</td>\n",
              "      <td>type 4</td>\n",
              "      <td>type 8</td>\n",
              "      <td>type 5</td>\n",
              "      <td>type 2</td>\n",
              "      <td>type 5</td>\n",
              "      <td>type 2</td>\n",
              "      <td>type 2</td>\n",
              "      <td>1</td>\n",
              "      <td>1</td>\n",
              "      <td>1</td>\n",
              "      <td>1</td>\n",
              "      <td>1</td>\n",
              "      <td>1</td>\n",
              "      <td>0</td>\n",
              "      <td>1</td>\n",
              "      <td>0</td>\n",
              "      <td>1</td>\n",
              "      <td>0</td>\n",
              "      <td>1</td>\n",
              "      <td>1</td>\n",
              "      <td>1</td>\n",
              "      <td>1</td>\n",
              "      <td>1</td>\n",
              "      <td>1</td>\n",
              "      <td>1</td>\n",
              "      <td>1</td>\n",
              "      <td>0</td>\n",
              "      <td>0</td>\n",
              "      <td>1</td>\n",
              "      <td>1</td>\n",
              "      <td>1</td>\n",
              "      <td>1</td>\n",
              "      <td>0</td>\n",
              "      <td>1</td>\n",
              "      <td>1</td>\n",
              "      <td>99</td>\n",
              "      <td>10</td>\n",
              "      <td>4</td>\n",
              "      <td>23</td>\n",
              "      <td>6</td>\n",
              "      <td>2</td>\n",
              "      <td>2022</td>\n",
              "      <td>10</td>\n",
              "      <td>2</td>\n",
              "      <td>32</td>\n",
              "      <td>8</td>\n",
              "      <td>3</td>\n",
              "      <td>2022</td>\n",
              "    </tr>\n",
              "    <tr>\n",
              "      <th>11</th>\n",
              "      <td>100003</td>\n",
              "      <td>1408475</td>\n",
              "      <td>4</td>\n",
              "      <td>143</td>\n",
              "      <td>1</td>\n",
              "      <td>type 2</td>\n",
              "      <td>33592</td>\n",
              "      <td>type 3</td>\n",
              "      <td>type 4</td>\n",
              "      <td>type 8</td>\n",
              "      <td>type 5</td>\n",
              "      <td>type 2</td>\n",
              "      <td>type 5</td>\n",
              "      <td>type 2</td>\n",
              "      <td>type 2</td>\n",
              "      <td>1</td>\n",
              "      <td>1</td>\n",
              "      <td>1</td>\n",
              "      <td>1</td>\n",
              "      <td>1</td>\n",
              "      <td>1</td>\n",
              "      <td>0</td>\n",
              "      <td>1</td>\n",
              "      <td>0</td>\n",
              "      <td>1</td>\n",
              "      <td>0</td>\n",
              "      <td>1</td>\n",
              "      <td>1</td>\n",
              "      <td>1</td>\n",
              "      <td>1</td>\n",
              "      <td>1</td>\n",
              "      <td>1</td>\n",
              "      <td>1</td>\n",
              "      <td>1</td>\n",
              "      <td>0</td>\n",
              "      <td>0</td>\n",
              "      <td>1</td>\n",
              "      <td>1</td>\n",
              "      <td>1</td>\n",
              "      <td>1</td>\n",
              "      <td>0</td>\n",
              "      <td>1</td>\n",
              "      <td>1</td>\n",
              "      <td>99</td>\n",
              "      <td>10</td>\n",
              "      <td>4</td>\n",
              "      <td>23</td>\n",
              "      <td>6</td>\n",
              "      <td>2</td>\n",
              "      <td>2022</td>\n",
              "      <td>2</td>\n",
              "      <td>3</td>\n",
              "      <td>9</td>\n",
              "      <td>3</td>\n",
              "      <td>1</td>\n",
              "      <td>2023</td>\n",
              "    </tr>\n",
              "    <tr>\n",
              "      <th>12</th>\n",
              "      <td>100003</td>\n",
              "      <td>1610829</td>\n",
              "      <td>2</td>\n",
              "      <td>1</td>\n",
              "      <td>1</td>\n",
              "      <td>type 2</td>\n",
              "      <td>33592</td>\n",
              "      <td>type 3</td>\n",
              "      <td>type 4</td>\n",
              "      <td>type 8</td>\n",
              "      <td>type 5</td>\n",
              "      <td>type 2</td>\n",
              "      <td>type 5</td>\n",
              "      <td>type 2</td>\n",
              "      <td>type 2</td>\n",
              "      <td>1</td>\n",
              "      <td>1</td>\n",
              "      <td>1</td>\n",
              "      <td>1</td>\n",
              "      <td>1</td>\n",
              "      <td>1</td>\n",
              "      <td>0</td>\n",
              "      <td>1</td>\n",
              "      <td>0</td>\n",
              "      <td>1</td>\n",
              "      <td>0</td>\n",
              "      <td>1</td>\n",
              "      <td>1</td>\n",
              "      <td>1</td>\n",
              "      <td>1</td>\n",
              "      <td>1</td>\n",
              "      <td>1</td>\n",
              "      <td>1</td>\n",
              "      <td>1</td>\n",
              "      <td>0</td>\n",
              "      <td>0</td>\n",
              "      <td>1</td>\n",
              "      <td>1</td>\n",
              "      <td>1</td>\n",
              "      <td>1</td>\n",
              "      <td>0</td>\n",
              "      <td>1</td>\n",
              "      <td>1</td>\n",
              "      <td>99</td>\n",
              "      <td>10</td>\n",
              "      <td>4</td>\n",
              "      <td>23</td>\n",
              "      <td>6</td>\n",
              "      <td>2</td>\n",
              "      <td>2022</td>\n",
              "      <td>13</td>\n",
              "      <td>1</td>\n",
              "      <td>37</td>\n",
              "      <td>9</td>\n",
              "      <td>3</td>\n",
              "      <td>2022</td>\n",
              "    </tr>\n",
              "    <tr>\n",
              "      <th>13</th>\n",
              "      <td>100003</td>\n",
              "      <td>1688731</td>\n",
              "      <td>4</td>\n",
              "      <td>297</td>\n",
              "      <td>1</td>\n",
              "      <td>type 2</td>\n",
              "      <td>33592</td>\n",
              "      <td>type 3</td>\n",
              "      <td>type 4</td>\n",
              "      <td>type 8</td>\n",
              "      <td>type 5</td>\n",
              "      <td>type 2</td>\n",
              "      <td>type 5</td>\n",
              "      <td>type 2</td>\n",
              "      <td>type 2</td>\n",
              "      <td>1</td>\n",
              "      <td>1</td>\n",
              "      <td>1</td>\n",
              "      <td>1</td>\n",
              "      <td>1</td>\n",
              "      <td>1</td>\n",
              "      <td>0</td>\n",
              "      <td>1</td>\n",
              "      <td>0</td>\n",
              "      <td>1</td>\n",
              "      <td>0</td>\n",
              "      <td>1</td>\n",
              "      <td>1</td>\n",
              "      <td>1</td>\n",
              "      <td>1</td>\n",
              "      <td>1</td>\n",
              "      <td>1</td>\n",
              "      <td>1</td>\n",
              "      <td>1</td>\n",
              "      <td>0</td>\n",
              "      <td>0</td>\n",
              "      <td>1</td>\n",
              "      <td>1</td>\n",
              "      <td>1</td>\n",
              "      <td>1</td>\n",
              "      <td>0</td>\n",
              "      <td>1</td>\n",
              "      <td>1</td>\n",
              "      <td>99</td>\n",
              "      <td>10</td>\n",
              "      <td>4</td>\n",
              "      <td>23</td>\n",
              "      <td>6</td>\n",
              "      <td>2</td>\n",
              "      <td>2022</td>\n",
              "      <td>10</td>\n",
              "      <td>4</td>\n",
              "      <td>6</td>\n",
              "      <td>2</td>\n",
              "      <td>1</td>\n",
              "      <td>2023</td>\n",
              "    </tr>\n",
              "    <tr>\n",
              "      <th>14</th>\n",
              "      <td>100003</td>\n",
              "      <td>1961720</td>\n",
              "      <td>4</td>\n",
              "      <td>269</td>\n",
              "      <td>1</td>\n",
              "      <td>type 2</td>\n",
              "      <td>33592</td>\n",
              "      <td>type 3</td>\n",
              "      <td>type 4</td>\n",
              "      <td>type 8</td>\n",
              "      <td>type 5</td>\n",
              "      <td>type 2</td>\n",
              "      <td>type 5</td>\n",
              "      <td>type 2</td>\n",
              "      <td>type 2</td>\n",
              "      <td>1</td>\n",
              "      <td>1</td>\n",
              "      <td>1</td>\n",
              "      <td>1</td>\n",
              "      <td>1</td>\n",
              "      <td>1</td>\n",
              "      <td>0</td>\n",
              "      <td>1</td>\n",
              "      <td>0</td>\n",
              "      <td>1</td>\n",
              "      <td>0</td>\n",
              "      <td>1</td>\n",
              "      <td>1</td>\n",
              "      <td>1</td>\n",
              "      <td>1</td>\n",
              "      <td>1</td>\n",
              "      <td>1</td>\n",
              "      <td>1</td>\n",
              "      <td>1</td>\n",
              "      <td>0</td>\n",
              "      <td>0</td>\n",
              "      <td>1</td>\n",
              "      <td>1</td>\n",
              "      <td>1</td>\n",
              "      <td>1</td>\n",
              "      <td>0</td>\n",
              "      <td>1</td>\n",
              "      <td>1</td>\n",
              "      <td>99</td>\n",
              "      <td>10</td>\n",
              "      <td>4</td>\n",
              "      <td>23</td>\n",
              "      <td>6</td>\n",
              "      <td>2</td>\n",
              "      <td>2022</td>\n",
              "      <td>28</td>\n",
              "      <td>2</td>\n",
              "      <td>26</td>\n",
              "      <td>6</td>\n",
              "      <td>2</td>\n",
              "      <td>2023</td>\n",
              "    </tr>\n",
              "  </tbody>\n",
              "</table>\n",
              "</div>"
            ],
            "text/plain": [
              "    people_id  activity_id  ...  trimestre_actividad  año_actividad\n",
              "0         100      1734928  ...                    3           2023\n",
              "1         100      2434093  ...                    3           2022\n",
              "2         100      3404049  ...                    3           2022\n",
              "3         100      3651215  ...                    3           2023\n",
              "4         100      4109017  ...                    3           2023\n",
              "5         100       898576  ...                    3           2023\n",
              "6      100002      1233489  ...                    4           2022\n",
              "7      100002      1623405  ...                    4           2022\n",
              "8      100003      1111598  ...                    1           2023\n",
              "9      100003      1177453  ...                    2           2023\n",
              "10     100003       133509  ...                    3           2022\n",
              "11     100003      1408475  ...                    1           2023\n",
              "12     100003      1610829  ...                    3           2022\n",
              "13     100003      1688731  ...                    1           2023\n",
              "14     100003      1961720  ...                    2           2023\n",
              "\n",
              "[15 rows x 56 columns]"
            ]
          },
          "metadata": {
            "tags": []
          },
          "execution_count": 38
        }
      ]
    },
    {
      "cell_type": "markdown",
      "metadata": {
        "id": "s1XPWwHuX9HU"
      },
      "source": [
        "Con la relativa pequeña cantidad de variables categoricas que manejamos vamos a proceder a realizar la conversión por One Hot Encoding"
      ]
    },
    {
      "cell_type": "code",
      "metadata": {
        "id": "saG7uQAlzG53",
        "outputId": "74bde80b-95c5-463c-fc19-998bd742bfa8",
        "colab": {
          "base_uri": "https://localhost:8080/",
          "height": 170
        }
      },
      "source": [
        "categoricas = types.index[types[0] == 'O'].values\n",
        "for line in categoricas:\n",
        " print(\"La variable \"+ line +\" contiene:\",str(len(consolidado[line].unique()))+\" distinct values\")"
      ],
      "execution_count": null,
      "outputs": [
        {
          "output_type": "stream",
          "text": [
            "La variable char_1 contiene: 2 distinct values\n",
            "La variable char_2 contiene: 3 distinct values\n",
            "La variable char_3 contiene: 43 distinct values\n",
            "La variable char_4 contiene: 25 distinct values\n",
            "La variable char_5 contiene: 9 distinct values\n",
            "La variable char_6 contiene: 7 distinct values\n",
            "La variable char_7 contiene: 25 distinct values\n",
            "La variable char_8 contiene: 8 distinct values\n",
            "La variable char_9 contiene: 9 distinct values\n"
          ],
          "name": "stdout"
        }
      ]
    },
    {
      "cell_type": "code",
      "metadata": {
        "id": "yM6_lZUoVqvJ",
        "outputId": "ce119057-bd66-4ba3-8502-d6ba7e36f9f4",
        "colab": {
          "base_uri": "https://localhost:8080/",
          "height": 187
        }
      },
      "source": [
        "from sklearn.preprocessing import LabelEncoder, OneHotEncoder\n",
        "\n",
        "columna='char_6'\n",
        "le = LabelEncoder()\n",
        "le_ajustado=le.fit_transform(consolidado[columna]).reshape(-1,1)\n",
        "le_ajustado[:10]"
      ],
      "execution_count": null,
      "outputs": [
        {
          "output_type": "execute_result",
          "data": {
            "text/plain": [
              "array([[2],\n",
              "       [2],\n",
              "       [2],\n",
              "       [2],\n",
              "       [2],\n",
              "       [2],\n",
              "       [2],\n",
              "       [2],\n",
              "       [1],\n",
              "       [1]])"
            ]
          },
          "metadata": {
            "tags": []
          },
          "execution_count": 68
        }
      ]
    },
    {
      "cell_type": "code",
      "metadata": {
        "id": "CswB4GtBjAVJ",
        "outputId": "aa30fd95-f393-4287-8547-cd4f21bed312",
        "colab": {
          "base_uri": "https://localhost:8080/",
          "height": 34
        }
      },
      "source": [
        "aea = set([int(x) for x in le_ajustado])\n",
        "aea"
      ],
      "execution_count": null,
      "outputs": [
        {
          "output_type": "execute_result",
          "data": {
            "text/plain": [
              "{-1, 0, 1, 2, 3, 4, 5, 6}"
            ]
          },
          "metadata": {
            "tags": []
          },
          "execution_count": 64
        }
      ]
    },
    {
      "cell_type": "code",
      "metadata": {
        "id": "x-D8fQlCXoXe",
        "outputId": "527dcd64-ad6b-4dc3-cc3e-99506bddcdcb",
        "colab": {
          "base_uri": "https://localhost:8080/",
          "height": 136
        }
      },
      "source": [
        "encoder = OneHotEncoder(sparse=False)\n",
        "column = [columna+ \"_\"+ str(i) for i in le.classes_]\n",
        "column"
      ],
      "execution_count": null,
      "outputs": [
        {
          "output_type": "execute_result",
          "data": {
            "text/plain": [
              "['char_6_type 1',\n",
              " 'char_6_type 2',\n",
              " 'char_6_type 3',\n",
              " 'char_6_type 4',\n",
              " 'char_6_type 5',\n",
              " 'char_6_type 6',\n",
              " 'char_6_type 7']"
            ]
          },
          "metadata": {
            "tags": []
          },
          "execution_count": 69
        }
      ]
    },
    {
      "cell_type": "code",
      "metadata": {
        "id": "_EvY0edbW1ER",
        "outputId": "04f43ac5-a3f8-46b0-ae39-327508157cde",
        "colab": {
          "base_uri": "https://localhost:8080/",
          "height": 359
        }
      },
      "source": [
        "pd.DataFrame(encoder.fit_transform(le_ajustado),columns =column).head(10)"
      ],
      "execution_count": null,
      "outputs": [
        {
          "output_type": "execute_result",
          "data": {
            "text/html": [
              "<div>\n",
              "<style scoped>\n",
              "    .dataframe tbody tr th:only-of-type {\n",
              "        vertical-align: middle;\n",
              "    }\n",
              "\n",
              "    .dataframe tbody tr th {\n",
              "        vertical-align: top;\n",
              "    }\n",
              "\n",
              "    .dataframe thead th {\n",
              "        text-align: right;\n",
              "    }\n",
              "</style>\n",
              "<table border=\"1\" class=\"dataframe\">\n",
              "  <thead>\n",
              "    <tr style=\"text-align: right;\">\n",
              "      <th></th>\n",
              "      <th>char_6_type 1</th>\n",
              "      <th>char_6_type 2</th>\n",
              "      <th>char_6_type 3</th>\n",
              "      <th>char_6_type 4</th>\n",
              "      <th>char_6_type 5</th>\n",
              "      <th>char_6_type 6</th>\n",
              "      <th>char_6_type 7</th>\n",
              "    </tr>\n",
              "  </thead>\n",
              "  <tbody>\n",
              "    <tr>\n",
              "      <th>0</th>\n",
              "      <td>0.0</td>\n",
              "      <td>0.0</td>\n",
              "      <td>1.0</td>\n",
              "      <td>0.0</td>\n",
              "      <td>0.0</td>\n",
              "      <td>0.0</td>\n",
              "      <td>0.0</td>\n",
              "    </tr>\n",
              "    <tr>\n",
              "      <th>1</th>\n",
              "      <td>0.0</td>\n",
              "      <td>0.0</td>\n",
              "      <td>1.0</td>\n",
              "      <td>0.0</td>\n",
              "      <td>0.0</td>\n",
              "      <td>0.0</td>\n",
              "      <td>0.0</td>\n",
              "    </tr>\n",
              "    <tr>\n",
              "      <th>2</th>\n",
              "      <td>0.0</td>\n",
              "      <td>0.0</td>\n",
              "      <td>1.0</td>\n",
              "      <td>0.0</td>\n",
              "      <td>0.0</td>\n",
              "      <td>0.0</td>\n",
              "      <td>0.0</td>\n",
              "    </tr>\n",
              "    <tr>\n",
              "      <th>3</th>\n",
              "      <td>0.0</td>\n",
              "      <td>0.0</td>\n",
              "      <td>1.0</td>\n",
              "      <td>0.0</td>\n",
              "      <td>0.0</td>\n",
              "      <td>0.0</td>\n",
              "      <td>0.0</td>\n",
              "    </tr>\n",
              "    <tr>\n",
              "      <th>4</th>\n",
              "      <td>0.0</td>\n",
              "      <td>0.0</td>\n",
              "      <td>1.0</td>\n",
              "      <td>0.0</td>\n",
              "      <td>0.0</td>\n",
              "      <td>0.0</td>\n",
              "      <td>0.0</td>\n",
              "    </tr>\n",
              "    <tr>\n",
              "      <th>5</th>\n",
              "      <td>0.0</td>\n",
              "      <td>0.0</td>\n",
              "      <td>1.0</td>\n",
              "      <td>0.0</td>\n",
              "      <td>0.0</td>\n",
              "      <td>0.0</td>\n",
              "      <td>0.0</td>\n",
              "    </tr>\n",
              "    <tr>\n",
              "      <th>6</th>\n",
              "      <td>0.0</td>\n",
              "      <td>0.0</td>\n",
              "      <td>1.0</td>\n",
              "      <td>0.0</td>\n",
              "      <td>0.0</td>\n",
              "      <td>0.0</td>\n",
              "      <td>0.0</td>\n",
              "    </tr>\n",
              "    <tr>\n",
              "      <th>7</th>\n",
              "      <td>0.0</td>\n",
              "      <td>0.0</td>\n",
              "      <td>1.0</td>\n",
              "      <td>0.0</td>\n",
              "      <td>0.0</td>\n",
              "      <td>0.0</td>\n",
              "      <td>0.0</td>\n",
              "    </tr>\n",
              "    <tr>\n",
              "      <th>8</th>\n",
              "      <td>0.0</td>\n",
              "      <td>1.0</td>\n",
              "      <td>0.0</td>\n",
              "      <td>0.0</td>\n",
              "      <td>0.0</td>\n",
              "      <td>0.0</td>\n",
              "      <td>0.0</td>\n",
              "    </tr>\n",
              "    <tr>\n",
              "      <th>9</th>\n",
              "      <td>0.0</td>\n",
              "      <td>1.0</td>\n",
              "      <td>0.0</td>\n",
              "      <td>0.0</td>\n",
              "      <td>0.0</td>\n",
              "      <td>0.0</td>\n",
              "      <td>0.0</td>\n",
              "    </tr>\n",
              "  </tbody>\n",
              "</table>\n",
              "</div>"
            ],
            "text/plain": [
              "   char_6_type 1  char_6_type 2  ...  char_6_type 6  char_6_type 7\n",
              "0            0.0            0.0  ...            0.0            0.0\n",
              "1            0.0            0.0  ...            0.0            0.0\n",
              "2            0.0            0.0  ...            0.0            0.0\n",
              "3            0.0            0.0  ...            0.0            0.0\n",
              "4            0.0            0.0  ...            0.0            0.0\n",
              "5            0.0            0.0  ...            0.0            0.0\n",
              "6            0.0            0.0  ...            0.0            0.0\n",
              "7            0.0            0.0  ...            0.0            0.0\n",
              "8            0.0            1.0  ...            0.0            0.0\n",
              "9            0.0            1.0  ...            0.0            0.0\n",
              "\n",
              "[10 rows x 7 columns]"
            ]
          },
          "metadata": {
            "tags": []
          },
          "execution_count": 70
        }
      ]
    },
    {
      "cell_type": "code",
      "metadata": {
        "id": "tkHN8cnOQQwP"
      },
      "source": [
        "#Se define función que captura el dataframe y la columna para retornar un dataframe luego de OHE\n",
        "def crea_OneHotEncoding(df, columna):\n",
        "  le = LabelEncoder()\n",
        "  le_ajustado=le.fit_transform(df[columna]).reshape(-1,1)\n",
        "  encoder = OneHotEncoder(sparse=False)\n",
        "  column = [columna+ \"_\"+ str(i) for i in le.classes_]\n",
        "  data = encoder.fit_transform(le_ajustado)\n",
        "  return(pd.DataFrame(data,columns =column))"
      ],
      "execution_count": null,
      "outputs": []
    },
    {
      "cell_type": "code",
      "metadata": {
        "id": "KeONNDhnMYz4",
        "outputId": "b3080bb1-725b-4886-e8b0-a5a0e866b8b1",
        "colab": {
          "base_uri": "https://localhost:8080/",
          "height": 187
        }
      },
      "source": [
        "numeric_columns = list(set(types.index[types[0] ==\"int64\"].values) - set([\"outcome\"]))\n",
        "variables_consolidadas = consolidado[numeric_columns]\n",
        "objetivo = consolidado[\"outcome\"]\n",
        "\n",
        "categoricas = types.index[types[0] == 'O'].values\n",
        "for column in categoricas:\n",
        "  df = crea_OneHotEncoding(consolidado,column)\n",
        "  variables_consolidadas = pd.concat([variables_consolidadas,df],axis=1)\n",
        "  print(\"Columna \",column, \" transformada!\")\n",
        "\n",
        "print(\"Tamaño final del dataset transformado:\",variables_consolidadas.shape)"
      ],
      "execution_count": null,
      "outputs": [
        {
          "output_type": "stream",
          "text": [
            "Columna  char_1  transformada!\n",
            "Columna  char_2  transformada!\n",
            "Columna  char_3  transformada!\n",
            "Columna  char_4  transformada!\n",
            "Columna  char_5  transformada!\n",
            "Columna  char_6  transformada!\n",
            "Columna  char_7  transformada!\n",
            "Columna  char_8  transformada!\n",
            "Columna  char_9  transformada!\n",
            "Tamaño final del dataset transformado: (2197291, 177)\n"
          ],
          "name": "stdout"
        }
      ]
    },
    {
      "cell_type": "code",
      "metadata": {
        "id": "d-Isxxj2wzPX",
        "outputId": "92530786-a1ea-43aa-f57b-c897beac509c",
        "colab": {
          "base_uri": "https://localhost:8080/",
          "height": 208
        }
      },
      "source": [
        "variables_consolidadas.head(3)"
      ],
      "execution_count": null,
      "outputs": [
        {
          "output_type": "execute_result",
          "data": {
            "text/html": [
              "<div>\n",
              "<style scoped>\n",
              "    .dataframe tbody tr th:only-of-type {\n",
              "        vertical-align: middle;\n",
              "    }\n",
              "\n",
              "    .dataframe tbody tr th {\n",
              "        vertical-align: top;\n",
              "    }\n",
              "\n",
              "    .dataframe thead th {\n",
              "        text-align: right;\n",
              "    }\n",
              "</style>\n",
              "<table border=\"1\" class=\"dataframe\">\n",
              "  <thead>\n",
              "    <tr style=\"text-align: right;\">\n",
              "      <th></th>\n",
              "      <th>char_19</th>\n",
              "      <th>char_30</th>\n",
              "      <th>mes</th>\n",
              "      <th>char_34</th>\n",
              "      <th>char_14</th>\n",
              "      <th>char_13</th>\n",
              "      <th>char_27</th>\n",
              "      <th>año</th>\n",
              "      <th>trimestre</th>\n",
              "      <th>char_24</th>\n",
              "      <th>dia</th>\n",
              "      <th>char_29</th>\n",
              "      <th>char_37</th>\n",
              "      <th>char_15</th>\n",
              "      <th>char_20</th>\n",
              "      <th>group_1</th>\n",
              "      <th>char_26</th>\n",
              "      <th>tipo_actividad</th>\n",
              "      <th>char_36</th>\n",
              "      <th>char_11</th>\n",
              "      <th>char_33</th>\n",
              "      <th>char_12</th>\n",
              "      <th>char_32</th>\n",
              "      <th>semana_actividad</th>\n",
              "      <th>char_31</th>\n",
              "      <th>char_16</th>\n",
              "      <th>char_25</th>\n",
              "      <th>dia_actividad</th>\n",
              "      <th>año_actividad</th>\n",
              "      <th>trimestre_actividad</th>\n",
              "      <th>char_38</th>\n",
              "      <th>char_22</th>\n",
              "      <th>char_21</th>\n",
              "      <th>char_17</th>\n",
              "      <th>activity_id</th>\n",
              "      <th>mes_actividad</th>\n",
              "      <th>char_28</th>\n",
              "      <th>char_35</th>\n",
              "      <th>char_10</th>\n",
              "      <th>dia_semana_actividad</th>\n",
              "      <th>...</th>\n",
              "      <th>char_7_type 11</th>\n",
              "      <th>char_7_type 12</th>\n",
              "      <th>char_7_type 13</th>\n",
              "      <th>char_7_type 14</th>\n",
              "      <th>char_7_type 15</th>\n",
              "      <th>char_7_type 16</th>\n",
              "      <th>char_7_type 17</th>\n",
              "      <th>char_7_type 18</th>\n",
              "      <th>char_7_type 19</th>\n",
              "      <th>char_7_type 2</th>\n",
              "      <th>char_7_type 20</th>\n",
              "      <th>char_7_type 21</th>\n",
              "      <th>char_7_type 22</th>\n",
              "      <th>char_7_type 23</th>\n",
              "      <th>char_7_type 24</th>\n",
              "      <th>char_7_type 25</th>\n",
              "      <th>char_7_type 3</th>\n",
              "      <th>char_7_type 4</th>\n",
              "      <th>char_7_type 5</th>\n",
              "      <th>char_7_type 6</th>\n",
              "      <th>char_7_type 7</th>\n",
              "      <th>char_7_type 8</th>\n",
              "      <th>char_7_type 9</th>\n",
              "      <th>char_8_type 1</th>\n",
              "      <th>char_8_type 2</th>\n",
              "      <th>char_8_type 3</th>\n",
              "      <th>char_8_type 4</th>\n",
              "      <th>char_8_type 5</th>\n",
              "      <th>char_8_type 6</th>\n",
              "      <th>char_8_type 7</th>\n",
              "      <th>char_8_type 8</th>\n",
              "      <th>char_9_type 1</th>\n",
              "      <th>char_9_type 2</th>\n",
              "      <th>char_9_type 3</th>\n",
              "      <th>char_9_type 4</th>\n",
              "      <th>char_9_type 5</th>\n",
              "      <th>char_9_type 6</th>\n",
              "      <th>char_9_type 7</th>\n",
              "      <th>char_9_type 8</th>\n",
              "      <th>char_9_type 9</th>\n",
              "    </tr>\n",
              "  </thead>\n",
              "  <tbody>\n",
              "    <tr>\n",
              "      <th>0</th>\n",
              "      <td>0</td>\n",
              "      <td>1</td>\n",
              "      <td>6</td>\n",
              "      <td>1</td>\n",
              "      <td>1</td>\n",
              "      <td>1</td>\n",
              "      <td>1</td>\n",
              "      <td>2021</td>\n",
              "      <td>2</td>\n",
              "      <td>0</td>\n",
              "      <td>29</td>\n",
              "      <td>0</td>\n",
              "      <td>0</td>\n",
              "      <td>0</td>\n",
              "      <td>0</td>\n",
              "      <td>17304</td>\n",
              "      <td>0</td>\n",
              "      <td>76</td>\n",
              "      <td>1</td>\n",
              "      <td>0</td>\n",
              "      <td>0</td>\n",
              "      <td>0</td>\n",
              "      <td>0</td>\n",
              "      <td>34</td>\n",
              "      <td>1</td>\n",
              "      <td>1</td>\n",
              "      <td>0</td>\n",
              "      <td>26</td>\n",
              "      <td>2023</td>\n",
              "      <td>3</td>\n",
              "      <td>36</td>\n",
              "      <td>0</td>\n",
              "      <td>1</td>\n",
              "      <td>0</td>\n",
              "      <td>1734928</td>\n",
              "      <td>8</td>\n",
              "      <td>1</td>\n",
              "      <td>1</td>\n",
              "      <td>1</td>\n",
              "      <td>5</td>\n",
              "      <td>...</td>\n",
              "      <td>1.0</td>\n",
              "      <td>0.0</td>\n",
              "      <td>0.0</td>\n",
              "      <td>0.0</td>\n",
              "      <td>0.0</td>\n",
              "      <td>0.0</td>\n",
              "      <td>0.0</td>\n",
              "      <td>0.0</td>\n",
              "      <td>0.0</td>\n",
              "      <td>0.0</td>\n",
              "      <td>0.0</td>\n",
              "      <td>0.0</td>\n",
              "      <td>0.0</td>\n",
              "      <td>0.0</td>\n",
              "      <td>0.0</td>\n",
              "      <td>0.0</td>\n",
              "      <td>0.0</td>\n",
              "      <td>0.0</td>\n",
              "      <td>0.0</td>\n",
              "      <td>0.0</td>\n",
              "      <td>0.0</td>\n",
              "      <td>0.0</td>\n",
              "      <td>0.0</td>\n",
              "      <td>0.0</td>\n",
              "      <td>1.0</td>\n",
              "      <td>0.0</td>\n",
              "      <td>0.0</td>\n",
              "      <td>0.0</td>\n",
              "      <td>0.0</td>\n",
              "      <td>0.0</td>\n",
              "      <td>0.0</td>\n",
              "      <td>0.0</td>\n",
              "      <td>1.0</td>\n",
              "      <td>0.0</td>\n",
              "      <td>0.0</td>\n",
              "      <td>0.0</td>\n",
              "      <td>0.0</td>\n",
              "      <td>0.0</td>\n",
              "      <td>0.0</td>\n",
              "      <td>0.0</td>\n",
              "    </tr>\n",
              "    <tr>\n",
              "      <th>1</th>\n",
              "      <td>0</td>\n",
              "      <td>1</td>\n",
              "      <td>6</td>\n",
              "      <td>1</td>\n",
              "      <td>1</td>\n",
              "      <td>1</td>\n",
              "      <td>1</td>\n",
              "      <td>2021</td>\n",
              "      <td>2</td>\n",
              "      <td>0</td>\n",
              "      <td>29</td>\n",
              "      <td>0</td>\n",
              "      <td>0</td>\n",
              "      <td>0</td>\n",
              "      <td>0</td>\n",
              "      <td>17304</td>\n",
              "      <td>0</td>\n",
              "      <td>1</td>\n",
              "      <td>1</td>\n",
              "      <td>0</td>\n",
              "      <td>0</td>\n",
              "      <td>0</td>\n",
              "      <td>0</td>\n",
              "      <td>39</td>\n",
              "      <td>1</td>\n",
              "      <td>1</td>\n",
              "      <td>0</td>\n",
              "      <td>27</td>\n",
              "      <td>2022</td>\n",
              "      <td>3</td>\n",
              "      <td>36</td>\n",
              "      <td>0</td>\n",
              "      <td>1</td>\n",
              "      <td>0</td>\n",
              "      <td>2434093</td>\n",
              "      <td>9</td>\n",
              "      <td>1</td>\n",
              "      <td>1</td>\n",
              "      <td>1</td>\n",
              "      <td>1</td>\n",
              "      <td>...</td>\n",
              "      <td>1.0</td>\n",
              "      <td>0.0</td>\n",
              "      <td>0.0</td>\n",
              "      <td>0.0</td>\n",
              "      <td>0.0</td>\n",
              "      <td>0.0</td>\n",
              "      <td>0.0</td>\n",
              "      <td>0.0</td>\n",
              "      <td>0.0</td>\n",
              "      <td>0.0</td>\n",
              "      <td>0.0</td>\n",
              "      <td>0.0</td>\n",
              "      <td>0.0</td>\n",
              "      <td>0.0</td>\n",
              "      <td>0.0</td>\n",
              "      <td>0.0</td>\n",
              "      <td>0.0</td>\n",
              "      <td>0.0</td>\n",
              "      <td>0.0</td>\n",
              "      <td>0.0</td>\n",
              "      <td>0.0</td>\n",
              "      <td>0.0</td>\n",
              "      <td>0.0</td>\n",
              "      <td>0.0</td>\n",
              "      <td>1.0</td>\n",
              "      <td>0.0</td>\n",
              "      <td>0.0</td>\n",
              "      <td>0.0</td>\n",
              "      <td>0.0</td>\n",
              "      <td>0.0</td>\n",
              "      <td>0.0</td>\n",
              "      <td>0.0</td>\n",
              "      <td>1.0</td>\n",
              "      <td>0.0</td>\n",
              "      <td>0.0</td>\n",
              "      <td>0.0</td>\n",
              "      <td>0.0</td>\n",
              "      <td>0.0</td>\n",
              "      <td>0.0</td>\n",
              "      <td>0.0</td>\n",
              "    </tr>\n",
              "    <tr>\n",
              "      <th>2</th>\n",
              "      <td>0</td>\n",
              "      <td>1</td>\n",
              "      <td>6</td>\n",
              "      <td>1</td>\n",
              "      <td>1</td>\n",
              "      <td>1</td>\n",
              "      <td>1</td>\n",
              "      <td>2021</td>\n",
              "      <td>2</td>\n",
              "      <td>0</td>\n",
              "      <td>29</td>\n",
              "      <td>0</td>\n",
              "      <td>0</td>\n",
              "      <td>0</td>\n",
              "      <td>0</td>\n",
              "      <td>17304</td>\n",
              "      <td>0</td>\n",
              "      <td>1</td>\n",
              "      <td>1</td>\n",
              "      <td>0</td>\n",
              "      <td>0</td>\n",
              "      <td>0</td>\n",
              "      <td>0</td>\n",
              "      <td>39</td>\n",
              "      <td>1</td>\n",
              "      <td>1</td>\n",
              "      <td>0</td>\n",
              "      <td>27</td>\n",
              "      <td>2022</td>\n",
              "      <td>3</td>\n",
              "      <td>36</td>\n",
              "      <td>0</td>\n",
              "      <td>1</td>\n",
              "      <td>0</td>\n",
              "      <td>3404049</td>\n",
              "      <td>9</td>\n",
              "      <td>1</td>\n",
              "      <td>1</td>\n",
              "      <td>1</td>\n",
              "      <td>1</td>\n",
              "      <td>...</td>\n",
              "      <td>1.0</td>\n",
              "      <td>0.0</td>\n",
              "      <td>0.0</td>\n",
              "      <td>0.0</td>\n",
              "      <td>0.0</td>\n",
              "      <td>0.0</td>\n",
              "      <td>0.0</td>\n",
              "      <td>0.0</td>\n",
              "      <td>0.0</td>\n",
              "      <td>0.0</td>\n",
              "      <td>0.0</td>\n",
              "      <td>0.0</td>\n",
              "      <td>0.0</td>\n",
              "      <td>0.0</td>\n",
              "      <td>0.0</td>\n",
              "      <td>0.0</td>\n",
              "      <td>0.0</td>\n",
              "      <td>0.0</td>\n",
              "      <td>0.0</td>\n",
              "      <td>0.0</td>\n",
              "      <td>0.0</td>\n",
              "      <td>0.0</td>\n",
              "      <td>0.0</td>\n",
              "      <td>0.0</td>\n",
              "      <td>1.0</td>\n",
              "      <td>0.0</td>\n",
              "      <td>0.0</td>\n",
              "      <td>0.0</td>\n",
              "      <td>0.0</td>\n",
              "      <td>0.0</td>\n",
              "      <td>0.0</td>\n",
              "      <td>0.0</td>\n",
              "      <td>1.0</td>\n",
              "      <td>0.0</td>\n",
              "      <td>0.0</td>\n",
              "      <td>0.0</td>\n",
              "      <td>0.0</td>\n",
              "      <td>0.0</td>\n",
              "      <td>0.0</td>\n",
              "      <td>0.0</td>\n",
              "    </tr>\n",
              "  </tbody>\n",
              "</table>\n",
              "<p>3 rows × 177 columns</p>\n",
              "</div>"
            ],
            "text/plain": [
              "   char_19  char_30  mes  ...  char_9_type 7  char_9_type 8  char_9_type 9\n",
              "0        0        1    6  ...            0.0            0.0            0.0\n",
              "1        0        1    6  ...            0.0            0.0            0.0\n",
              "2        0        1    6  ...            0.0            0.0            0.0\n",
              "\n",
              "[3 rows x 177 columns]"
            ]
          },
          "metadata": {
            "tags": []
          },
          "execution_count": 74
        }
      ]
    },
    {
      "cell_type": "markdown",
      "metadata": {
        "id": "mOP0z86EKrly"
      },
      "source": [
        "Con el dataset ya consolidado procedemos a seleccionar las muestras de entrenamiento, validación y prueba"
      ]
    },
    {
      "cell_type": "code",
      "metadata": {
        "id": "Jug8ZISZQQ0X",
        "outputId": "9272a6a9-6e7b-421d-9548-a608a06e95da",
        "colab": {
          "base_uri": "https://localhost:8080/",
          "height": 119
        }
      },
      "source": [
        "from sklearn.model_selection import train_test_split\n",
        "#Entrenamiento y prueba con relación 80:20\n",
        "x_train, x_test, y_train, y_test = train_test_split(variables_consolidadas,objetivo, test_size=0.2,random_state=2020)\n",
        "#Entrenamiento y validación con relación 90:10\n",
        "x_train, x_val, y_train, y_val = train_test_split(x_train,y_train, test_size=0.1, random_state=2020)\n",
        "\n",
        "print(\"Shape of x_train:\",x_train.shape)\n",
        "print(\"Shape of x_test:\",x_test.shape)\n",
        "print(\"Shape of x_val:\",x_val.shape)\n",
        "print(\"Shape of y_train:\",y_train.shape)\n",
        "print(\"Shape of y_test:\",y_test.shape)\n",
        "print(\"Shape of y_val:\",y_val.shape)"
      ],
      "execution_count": null,
      "outputs": [
        {
          "output_type": "stream",
          "text": [
            "Shape of x_train: (1582048, 177)\n",
            "Shape of x_test: (439459, 177)\n",
            "Shape of x_val: (175784, 177)\n",
            "Shape of y_train: (1582048,)\n",
            "Shape of y_test: (439459,)\n",
            "Shape of y_val: (175784,)\n"
          ],
          "name": "stdout"
        }
      ]
    },
    {
      "cell_type": "markdown",
      "metadata": {
        "id": "3pYJQ7EJ35vl"
      },
      "source": [
        "## Métricas de desempeño: regresión y clasificación"
      ]
    },
    {
      "cell_type": "markdown",
      "metadata": {
        "id": "mMiiq8gt0bhc"
      },
      "source": [
        "![](https://i.pinimg.com/originals/1a/cb/1d/1acb1df700729f70a15a6ed198451645.jpg)"
      ]
    },
    {
      "cell_type": "markdown",
      "metadata": {
        "id": "rTaqogZ21d7Z"
      },
      "source": [
        "\n",
        "**METRICAS DE DESEMPEÑO:**\n",
        "```\n",
        "Accuracy = VP + VN / (VP + VN +FN + FP)\n",
        "\n",
        "precision = VP / (VP + FP )\n",
        "\n",
        "Recall = VP / (VP + FN)\n",
        "```\n",
        "\n",
        "En cosine proximity muchos se preguntaran porque coseno y no seno a pesar de que ambos van de -1 a 1( -1<=cos(x)<=1,-1<=sen(x)<=1), esto seria mucho mejor verlo en la grafica de la funcion coseno.Se podran fijar que de 0° a 180°(pi) mientras el angulo disminuye el coseno aumenta, es decir, mientras mas cercanos o mas parecidos sean los vectores mayor sera el coseno y mayor sera tu accuracy.Esto hace del CP una buena metrica de desempeño.\n",
        "Por cierto la formula sale de esto:\n",
        "A.B = cos(x)|A||B|, es del producto punto de dos vectores.\n",
        "\n",
        "![](https://github.com/rb-one/Curso_RedesNeuronales_ScikitLearn/raw/master/Notes/src/proximidad_coseno.png)"
      ]
    },
    {
      "cell_type": "markdown",
      "metadata": {
        "id": "APBt-AAfNBQj"
      },
      "source": [
        "## <h1 id=\"arquitectura\">Arquitectura Propuesta</h1>\n",
        "\n",
        "Una vez consolidado los sets de información de entrenamiento, validacion y pruebas ya podemos iniciar a modelar nuestra red neuronal con las siguientes consideraciones:\n",
        "* Debido a que el problema consiste en un clasificador binario la función de perdidas más recomendada es \"binary_crossentropy\".\n",
        "* De manera similar una función de activación que se adecua al tipo de problema es la \"sigmoid\".\n",
        "* La metrica para evaluación sera la precisión \"accuracy\"\n",
        "* Debido a la gran cantidad de información el entrenamiento tomara más tiempo, en este escenario se implementaran arquitecturas más pequeñas con pocas epocas de entrenamiento y se escalará el modelo a medida los resultados del accuracy mejoren."
      ]
    },
    {
      "cell_type": "markdown",
      "metadata": {
        "id": "ky4wmChY9EhX"
      },
      "source": [
        "Es porque en la capa de entrada, se ajustan las neuronas a la potencia de dos mas cercana.\n",
        "\n",
        "Por ejemplo:\n",
        "\n",
        "2^7 = 128 (queda por debajo de 177)\n",
        "\n",
        "2^8 = 256 (queda por arriba de 177 por lo que es perfecto)"
      ]
    },
    {
      "cell_type": "code",
      "metadata": {
        "id": "5WORHuhPQmKX",
        "outputId": "f78cb60a-c8f6-4263-b117-fc75e418904e",
        "colab": {
          "base_uri": "https://localhost:8080/",
          "height": 231
        }
      },
      "source": [
        "from keras.models import Sequential\n",
        "from keras.layers import Dense\n",
        "from keras.utils import plot_model\n",
        "\n",
        "#Red neuronal pequeña\n",
        "model = Sequential()\n",
        "model.add(Dense(256,input_dim = x_train.shape[1],activation=\"relu\"))\n",
        "model.add(Dense(256,activation=\"relu\"))\n",
        "model.add(Dense(1,activation = \"sigmoid\")) \n",
        "model.compile(optimizer = \"Adam\",loss=\"binary_crossentropy\",metrics=[\"accuracy\"])\n",
        "\n",
        "print(model.summary())"
      ],
      "execution_count": null,
      "outputs": [
        {
          "output_type": "error",
          "ename": "NameError",
          "evalue": "ignored",
          "traceback": [
            "\u001b[0;31m---------------------------------------------------------------------------\u001b[0m",
            "\u001b[0;31mNameError\u001b[0m                                 Traceback (most recent call last)",
            "\u001b[0;32m<ipython-input-3-72cb52bc5ef6>\u001b[0m in \u001b[0;36m<module>\u001b[0;34m()\u001b[0m\n\u001b[1;32m      5\u001b[0m \u001b[0;31m#Red neuronal pequeña\u001b[0m\u001b[0;34m\u001b[0m\u001b[0;34m\u001b[0m\u001b[0;34m\u001b[0m\u001b[0m\n\u001b[1;32m      6\u001b[0m \u001b[0mmodel\u001b[0m \u001b[0;34m=\u001b[0m \u001b[0mSequential\u001b[0m\u001b[0;34m(\u001b[0m\u001b[0;34m)\u001b[0m\u001b[0;34m\u001b[0m\u001b[0;34m\u001b[0m\u001b[0m\n\u001b[0;32m----> 7\u001b[0;31m \u001b[0mmodel\u001b[0m\u001b[0;34m.\u001b[0m\u001b[0madd\u001b[0m\u001b[0;34m(\u001b[0m\u001b[0mDense\u001b[0m\u001b[0;34m(\u001b[0m\u001b[0;36m256\u001b[0m\u001b[0;34m,\u001b[0m\u001b[0minput_dim\u001b[0m \u001b[0;34m=\u001b[0m \u001b[0mx_train\u001b[0m\u001b[0;34m.\u001b[0m\u001b[0mshape\u001b[0m\u001b[0;34m[\u001b[0m\u001b[0;36m1\u001b[0m\u001b[0;34m]\u001b[0m\u001b[0;34m,\u001b[0m\u001b[0mactivation\u001b[0m\u001b[0;34m=\u001b[0m\u001b[0;34m\"relu\"\u001b[0m\u001b[0;34m)\u001b[0m\u001b[0;34m)\u001b[0m\u001b[0;34m\u001b[0m\u001b[0;34m\u001b[0m\u001b[0m\n\u001b[0m\u001b[1;32m      8\u001b[0m \u001b[0mmodel\u001b[0m\u001b[0;34m.\u001b[0m\u001b[0madd\u001b[0m\u001b[0;34m(\u001b[0m\u001b[0mDense\u001b[0m\u001b[0;34m(\u001b[0m\u001b[0;36m256\u001b[0m\u001b[0;34m,\u001b[0m\u001b[0mactivation\u001b[0m\u001b[0;34m=\u001b[0m\u001b[0;34m\"relu\"\u001b[0m\u001b[0;34m)\u001b[0m\u001b[0;34m)\u001b[0m\u001b[0;34m\u001b[0m\u001b[0;34m\u001b[0m\u001b[0m\n\u001b[1;32m      9\u001b[0m \u001b[0mmodel\u001b[0m\u001b[0;34m.\u001b[0m\u001b[0madd\u001b[0m\u001b[0;34m(\u001b[0m\u001b[0mDense\u001b[0m\u001b[0;34m(\u001b[0m\u001b[0;36m1\u001b[0m\u001b[0;34m,\u001b[0m\u001b[0mactivation\u001b[0m \u001b[0;34m=\u001b[0m \u001b[0;34m\"sigmoid\"\u001b[0m\u001b[0;34m)\u001b[0m\u001b[0;34m)\u001b[0m\u001b[0;34m\u001b[0m\u001b[0;34m\u001b[0m\u001b[0m\n",
            "\u001b[0;31mNameError\u001b[0m: name 'x_train' is not defined"
          ]
        }
      ]
    },
    {
      "cell_type": "code",
      "metadata": {
        "id": "6aDTIdkX3lq6",
        "outputId": "879d69da-e055-473c-f133-e0097ee24c47",
        "colab": {
          "base_uri": "https://localhost:8080/",
          "height": 163
        }
      },
      "source": [
        "plot_model(model, to_file='model.png',show_shapes=True)"
      ],
      "execution_count": null,
      "outputs": [
        {
          "output_type": "error",
          "ename": "NameError",
          "evalue": "ignored",
          "traceback": [
            "\u001b[0;31m---------------------------------------------------------------------------\u001b[0m",
            "\u001b[0;31mNameError\u001b[0m                                 Traceback (most recent call last)",
            "\u001b[0;32m<ipython-input-2-db5e70ba44c0>\u001b[0m in \u001b[0;36m<module>\u001b[0;34m()\u001b[0m\n\u001b[0;32m----> 1\u001b[0;31m \u001b[0mplot_model\u001b[0m\u001b[0;34m(\u001b[0m\u001b[0mmodel\u001b[0m\u001b[0;34m,\u001b[0m \u001b[0mto_file\u001b[0m\u001b[0;34m=\u001b[0m\u001b[0;34m'model.png'\u001b[0m\u001b[0;34m,\u001b[0m\u001b[0mshow_shapes\u001b[0m\u001b[0;34m=\u001b[0m\u001b[0;32mTrue\u001b[0m\u001b[0;34m)\u001b[0m\u001b[0;34m\u001b[0m\u001b[0;34m\u001b[0m\u001b[0m\n\u001b[0m",
            "\u001b[0;31mNameError\u001b[0m: name 'plot_model' is not defined"
          ]
        }
      ]
    },
    {
      "cell_type": "code",
      "metadata": {
        "id": "tOHDiEkZ3mrD",
        "outputId": "0ee9b98d-6fad-4ec1-dfd5-5ae25eef3845",
        "colab": {
          "base_uri": "https://localhost:8080/",
          "height": 163
        }
      },
      "source": [
        "model.fit(x_train,y_train, validation_data = (x_val,y_val),epochs=3, batch_size=64)"
      ],
      "execution_count": null,
      "outputs": [
        {
          "output_type": "error",
          "ename": "NameError",
          "evalue": "ignored",
          "traceback": [
            "\u001b[0;31m---------------------------------------------------------------------------\u001b[0m",
            "\u001b[0;31mNameError\u001b[0m                                 Traceback (most recent call last)",
            "\u001b[0;32m<ipython-input-1-31ea7ab6f7e1>\u001b[0m in \u001b[0;36m<module>\u001b[0;34m()\u001b[0m\n\u001b[0;32m----> 1\u001b[0;31m \u001b[0mmodel\u001b[0m\u001b[0;34m.\u001b[0m\u001b[0mfit\u001b[0m\u001b[0;34m(\u001b[0m\u001b[0mx_train\u001b[0m\u001b[0;34m,\u001b[0m\u001b[0my_train\u001b[0m\u001b[0;34m,\u001b[0m \u001b[0mvalidation_data\u001b[0m \u001b[0;34m=\u001b[0m \u001b[0;34m(\u001b[0m\u001b[0mx_val\u001b[0m\u001b[0;34m,\u001b[0m\u001b[0my_val\u001b[0m\u001b[0;34m)\u001b[0m\u001b[0;34m,\u001b[0m\u001b[0mepochs\u001b[0m\u001b[0;34m=\u001b[0m\u001b[0;36m3\u001b[0m\u001b[0;34m,\u001b[0m \u001b[0mbatch_size\u001b[0m\u001b[0;34m=\u001b[0m\u001b[0;36m64\u001b[0m\u001b[0;34m)\u001b[0m\u001b[0;34m\u001b[0m\u001b[0;34m\u001b[0m\u001b[0m\n\u001b[0m",
            "\u001b[0;31mNameError\u001b[0m: name 'model' is not defined"
          ]
        }
      ]
    },
    {
      "cell_type": "code",
      "metadata": {
        "id": "nEhDc_PGQ4lY",
        "outputId": "76e688fe-817f-4fdc-8288-cdbaccc7a409",
        "colab": {
          "base_uri": "https://localhost:8080/",
          "height": 159
        }
      },
      "source": [
        "#Red neuronal de 2 capas\n",
        "model = Sequential()\n",
        "model.add(Dense(512,input_dim = x_train.shape[1],activation=\"relu\"))\n",
        "model.add(Dense(512,activation=\"relu\"))\n",
        "model.add(Dense(256,activation=\"relu\"))\n",
        "model.add(Dense(1,activation = \"sigmoid\"))\n",
        "model.compile(optimizer = \"Adam\",loss=\"binary_crossentropy\",metrics=[\"accuracy\"])\n",
        "model.fit(x_train,y_train, validation_data = (x_val,y_val),epochs=3, batch_size=64)"
      ],
      "execution_count": null,
      "outputs": [
        {
          "output_type": "stream",
          "text": [
            "Train on 1582048 samples, validate on 175784 samples\n",
            "Epoch 1/3\n",
            "1582048/1582048 [==============================] - 130s 82us/step - loss: 7.1558 - acc: 0.5560 - val_loss: 7.1357 - val_acc: 0.5573\n",
            "Epoch 2/3\n",
            "1582048/1582048 [==============================] - 129s 82us/step - loss: 7.1552 - acc: 0.5561 - val_loss: 7.1357 - val_acc: 0.5573\n",
            "Epoch 3/3\n",
            "1582048/1582048 [==============================] - 130s 82us/step - loss: 7.1552 - acc: 0.5561 - val_loss: 7.1357 - val_acc: 0.5573\n"
          ],
          "name": "stdout"
        },
        {
          "output_type": "execute_result",
          "data": {
            "text/plain": [
              "<keras.callbacks.History at 0x7f068d0319e8>"
            ]
          },
          "metadata": {
            "tags": []
          },
          "execution_count": 179
        }
      ]
    },
    {
      "cell_type": "markdown",
      "metadata": {
        "id": "fbcKkP7K-OYf"
      },
      "source": [
        "A pesar de haber escalado el tamaño de la red los resultados siguen siendo descepcionantes. En este caso el mejor paso a seguir es volver a validar los datos disponibles. En este punto existen dos opciones a explorar: \n",
        "* Estandarizar las variables numericas disponibles.\n",
        "* Volver a realizar el One Hot Encoding."
      ]
    },
    {
      "cell_type": "code",
      "metadata": {
        "id": "5SmQFYMSRHcB"
      },
      "source": [
        "from sklearn.preprocessing import StandardScaler\n",
        "scaler = StandardScaler()\n",
        "scaler.fit(x_train)\n",
        "x_train_scaled = scaler.transform(x_train)\n",
        "x_val_scaled = scaler.transform(x_val)\n",
        "x_test_scaled = scaler.transform(x_test)"
      ],
      "execution_count": null,
      "outputs": []
    },
    {
      "cell_type": "code",
      "metadata": {
        "id": "VYWUPxcoRHn9",
        "outputId": "cc90122c-34bc-4b39-c034-c32931e29ce7",
        "colab": {
          "base_uri": "https://localhost:8080/",
          "height": 159
        }
      },
      "source": [
        "#Red neuronal de 2 capas\n",
        "model = Sequential()\n",
        "model.add(Dense(512,input_dim = x_train_scaled.shape[1],activation=\"relu\"))\n",
        "model.add(Dense(512,activation=\"relu\"))\n",
        "model.add(Dense(256,activation=\"relu\"))\n",
        "model.add(Dense(1,activation = \"sigmoid\"))\n",
        "model.compile(optimizer = \"Adam\",loss=\"binary_crossentropy\",metrics=[\"accuracy\"])\n",
        "model.fit(x_train_scaled,y_train, validation_data = (x_val_scaled,y_val),epochs=3, batch_size=64)"
      ],
      "execution_count": null,
      "outputs": [
        {
          "output_type": "stream",
          "text": [
            "Train on 1582048 samples, validate on 175784 samples\n",
            "Epoch 1/3\n",
            "1582048/1582048 [==============================] - 132s 83us/step - loss: 0.1988 - acc: 0.9122 - val_loss: 0.1405 - val_acc: 0.9411\n",
            "Epoch 2/3\n",
            "1582048/1582048 [==============================] - 130s 82us/step - loss: 0.1194 - acc: 0.9515 - val_loss: 0.1106 - val_acc: 0.9561\n",
            "Epoch 3/3\n",
            "1582048/1582048 [==============================] - 129s 82us/step - loss: 0.0929 - acc: 0.9634 - val_loss: 0.0933 - val_acc: 0.9650\n"
          ],
          "name": "stdout"
        },
        {
          "output_type": "execute_result",
          "data": {
            "text/plain": [
              "<keras.callbacks.History at 0x7f0749c627b8>"
            ]
          },
          "metadata": {
            "tags": []
          },
          "execution_count": 184
        }
      ]
    },
    {
      "cell_type": "markdown",
      "metadata": {
        "id": "ubDSL59pCcBg"
      },
      "source": [
        "Con sólo la estandarización de la información el desempeño del modelo ha mejorado drasticamente logrando una precision del 96%! Podriamos seguir evaluanto redes más grandes, pero es un valor aceptable para nosotros por el momento. El siguiente paso es probar este mismo modelo con información que la red nunca haya visto (set de prueba)"
      ]
    },
    {
      "cell_type": "code",
      "metadata": {
        "id": "B6C_XX0dRHxR",
        "outputId": "2012039d-6d7b-4084-b120-09735c9a84b9",
        "colab": {
          "base_uri": "https://localhost:8080/",
          "height": 70
        }
      },
      "source": [
        "result = model.evaluate(x_test_scaled,y_test)\n",
        "for i in range(len(model.metrics_names)):\n",
        " print(\"Metric \",model.metrics_names[i],\":\",\n",
        "str(round(result[i],2)))"
      ],
      "execution_count": null,
      "outputs": [
        {
          "output_type": "stream",
          "text": [
            "439459/439459 [==============================] - 21s 48us/step\n",
            "Metric  loss : 0.09\n",
            "Metric  acc : 0.96\n"
          ],
          "name": "stdout"
        }
      ]
    },
    {
      "cell_type": "markdown",
      "metadata": {
        "id": "OLQb96GiC3vb"
      },
      "source": [
        "El desempeño con el set de prueba sigue siendo bueno por lo cual ya podemos emplear la arquitectura definida y realizar un entrenamiento con un mayor número de epocas."
      ]
    },
    {
      "cell_type": "code",
      "metadata": {
        "id": "SMi2p6qoRfbo",
        "outputId": "6cf3325c-f246-4f77-eeb9-dbd2a16446f3",
        "colab": {
          "base_uri": "https://localhost:8080/",
          "height": 479
        }
      },
      "source": [
        "model = Sequential()\n",
        "model.add(Dense(512,input_dim = x_train_scaled.shape[1],activation=\"relu\"))\n",
        "model.add(Dense(512,activation=\"relu\"))\n",
        "model.add(Dense(256,activation=\"relu\"))\n",
        "model.add(Dense(1,activation = \"sigmoid\"))\n",
        "model.compile(optimizer = \"Adam\",loss=\"binary_crossentropy\",metrics=[\"accuracy\"])\n",
        "model.fit(x_train_scaled,y_train, validation_data = (x_val_scaled,y_val),epochs=12, batch_size=64)"
      ],
      "execution_count": null,
      "outputs": [
        {
          "output_type": "stream",
          "text": [
            "Train on 1582048 samples, validate on 175784 samples\n",
            "Epoch 1/12\n",
            "1582048/1582048 [==============================] - 131s 83us/step - loss: 0.1972 - acc: 0.9129 - val_loss: 0.1430 - val_acc: 0.9409\n",
            "Epoch 2/12\n",
            "1582048/1582048 [==============================] - 130s 82us/step - loss: 0.1188 - acc: 0.9518 - val_loss: 0.1088 - val_acc: 0.9571\n",
            "Epoch 3/12\n",
            "1582048/1582048 [==============================] - 129s 82us/step - loss: 0.0927 - acc: 0.9636 - val_loss: 0.0898 - val_acc: 0.9652\n",
            "Epoch 4/12\n",
            "1582048/1582048 [==============================] - 130s 82us/step - loss: 0.0780 - acc: 0.9697 - val_loss: 0.0831 - val_acc: 0.9688\n",
            "Epoch 5/12\n",
            "1582048/1582048 [==============================] - 129s 82us/step - loss: 0.0689 - acc: 0.9735 - val_loss: 0.0781 - val_acc: 0.9717\n",
            "Epoch 6/12\n",
            "1582048/1582048 [==============================] - 130s 82us/step - loss: 0.0624 - acc: 0.9766 - val_loss: 0.0746 - val_acc: 0.9737\n",
            "Epoch 7/12\n",
            "1582048/1582048 [==============================] - 129s 82us/step - loss: 0.0583 - acc: 0.9784 - val_loss: 0.0712 - val_acc: 0.9753\n",
            "Epoch 8/12\n",
            "1582048/1582048 [==============================] - 127s 80us/step - loss: 0.0542 - acc: 0.9801 - val_loss: 0.0702 - val_acc: 0.9771\n",
            "Epoch 9/12\n",
            "1582048/1582048 [==============================] - 127s 80us/step - loss: 0.0520 - acc: 0.9812 - val_loss: 0.0711 - val_acc: 0.9777\n",
            "Epoch 10/12\n",
            "1582048/1582048 [==============================] - 127s 80us/step - loss: 0.0511 - acc: 0.9818 - val_loss: 0.0668 - val_acc: 0.9789\n",
            "Epoch 11/12\n",
            "1582048/1582048 [==============================] - 127s 80us/step - loss: 0.0497 - acc: 0.9826 - val_loss: 0.0721 - val_acc: 0.9791\n",
            "Epoch 12/12\n",
            "1582048/1582048 [==============================] - 126s 80us/step - loss: 0.0527 - acc: 0.9830 - val_loss: 0.0704 - val_acc: 0.9777\n"
          ],
          "name": "stdout"
        },
        {
          "output_type": "execute_result",
          "data": {
            "text/plain": [
              "<keras.callbacks.History at 0x7f068cd30668>"
            ]
          },
          "metadata": {
            "tags": []
          },
          "execution_count": 187
        }
      ]
    },
    {
      "cell_type": "markdown",
      "metadata": {
        "id": "f6Qd8SigDTs3"
      },
      "source": [
        "## <h1 id=\"evaluacion\">Evaluación del modelo</h1>\n",
        "\n",
        "La red ha logrado mejorar un poco su desempeño con más epocas de entrenamiento. Finalmente vamos a evaluar gráficamente el desempeño de la función de pérdidas y la presición a traves de cada época de entrenamiento con el fin de validar algun posible sobre-entrenamiento."
      ]
    },
    {
      "cell_type": "code",
      "metadata": {
        "id": "LP_Wvay7RfXw",
        "outputId": "c591284b-c2b9-40d6-b164-c6b910305062",
        "colab": {
          "base_uri": "https://localhost:8080/",
          "height": 70
        }
      },
      "source": [
        "result = model.evaluate(x_test_scaled,y_test)\n",
        "for i in range(len(model.metrics_names)):\n",
        " print(\"Metric \",model.metrics_names[i],\":\",str(round(result[i],2)))"
      ],
      "execution_count": null,
      "outputs": [
        {
          "output_type": "stream",
          "text": [
            "439459/439459 [==============================] - 20s 47us/step\n",
            "Metric  loss : 0.07\n",
            "Metric  acc : 0.98\n"
          ],
          "name": "stdout"
        }
      ]
    },
    {
      "cell_type": "code",
      "metadata": {
        "id": "FigeTaWgRqow",
        "outputId": "2bb09c07-ee48-49ce-f5a1-0fd202bedf14",
        "colab": {
          "base_uri": "https://localhost:8080/",
          "height": 406
        }
      },
      "source": [
        "import matplotlib.pyplot as plt\n",
        "%matplotlib inline\n",
        "\n",
        "plt.figure(figsize=(13,6))\n",
        "plt.plot(model.history.history['loss'])\n",
        "plt.plot(model.history.history['val_loss'])\n",
        "plt.title(\"Pérdidas del modelo con set de entrenamiento y pruebas por época\")\n",
        "plt.ylabel('Pérdidas')\n",
        "plt.xlabel('Épocas')\n",
        "plt.legend(['Entrenamiento', 'Validación'], loc='upper right')\n",
        "plt.show()"
      ],
      "execution_count": null,
      "outputs": [
        {
          "output_type": "display_data",
          "data": {
            "image/png": "[encoded data removed]",
            "text/plain": [
              "<Figure size 936x432 with 1 Axes>"
            ]
          },
          "metadata": {
            "tags": []
          }
        }
      ]
    },
    {
      "cell_type": "code",
      "metadata": {
        "id": "_hJBWIbURqyH",
        "outputId": "40d86ce4-264a-4f27-9eb0-14011e239d6a",
        "colab": {
          "base_uri": "https://localhost:8080/",
          "height": 406
        }
      },
      "source": [
        "plt.figure(figsize=(13,6))\n",
        "plt.plot(model.history.history['acc'])\n",
        "plt.plot(model.history.history['val_acc'])\n",
        "plt.title(\"Pérdidas del modelo con set de entrenamiento y pruebas por época\")\n",
        "plt.ylabel('Accuracy')\n",
        "plt.xlabel('Épocas')\n",
        "plt.legend(['Entrenamiento', 'Validación'], loc='lower right')\n",
        "plt.show()"
      ],
      "execution_count": null,
      "outputs": [
        {
          "output_type": "display_data",
          "data": {
            "image/png": "[encoded data removed]",
            "text/plain": [
              "<Figure size 936x432 with 1 Axes>"
            ]
          },
          "metadata": {
            "tags": []
          }
        }
      ]
    },
    {
      "cell_type": "markdown",
      "metadata": {
        "id": "05zQQbvNll6Y"
      },
      "source": [
        "# Regularización"
      ]
    },
    {
      "cell_type": "markdown",
      "metadata": {
        "id": "Ov_yk6qcahG5"
      },
      "source": [
        "## Hiperparametros"
      ]
    },
    {
      "cell_type": "markdown",
      "metadata": {
        "id": "eDRC-wmBalMH"
      },
      "source": [
        "* Batch size = Es una porcion de nuestro set de datos de entrenamiento el cual se propagara por toda la red en una iteracion, si por ejemplo tenemos 1000 datos de training podemos usar un batch de 32 datos, entonces primero se propagan 32, luego otros 32 y asi.Ojo iteracion no es lo mismo que epoch.\n",
        "\n",
        "* Epoch = Son las veces que todo nuestro set de datos pasan por nuestra red neuronal, por ejemplo una vez que nuestros 1000 datos pasaron o se propagaron por nuestra red eso se considera 1 epoch.\n",
        "\n",
        "* Kernel_initializer = Son los pesos iniciales que usaremos, en keras el default kernel_initializer es glorot_uniform.\n",
        "\n",
        "* Optimizador = Es una forma de optimizar o acelerar el hallazgo de las derivadas parciales o gradientes en nuestra funcion de coste, el mas usado es Adam.\n",
        "\n",
        "* Funcion de activacion: Se eligen dependiendo si es un problema de clasificacion (Sigmoid, ReLu,Tanh,Heaviside,etc) o de regresion(Linear regression,Ridge Regression,Lasso Regression,Isotonic Regression,etc).\n",
        "\n",
        "* Cantidad de capas y neuronas por capa:Se ajustan dependiendo de la complejidad de tu problema, pueden practicar eso un poco en el playground de TF, yo me di cuenta que no era necesarion poner tantas capas y tantas neuronas para que la red pueda hacer buenas clasificaciones.Aca el link: [link de Simulador](https://playground.tensorflow.org/#activation=relu&batchSize=14&dataset=circle&regDataset=reg-plane&learningRate=0.03&regularizationRate=0&noise=50&networkShape=6,4,3,1&seed=0.17209&showTestData=false&discretize=true&percTrainData=50&x=true&y=true&xTimesY=true&xSquared=true&ySquared=true&cosX=false&sinX=true&cosY=false&sinY=true&collectStats=false&problem=classification&initZero=false&hideText=false)\n",
        "\n",
        "![](https://github.com/rb-one/Curso_RedesNeuronales_ScikitLearn/raw/master/Notes/src/hiper_parametros_1.png)\n",
        "![](https://github.com/rb-one/Curso_RedesNeuronales_ScikitLearn/raw/master/Notes/src/hiper_parametros_5.png)\n",
        "![](https://github.com/rb-one/Curso_RedesNeuronales_ScikitLearn/raw/master/Notes/src/optimizacion_hiper_parametros_1.png)\n",
        "![](https://github.com/rb-one/Curso_RedesNeuronales_ScikitLearn/raw/master/Notes/src/optimizacion_hiper_parametros_2.png)"
      ]
    },
    {
      "cell_type": "markdown",
      "metadata": {
        "id": "OqRCC1wcz3yB"
      },
      "source": [
        "## **introducción:**"
      ]
    },
    {
      "cell_type": "markdown",
      "metadata": {
        "id": "j6u771eYlxRW"
      },
      "source": [
        "En términos generales la regularizacion es un método que penaliza o disminuye la complejidad de la red neuronal tratando de identificar aquellas variables que no aportan significativamente al fenómeno con el cual estamos trabajando\n",
        "\n",
        "Hubo dos conceptos de regularización que no se mencionaron. El primero es BatchNorm, el segundo es Data Augmentation.\n",
        "\n",
        "**BatchNorm:** Este se considera una inovación clave en el deep learning moderno (2016). Similar a la normalización de los inputs, pero en capas intermedias. Consiste en tomar un batch de datos calcular su media y varianza, actualizar los datos restandolos por su media y dividiendo por su varianza a esto sumarle la constante epsilon, para luego aplicarle una transformación. Más información en este link:\n",
        "\n",
        "https://towardsdatascience.com/batch-normalization-and-dropout-in-neural-networks-explained-with-pytorch-47d7a8459bcd\n",
        "\n",
        "**Data Augmentation:** Esta técnica es simple pero elgante y se aplica bastante en imagenes, consiste en rotar la imagen o hacerle un zoom e incluir esta matriz en el algoritmo, ya sea el de una red generativa o convolucional. Es la misma imagen pero su matriz de datos no es la misma.\n",
        "\n",
        "![](https://github.com/rb-one/Curso_RedesNeuronales_ScikitLearn/raw/master/Notes/src/regularizacion_l1.png)\n",
        "![](https://github.com/rb-one/Curso_RedesNeuronales_ScikitLearn/raw/master/Notes/src/regularizacion_l2.png)\n",
        "\n",
        "Ejemplo en codigo: \n",
        "![](https://github.com/rb-one/Curso_RedesNeuronales_ScikitLearn/raw/master/Notes/src/regularizacion_l1_keras.png) Recibe como párametro el lambda.\n",
        "\n",
        "**Regularización ElasticNet:** Combina ambos beneficios de regularización Lx: **L1(Lasso):** eliminar pesos no significativos, **L2(Ridge):** convierte los pesos no significativos en valores cercanos a cero."
      ]
    },
    {
      "cell_type": "markdown",
      "metadata": {
        "id": "heQ4t1yByJ6e"
      },
      "source": [
        "**Regularizacion Dropout(Freeze de perceptrones a lo parchis)**\n",
        "\n",
        "![](https://github.com/rb-one/Curso_RedesNeuronales_ScikitLearn/raw/master/Notes/src/regularizacion_dropout.png)\n",
        "\n",
        "En términos generales con este método con cada iteración apagaremos un numero n de neuronas de forma aleatoria.\n",
        "\n",
        "Con este método obtenemos dos beneficios:\n",
        "\n",
        "1. El entrenamiento es mas rápido porque estamos disminuyendo el numero de parametros que tenemos que configurar\n",
        "\n",
        "2. Disminuimos de manera general la dependencia entre neuronas vecinas, reduciendo la probabilidad de overfitting.\n",
        "\n",
        "![](https://github.com/rb-one/Curso_RedesNeuronales_ScikitLearn/raw/master/Notes/src/regularizacion_dropout_keras.png)\n"
      ]
    },
    {
      "cell_type": "markdown",
      "metadata": {
        "id": "VMon9Ib3tsdy"
      },
      "source": [
        "# Caso Real"
      ]
    },
    {
      "cell_type": "markdown",
      "metadata": {
        "id": "9rUZKOyJvbcs"
      },
      "source": [
        "## Contexto analítico y exploración de datos\n",
        "\n",
        "El mercado de autos usados es reconocido por ser un sector economico muy competido con un centenar de compañias que luchan por hacerse con una porción de la torta. El precio de los autos se devalua año año debido a multiples factores y determinar el precio correcto es clave para las compañias para lograr competir en el mercado. En este caso se requiere implementar una red neural que permita determinar el valor más justo para los vehiculos dependiento de sus atributos.\n",
        "\n",
        "Se cuenta con un dataset (Craiglist_Cars.csv) que serán cargados directamente a Colab."
      ]
    },
    {
      "cell_type": "code",
      "metadata": {
        "id": "HWZuxs0Lt1Z8",
        "outputId": "08c5fa80-cc3c-4bee-fbf0-2b1071d49038",
        "colab": {
          "base_uri": "https://localhost:8080/",
          "height": 34
        }
      },
      "source": [
        "from google.colab import drive\n",
        "drive.mount('/content/drive')"
      ],
      "execution_count": null,
      "outputs": [
        {
          "output_type": "stream",
          "text": [
            "Drive already mounted at /content/drive; to attempt to forcibly remount, call drive.mount(\"/content/drive\", force_remount=True).\n"
          ],
          "name": "stdout"
        }
      ]
    },
    {
      "cell_type": "code",
      "metadata": {
        "id": "DtqMJU9dum2L"
      },
      "source": [
        "import pandas as pd\n",
        "import numpy as np\n",
        "import io"
      ],
      "execution_count": null,
      "outputs": []
    },
    {
      "cell_type": "code",
      "metadata": {
        "id": "EkbV4Kleu0Df",
        "outputId": "96a79deb-e667-45e0-a2a1-1c9737068418",
        "colab": {
          "base_uri": "https://localhost:8080/",
          "height": 204
        }
      },
      "source": [
        "cars = pd.read_csv('/content/drive/My Drive/data/craiglist_cars.csv', sep=',')\n",
        "cars.head()"
      ],
      "execution_count": null,
      "outputs": [
        {
          "output_type": "execute_result",
          "data": {
            "text/html": [
              "<div>\n",
              "<style scoped>\n",
              "    .dataframe tbody tr th:only-of-type {\n",
              "        vertical-align: middle;\n",
              "    }\n",
              "\n",
              "    .dataframe tbody tr th {\n",
              "        vertical-align: top;\n",
              "    }\n",
              "\n",
              "    .dataframe thead th {\n",
              "        text-align: right;\n",
              "    }\n",
              "</style>\n",
              "<table border=\"1\" class=\"dataframe\">\n",
              "  <thead>\n",
              "    <tr style=\"text-align: right;\">\n",
              "      <th></th>\n",
              "      <th>year</th>\n",
              "      <th>manufacturer</th>\n",
              "      <th>condition</th>\n",
              "      <th>cylinders</th>\n",
              "      <th>fuel</th>\n",
              "      <th>title_status</th>\n",
              "      <th>transmission</th>\n",
              "      <th>drive</th>\n",
              "      <th>size</th>\n",
              "      <th>type</th>\n",
              "      <th>paint_color</th>\n",
              "      <th>price</th>\n",
              "    </tr>\n",
              "  </thead>\n",
              "  <tbody>\n",
              "    <tr>\n",
              "      <th>0</th>\n",
              "      <td>2009</td>\n",
              "      <td>chevrolet</td>\n",
              "      <td>good</td>\n",
              "      <td>8 cylinders</td>\n",
              "      <td>gas</td>\n",
              "      <td>clean</td>\n",
              "      <td>automatic</td>\n",
              "      <td>rwd</td>\n",
              "      <td>full-size</td>\n",
              "      <td>SUV</td>\n",
              "      <td>white</td>\n",
              "      <td>9000</td>\n",
              "    </tr>\n",
              "    <tr>\n",
              "      <th>1</th>\n",
              "      <td>2002</td>\n",
              "      <td>gmc</td>\n",
              "      <td>good</td>\n",
              "      <td>8 cylinders</td>\n",
              "      <td>gas</td>\n",
              "      <td>clean</td>\n",
              "      <td>automatic</td>\n",
              "      <td>4wd</td>\n",
              "      <td>NaN</td>\n",
              "      <td>pickup</td>\n",
              "      <td>white</td>\n",
              "      <td>6000</td>\n",
              "    </tr>\n",
              "    <tr>\n",
              "      <th>2</th>\n",
              "      <td>2007</td>\n",
              "      <td>pontiac</td>\n",
              "      <td>excellent</td>\n",
              "      <td>4 cylinders</td>\n",
              "      <td>gas</td>\n",
              "      <td>clean</td>\n",
              "      <td>automatic</td>\n",
              "      <td>fwd</td>\n",
              "      <td>compact</td>\n",
              "      <td>convertible</td>\n",
              "      <td>red</td>\n",
              "      <td>7000</td>\n",
              "    </tr>\n",
              "    <tr>\n",
              "      <th>3</th>\n",
              "      <td>2012</td>\n",
              "      <td>chevrolet</td>\n",
              "      <td>excellent</td>\n",
              "      <td>8 cylinders</td>\n",
              "      <td>diesel</td>\n",
              "      <td>clean</td>\n",
              "      <td>automatic</td>\n",
              "      <td>4wd</td>\n",
              "      <td>full-size</td>\n",
              "      <td>pickup</td>\n",
              "      <td>silver</td>\n",
              "      <td>37000</td>\n",
              "    </tr>\n",
              "    <tr>\n",
              "      <th>4</th>\n",
              "      <td>2003</td>\n",
              "      <td>NaN</td>\n",
              "      <td>fair</td>\n",
              "      <td>8 cylinders</td>\n",
              "      <td>gas</td>\n",
              "      <td>clean</td>\n",
              "      <td>automatic</td>\n",
              "      <td>4wd</td>\n",
              "      <td>NaN</td>\n",
              "      <td>pickup</td>\n",
              "      <td>silver</td>\n",
              "      <td>3700</td>\n",
              "    </tr>\n",
              "  </tbody>\n",
              "</table>\n",
              "</div>"
            ],
            "text/plain": [
              "   year manufacturer  condition  ...         type paint_color  price\n",
              "0  2009    chevrolet       good  ...          SUV       white   9000\n",
              "1  2002          gmc       good  ...       pickup       white   6000\n",
              "2  2007      pontiac  excellent  ...  convertible         red   7000\n",
              "3  2012    chevrolet  excellent  ...       pickup      silver  37000\n",
              "4  2003          NaN       fair  ...       pickup      silver   3700\n",
              "\n",
              "[5 rows x 12 columns]"
            ]
          },
          "metadata": {
            "tags": []
          },
          "execution_count": 9
        }
      ]
    },
    {
      "cell_type": "markdown",
      "metadata": {
        "id": "cSWTI9p6ZH9O"
      },
      "source": [
        "##1. Evalua la cantidad, tipo y completitud de las variables disponibles. \n",
        "\n"
      ]
    },
    {
      "cell_type": "code",
      "metadata": {
        "id": "B6Lu6dsRBOob",
        "outputId": "87e46fbd-0bfa-4896-910b-8ff01f55d064",
        "colab": {
          "base_uri": "https://localhost:8080/",
          "height": 255
        }
      },
      "source": [
        "print(cars.shape)\n",
        "100*cars.isnull().sum()/cars.shape[0]"
      ],
      "execution_count": null,
      "outputs": [
        {
          "output_type": "stream",
          "text": [
            "(434542, 12)\n"
          ],
          "name": "stdout"
        },
        {
          "output_type": "execute_result",
          "data": {
            "text/plain": [
              "year             0.000000\n",
              "manufacturer     3.646138\n",
              "condition       36.860649\n",
              "cylinders       28.306355\n",
              "fuel             0.839505\n",
              "title_status     0.662997\n",
              "transmission     0.989087\n",
              "drive           13.280189\n",
              "size            58.133621\n",
              "type            11.566661\n",
              "paint_color     19.734571\n",
              "price            0.000000\n",
              "dtype: float64"
            ]
          },
          "metadata": {
            "tags": []
          },
          "execution_count": 10
        }
      ]
    },
    {
      "cell_type": "code",
      "metadata": {
        "id": "8cYAAJxXBr2b",
        "outputId": "7da5a362-c2be-4dd8-9b6c-4cd2fb2669ad",
        "colab": {
          "base_uri": "https://localhost:8080/",
          "height": 85
        }
      },
      "source": [
        "types = pd.DataFrame(cars.dtypes)\n",
        "print(\"Tipos de variables\",types.groupby(0).size())"
      ],
      "execution_count": null,
      "outputs": [
        {
          "output_type": "stream",
          "text": [
            "Tipos de variables 0\n",
            "int64      2\n",
            "object    10\n",
            "dtype: int64\n"
          ],
          "name": "stdout"
        }
      ]
    },
    {
      "cell_type": "code",
      "metadata": {
        "id": "07gsnrCtHL7e",
        "outputId": "c744ec8e-6b02-4e8c-a9ec-9af646f61d82",
        "colab": {
          "base_uri": "https://localhost:8080/",
          "height": 187
        }
      },
      "source": [
        "categoricas = types.index[types[0] == 'O'].values\n",
        "for line in categoricas:\n",
        " print(\"La variable \"+ line +\" contiene:\",str(len(cars[line].unique()))+\" distinct values\")"
      ],
      "execution_count": null,
      "outputs": [
        {
          "output_type": "stream",
          "text": [
            "La variable manufacturer contiene: 43 distinct values\n",
            "La variable condition contiene: 7 distinct values\n",
            "La variable cylinders contiene: 9 distinct values\n",
            "La variable fuel contiene: 6 distinct values\n",
            "La variable title_status contiene: 7 distinct values\n",
            "La variable transmission contiene: 4 distinct values\n",
            "La variable drive contiene: 4 distinct values\n",
            "La variable size contiene: 5 distinct values\n",
            "La variable type contiene: 14 distinct values\n",
            "La variable paint_color contiene: 13 distinct values\n"
          ],
          "name": "stdout"
        }
      ]
    },
    {
      "cell_type": "code",
      "metadata": {
        "id": "uYilrpGZHgWe",
        "outputId": "f70c0e7f-7c38-405c-885d-f4b68926dd98",
        "colab": {
          "base_uri": "https://localhost:8080/",
          "height": 1000
        }
      },
      "source": [
        "for i in categoricas:\n",
        "    print(\"Distribución de \",i,\": \\n\", 100*cars[i].value_counts()/cars.shape[0],\"\\n\")  # el porcentaje de valores distintos segun la clase categorica"
      ],
      "execution_count": null,
      "outputs": [
        {
          "output_type": "stream",
          "text": [
            "Distribución de  manufacturer : \n",
            " ford               17.966273\n",
            "chevrolet          14.873591\n",
            "toyota              7.667383\n",
            "nissan              5.094789\n",
            "honda               5.086045\n",
            "jeep                4.915060\n",
            "ram                 4.827381\n",
            "gmc                 4.297628\n",
            "dodge               3.775699\n",
            "bmw                 2.687887\n",
            "hyundai             2.462133\n",
            "subaru              2.127988\n",
            "mercedes-benz       2.062401\n",
            "volkswagen          2.023280\n",
            "chrysler            1.783947\n",
            "kia                 1.712378\n",
            "cadillac            1.504343\n",
            "buick               1.329906\n",
            "lexus               1.304592\n",
            "mazda               1.288023\n",
            "audi                1.187917\n",
            "acura               0.865509\n",
            "infiniti            0.783814\n",
            "pontiac             0.766784\n",
            "lincoln             0.685319\n",
            "volvo               0.590507\n",
            "mitsubishi          0.550004\n",
            "mini                0.441154\n",
            "rover               0.433330\n",
            "mercury             0.412848\n",
            "saturn              0.377639\n",
            "jaguar              0.226906\n",
            "fiat                0.153265\n",
            "harley-davidson     0.036590\n",
            "datsun              0.018640\n",
            "alfa-romeo          0.018640\n",
            "land rover          0.005063\n",
            "aston-martin        0.004142\n",
            "porche              0.003452\n",
            "ferrari             0.001151\n",
            "hennessey           0.000230\n",
            "morgan              0.000230\n",
            "Name: manufacturer, dtype: float64 \n",
            "\n",
            "Distribución de  condition : \n",
            " excellent    30.126432\n",
            "good         23.442843\n",
            "like new      6.345532\n",
            "fair          2.811926\n",
            "new           0.223914\n",
            "salvage       0.188704\n",
            "Name: condition, dtype: float64 \n",
            "\n",
            "Distribución de  cylinders : \n",
            " 6 cylinders     26.003700\n",
            "8 cylinders     22.150908\n",
            "4 cylinders     21.977622\n",
            "5 cylinders      0.662307\n",
            "10 cylinders     0.418602\n",
            "other            0.333685\n",
            "3 cylinders      0.117595\n",
            "12 cylinders     0.029226\n",
            "Name: cylinders, dtype: float64 \n",
            "\n",
            "Distribución de  fuel : \n",
            " gas         87.363247\n",
            "diesel       7.323573\n",
            "other        3.458814\n",
            "hybrid       0.860676\n",
            "electric     0.154185\n",
            "Name: fuel, dtype: float64 \n",
            "\n",
            "Distribución de  title_status : \n",
            " clean         95.473855\n",
            "rebuilt        1.893948\n",
            "salvage        0.992309\n",
            "lien           0.801994\n",
            "missing        0.147282\n",
            "parts only     0.027615\n",
            "Name: title_status, dtype: float64 \n",
            "\n",
            "Distribución de  transmission : \n",
            " automatic    88.616060\n",
            "manual        7.696609\n",
            "other         2.698243\n",
            "Name: transmission, dtype: float64 \n",
            "\n",
            "Distribución de  drive : \n",
            " 4wd    38.471540\n",
            "fwd    30.738801\n",
            "rwd    17.509470\n",
            "Name: drive, dtype: float64 \n",
            "\n",
            "Distribución de  size : \n",
            " full-size      21.924233\n",
            "mid-size       12.277294\n",
            "compact         6.618923\n",
            "sub-compact     1.045929\n",
            "Name: size, dtype: float64 \n",
            "\n",
            "Distribución de  type : \n",
            " sedan          22.850265\n",
            "SUV            22.407961\n",
            "pickup         11.318354\n",
            "truck          10.611632\n",
            "coupe           5.145417\n",
            "hatchback       3.212578\n",
            "other           3.179209\n",
            "wagon           2.757386\n",
            "convertible     2.474790\n",
            "van             2.297822\n",
            "mini-van        1.799136\n",
            "offroad         0.227366\n",
            "bus             0.151424\n",
            "Name: type, dtype: float64 \n",
            "\n",
            "Distribución de  paint_color : \n",
            " white     19.579005\n",
            "black     16.460089\n",
            "silver    11.873421\n",
            "blue       8.432096\n",
            "red        8.342347\n",
            "grey       7.617676\n",
            "green      2.405981\n",
            "custom     2.297822\n",
            "brown      1.835956\n",
            "yellow     0.690842\n",
            "orange     0.515485\n",
            "purple     0.214709\n",
            "Name: paint_color, dtype: float64 \n",
            "\n"
          ],
          "name": "stdout"
        }
      ]
    },
    {
      "cell_type": "markdown",
      "metadata": {
        "id": "B8GzVsBIvx3x"
      },
      "source": [
        "<h1 id=\"ingenieria\">Ingeniería de datos</h1>\n",
        "\n",
        "Ahora se debe preparar la información para poder alimentar la red neuronal."
      ]
    },
    {
      "cell_type": "markdown",
      "metadata": {
        "id": "vRCjvmPz63n7"
      },
      "source": [
        "## 2. Implementa estrategías para tratar la información nula en las variables cuya tasa de nulos sea máximo el 10%"
      ]
    },
    {
      "cell_type": "code",
      "metadata": {
        "id": "AEzhWfpXv8Ge",
        "outputId": "b60e9f56-6aa6-4b47-b684-ee0dad42226d",
        "colab": {
          "base_uri": "https://localhost:8080/",
          "height": 238
        }
      },
      "source": [
        "#Reemplazamos el tipo de actividad por la moda \n",
        "cars[\"fuel\"] = cars[\"fuel\"].fillna(cars[\"fuel\"].mode()[0])\n",
        "cars[\"title_status\"] = cars[\"title_status\"].fillna(cars[\"title_status\"].mode()[0])\n",
        "cars[\"transmission\"] = cars[\"transmission\"].fillna(cars[\"transmission\"].mode()[0])\n",
        "cars[\"manufacturer\"] = cars[\"manufacturer\"].fillna(cars[\"manufacturer\"].mode()[0])\n",
        "#Verificamos el cambio\n",
        "100*cars.isnull().sum()/cars.shape[0]"
      ],
      "execution_count": null,
      "outputs": [
        {
          "output_type": "execute_result",
          "data": {
            "text/plain": [
              "year             0.000000\n",
              "manufacturer     0.000000\n",
              "condition       36.860649\n",
              "cylinders       28.306355\n",
              "fuel             0.000000\n",
              "title_status     0.000000\n",
              "transmission     0.000000\n",
              "drive           13.280189\n",
              "size            58.133621\n",
              "type            11.566661\n",
              "paint_color     19.734571\n",
              "price            0.000000\n",
              "dtype: float64"
            ]
          },
          "metadata": {
            "tags": []
          },
          "execution_count": 16
        }
      ]
    },
    {
      "cell_type": "markdown",
      "metadata": {
        "id": "CtshbEQa7aRW"
      },
      "source": [
        "Luego del procedimiento anterior se debe proceder a convertir las variables categoricas en variables numericas. Durante el curso implementamos un método de One Hot Encoding disponible en Scikit Learn. En este caso utilizaremos una funcionalidad embedida en Pandas denominada [\"get_dummies\"](https://pandas.pydata.org/pandas-docs/stable/reference/api/pandas.get_dummies.html):"
      ]
    },
    {
      "cell_type": "code",
      "metadata": {
        "id": "ZEtEYD5DS1iI",
        "outputId": "29d19de4-8e7f-4362-9332-98677c710d65",
        "colab": {
          "base_uri": "https://localhost:8080/",
          "height": 225
        }
      },
      "source": [
        "df= cars.copy()\n",
        "for col in categoricas:\n",
        "    df = pd.concat([df, (pd.get_dummies(df[col])).astype(int)], axis=1)\n",
        "    df.drop(columns=[col],inplace=True)\n",
        "#Al crear las variables dummies se crean varias columnas referentes a categorias\n",
        "# 'other' que no aportan ningún valor al dataset por lo cual las eliminamos\n",
        "df.drop('other', axis=1, inplace=True)\n",
        "print(df.shape)\n",
        "df.head(3)"
      ],
      "execution_count": null,
      "outputs": [
        {
          "output_type": "stream",
          "text": [
            "(434542, 100)\n"
          ],
          "name": "stdout"
        },
        {
          "output_type": "execute_result",
          "data": {
            "text/html": [
              "<div>\n",
              "<style scoped>\n",
              "    .dataframe tbody tr th:only-of-type {\n",
              "        vertical-align: middle;\n",
              "    }\n",
              "\n",
              "    .dataframe tbody tr th {\n",
              "        vertical-align: top;\n",
              "    }\n",
              "\n",
              "    .dataframe thead th {\n",
              "        text-align: right;\n",
              "    }\n",
              "</style>\n",
              "<table border=\"1\" class=\"dataframe\">\n",
              "  <thead>\n",
              "    <tr style=\"text-align: right;\">\n",
              "      <th></th>\n",
              "      <th>year</th>\n",
              "      <th>price</th>\n",
              "      <th>acura</th>\n",
              "      <th>alfa-romeo</th>\n",
              "      <th>aston-martin</th>\n",
              "      <th>audi</th>\n",
              "      <th>bmw</th>\n",
              "      <th>buick</th>\n",
              "      <th>cadillac</th>\n",
              "      <th>chevrolet</th>\n",
              "      <th>chrysler</th>\n",
              "      <th>datsun</th>\n",
              "      <th>dodge</th>\n",
              "      <th>ferrari</th>\n",
              "      <th>fiat</th>\n",
              "      <th>ford</th>\n",
              "      <th>gmc</th>\n",
              "      <th>harley-davidson</th>\n",
              "      <th>hennessey</th>\n",
              "      <th>honda</th>\n",
              "      <th>hyundai</th>\n",
              "      <th>infiniti</th>\n",
              "      <th>jaguar</th>\n",
              "      <th>jeep</th>\n",
              "      <th>kia</th>\n",
              "      <th>land rover</th>\n",
              "      <th>lexus</th>\n",
              "      <th>lincoln</th>\n",
              "      <th>mazda</th>\n",
              "      <th>mercedes-benz</th>\n",
              "      <th>mercury</th>\n",
              "      <th>mini</th>\n",
              "      <th>mitsubishi</th>\n",
              "      <th>morgan</th>\n",
              "      <th>nissan</th>\n",
              "      <th>pontiac</th>\n",
              "      <th>porche</th>\n",
              "      <th>ram</th>\n",
              "      <th>rover</th>\n",
              "      <th>saturn</th>\n",
              "      <th>...</th>\n",
              "      <th>hybrid</th>\n",
              "      <th>clean</th>\n",
              "      <th>lien</th>\n",
              "      <th>missing</th>\n",
              "      <th>parts only</th>\n",
              "      <th>rebuilt</th>\n",
              "      <th>salvage</th>\n",
              "      <th>automatic</th>\n",
              "      <th>manual</th>\n",
              "      <th>4wd</th>\n",
              "      <th>fwd</th>\n",
              "      <th>rwd</th>\n",
              "      <th>compact</th>\n",
              "      <th>full-size</th>\n",
              "      <th>mid-size</th>\n",
              "      <th>sub-compact</th>\n",
              "      <th>SUV</th>\n",
              "      <th>bus</th>\n",
              "      <th>convertible</th>\n",
              "      <th>coupe</th>\n",
              "      <th>hatchback</th>\n",
              "      <th>mini-van</th>\n",
              "      <th>offroad</th>\n",
              "      <th>pickup</th>\n",
              "      <th>sedan</th>\n",
              "      <th>truck</th>\n",
              "      <th>van</th>\n",
              "      <th>wagon</th>\n",
              "      <th>black</th>\n",
              "      <th>blue</th>\n",
              "      <th>brown</th>\n",
              "      <th>custom</th>\n",
              "      <th>green</th>\n",
              "      <th>grey</th>\n",
              "      <th>orange</th>\n",
              "      <th>purple</th>\n",
              "      <th>red</th>\n",
              "      <th>silver</th>\n",
              "      <th>white</th>\n",
              "      <th>yellow</th>\n",
              "    </tr>\n",
              "  </thead>\n",
              "  <tbody>\n",
              "    <tr>\n",
              "      <th>0</th>\n",
              "      <td>2009</td>\n",
              "      <td>9000</td>\n",
              "      <td>0</td>\n",
              "      <td>0</td>\n",
              "      <td>0</td>\n",
              "      <td>0</td>\n",
              "      <td>0</td>\n",
              "      <td>0</td>\n",
              "      <td>0</td>\n",
              "      <td>1</td>\n",
              "      <td>0</td>\n",
              "      <td>0</td>\n",
              "      <td>0</td>\n",
              "      <td>0</td>\n",
              "      <td>0</td>\n",
              "      <td>0</td>\n",
              "      <td>0</td>\n",
              "      <td>0</td>\n",
              "      <td>0</td>\n",
              "      <td>0</td>\n",
              "      <td>0</td>\n",
              "      <td>0</td>\n",
              "      <td>0</td>\n",
              "      <td>0</td>\n",
              "      <td>0</td>\n",
              "      <td>0</td>\n",
              "      <td>0</td>\n",
              "      <td>0</td>\n",
              "      <td>0</td>\n",
              "      <td>0</td>\n",
              "      <td>0</td>\n",
              "      <td>0</td>\n",
              "      <td>0</td>\n",
              "      <td>0</td>\n",
              "      <td>0</td>\n",
              "      <td>0</td>\n",
              "      <td>0</td>\n",
              "      <td>0</td>\n",
              "      <td>0</td>\n",
              "      <td>0</td>\n",
              "      <td>...</td>\n",
              "      <td>0</td>\n",
              "      <td>1</td>\n",
              "      <td>0</td>\n",
              "      <td>0</td>\n",
              "      <td>0</td>\n",
              "      <td>0</td>\n",
              "      <td>0</td>\n",
              "      <td>1</td>\n",
              "      <td>0</td>\n",
              "      <td>0</td>\n",
              "      <td>0</td>\n",
              "      <td>1</td>\n",
              "      <td>0</td>\n",
              "      <td>1</td>\n",
              "      <td>0</td>\n",
              "      <td>0</td>\n",
              "      <td>1</td>\n",
              "      <td>0</td>\n",
              "      <td>0</td>\n",
              "      <td>0</td>\n",
              "      <td>0</td>\n",
              "      <td>0</td>\n",
              "      <td>0</td>\n",
              "      <td>0</td>\n",
              "      <td>0</td>\n",
              "      <td>0</td>\n",
              "      <td>0</td>\n",
              "      <td>0</td>\n",
              "      <td>0</td>\n",
              "      <td>0</td>\n",
              "      <td>0</td>\n",
              "      <td>0</td>\n",
              "      <td>0</td>\n",
              "      <td>0</td>\n",
              "      <td>0</td>\n",
              "      <td>0</td>\n",
              "      <td>0</td>\n",
              "      <td>0</td>\n",
              "      <td>1</td>\n",
              "      <td>0</td>\n",
              "    </tr>\n",
              "    <tr>\n",
              "      <th>1</th>\n",
              "      <td>2002</td>\n",
              "      <td>6000</td>\n",
              "      <td>0</td>\n",
              "      <td>0</td>\n",
              "      <td>0</td>\n",
              "      <td>0</td>\n",
              "      <td>0</td>\n",
              "      <td>0</td>\n",
              "      <td>0</td>\n",
              "      <td>0</td>\n",
              "      <td>0</td>\n",
              "      <td>0</td>\n",
              "      <td>0</td>\n",
              "      <td>0</td>\n",
              "      <td>0</td>\n",
              "      <td>0</td>\n",
              "      <td>1</td>\n",
              "      <td>0</td>\n",
              "      <td>0</td>\n",
              "      <td>0</td>\n",
              "      <td>0</td>\n",
              "      <td>0</td>\n",
              "      <td>0</td>\n",
              "      <td>0</td>\n",
              "      <td>0</td>\n",
              "      <td>0</td>\n",
              "      <td>0</td>\n",
              "      <td>0</td>\n",
              "      <td>0</td>\n",
              "      <td>0</td>\n",
              "      <td>0</td>\n",
              "      <td>0</td>\n",
              "      <td>0</td>\n",
              "      <td>0</td>\n",
              "      <td>0</td>\n",
              "      <td>0</td>\n",
              "      <td>0</td>\n",
              "      <td>0</td>\n",
              "      <td>0</td>\n",
              "      <td>0</td>\n",
              "      <td>...</td>\n",
              "      <td>0</td>\n",
              "      <td>1</td>\n",
              "      <td>0</td>\n",
              "      <td>0</td>\n",
              "      <td>0</td>\n",
              "      <td>0</td>\n",
              "      <td>0</td>\n",
              "      <td>1</td>\n",
              "      <td>0</td>\n",
              "      <td>1</td>\n",
              "      <td>0</td>\n",
              "      <td>0</td>\n",
              "      <td>0</td>\n",
              "      <td>0</td>\n",
              "      <td>0</td>\n",
              "      <td>0</td>\n",
              "      <td>0</td>\n",
              "      <td>0</td>\n",
              "      <td>0</td>\n",
              "      <td>0</td>\n",
              "      <td>0</td>\n",
              "      <td>0</td>\n",
              "      <td>0</td>\n",
              "      <td>1</td>\n",
              "      <td>0</td>\n",
              "      <td>0</td>\n",
              "      <td>0</td>\n",
              "      <td>0</td>\n",
              "      <td>0</td>\n",
              "      <td>0</td>\n",
              "      <td>0</td>\n",
              "      <td>0</td>\n",
              "      <td>0</td>\n",
              "      <td>0</td>\n",
              "      <td>0</td>\n",
              "      <td>0</td>\n",
              "      <td>0</td>\n",
              "      <td>0</td>\n",
              "      <td>1</td>\n",
              "      <td>0</td>\n",
              "    </tr>\n",
              "    <tr>\n",
              "      <th>2</th>\n",
              "      <td>2007</td>\n",
              "      <td>7000</td>\n",
              "      <td>0</td>\n",
              "      <td>0</td>\n",
              "      <td>0</td>\n",
              "      <td>0</td>\n",
              "      <td>0</td>\n",
              "      <td>0</td>\n",
              "      <td>0</td>\n",
              "      <td>0</td>\n",
              "      <td>0</td>\n",
              "      <td>0</td>\n",
              "      <td>0</td>\n",
              "      <td>0</td>\n",
              "      <td>0</td>\n",
              "      <td>0</td>\n",
              "      <td>0</td>\n",
              "      <td>0</td>\n",
              "      <td>0</td>\n",
              "      <td>0</td>\n",
              "      <td>0</td>\n",
              "      <td>0</td>\n",
              "      <td>0</td>\n",
              "      <td>0</td>\n",
              "      <td>0</td>\n",
              "      <td>0</td>\n",
              "      <td>0</td>\n",
              "      <td>0</td>\n",
              "      <td>0</td>\n",
              "      <td>0</td>\n",
              "      <td>0</td>\n",
              "      <td>0</td>\n",
              "      <td>0</td>\n",
              "      <td>0</td>\n",
              "      <td>0</td>\n",
              "      <td>1</td>\n",
              "      <td>0</td>\n",
              "      <td>0</td>\n",
              "      <td>0</td>\n",
              "      <td>0</td>\n",
              "      <td>...</td>\n",
              "      <td>0</td>\n",
              "      <td>1</td>\n",
              "      <td>0</td>\n",
              "      <td>0</td>\n",
              "      <td>0</td>\n",
              "      <td>0</td>\n",
              "      <td>0</td>\n",
              "      <td>1</td>\n",
              "      <td>0</td>\n",
              "      <td>0</td>\n",
              "      <td>1</td>\n",
              "      <td>0</td>\n",
              "      <td>1</td>\n",
              "      <td>0</td>\n",
              "      <td>0</td>\n",
              "      <td>0</td>\n",
              "      <td>0</td>\n",
              "      <td>0</td>\n",
              "      <td>1</td>\n",
              "      <td>0</td>\n",
              "      <td>0</td>\n",
              "      <td>0</td>\n",
              "      <td>0</td>\n",
              "      <td>0</td>\n",
              "      <td>0</td>\n",
              "      <td>0</td>\n",
              "      <td>0</td>\n",
              "      <td>0</td>\n",
              "      <td>0</td>\n",
              "      <td>0</td>\n",
              "      <td>0</td>\n",
              "      <td>0</td>\n",
              "      <td>0</td>\n",
              "      <td>0</td>\n",
              "      <td>0</td>\n",
              "      <td>0</td>\n",
              "      <td>1</td>\n",
              "      <td>0</td>\n",
              "      <td>0</td>\n",
              "      <td>0</td>\n",
              "    </tr>\n",
              "  </tbody>\n",
              "</table>\n",
              "<p>3 rows × 100 columns</p>\n",
              "</div>"
            ],
            "text/plain": [
              "   year  price  acura  alfa-romeo  ...  red  silver  white  yellow\n",
              "0  2009   9000      0           0  ...    0       0      1       0\n",
              "1  2002   6000      0           0  ...    0       0      1       0\n",
              "2  2007   7000      0           0  ...    1       0      0       0\n",
              "\n",
              "[3 rows x 100 columns]"
            ]
          },
          "metadata": {
            "tags": []
          },
          "execution_count": 17
        }
      ]
    },
    {
      "cell_type": "code",
      "metadata": {
        "id": "5Iesa56hVz8s",
        "outputId": "a7f2e299-3798-41e4-ee37-c22330c57280",
        "colab": {
          "base_uri": "https://localhost:8080/",
          "height": 68
        }
      },
      "source": [
        "types = pd.DataFrame(df.dtypes)\n",
        "print(\"Tipos de variables\",types.groupby(0).size())"
      ],
      "execution_count": null,
      "outputs": [
        {
          "output_type": "stream",
          "text": [
            "Tipos de variables 0\n",
            "int64    100\n",
            "dtype: int64\n"
          ],
          "name": "stdout"
        }
      ]
    },
    {
      "cell_type": "code",
      "metadata": {
        "id": "bJHtVRv5v8Gp",
        "outputId": "030463e7-5f79-4eb9-dafc-b2ce14ccaf53",
        "colab": {
          "base_uri": "https://localhost:8080/",
          "height": 208
        }
      },
      "source": [
        "numeric_columns = list(set(types.index[types[0] ==\"int64\"].values) - set([\"price\"]))\n",
        "variables_consolidadas = df[numeric_columns]\n",
        "objetivo = df[\"price\"] #Variable objetivo de nuestra regresion.\n",
        "\n",
        "variables_consolidadas.head(3)"
      ],
      "execution_count": null,
      "outputs": [
        {
          "output_type": "execute_result",
          "data": {
            "text/html": [
              "<div>\n",
              "<style scoped>\n",
              "    .dataframe tbody tr th:only-of-type {\n",
              "        vertical-align: middle;\n",
              "    }\n",
              "\n",
              "    .dataframe tbody tr th {\n",
              "        vertical-align: top;\n",
              "    }\n",
              "\n",
              "    .dataframe thead th {\n",
              "        text-align: right;\n",
              "    }\n",
              "</style>\n",
              "<table border=\"1\" class=\"dataframe\">\n",
              "  <thead>\n",
              "    <tr style=\"text-align: right;\">\n",
              "      <th></th>\n",
              "      <th>brown</th>\n",
              "      <th>saturn</th>\n",
              "      <th>purple</th>\n",
              "      <th>bmw</th>\n",
              "      <th>mini-van</th>\n",
              "      <th>red</th>\n",
              "      <th>mini</th>\n",
              "      <th>salvage</th>\n",
              "      <th>salvage</th>\n",
              "      <th>mercedes-benz</th>\n",
              "      <th>gmc</th>\n",
              "      <th>compact</th>\n",
              "      <th>excellent</th>\n",
              "      <th>ram</th>\n",
              "      <th>audi</th>\n",
              "      <th>cadillac</th>\n",
              "      <th>sub-compact</th>\n",
              "      <th>blue</th>\n",
              "      <th>jaguar</th>\n",
              "      <th>gas</th>\n",
              "      <th>offroad</th>\n",
              "      <th>honda</th>\n",
              "      <th>good</th>\n",
              "      <th>parts only</th>\n",
              "      <th>rover</th>\n",
              "      <th>fair</th>\n",
              "      <th>rebuilt</th>\n",
              "      <th>lincoln</th>\n",
              "      <th>fwd</th>\n",
              "      <th>10 cylinders</th>\n",
              "      <th>convertible</th>\n",
              "      <th>sedan</th>\n",
              "      <th>12 cylinders</th>\n",
              "      <th>custom</th>\n",
              "      <th>ford</th>\n",
              "      <th>kia</th>\n",
              "      <th>green</th>\n",
              "      <th>pickup</th>\n",
              "      <th>white</th>\n",
              "      <th>jeep</th>\n",
              "      <th>...</th>\n",
              "      <th>chrysler</th>\n",
              "      <th>toyota</th>\n",
              "      <th>mercury</th>\n",
              "      <th>mitsubishi</th>\n",
              "      <th>clean</th>\n",
              "      <th>fiat</th>\n",
              "      <th>missing</th>\n",
              "      <th>volvo</th>\n",
              "      <th>volkswagen</th>\n",
              "      <th>chevrolet</th>\n",
              "      <th>rwd</th>\n",
              "      <th>electric</th>\n",
              "      <th>8 cylinders</th>\n",
              "      <th>wagon</th>\n",
              "      <th>hyundai</th>\n",
              "      <th>grey</th>\n",
              "      <th>lexus</th>\n",
              "      <th>mid-size</th>\n",
              "      <th>ferrari</th>\n",
              "      <th>like new</th>\n",
              "      <th>silver</th>\n",
              "      <th>4 cylinders</th>\n",
              "      <th>3 cylinders</th>\n",
              "      <th>SUV</th>\n",
              "      <th>harley-davidson</th>\n",
              "      <th>acura</th>\n",
              "      <th>hybrid</th>\n",
              "      <th>hennessey</th>\n",
              "      <th>year</th>\n",
              "      <th>pontiac</th>\n",
              "      <th>lien</th>\n",
              "      <th>bus</th>\n",
              "      <th>truck</th>\n",
              "      <th>diesel</th>\n",
              "      <th>6 cylinders</th>\n",
              "      <th>subaru</th>\n",
              "      <th>buick</th>\n",
              "      <th>aston-martin</th>\n",
              "      <th>coupe</th>\n",
              "      <th>manual</th>\n",
              "    </tr>\n",
              "  </thead>\n",
              "  <tbody>\n",
              "    <tr>\n",
              "      <th>0</th>\n",
              "      <td>0</td>\n",
              "      <td>0</td>\n",
              "      <td>0</td>\n",
              "      <td>0</td>\n",
              "      <td>0</td>\n",
              "      <td>0</td>\n",
              "      <td>0</td>\n",
              "      <td>0</td>\n",
              "      <td>0</td>\n",
              "      <td>0</td>\n",
              "      <td>0</td>\n",
              "      <td>0</td>\n",
              "      <td>0</td>\n",
              "      <td>0</td>\n",
              "      <td>0</td>\n",
              "      <td>0</td>\n",
              "      <td>0</td>\n",
              "      <td>0</td>\n",
              "      <td>0</td>\n",
              "      <td>1</td>\n",
              "      <td>0</td>\n",
              "      <td>0</td>\n",
              "      <td>1</td>\n",
              "      <td>0</td>\n",
              "      <td>0</td>\n",
              "      <td>0</td>\n",
              "      <td>0</td>\n",
              "      <td>0</td>\n",
              "      <td>0</td>\n",
              "      <td>0</td>\n",
              "      <td>0</td>\n",
              "      <td>0</td>\n",
              "      <td>0</td>\n",
              "      <td>0</td>\n",
              "      <td>0</td>\n",
              "      <td>0</td>\n",
              "      <td>0</td>\n",
              "      <td>0</td>\n",
              "      <td>1</td>\n",
              "      <td>0</td>\n",
              "      <td>...</td>\n",
              "      <td>0</td>\n",
              "      <td>0</td>\n",
              "      <td>0</td>\n",
              "      <td>0</td>\n",
              "      <td>1</td>\n",
              "      <td>0</td>\n",
              "      <td>0</td>\n",
              "      <td>0</td>\n",
              "      <td>0</td>\n",
              "      <td>1</td>\n",
              "      <td>1</td>\n",
              "      <td>0</td>\n",
              "      <td>1</td>\n",
              "      <td>0</td>\n",
              "      <td>0</td>\n",
              "      <td>0</td>\n",
              "      <td>0</td>\n",
              "      <td>0</td>\n",
              "      <td>0</td>\n",
              "      <td>0</td>\n",
              "      <td>0</td>\n",
              "      <td>0</td>\n",
              "      <td>0</td>\n",
              "      <td>1</td>\n",
              "      <td>0</td>\n",
              "      <td>0</td>\n",
              "      <td>0</td>\n",
              "      <td>0</td>\n",
              "      <td>2009</td>\n",
              "      <td>0</td>\n",
              "      <td>0</td>\n",
              "      <td>0</td>\n",
              "      <td>0</td>\n",
              "      <td>0</td>\n",
              "      <td>0</td>\n",
              "      <td>0</td>\n",
              "      <td>0</td>\n",
              "      <td>0</td>\n",
              "      <td>0</td>\n",
              "      <td>0</td>\n",
              "    </tr>\n",
              "    <tr>\n",
              "      <th>1</th>\n",
              "      <td>0</td>\n",
              "      <td>0</td>\n",
              "      <td>0</td>\n",
              "      <td>0</td>\n",
              "      <td>0</td>\n",
              "      <td>0</td>\n",
              "      <td>0</td>\n",
              "      <td>0</td>\n",
              "      <td>0</td>\n",
              "      <td>0</td>\n",
              "      <td>1</td>\n",
              "      <td>0</td>\n",
              "      <td>0</td>\n",
              "      <td>0</td>\n",
              "      <td>0</td>\n",
              "      <td>0</td>\n",
              "      <td>0</td>\n",
              "      <td>0</td>\n",
              "      <td>0</td>\n",
              "      <td>1</td>\n",
              "      <td>0</td>\n",
              "      <td>0</td>\n",
              "      <td>1</td>\n",
              "      <td>0</td>\n",
              "      <td>0</td>\n",
              "      <td>0</td>\n",
              "      <td>0</td>\n",
              "      <td>0</td>\n",
              "      <td>0</td>\n",
              "      <td>0</td>\n",
              "      <td>0</td>\n",
              "      <td>0</td>\n",
              "      <td>0</td>\n",
              "      <td>0</td>\n",
              "      <td>0</td>\n",
              "      <td>0</td>\n",
              "      <td>0</td>\n",
              "      <td>1</td>\n",
              "      <td>1</td>\n",
              "      <td>0</td>\n",
              "      <td>...</td>\n",
              "      <td>0</td>\n",
              "      <td>0</td>\n",
              "      <td>0</td>\n",
              "      <td>0</td>\n",
              "      <td>1</td>\n",
              "      <td>0</td>\n",
              "      <td>0</td>\n",
              "      <td>0</td>\n",
              "      <td>0</td>\n",
              "      <td>0</td>\n",
              "      <td>0</td>\n",
              "      <td>0</td>\n",
              "      <td>1</td>\n",
              "      <td>0</td>\n",
              "      <td>0</td>\n",
              "      <td>0</td>\n",
              "      <td>0</td>\n",
              "      <td>0</td>\n",
              "      <td>0</td>\n",
              "      <td>0</td>\n",
              "      <td>0</td>\n",
              "      <td>0</td>\n",
              "      <td>0</td>\n",
              "      <td>0</td>\n",
              "      <td>0</td>\n",
              "      <td>0</td>\n",
              "      <td>0</td>\n",
              "      <td>0</td>\n",
              "      <td>2002</td>\n",
              "      <td>0</td>\n",
              "      <td>0</td>\n",
              "      <td>0</td>\n",
              "      <td>0</td>\n",
              "      <td>0</td>\n",
              "      <td>0</td>\n",
              "      <td>0</td>\n",
              "      <td>0</td>\n",
              "      <td>0</td>\n",
              "      <td>0</td>\n",
              "      <td>0</td>\n",
              "    </tr>\n",
              "    <tr>\n",
              "      <th>2</th>\n",
              "      <td>0</td>\n",
              "      <td>0</td>\n",
              "      <td>0</td>\n",
              "      <td>0</td>\n",
              "      <td>0</td>\n",
              "      <td>1</td>\n",
              "      <td>0</td>\n",
              "      <td>0</td>\n",
              "      <td>0</td>\n",
              "      <td>0</td>\n",
              "      <td>0</td>\n",
              "      <td>1</td>\n",
              "      <td>1</td>\n",
              "      <td>0</td>\n",
              "      <td>0</td>\n",
              "      <td>0</td>\n",
              "      <td>0</td>\n",
              "      <td>0</td>\n",
              "      <td>0</td>\n",
              "      <td>1</td>\n",
              "      <td>0</td>\n",
              "      <td>0</td>\n",
              "      <td>0</td>\n",
              "      <td>0</td>\n",
              "      <td>0</td>\n",
              "      <td>0</td>\n",
              "      <td>0</td>\n",
              "      <td>0</td>\n",
              "      <td>1</td>\n",
              "      <td>0</td>\n",
              "      <td>1</td>\n",
              "      <td>0</td>\n",
              "      <td>0</td>\n",
              "      <td>0</td>\n",
              "      <td>0</td>\n",
              "      <td>0</td>\n",
              "      <td>0</td>\n",
              "      <td>0</td>\n",
              "      <td>0</td>\n",
              "      <td>0</td>\n",
              "      <td>...</td>\n",
              "      <td>0</td>\n",
              "      <td>0</td>\n",
              "      <td>0</td>\n",
              "      <td>0</td>\n",
              "      <td>1</td>\n",
              "      <td>0</td>\n",
              "      <td>0</td>\n",
              "      <td>0</td>\n",
              "      <td>0</td>\n",
              "      <td>0</td>\n",
              "      <td>0</td>\n",
              "      <td>0</td>\n",
              "      <td>0</td>\n",
              "      <td>0</td>\n",
              "      <td>0</td>\n",
              "      <td>0</td>\n",
              "      <td>0</td>\n",
              "      <td>0</td>\n",
              "      <td>0</td>\n",
              "      <td>0</td>\n",
              "      <td>0</td>\n",
              "      <td>1</td>\n",
              "      <td>0</td>\n",
              "      <td>0</td>\n",
              "      <td>0</td>\n",
              "      <td>0</td>\n",
              "      <td>0</td>\n",
              "      <td>0</td>\n",
              "      <td>2007</td>\n",
              "      <td>1</td>\n",
              "      <td>0</td>\n",
              "      <td>0</td>\n",
              "      <td>0</td>\n",
              "      <td>0</td>\n",
              "      <td>0</td>\n",
              "      <td>0</td>\n",
              "      <td>0</td>\n",
              "      <td>0</td>\n",
              "      <td>0</td>\n",
              "      <td>0</td>\n",
              "    </tr>\n",
              "  </tbody>\n",
              "</table>\n",
              "<p>3 rows × 99 columns</p>\n",
              "</div>"
            ],
            "text/plain": [
              "   brown  saturn  purple  bmw  ...  buick  aston-martin  coupe  manual\n",
              "0      0       0       0    0  ...      0             0      0       0\n",
              "1      0       0       0    0  ...      0             0      0       0\n",
              "2      0       0       0    0  ...      0             0      0       0\n",
              "\n",
              "[3 rows x 99 columns]"
            ]
          },
          "metadata": {
            "tags": []
          },
          "execution_count": 19
        }
      ]
    },
    {
      "cell_type": "markdown",
      "metadata": {
        "id": "zNe4ZFzCv_H_"
      },
      "source": [
        "## 3. Separa el set de datos consolidados en 3 sets (entrenamiento, prueba y validación) de acuerdo con las recomendaciones vistas en el curso."
      ]
    },
    {
      "cell_type": "code",
      "metadata": {
        "id": "G5AuewISv_IB",
        "outputId": "e6f7a0b8-875b-4af0-ff20-e640d812fa15",
        "colab": {
          "base_uri": "https://localhost:8080/",
          "height": 119
        }
      },
      "source": [
        "from sklearn.model_selection import train_test_split\n",
        "#Entrenamiento y prueba con relación 80:20\n",
        "x_train, x_test, y_train, y_test = train_test_split(variables_consolidadas,objetivo, test_size=0.2,random_state=2020)\n",
        "#Entrenamiento y validación con relación 90:10\n",
        "x_train, x_val, y_train, y_val = train_test_split(x_train,y_train, test_size=0.1, random_state=2020)\n",
        "\n",
        "y_train=y_train.values.reshape(-1,1)\n",
        "y_test=y_test.values.reshape(-1,1)\n",
        "y_val=y_val.values.reshape(-1,1)\n",
        "\n",
        "print(\"Shape of x_train:\",x_train.shape)\n",
        "print(\"Shape of x_test:\",x_test.shape)\n",
        "print(\"Shape of x_val:\",x_val.shape)\n",
        "print(\"Shape of y_train:\",y_train.shape)\n",
        "print(\"Shape of y_test:\",y_test.shape)\n",
        "print(\"Shape of y_val:\",y_val.shape)"
      ],
      "execution_count": null,
      "outputs": [
        {
          "output_type": "stream",
          "text": [
            "Shape of x_train: (312869, 99)\n",
            "Shape of x_test: (86909, 99)\n",
            "Shape of x_val: (34764, 99)\n",
            "Shape of y_train: (312869, 1)\n",
            "Shape of y_test: (86909, 1)\n",
            "Shape of y_val: (34764, 1)\n"
          ],
          "name": "stdout"
        }
      ]
    },
    {
      "cell_type": "markdown",
      "metadata": {
        "id": "uag4CiNBv_IG"
      },
      "source": [
        "<h1 id=\"arquitectura\">Diseño, Entrenamiento y Evaluación de la RN</h1>\n",
        "\n",
        "Una vez consolidado los sets de información de entrenamiento, validacion y pruebas ya podemos iniciar a modelar nuestra red neuronal con las siguientes consideraciones:\n",
        "* Realiza la prueba con un par de arquitecturas iniciales.\n",
        "* Evalua el desempeño de la red.\n",
        "* Si el desempeño es bajo vuelve a la información y prueba estrategias de estandarización de la información."
      ]
    },
    {
      "cell_type": "markdown",
      "metadata": {
        "id": "528iJ6fQ86ds"
      },
      "source": [
        "## 4. Implementa una red neuronal cuyas pérdidas (MSE) con el set de prueba sea menor a 0.40."
      ]
    },
    {
      "cell_type": "code",
      "metadata": {
        "id": "Y6TWVkxGmcIB"
      },
      "source": [
        "from sklearn.preprocessing import StandardScaler\n",
        "scaler = StandardScaler()\n",
        "scaler.fit(x_train)\n",
        "x_train_scaled = scaler.transform(x_train)\n",
        "x_val_scaled = scaler.transform(x_val)\n",
        "x_test_scaled = scaler.transform(x_test)\n",
        "\n",
        "scaler1 = StandardScaler()\n",
        "scaler1.fit(y_train)\n",
        "y_train_scaled = scaler1.transform(y_train)\n",
        "y_val_scaled = scaler1.transform(y_val)\n",
        "y_test_scaled = scaler1.transform(y_test)"
      ],
      "execution_count": null,
      "outputs": []
    },
    {
      "cell_type": "code",
      "metadata": {
        "id": "7FP6XYhiwCQz",
        "outputId": "f84dbfc5-51c1-46a8-8f02-66f207d04eaa",
        "colab": {
          "base_uri": "https://localhost:8080/",
          "height": 340
        }
      },
      "source": [
        "from keras.models import Sequential\n",
        "from keras.layers import Dense, Dropout\n",
        "from keras.utils import plot_model\n",
        "\n",
        "model = Sequential()\n",
        "model.add(Dense(256,input_dim = x_train.shape[1],activation=\"relu\"))\n",
        "model.add(Dense(128,activation=\"relu\"))\n",
        "model.add(Dense(128,activation=\"relu\"))\n",
        "model.add(Dropout(0.2))\n",
        "model.add(Dense(1,activation = \"linear\")) \n",
        "model.compile(optimizer = \"adam\",loss=\"mse\",metrics=[\"mean_absolute_error\"])\n",
        "\n",
        "print(model.summary())"
      ],
      "execution_count": null,
      "outputs": [
        {
          "output_type": "stream",
          "text": [
            "Model: \"sequential\"\n",
            "_________________________________________________________________\n",
            "Layer (type)                 Output Shape              Param #   \n",
            "=================================================================\n",
            "dense (Dense)                (None, 256)               25600     \n",
            "_________________________________________________________________\n",
            "dense_1 (Dense)              (None, 128)               32896     \n",
            "_________________________________________________________________\n",
            "dense_2 (Dense)              (None, 128)               16512     \n",
            "_________________________________________________________________\n",
            "dropout (Dropout)            (None, 128)               0         \n",
            "_________________________________________________________________\n",
            "dense_3 (Dense)              (None, 1)                 129       \n",
            "=================================================================\n",
            "Total params: 75,137\n",
            "Trainable params: 75,137\n",
            "Non-trainable params: 0\n",
            "_________________________________________________________________\n",
            "None\n"
          ],
          "name": "stdout"
        }
      ]
    },
    {
      "cell_type": "code",
      "metadata": {
        "id": "H-y9uDZh_gxS",
        "outputId": "d779c8ce-a49a-4a0f-8a08-788a50f30da7",
        "colab": {
          "base_uri": "https://localhost:8080/",
          "height": 1000
        }
      },
      "source": [
        "history = model.fit(x_train_scaled,y_train_scaled, validation_data = (x_val_scaled,y_val_scaled),epochs=50, batch_size=1024)"
      ],
      "execution_count": null,
      "outputs": [
        {
          "output_type": "stream",
          "text": [
            "Epoch 1/50\n",
            "306/306 [==============================] - 5s 15ms/step - loss: 0.3053 - mean_absolute_error: 0.3625 - val_loss: 0.3816 - val_mean_absolute_error: 0.3924\n",
            "Epoch 2/50\n",
            "306/306 [==============================] - 4s 14ms/step - loss: 0.3058 - mean_absolute_error: 0.3628 - val_loss: 0.3780 - val_mean_absolute_error: 0.3931\n",
            "Epoch 3/50\n",
            "306/306 [==============================] - 4s 14ms/step - loss: 0.3025 - mean_absolute_error: 0.3608 - val_loss: 0.3763 - val_mean_absolute_error: 0.3901\n",
            "Epoch 4/50\n",
            "306/306 [==============================] - 4s 14ms/step - loss: 0.3037 - mean_absolute_error: 0.3616 - val_loss: 0.3816 - val_mean_absolute_error: 0.3948\n",
            "Epoch 5/50\n",
            "306/306 [==============================] - 4s 14ms/step - loss: 0.3025 - mean_absolute_error: 0.3605 - val_loss: 0.3800 - val_mean_absolute_error: 0.3975\n",
            "Epoch 6/50\n",
            "306/306 [==============================] - 4s 14ms/step - loss: 0.3024 - mean_absolute_error: 0.3602 - val_loss: 0.3753 - val_mean_absolute_error: 0.3900\n",
            "Epoch 7/50\n",
            "306/306 [==============================] - 4s 14ms/step - loss: 0.3009 - mean_absolute_error: 0.3594 - val_loss: 0.3777 - val_mean_absolute_error: 0.3909\n",
            "Epoch 8/50\n",
            "306/306 [==============================] - 4s 14ms/step - loss: 0.2998 - mean_absolute_error: 0.3588 - val_loss: 0.3728 - val_mean_absolute_error: 0.3898\n",
            "Epoch 9/50\n",
            "306/306 [==============================] - 4s 14ms/step - loss: 0.2983 - mean_absolute_error: 0.3581 - val_loss: 0.3775 - val_mean_absolute_error: 0.3925\n",
            "Epoch 10/50\n",
            "306/306 [==============================] - 4s 14ms/step - loss: 0.2979 - mean_absolute_error: 0.3579 - val_loss: 0.3748 - val_mean_absolute_error: 0.3918\n",
            "Epoch 11/50\n",
            "306/306 [==============================] - 4s 14ms/step - loss: 0.2969 - mean_absolute_error: 0.3571 - val_loss: 0.3780 - val_mean_absolute_error: 0.3943\n",
            "Epoch 12/50\n",
            "306/306 [==============================] - 4s 15ms/step - loss: 0.2964 - mean_absolute_error: 0.3568 - val_loss: 0.3790 - val_mean_absolute_error: 0.3916\n",
            "Epoch 13/50\n",
            "306/306 [==============================] - 4s 15ms/step - loss: 0.2953 - mean_absolute_error: 0.3561 - val_loss: 0.3863 - val_mean_absolute_error: 0.3932\n",
            "Epoch 14/50\n",
            "306/306 [==============================] - 4s 15ms/step - loss: 0.2954 - mean_absolute_error: 0.3568 - val_loss: 0.3768 - val_mean_absolute_error: 0.3893\n",
            "Epoch 15/50\n",
            "306/306 [==============================] - 4s 15ms/step - loss: 0.2949 - mean_absolute_error: 0.3561 - val_loss: 0.3795 - val_mean_absolute_error: 0.3887\n",
            "Epoch 16/50\n",
            "306/306 [==============================] - 4s 14ms/step - loss: 0.2950 - mean_absolute_error: 0.3560 - val_loss: 0.3758 - val_mean_absolute_error: 0.3914\n",
            "Epoch 17/50\n",
            "306/306 [==============================] - 4s 14ms/step - loss: 0.2946 - mean_absolute_error: 0.3553 - val_loss: 0.3789 - val_mean_absolute_error: 0.3887\n",
            "Epoch 18/50\n",
            "306/306 [==============================] - 4s 14ms/step - loss: 0.2928 - mean_absolute_error: 0.3543 - val_loss: 0.3744 - val_mean_absolute_error: 0.3890\n",
            "Epoch 19/50\n",
            "306/306 [==============================] - 4s 15ms/step - loss: 0.2919 - mean_absolute_error: 0.3543 - val_loss: 0.3762 - val_mean_absolute_error: 0.3879\n",
            "Epoch 20/50\n",
            "306/306 [==============================] - 4s 14ms/step - loss: 0.2912 - mean_absolute_error: 0.3531 - val_loss: 0.3740 - val_mean_absolute_error: 0.3895\n",
            "Epoch 21/50\n",
            "306/306 [==============================] - 4s 14ms/step - loss: 0.2904 - mean_absolute_error: 0.3531 - val_loss: 0.3764 - val_mean_absolute_error: 0.3878\n",
            "Epoch 22/50\n",
            "306/306 [==============================] - 4s 15ms/step - loss: 0.2901 - mean_absolute_error: 0.3527 - val_loss: 0.3785 - val_mean_absolute_error: 0.3893\n",
            "Epoch 23/50\n",
            "306/306 [==============================] - 4s 14ms/step - loss: 0.2894 - mean_absolute_error: 0.3528 - val_loss: 0.3715 - val_mean_absolute_error: 0.3866\n",
            "Epoch 24/50\n",
            "306/306 [==============================] - 5s 15ms/step - loss: 0.2885 - mean_absolute_error: 0.3520 - val_loss: 0.3787 - val_mean_absolute_error: 0.3924\n",
            "Epoch 25/50\n",
            "306/306 [==============================] - 4s 14ms/step - loss: 0.2879 - mean_absolute_error: 0.3518 - val_loss: 0.3780 - val_mean_absolute_error: 0.3918\n",
            "Epoch 26/50\n",
            "306/306 [==============================] - 4s 14ms/step - loss: 0.2874 - mean_absolute_error: 0.3514 - val_loss: 0.3809 - val_mean_absolute_error: 0.3902\n",
            "Epoch 27/50\n",
            "306/306 [==============================] - 4s 14ms/step - loss: 0.2872 - mean_absolute_error: 0.3514 - val_loss: 0.3758 - val_mean_absolute_error: 0.3922\n",
            "Epoch 28/50\n",
            "306/306 [==============================] - 4s 14ms/step - loss: 0.2868 - mean_absolute_error: 0.3509 - val_loss: 0.3740 - val_mean_absolute_error: 0.3875\n",
            "Epoch 29/50\n",
            "306/306 [==============================] - 4s 14ms/step - loss: 0.2849 - mean_absolute_error: 0.3496 - val_loss: 0.3782 - val_mean_absolute_error: 0.3900\n",
            "Epoch 30/50\n",
            "306/306 [==============================] - 4s 14ms/step - loss: 0.2850 - mean_absolute_error: 0.3499 - val_loss: 0.3730 - val_mean_absolute_error: 0.3920\n",
            "Epoch 31/50\n",
            "306/306 [==============================] - 4s 14ms/step - loss: 0.2844 - mean_absolute_error: 0.3497 - val_loss: 0.3727 - val_mean_absolute_error: 0.3880\n",
            "Epoch 32/50\n",
            "306/306 [==============================] - 4s 14ms/step - loss: 0.2841 - mean_absolute_error: 0.3495 - val_loss: 0.3766 - val_mean_absolute_error: 0.3881\n",
            "Epoch 33/50\n",
            "306/306 [==============================] - 4s 15ms/step - loss: 0.2836 - mean_absolute_error: 0.3493 - val_loss: 0.3766 - val_mean_absolute_error: 0.3912\n",
            "Epoch 34/50\n",
            "306/306 [==============================] - 4s 14ms/step - loss: 0.2832 - mean_absolute_error: 0.3484 - val_loss: 0.3748 - val_mean_absolute_error: 0.3866\n",
            "Epoch 35/50\n",
            "306/306 [==============================] - 4s 14ms/step - loss: 0.2828 - mean_absolute_error: 0.3483 - val_loss: 0.3745 - val_mean_absolute_error: 0.3864\n",
            "Epoch 36/50\n",
            "306/306 [==============================] - 4s 14ms/step - loss: 0.2831 - mean_absolute_error: 0.3483 - val_loss: 0.3751 - val_mean_absolute_error: 0.3865\n",
            "Epoch 37/50\n",
            "306/306 [==============================] - 4s 14ms/step - loss: 0.2821 - mean_absolute_error: 0.3480 - val_loss: 0.3795 - val_mean_absolute_error: 0.3872\n",
            "Epoch 38/50\n",
            "306/306 [==============================] - 4s 14ms/step - loss: 0.2803 - mean_absolute_error: 0.3464 - val_loss: 0.3748 - val_mean_absolute_error: 0.3866\n",
            "Epoch 39/50\n",
            "306/306 [==============================] - 4s 14ms/step - loss: 0.2815 - mean_absolute_error: 0.3475 - val_loss: 0.3718 - val_mean_absolute_error: 0.3859\n",
            "Epoch 40/50\n",
            "306/306 [==============================] - 4s 14ms/step - loss: 0.2804 - mean_absolute_error: 0.3465 - val_loss: 0.3777 - val_mean_absolute_error: 0.3910\n",
            "Epoch 41/50\n",
            "306/306 [==============================] - 4s 14ms/step - loss: 0.2800 - mean_absolute_error: 0.3464 - val_loss: 0.3779 - val_mean_absolute_error: 0.3856\n",
            "Epoch 42/50\n",
            "306/306 [==============================] - 4s 15ms/step - loss: 0.2798 - mean_absolute_error: 0.3463 - val_loss: 0.3744 - val_mean_absolute_error: 0.3870\n",
            "Epoch 43/50\n",
            "306/306 [==============================] - 5s 15ms/step - loss: 0.2796 - mean_absolute_error: 0.3466 - val_loss: 0.3811 - val_mean_absolute_error: 0.3855\n",
            "Epoch 44/50\n",
            "306/306 [==============================] - 5s 15ms/step - loss: 0.2820 - mean_absolute_error: 0.3473 - val_loss: 0.3803 - val_mean_absolute_error: 0.3879\n",
            "Epoch 45/50\n",
            "306/306 [==============================] - 4s 15ms/step - loss: 0.2814 - mean_absolute_error: 0.3470 - val_loss: 0.3947 - val_mean_absolute_error: 0.3862\n",
            "Epoch 46/50\n",
            "306/306 [==============================] - 4s 15ms/step - loss: 0.2879 - mean_absolute_error: 0.3475 - val_loss: 0.3750 - val_mean_absolute_error: 0.3859\n",
            "Epoch 47/50\n",
            "306/306 [==============================] - 4s 14ms/step - loss: 0.2786 - mean_absolute_error: 0.3454 - val_loss: 0.3785 - val_mean_absolute_error: 0.3884\n",
            "Epoch 48/50\n",
            "306/306 [==============================] - 4s 14ms/step - loss: 0.2775 - mean_absolute_error: 0.3448 - val_loss: 0.3722 - val_mean_absolute_error: 0.3848\n",
            "Epoch 49/50\n",
            "306/306 [==============================] - 4s 14ms/step - loss: 0.2772 - mean_absolute_error: 0.3448 - val_loss: 0.3775 - val_mean_absolute_error: 0.3875\n",
            "Epoch 50/50\n",
            "306/306 [==============================] - 4s 14ms/step - loss: 0.2771 - mean_absolute_error: 0.3443 - val_loss: 0.3771 - val_mean_absolute_error: 0.3843\n"
          ],
          "name": "stdout"
        }
      ]
    },
    {
      "cell_type": "markdown",
      "metadata": {
        "id": "3k0Wh9dIwCRD"
      },
      "source": [
        "Ahora realiza la evaluación del modelo con el set de entrenamiento."
      ]
    },
    {
      "cell_type": "code",
      "metadata": {
        "id": "3-1n0hKcwCRD",
        "outputId": "64697cf2-48f2-4b08-ef4a-fd6cf82c7d48",
        "colab": {
          "base_uri": "https://localhost:8080/",
          "height": 68
        }
      },
      "source": [
        "result = model.evaluate(x_test_scaled,y_test_scaled)\n",
        "for i in range(len(model.metrics_names)):\n",
        " print(\"Metric \",model.metrics_names[i],\":\",\n",
        "str(round(result[i],2)))"
      ],
      "execution_count": null,
      "outputs": [
        {
          "output_type": "stream",
          "text": [
            "2716/2716 [==============================] - 3s 963us/step - loss: 0.3812 - mean_absolute_error: 0.3957\n",
            "Metric  loss : 0.38\n",
            "Metric  mean_absolute_error : 0.4\n"
          ],
          "name": "stdout"
        }
      ]
    },
    {
      "cell_type": "markdown",
      "metadata": {
        "id": "owT0Fwf0_N3i"
      },
      "source": [
        "Si tu modelo cumple con el requerimiento guardalo con el siguiente comando:"
      ]
    },
    {
      "cell_type": "code",
      "metadata": {
        "id": "bsuyXASg-aS0"
      },
      "source": [
        "model.save('PrediccionPrecios.h5')"
      ],
      "execution_count": null,
      "outputs": []
    },
    {
      "cell_type": "markdown",
      "metadata": {
        "id": "A0jrCeGnwFN6"
      },
      "source": [
        "## 5. Realiza un gráfico que evidencia la evolución de la función de pérdidas a traves de las distintas épocas de entrenamiento."
      ]
    },
    {
      "cell_type": "code",
      "metadata": {
        "id": "2mIbnEBAwFN9",
        "outputId": "6eb65016-a955-46b8-d171-6643faf5b373",
        "colab": {
          "base_uri": "https://localhost:8080/",
          "height": 406
        }
      },
      "source": [
        "import matplotlib.pyplot as plt\n",
        "%matplotlib inline\n",
        "plt.figure(figsize=(13,6))\n",
        "plt.plot(model.history.history['loss'])\n",
        "plt.plot(model.history.history['val_loss'])\n",
        "plt.title(\"Pérdidas del modelo con set de entrenamiento y pruebas por época\")\n",
        "plt.ylabel('MSE')\n",
        "plt.xlabel('Épocas')\n",
        "plt.legend(['Entrenamiento', 'Validación'], loc='upper right')\n",
        "plt.show()"
      ],
      "execution_count": null,
      "outputs": [
        {
          "output_type": "display_data",
          "data": {
            "image/png": "[encoded data removed]",
            "text/plain": [
              "<Figure size 936x432 with 1 Axes>"
            ]
          },
          "metadata": {
            "tags": [],
            "needs_background": "light"
          }
        }
      ]
    },
    {
      "cell_type": "markdown",
      "metadata": {
        "id": "zuxUV14zEYZ9"
      },
      "source": [
        "Trata de realizar predicciones con el modelo"
      ]
    },
    {
      "cell_type": "code",
      "metadata": {
        "id": "08YjMOGlE0Z4",
        "outputId": "fa675951-ef76-4701-deb1-a58a3887afd1",
        "colab": {
          "base_uri": "https://localhost:8080/",
          "height": 102
        }
      },
      "source": [
        "real=pd.DataFrame(y_train)\n",
        "predic=model.predict(pd.DataFrame(x_train_scaled))\n",
        "valores_reescalados = scaler1.inverse_transform(predic)\n",
        "pred_escal =pd.DataFrame(valores_reescalados)\n",
        "# Muestra los valores reales y las predicciones\n",
        "for i in range(0,5):\n",
        "\tprint(\"Real=%s, Prediccion=%s\" % (real[0][i], pred_escal[0][i]))"
      ],
      "execution_count": null,
      "outputs": [
        {
          "output_type": "stream",
          "text": [
            "Real=18650, Prediccion=17406.791\n",
            "Real=9950, Prediccion=9760.529\n",
            "Real=2000, Prediccion=3865.2964\n",
            "Real=7999, Prediccion=4964.0054\n",
            "Real=23999, Prediccion=22243.242\n"
          ],
          "name": "stdout"
        }
      ]
    }
  ]
}