{
  "nbformat": 4,
  "nbformat_minor": 0,
  "metadata": {
    "colab": {
      "name": "DeepLearning_Pytorch.ipynb",
      "provenance": [],
      "collapsed_sections": [
        "UrC5-ps_AE1f",
        "BF2_TJDRvCxF",
        "6ILrvFKlXq34",
        "rQHJUgCNXxkt",
        "Kz_fuDwjC3S2",
        "-v1DdLotxGN_",
        "_pEYK1Fe1rqr",
        "LaoB2IyJuoUX",
        "3IX06a-QnGNF",
        "P7BM6YJoA1_R",
        "Hp-tD3PbFHsO",
        "d9Fkqhu-vWV7",
        "kIERK44O4eGU",
        "PGtQXa44HzQt",
        "JTRfBqeyC-CT",
        "FIdmx1HRwmJ1",
        "9C29Tbc1tSJp",
        "D_JIBPa4hxtO",
        "la4V5zue6yJM",
        "BlSQhm88U2ib",
        "GpLT49WhmtfM",
        "mvVeQTTGqcUp",
        "7Kop1cIlztNv"
      ],
      "authorship_tag": "ABX9TyMFo3+CB3klWfoBWYSd8yBl",
      "include_colab_link": true
    },
    "kernelspec": {
      "name": "python3",
      "display_name": "Python 3"
    },
    "accelerator": "GPU",
    "widgets": {
      "application/vnd.jupyter.widget-state+json": {
        "1cba372b406f4314ad7c2a025a087511": {
          "model_module": "@jupyter-widgets/controls",
          "model_name": "HBoxModel",
          "state": {
            "_view_name": "HBoxView",
            "_dom_classes": [],
            "_model_name": "HBoxModel",
            "_view_module": "@jupyter-widgets/controls",
            "_model_module_version": "1.5.0",
            "_view_count": null,
            "_view_module_version": "1.5.0",
            "box_style": "",
            "layout": "IPY_MODEL_56f818c279d74cd392de8c96451ebfac",
            "_model_module": "@jupyter-widgets/controls",
            "children": [
              "IPY_MODEL_6089dfecdf64405984637860e8c4f111",
              "IPY_MODEL_a22cc768fe05416dafb0e9134213db79"
            ]
          }
        },
        "56f818c279d74cd392de8c96451ebfac": {
          "model_module": "@jupyter-widgets/base",
          "model_name": "LayoutModel",
          "state": {
            "_view_name": "LayoutView",
            "grid_template_rows": null,
            "right": null,
            "justify_content": null,
            "_view_module": "@jupyter-widgets/base",
            "overflow": null,
            "_model_module_version": "1.2.0",
            "_view_count": null,
            "flex_flow": null,
            "width": null,
            "min_width": null,
            "border": null,
            "align_items": null,
            "bottom": null,
            "_model_module": "@jupyter-widgets/base",
            "top": null,
            "grid_column": null,
            "overflow_y": null,
            "overflow_x": null,
            "grid_auto_flow": null,
            "grid_area": null,
            "grid_template_columns": null,
            "flex": null,
            "_model_name": "LayoutModel",
            "justify_items": null,
            "grid_row": null,
            "max_height": null,
            "align_content": null,
            "visibility": null,
            "align_self": null,
            "height": null,
            "min_height": null,
            "padding": null,
            "grid_auto_rows": null,
            "grid_gap": null,
            "max_width": null,
            "order": null,
            "_view_module_version": "1.2.0",
            "grid_template_areas": null,
            "object_position": null,
            "object_fit": null,
            "grid_auto_columns": null,
            "margin": null,
            "display": null,
            "left": null
          }
        },
        "6089dfecdf64405984637860e8c4f111": {
          "model_module": "@jupyter-widgets/controls",
          "model_name": "FloatProgressModel",
          "state": {
            "_view_name": "ProgressView",
            "style": "IPY_MODEL_edc49aa380a24718837d5ba3f32ccf42",
            "_dom_classes": [],
            "description": "",
            "_model_name": "FloatProgressModel",
            "bar_style": "info",
            "max": 1,
            "_view_module": "@jupyter-widgets/controls",
            "_model_module_version": "1.5.0",
            "value": 1,
            "_view_count": null,
            "_view_module_version": "1.5.0",
            "orientation": "horizontal",
            "min": 0,
            "description_tooltip": null,
            "_model_module": "@jupyter-widgets/controls",
            "layout": "IPY_MODEL_f10c7d19a8eb4c63acb8de08b75859aa"
          }
        },
        "a22cc768fe05416dafb0e9134213db79": {
          "model_module": "@jupyter-widgets/controls",
          "model_name": "HTMLModel",
          "state": {
            "_view_name": "HTMLView",
            "style": "IPY_MODEL_d5dabd65f1a646a68cd4f5ce4d168f0a",
            "_dom_classes": [],
            "description": "",
            "_model_name": "HTMLModel",
            "placeholder": "​",
            "_view_module": "@jupyter-widgets/controls",
            "_model_module_version": "1.5.0",
            "value": " 170500096/? [00:20&lt;00:00, 53272447.48it/s]",
            "_view_count": null,
            "_view_module_version": "1.5.0",
            "description_tooltip": null,
            "_model_module": "@jupyter-widgets/controls",
            "layout": "IPY_MODEL_3e2535e5a289440092534394df04f85d"
          }
        },
        "edc49aa380a24718837d5ba3f32ccf42": {
          "model_module": "@jupyter-widgets/controls",
          "model_name": "ProgressStyleModel",
          "state": {
            "_view_name": "StyleView",
            "_model_name": "ProgressStyleModel",
            "description_width": "initial",
            "_view_module": "@jupyter-widgets/base",
            "_model_module_version": "1.5.0",
            "_view_count": null,
            "_view_module_version": "1.2.0",
            "bar_color": null,
            "_model_module": "@jupyter-widgets/controls"
          }
        },
        "f10c7d19a8eb4c63acb8de08b75859aa": {
          "model_module": "@jupyter-widgets/base",
          "model_name": "LayoutModel",
          "state": {
            "_view_name": "LayoutView",
            "grid_template_rows": null,
            "right": null,
            "justify_content": null,
            "_view_module": "@jupyter-widgets/base",
            "overflow": null,
            "_model_module_version": "1.2.0",
            "_view_count": null,
            "flex_flow": null,
            "width": null,
            "min_width": null,
            "border": null,
            "align_items": null,
            "bottom": null,
            "_model_module": "@jupyter-widgets/base",
            "top": null,
            "grid_column": null,
            "overflow_y": null,
            "overflow_x": null,
            "grid_auto_flow": null,
            "grid_area": null,
            "grid_template_columns": null,
            "flex": null,
            "_model_name": "LayoutModel",
            "justify_items": null,
            "grid_row": null,
            "max_height": null,
            "align_content": null,
            "visibility": null,
            "align_self": null,
            "height": null,
            "min_height": null,
            "padding": null,
            "grid_auto_rows": null,
            "grid_gap": null,
            "max_width": null,
            "order": null,
            "_view_module_version": "1.2.0",
            "grid_template_areas": null,
            "object_position": null,
            "object_fit": null,
            "grid_auto_columns": null,
            "margin": null,
            "display": null,
            "left": null
          }
        },
        "d5dabd65f1a646a68cd4f5ce4d168f0a": {
          "model_module": "@jupyter-widgets/controls",
          "model_name": "DescriptionStyleModel",
          "state": {
            "_view_name": "StyleView",
            "_model_name": "DescriptionStyleModel",
            "description_width": "",
            "_view_module": "@jupyter-widgets/base",
            "_model_module_version": "1.5.0",
            "_view_count": null,
            "_view_module_version": "1.2.0",
            "_model_module": "@jupyter-widgets/controls"
          }
        },
        "3e2535e5a289440092534394df04f85d": {
          "model_module": "@jupyter-widgets/base",
          "model_name": "LayoutModel",
          "state": {
            "_view_name": "LayoutView",
            "grid_template_rows": null,
            "right": null,
            "justify_content": null,
            "_view_module": "@jupyter-widgets/base",
            "overflow": null,
            "_model_module_version": "1.2.0",
            "_view_count": null,
            "flex_flow": null,
            "width": null,
            "min_width": null,
            "border": null,
            "align_items": null,
            "bottom": null,
            "_model_module": "@jupyter-widgets/base",
            "top": null,
            "grid_column": null,
            "overflow_y": null,
            "overflow_x": null,
            "grid_auto_flow": null,
            "grid_area": null,
            "grid_template_columns": null,
            "flex": null,
            "_model_name": "LayoutModel",
            "justify_items": null,
            "grid_row": null,
            "max_height": null,
            "align_content": null,
            "visibility": null,
            "align_self": null,
            "height": null,
            "min_height": null,
            "padding": null,
            "grid_auto_rows": null,
            "grid_gap": null,
            "max_width": null,
            "order": null,
            "_view_module_version": "1.2.0",
            "grid_template_areas": null,
            "object_position": null,
            "object_fit": null,
            "grid_auto_columns": null,
            "margin": null,
            "display": null,
            "left": null
          }
        }
      }
    }
  },
  "cells": [
    {
      "cell_type": "markdown",
      "metadata": {
        "id": "view-in-github",
        "colab_type": "text"
      },
      "source": [
        "<a href=\"https://colab.research.google.com/github/dretcm/Deep-Learning-ACM/blob/main/DeepLearning_Pytorch.ipynb\" target=\"_parent\"><img src=\"https://colab.research.google.com/assets/colab-badge.svg\" alt=\"Open In Colab\"/></a>"
      ]
    },
    {
      "cell_type": "markdown",
      "metadata": {
        "id": "UrC5-ps_AE1f"
      },
      "source": [
        "# Pytorch Course"
      ]
    },
    {
      "cell_type": "markdown",
      "metadata": {
        "id": "BF2_TJDRvCxF"
      },
      "source": [
        "## Introduction"
      ]
    },
    {
      "cell_type": "markdown",
      "metadata": {
        "id": "K3QDgryuXPXL"
      },
      "source": [
        "![](https://static.platzi.com/media/user_upload/infografia-ml-pytorch-90c9973d-9ce3-46e6-a8fe-fb71edf09a43.jpg)\n",
        "![](https://www.ecestaticos.com/image/clipping/654/0031577a8ae5551045a87f60f6a9ccf0/imagen-sin-titulo.jpg)"
      ]
    },
    {
      "cell_type": "markdown",
      "metadata": {
        "id": "bemt0RxyF_-_"
      },
      "source": [
        "**¿Qué cambio para que el Deep Learning se popularice ta rápido?**\n",
        "\n",
        "- Datasets labelizados de gran tamaño: Estos son los datasets etiquetados que sirve para clasificar imagenes, diferentes plataformas ofrecen un gran tamaño de datasets de manera gratuita.\n",
        "\n",
        "- GPUs y Hardware: Las GPUs paralelizan el trabajo del Deep Learning mejorando el tiempo de ejecución.\n",
        "\n",
        "* * ¿Qué significa FLOPS?\n",
        "Operaciones de coma flotantes por segundo, es una unidad de medida para medir los cálculos matemáticos que pueden hacer por segundo una GPU.\n",
        "\n",
        "- Mejora en los algoritmos: Cada vez salen más mejoras en los algoritmos para hacer más eficientes los modelos.\n",
        "\n",
        "- Software Open Source: Los más populares Tensorflow, Pytorch, Keras, Theano, entre otros."
      ]
    },
    {
      "cell_type": "markdown",
      "metadata": {
        "id": "HSAg3UfLHDJ-"
      },
      "source": [
        "**Pytorch versus otros frameworks de Deep Learning**\n",
        "\n",
        "Una red neuronal se implementa gracias a un grafo de cómputo, un grafo de cómputo son varias operaciones hechas de manera secuencial.\n",
        "- TersorFlow: En tersorFlow la codificación es más larga, utiliza grafos de cómputo estáticos y una vez que se crea el grafo y se ejecuta el entrenamiento es muy difícil modificar la estructura de este grafo.\n",
        "- Pytorch: En pytorch la codificación es más corta, utiliza grafos de cómputo dinámico y una vez que se crea el grafo en cada corrida de entrenamiento este puede cambiar y por esto es más flexible para diferentes modelos de Deep learning."
      ]
    },
    {
      "cell_type": "markdown",
      "metadata": {
        "id": "6ILrvFKlXq34"
      },
      "source": [
        "## Clone Git in Google Drive"
      ]
    },
    {
      "cell_type": "code",
      "metadata": {
        "id": "iZCzl5cwnm9L",
        "outputId": "714cf87b-97e4-4acc-86e0-e3124d4c06ce",
        "colab": {
          "base_uri": "https://localhost:8080/",
          "height": 34
        }
      },
      "source": [
        "from google.colab import drive\n",
        "drive.mount('/content/drive')"
      ],
      "execution_count": null,
      "outputs": [
        {
          "output_type": "stream",
          "text": [
            "Mounted at /content/drive\n"
          ],
          "name": "stdout"
        }
      ]
    },
    {
      "cell_type": "code",
      "metadata": {
        "id": "3A-vosDuny8l",
        "outputId": "49860583-a55e-4f23-8891-672daea7bf2a",
        "colab": {
          "base_uri": "https://localhost:8080/",
          "height": 408
        }
      },
      "source": [
        "!ls '/content/drive/My Drive'  # para ver el contenido en mi drive - como un dir en cmd"
      ],
      "execution_count": null,
      "outputs": [
        {
          "output_type": "stream",
          "text": [
            " 123.jpeg\n",
            " Classroom\n",
            "'Colab Notebooks'\n",
            " data\n",
            "'Document from Alexander Carpio Mamani 👌'\n",
            "'Document from Alexander Carpio Mamani 🤣'\n",
            "'Document from Alexander Carpio Mamani 👌 (1)'\n",
            "'Document from Alexander Carpio Mamani 🤣 (1)'\n",
            " fse2019205211.pdf\n",
            "'How to get started with Drive.pdf'\n",
            " Lst_EDi_UCSM_2019_TeoFase1.xlsx\n",
            " Lst_EDi_UCSM_2019_Teoria_F2.xlsx\n",
            " mypage.gdoc\n",
            " mypage.html\n",
            " photo_20190919005913vxleef_filter_f1_fun_female_hd_single.jpg\n",
            " photo_20190919010250bxszef_filter_f1_fun_female_hd_single.jpg\n",
            " photo_201909190104023qrqef_filter_f1_fun_female_hd_single.jpg\n",
            " photo_201909190104570i2jef_filter_f1_fun_female_hd_single.jpg\n",
            " photo_20190919010542yukoef_filter_f1_fun_female_hd_single.jpg\n",
            "'poster cientifico version 6.pptx'\n",
            "'Presentación sin título.gslides'\n",
            "'Pytorch Book.ipynb'\n",
            " Untitled\n"
          ],
          "name": "stdout"
        }
      ]
    },
    {
      "cell_type": "code",
      "metadata": {
        "id": "hrYrt3wio48O",
        "outputId": "6b3c8cec-a9a9-4802-ff44-74bba9fa25df",
        "colab": {
          "base_uri": "https://localhost:8080/",
          "height": 34
        }
      },
      "source": [
        "%cd '/content/drive/My Drive/data'  # primero - nos dirigimos al directorio donde queremos hacer cosas"
      ],
      "execution_count": null,
      "outputs": [
        {
          "output_type": "stream",
          "text": [
            "/content/drive/My Drive/data\n"
          ],
          "name": "stdout"
        }
      ]
    },
    {
      "cell_type": "code",
      "metadata": {
        "id": "1HIsYWwrpEUY",
        "outputId": "998cbf24-7214-46f8-e879-ad3519936453",
        "colab": {
          "base_uri": "https://localhost:8080/",
          "height": 119
        }
      },
      "source": [
        "!git clone https://github.com/JuanPabloMF/dl-pytorch   # clonamos el git y lo almacenamos en nuestro directorio actual en Gdrive"
      ],
      "execution_count": null,
      "outputs": [
        {
          "output_type": "stream",
          "text": [
            "Cloning into 'dl-pytorch'...\n",
            "remote: Enumerating objects: 36, done.\u001b[K\n",
            "remote: Counting objects: 100% (36/36), done.\u001b[K\n",
            "remote: Compressing objects: 100% (26/26), done.\u001b[K\n",
            "remote: Total 36 (delta 18), reused 27 (delta 9), pack-reused 0\n",
            "Unpacking objects: 100% (36/36), done.\n"
          ],
          "name": "stdout"
        }
      ]
    },
    {
      "cell_type": "code",
      "metadata": {
        "id": "z6bFCyBdpYdl",
        "outputId": "e089071e-5bea-4986-fcaf-184ee05200e5",
        "colab": {
          "base_uri": "https://localhost:8080/",
          "height": 34
        }
      },
      "source": [
        "%cd dl-pytorch"
      ],
      "execution_count": null,
      "outputs": [
        {
          "output_type": "stream",
          "text": [
            "/content/drive/My Drive/data/dl-pytorch\n"
          ],
          "name": "stdout"
        }
      ]
    },
    {
      "cell_type": "code",
      "metadata": {
        "id": "6Jl2bgDxpnmr",
        "outputId": "8eedf34f-baf4-4e9c-90a6-7f00a13bc563",
        "colab": {
          "base_uri": "https://localhost:8080/",
          "height": 34
        }
      },
      "source": [
        "!ls"
      ],
      "execution_count": null,
      "outputs": [
        {
          "output_type": "stream",
          "text": [
            "datasets  optimizers_viz.py  plot_helpers.py  utils.py\n"
          ],
          "name": "stdout"
        }
      ]
    },
    {
      "cell_type": "code",
      "metadata": {
        "id": "rhAjrOKZprJj",
        "outputId": "46526df7-2be0-42cf-8de9-faf14aad4aa3",
        "colab": {
          "base_uri": "https://localhost:8080/",
          "height": 34
        }
      },
      "source": [
        "%cd datasets  # ingresamos a nuestro dicrectorio deseado"
      ],
      "execution_count": null,
      "outputs": [
        {
          "output_type": "stream",
          "text": [
            "/content/drive/My Drive/data/dl-pytorch/datasets\n"
          ],
          "name": "stdout"
        }
      ]
    },
    {
      "cell_type": "code",
      "metadata": {
        "id": "GIfNws4_qD7F",
        "outputId": "1c1fcbde-7e1f-42c0-e761-a1bed922ff81",
        "colab": {
          "base_uri": "https://localhost:8080/",
          "height": 34
        }
      },
      "source": [
        "!ls  # vista previa o dir"
      ],
      "execution_count": null,
      "outputs": [
        {
          "output_type": "stream",
          "text": [
            "64x64_SIGNS.zip\n"
          ],
          "name": "stdout"
        }
      ]
    },
    {
      "cell_type": "code",
      "metadata": {
        "id": "7w9nS2BhqH1R",
        "outputId": "866d4f37-bb3d-476b-817a-43a3a786e712",
        "colab": {
          "base_uri": "https://localhost:8080/",
          "height": 1000
        }
      },
      "source": [
        "!unzip 64x64_SIGNS.zip    # descomprimimos un conjunto de imagenes para el curso"
      ],
      "execution_count": null,
      "outputs": [
        {
          "output_type": "stream",
          "text": [
            "Archive:  64x64_SIGNS.zip\n",
            "   creating: 64x64_SIGNS/\n",
            "  inflating: 64x64_SIGNS/.DS_Store   \n",
            "   creating: 64x64_SIGNS/train_signs/\n",
            "  inflating: 64x64_SIGNS/train_signs/5_IMG_5556.jpg  \n",
            "  inflating: 64x64_SIGNS/train_signs/3_IMG_6138.jpg  \n",
            "  inflating: 64x64_SIGNS/train_signs/3_IMG_6104.jpg  \n",
            "  inflating: 64x64_SIGNS/train_signs/5_IMG_5595.jpg  \n",
            "  inflating: 64x64_SIGNS/train_signs/5_IMG_5581.jpg  \n",
            "  inflating: 64x64_SIGNS/train_signs/1_IMG_4495.jpg  \n",
            "  inflating: 64x64_SIGNS/train_signs/4_IMG_5357.jpg  \n",
            "  inflating: 64x64_SIGNS/train_signs/2_IMG_4648.jpg  \n",
            "  inflating: 64x64_SIGNS/train_signs/4_IMG_5343.jpg  \n",
            "  inflating: 64x64_SIGNS/train_signs/2_IMG_4660.jpg  \n",
            "  inflating: 64x64_SIGNS/train_signs/4_IMG_5419.jpg  \n",
            "  inflating: 64x64_SIGNS/train_signs/1_IMG_4456.jpg  \n",
            "  inflating: 64x64_SIGNS/train_signs/4_IMG_5394.jpg  \n",
            "  inflating: 64x64_SIGNS/train_signs/1_IMG_4442.jpg  \n",
            "  inflating: 64x64_SIGNS/train_signs/5_IMG_5620.jpg  \n",
            "  inflating: 64x64_SIGNS/train_signs/2_IMG_4728.jpg  \n",
            "  inflating: 64x64_SIGNS/train_signs/2_IMG_4700.jpg  \n",
            "  inflating: 64x64_SIGNS/train_signs/2_IMG_4714.jpg  \n",
            "  inflating: 64x64_SIGNS/train_signs/5_IMG_5608.jpg  \n",
            "  inflating: 64x64_SIGNS/train_signs/1_IMG_4522.jpg  \n",
            "  inflating: 64x64_SIGNS/train_signs/0_IMG_5940.jpg  \n",
            "  inflating: 64x64_SIGNS/train_signs/3_IMG_6058.jpg  \n",
            "  inflating: 64x64_SIGNS/train_signs/3_IMG_6070.jpg  \n",
            "  inflating: 64x64_SIGNS/train_signs/3_IMG_6064.jpg  \n",
            "  inflating: 64x64_SIGNS/train_signs/0_IMG_5968.jpg  \n",
            "  inflating: 64x64_SIGNS/train_signs/0_IMG_6252.jpg  \n",
            "  inflating: 64x64_SIGNS/train_signs/0_IMG_5983.jpg  \n",
            "  inflating: 64x64_SIGNS/train_signs/0_IMG_6246.jpg  \n",
            "  inflating: 64x64_SIGNS/train_signs/0_IMG_6247.jpg  \n",
            "  inflating: 64x64_SIGNS/train_signs/0_IMG_5982.jpg  \n",
            "  inflating: 64x64_SIGNS/train_signs/0_IMG_6253.jpg  \n",
            "  inflating: 64x64_SIGNS/train_signs/3_IMG_6071.jpg  \n",
            "  inflating: 64x64_SIGNS/train_signs/5_IMG_5437.jpg  \n",
            "  inflating: 64x64_SIGNS/train_signs/0_IMG_5941.jpg  \n",
            "  inflating: 64x64_SIGNS/train_signs/1_IMG_4537.jpg  \n",
            "  inflating: 64x64_SIGNS/train_signs/5_IMG_5609.jpg  \n",
            "  inflating: 64x64_SIGNS/train_signs/2_IMG_4715.jpg  \n",
            "  inflating: 64x64_SIGNS/train_signs/2_IMG_4701.jpg  \n",
            "  inflating: 64x64_SIGNS/train_signs/4_IMG_5236.jpg  \n",
            "  inflating: 64x64_SIGNS/train_signs/2_IMG_4729.jpg  \n",
            "  inflating: 64x64_SIGNS/train_signs/1_IMG_4443.jpg  \n",
            "  inflating: 64x64_SIGNS/train_signs/4_IMG_5418.jpg  \n",
            "  inflating: 64x64_SIGNS/train_signs/2_IMG_4675.jpg  \n",
            "  inflating: 64x64_SIGNS/train_signs/4_IMG_5342.jpg  \n",
            "  inflating: 64x64_SIGNS/train_signs/4_IMG_5424.jpg  \n",
            "  inflating: 64x64_SIGNS/train_signs/4_IMG_5430.jpg  \n",
            "  inflating: 64x64_SIGNS/train_signs/1_IMG_4494.jpg  \n",
            "  inflating: 64x64_SIGNS/train_signs/5_IMG_5580.jpg  \n",
            "  inflating: 64x64_SIGNS/train_signs/5_IMG_5594.jpg  \n",
            "  inflating: 64x64_SIGNS/train_signs/5_IMG_5543.jpg  \n",
            "  inflating: 64x64_SIGNS/train_signs/5_IMG_5557.jpg  \n",
            "  inflating: 64x64_SIGNS/train_signs/3_IMG_6139.jpg  \n",
            "  inflating: 64x64_SIGNS/train_signs/5_IMG_5541.jpg  \n",
            "  inflating: 64x64_SIGNS/train_signs/5_IMG_5555.jpg  \n",
            "  inflating: 64x64_SIGNS/train_signs/3_IMG_6113.jpg  \n",
            "  inflating: 64x64_SIGNS/train_signs/3_IMG_6107.jpg  \n",
            "  inflating: 64x64_SIGNS/train_signs/5_IMG_5582.jpg  \n",
            "  inflating: 64x64_SIGNS/train_signs/5_IMG_5596.jpg  \n",
            "  inflating: 64x64_SIGNS/train_signs/0_IMG_6237 (1).jpg  \n",
            "  inflating: 64x64_SIGNS/train_signs/0_IMG_6227 (1).jpg  \n",
            "  inflating: 64x64_SIGNS/train_signs/4_IMG_5426.jpg  \n",
            "  inflating: 64x64_SIGNS/train_signs/4_IMG_5354.jpg  \n",
            "  inflating: 64x64_SIGNS/train_signs/1_IMG_4441.jpg  \n",
            "  inflating: 64x64_SIGNS/train_signs/4_IMG_5383.jpg  \n",
            "  inflating: 64x64_SIGNS/train_signs/2_IMG_4688.jpg  \n",
            "  inflating: 64x64_SIGNS/train_signs/1_IMG_4455.jpg  \n",
            "  inflating: 64x64_SIGNS/train_signs/1_IMG_4469.jpg  \n",
            "  inflating: 64x64_SIGNS/train_signs/4_IMG_5234.jpg  \n",
            "  inflating: 64x64_SIGNS/train_signs/5_IMG_5623.jpg  \n",
            "  inflating: 64x64_SIGNS/train_signs/2_IMG_4703.jpg  \n",
            "  inflating: 64x64_SIGNS/train_signs/1_IMG_4535.jpg  \n",
            "  inflating: 64x64_SIGNS/train_signs/1_IMG_4521.jpg  \n",
            "  inflating: 64x64_SIGNS/train_signs/5_IMG_5435.jpg  \n",
            "  inflating: 64x64_SIGNS/train_signs/0_IMG_5957.jpg  \n",
            "  inflating: 64x64_SIGNS/train_signs/3_IMG_6067.jpg  \n",
            "  inflating: 64x64_SIGNS/train_signs/3_IMG_6073.jpg  \n",
            "  inflating: 64x64_SIGNS/train_signs/0_IMG_6245.jpg  \n",
            "  inflating: 64x64_SIGNS/train_signs/3_IMG_6098.jpg  \n",
            "  inflating: 64x64_SIGNS/train_signs/0_IMG_6251.jpg  \n",
            "  inflating: 64x64_SIGNS/train_signs/0_IMG_5980.jpg  \n",
            "  inflating: 64x64_SIGNS/train_signs/0_IMG_6279.jpg  \n",
            "  inflating: 64x64_SIGNS/train_signs/0_IMG_6244.jpg  \n",
            "  inflating: 64x64_SIGNS/train_signs/3_IMG_6072.jpg  \n",
            "  inflating: 64x64_SIGNS/train_signs/3_IMG_6066.jpg  \n",
            "  inflating: 64x64_SIGNS/train_signs/5_IMG_5434.jpg  \n",
            "  inflating: 64x64_SIGNS/train_signs/1_IMG_4508.jpg  \n",
            "  inflating: 64x64_SIGNS/train_signs/1_IMG_4520.jpg  \n",
            "  inflating: 64x64_SIGNS/train_signs/1_IMG_4534.jpg  \n",
            "  inflating: 64x64_SIGNS/train_signs/2_IMG_4702.jpg  \n",
            "  inflating: 64x64_SIGNS/train_signs/2_IMG_4716.jpg  \n",
            "  inflating: 64x64_SIGNS/train_signs/5_IMG_5622.jpg  \n",
            "  inflating: 64x64_SIGNS/train_signs/1_IMG_4468.jpg  \n",
            "  inflating: 64x64_SIGNS/train_signs/2_IMG_4689.jpg  \n",
            "  inflating: 64x64_SIGNS/train_signs/1_IMG_4454.jpg  \n",
            "  inflating: 64x64_SIGNS/train_signs/1_IMG_4440.jpg  \n",
            "  inflating: 64x64_SIGNS/train_signs/4_IMG_5382.jpg  \n",
            "  inflating: 64x64_SIGNS/train_signs/2_IMG_4676.jpg  \n",
            "  inflating: 64x64_SIGNS/train_signs/2_IMG_4662.jpg  \n",
            "  inflating: 64x64_SIGNS/train_signs/1_IMG_4497.jpg  \n",
            "  inflating: 64x64_SIGNS/train_signs/4_IMG_5427.jpg  \n",
            "  inflating: 64x64_SIGNS/train_signs/1_IMG_4483.jpg  \n",
            "  inflating: 64x64_SIGNS/train_signs/4_IMG_5341.jpg  \n",
            "  inflating: 64x64_SIGNS/train_signs/0_IMG_5958 (1).jpg  \n",
            "  inflating: 64x64_SIGNS/train_signs/5_IMG_5597.jpg  \n",
            "  inflating: 64x64_SIGNS/train_signs/5_IMG_5583.jpg  \n",
            "  inflating: 64x64_SIGNS/train_signs/5_IMG_5568.jpg  \n",
            "  inflating: 64x64_SIGNS/train_signs/3_IMG_6112.jpg  \n",
            "  inflating: 64x64_SIGNS/train_signs/5_IMG_5554.jpg  \n",
            "  inflating: 64x64_SIGNS/train_signs/5_IMG_5578.jpg  \n",
            "  inflating: 64x64_SIGNS/train_signs/3_IMG_6102.jpg  \n",
            "  inflating: 64x64_SIGNS/train_signs/5_IMG_5550.jpg  \n",
            "  inflating: 64x64_SIGNS/train_signs/5_IMG_5587.jpg  \n",
            "  inflating: 64x64_SIGNS/train_signs/5_IMG_5593.jpg  \n",
            "  inflating: 64x64_SIGNS/train_signs/4_IMG_5379.jpg  \n",
            "  inflating: 64x64_SIGNS/train_signs/2_IMG_4672.jpg  \n",
            "  inflating: 64x64_SIGNS/train_signs/4_IMG_5345.jpg  \n",
            "  inflating: 64x64_SIGNS/train_signs/1_IMG_4487.jpg  \n",
            "  inflating: 64x64_SIGNS/train_signs/4_IMG_5423.jpg  \n",
            "  inflating: 64x64_SIGNS/train_signs/1_IMG_4493.jpg  \n",
            "  inflating: 64x64_SIGNS/train_signs/4_IMG_5351.jpg  \n",
            "  inflating: 64x64_SIGNS/train_signs/0_IMG_6236 (1).jpg  \n",
            "  inflating: 64x64_SIGNS/train_signs/4_IMG_5386.jpg  \n",
            "  inflating: 64x64_SIGNS/train_signs/1_IMG_4444.jpg  \n",
            "  inflating: 64x64_SIGNS/train_signs/4_IMG_5392.jpg  \n",
            "  inflating: 64x64_SIGNS/train_signs/2_IMG_4712.jpg  \n",
            "  inflating: 64x64_SIGNS/train_signs/2_IMG_4706.jpg  \n",
            "  inflating: 64x64_SIGNS/train_signs/4_IMG_5231.jpg  \n",
            "  inflating: 64x64_SIGNS/train_signs/0_IMG_6254 (1).jpg  \n",
            "  inflating: 64x64_SIGNS/train_signs/4_IMG_5225.jpg  \n",
            "  inflating: 64x64_SIGNS/train_signs/5_IMG_5626.jpg  \n",
            "  inflating: 64x64_SIGNS/train_signs/1_IMG_4530.jpg  \n",
            "  inflating: 64x64_SIGNS/train_signs/3_IMG_6062.jpg  \n",
            "  inflating: 64x64_SIGNS/train_signs/3_IMG_6076.jpg  \n",
            "  inflating: 64x64_SIGNS/train_signs/0_IMG_5952.jpg  \n",
            "  inflating: 64x64_SIGNS/train_signs/0_IMG_5946.jpg  \n",
            "  inflating: 64x64_SIGNS/train_signs/0_IMG_6268.jpg  \n",
            "  inflating: 64x64_SIGNS/train_signs/0_IMG_5991.jpg  \n",
            "  inflating: 64x64_SIGNS/train_signs/0_IMG_5976 (1).jpg  \n",
            "  inflating: 64x64_SIGNS/train_signs/0_IMG_6254.jpg  \n",
            "  inflating: 64x64_SIGNS/train_signs/0_IMG_5985.jpg  \n",
            "  inflating: 64x64_SIGNS/train_signs/3_IMG_6089.jpg  \n",
            "  inflating: 64x64_SIGNS/train_signs/0_IMG_6255.jpg  \n",
            "  inflating: 64x64_SIGNS/train_signs/3_IMG_6088.jpg  \n",
            "  inflating: 64x64_SIGNS/train_signs/0_IMG_6241.jpg  \n",
            "  inflating: 64x64_SIGNS/train_signs/0_IMG_6269.jpg  \n",
            "  inflating: 64x64_SIGNS/train_signs/3_IMG_6077.jpg  \n",
            "  inflating: 64x64_SIGNS/train_signs/1_IMG_4525.jpg  \n",
            "  inflating: 64x64_SIGNS/train_signs/1_IMG_4531.jpg  \n",
            "  inflating: 64x64_SIGNS/train_signs/5_IMG_5627.jpg  \n",
            "  inflating: 64x64_SIGNS/train_signs/4_IMG_5230.jpg  \n",
            "  inflating: 64x64_SIGNS/train_signs/2_IMG_4707.jpg  \n",
            "  inflating: 64x64_SIGNS/train_signs/1_IMG_4451.jpg  \n",
            "  inflating: 64x64_SIGNS/train_signs/4_IMG_5393.jpg  \n",
            "  inflating: 64x64_SIGNS/train_signs/4_IMG_5387.jpg  \n",
            "  inflating: 64x64_SIGNS/train_signs/2_IMG_4698.jpg  \n",
            "  inflating: 64x64_SIGNS/train_signs/1_IMG_4445.jpg  \n",
            "  inflating: 64x64_SIGNS/train_signs/0_IMG_5959 (1).jpg  \n",
            "  inflating: 64x64_SIGNS/train_signs/1_IMG_4479.jpg  \n",
            "  inflating: 64x64_SIGNS/train_signs/1_IMG_4492.jpg  \n",
            "  inflating: 64x64_SIGNS/train_signs/4_IMG_5344.jpg  \n",
            "  inflating: 64x64_SIGNS/train_signs/4_IMG_5422.jpg  \n",
            "  inflating: 64x64_SIGNS/train_signs/1_IMG_4486.jpg  \n",
            "  inflating: 64x64_SIGNS/train_signs/2_IMG_4667.jpg  \n",
            "  inflating: 64x64_SIGNS/train_signs/4_IMG_5378.jpg  \n",
            "  inflating: 64x64_SIGNS/train_signs/5_IMG_5592.jpg  \n",
            "  inflating: 64x64_SIGNS/train_signs/5_IMG_5551.jpg  \n",
            "  inflating: 64x64_SIGNS/train_signs/3_IMG_6103.jpg  \n",
            "  inflating: 64x64_SIGNS/train_signs/5_IMG_5579.jpg  \n",
            "  inflating: 64x64_SIGNS/train_signs/3_IMG_6101.jpg  \n",
            "  inflating: 64x64_SIGNS/train_signs/3_IMG_6115.jpg  \n",
            "  inflating: 64x64_SIGNS/train_signs/5_IMG_5553.jpg  \n",
            "  inflating: 64x64_SIGNS/train_signs/5_IMG_5547.jpg  \n",
            "  inflating: 64x64_SIGNS/train_signs/3_IMG_6129.jpg  \n",
            "  inflating: 64x64_SIGNS/train_signs/5_IMG_5584.jpg  \n",
            "  inflating: 64x64_SIGNS/train_signs/2_IMG_4671.jpg  \n",
            "  inflating: 64x64_SIGNS/train_signs/4_IMG_5408.jpg  \n",
            "  inflating: 64x64_SIGNS/train_signs/2_IMG_4665.jpg  \n",
            "  inflating: 64x64_SIGNS/train_signs/1_IMG_4490.jpg  \n",
            "  inflating: 64x64_SIGNS/train_signs/1_IMG_4484.jpg  \n",
            "  inflating: 64x64_SIGNS/train_signs/4_IMG_5346.jpg  \n",
            "  inflating: 64x64_SIGNS/train_signs/2_IMG_4659.jpg  \n",
            "  inflating: 64x64_SIGNS/train_signs/4_IMG_5391.jpg  \n",
            "  inflating: 64x64_SIGNS/train_signs/1_IMG_4453.jpg  \n",
            "  inflating: 64x64_SIGNS/train_signs/1_IMG_4447.jpg  \n",
            "  inflating: 64x64_SIGNS/train_signs/4_IMG_5385.jpg  \n",
            "  inflating: 64x64_SIGNS/train_signs/5_IMG_5619.jpg  \n",
            "  inflating: 64x64_SIGNS/train_signs/2_IMG_4705.jpg  \n",
            "  inflating: 64x64_SIGNS/train_signs/2_IMG_4739.jpg  \n",
            "  inflating: 64x64_SIGNS/train_signs/5_IMG_5631.jpg  \n",
            "  inflating: 64x64_SIGNS/train_signs/4_IMG_5232.jpg  \n",
            "  inflating: 64x64_SIGNS/train_signs/1_IMG_4527.jpg  \n",
            "  inflating: 64x64_SIGNS/train_signs/1_IMG_4533.jpg  \n",
            "  inflating: 64x64_SIGNS/train_signs/3_IMG_6075.jpg  \n",
            "  inflating: 64x64_SIGNS/train_signs/0_IMG_5979.jpg  \n",
            "  inflating: 64x64_SIGNS/train_signs/3_IMG_6061.jpg  \n",
            "  inflating: 64x64_SIGNS/train_signs/3_IMG_6049.jpg  \n",
            "  inflating: 64x64_SIGNS/train_signs/0_IMG_5951.jpg  \n",
            "  inflating: 64x64_SIGNS/train_signs/0_IMG_6257.jpg  \n",
            "  inflating: 64x64_SIGNS/train_signs/0_IMG_5986.jpg  \n",
            "  inflating: 64x64_SIGNS/train_signs/0_IMG_6243.jpg  \n",
            "  inflating: 64x64_SIGNS/train_signs/0_IMG_6256.jpg  \n",
            "  inflating: 64x64_SIGNS/train_signs/0_IMG_5950.jpg  \n",
            "  inflating: 64x64_SIGNS/train_signs/5_IMG_5432.jpg  \n",
            "  inflating: 64x64_SIGNS/train_signs/0_IMG_5944.jpg  \n",
            "  inflating: 64x64_SIGNS/train_signs/4_IMG_5233.jpg  \n",
            "  inflating: 64x64_SIGNS/train_signs/5_IMG_5630.jpg  \n",
            "  inflating: 64x64_SIGNS/train_signs/5_IMG_5624.jpg  \n",
            "  inflating: 64x64_SIGNS/train_signs/4_IMG_5227.jpg  \n",
            "  inflating: 64x64_SIGNS/train_signs/2_IMG_4738.jpg  \n",
            "  inflating: 64x64_SIGNS/train_signs/5_IMG_5618.jpg  \n",
            "  inflating: 64x64_SIGNS/train_signs/1_IMG_4446.jpg  \n",
            "  inflating: 64x64_SIGNS/train_signs/4_IMG_5384.jpg  \n",
            "  inflating: 64x64_SIGNS/train_signs/4_IMG_5390.jpg  \n",
            "  inflating: 64x64_SIGNS/train_signs/1_IMG_4452.jpg  \n",
            "  inflating: 64x64_SIGNS/train_signs/4_IMG_5421.jpg  \n",
            "  inflating: 64x64_SIGNS/train_signs/1_IMG_4485.jpg  \n",
            "  inflating: 64x64_SIGNS/train_signs/4_IMG_5347.jpg  \n",
            "  inflating: 64x64_SIGNS/train_signs/2_IMG_4664.jpg  \n",
            "  inflating: 64x64_SIGNS/train_signs/2_IMG_4670.jpg  \n",
            "  inflating: 64x64_SIGNS/train_signs/4_IMG_5409.jpg  \n",
            "  inflating: 64x64_SIGNS/train_signs/5_IMG_5585.jpg  \n",
            "  inflating: 64x64_SIGNS/train_signs/5_IMG_5591.jpg  \n",
            "  inflating: 64x64_SIGNS/train_signs/3_IMG_6128.jpg  \n",
            "  inflating: 64x64_SIGNS/train_signs/5_IMG_5552.jpg  \n",
            "  inflating: 64x64_SIGNS/train_signs/3_IMG_6114.jpg  \n",
            "  inflating: 64x64_SIGNS/train_signs/5_IMG_5535.jpg  \n",
            "  inflating: 64x64_SIGNS/train_signs/5_IMG_5521.jpg  \n",
            "  inflating: 64x64_SIGNS/train_signs/3_IMG_6173.jpg  \n",
            "  inflating: 64x64_SIGNS/train_signs/0_IMG_5894.jpg  \n",
            "  inflating: 64x64_SIGNS/train_signs/0_IMG_6246 (1).jpg  \n",
            "  inflating: 64x64_SIGNS/train_signs/4_IMG_5334.jpg  \n",
            "  inflating: 64x64_SIGNS/train_signs/0_IMG_5964 (1).jpg  \n",
            "  inflating: 64x64_SIGNS/train_signs/4_IMG_5320.jpg  \n",
            "  inflating: 64x64_SIGNS/train_signs/0_IMG_5974 (1).jpg  \n",
            "  inflating: 64x64_SIGNS/train_signs/4_IMG_5308.jpg  \n",
            "  inflating: 64x64_SIGNS/train_signs/2_IMG_4603.jpg  \n",
            "  inflating: 64x64_SIGNS/train_signs/1_IMG_4435.jpg  \n",
            "  inflating: 64x64_SIGNS/train_signs/1_IMG_4421.jpg  \n",
            "  inflating: 64x64_SIGNS/train_signs/1_IMG_4409.jpg  \n",
            "  inflating: 64x64_SIGNS/train_signs/4_IMG_5240.jpg  \n",
            "  inflating: 64x64_SIGNS/train_signs/1_IMG_4582.jpg  \n",
            "  inflating: 64x64_SIGNS/train_signs/4_IMG_5254.jpg  \n",
            "  inflating: 64x64_SIGNS/train_signs/2_IMG_4763.jpg  \n",
            "  inflating: 64x64_SIGNS/train_signs/3_IMG_6205.jpg  \n",
            "  inflating: 64x64_SIGNS/train_signs/4_IMG_5268.jpg  \n",
            "  inflating: 64x64_SIGNS/train_signs/4_IMG_5283.jpg  \n",
            "  inflating: 64x64_SIGNS/train_signs/1_IMG_4541.jpg  \n",
            "  inflating: 64x64_SIGNS/train_signs/4_IMG_5297.jpg  \n",
            "  inflating: 64x64_SIGNS/train_signs/2_IMG_4788.jpg  \n",
            "  inflating: 64x64_SIGNS/train_signs/1_IMG_4569.jpg  \n",
            "  inflating: 64x64_SIGNS/train_signs/0_IMG_5923.jpg  \n",
            "  inflating: 64x64_SIGNS/train_signs/0_IMG_5937.jpg  \n",
            "  inflating: 64x64_SIGNS/train_signs/3_IMG_6013.jpg  \n",
            "  inflating: 64x64_SIGNS/train_signs/5_IMG_5469.jpg  \n",
            "  inflating: 64x64_SIGNS/train_signs/5_IMG_5482.jpg  \n",
            "  inflating: 64x64_SIGNS/train_signs/5_IMG_5496.jpg  \n",
            "  inflating: 64x64_SIGNS/train_signs/5_IMG_5497.jpg  \n",
            "  inflating: 64x64_SIGNS/train_signs/5_IMG_5483.jpg  \n",
            "  inflating: 64x64_SIGNS/train_signs/5_IMG_5468.jpg  \n",
            "  inflating: 64x64_SIGNS/train_signs/3_IMG_6012.jpg  \n",
            "  inflating: 64x64_SIGNS/train_signs/0_IMG_5936.jpg  \n",
            "  inflating: 64x64_SIGNS/train_signs/5_IMG_5454.jpg  \n",
            "  inflating: 64x64_SIGNS/train_signs/0_IMG_5922.jpg  \n",
            "  inflating: 64x64_SIGNS/train_signs/1_IMG_4568.jpg  \n",
            "  inflating: 64x64_SIGNS/train_signs/0_IMG_6269 (1).jpg  \n",
            "  inflating: 64x64_SIGNS/train_signs/0_IMG_6279 (1).jpg  \n",
            "  inflating: 64x64_SIGNS/train_signs/1_IMG_4554.jpg  \n",
            "  inflating: 64x64_SIGNS/train_signs/2_IMG_4789.jpg  \n",
            "  inflating: 64x64_SIGNS/train_signs/4_IMG_5282.jpg  \n",
            "  inflating: 64x64_SIGNS/train_signs/1_IMG_4540.jpg  \n",
            "  inflating: 64x64_SIGNS/train_signs/3_IMG_6204.jpg  \n",
            "  inflating: 64x64_SIGNS/train_signs/4_IMG_5269.jpg  \n",
            "  inflating: 64x64_SIGNS/train_signs/2_IMG_4776.jpg  \n",
            "  inflating: 64x64_SIGNS/train_signs/3_IMG_6210.jpg  \n",
            "  inflating: 64x64_SIGNS/train_signs/4_IMG_5255.jpg  \n",
            "  inflating: 64x64_SIGNS/train_signs/4_IMG_5241.jpg  \n",
            "  inflating: 64x64_SIGNS/train_signs/1_IMG_4583.jpg  \n",
            "  inflating: 64x64_SIGNS/train_signs/1_IMG_4408.jpg  \n",
            "  inflating: 64x64_SIGNS/train_signs/1_IMG_4434.jpg  \n",
            "  inflating: 64x64_SIGNS/train_signs/2_IMG_4602.jpg  \n",
            "  inflating: 64x64_SIGNS/train_signs/1_IMG_4385.jpg  \n",
            "  inflating: 64x64_SIGNS/train_signs/4_IMG_5321.jpg  \n",
            "  inflating: 64x64_SIGNS/train_signs/1_IMG_4391.jpg  \n",
            "  inflating: 64x64_SIGNS/train_signs/4_IMG_5335.jpg  \n",
            "  inflating: 64x64_SIGNS/train_signs/3_IMG_6199.jpg  \n",
            "  inflating: 64x64_SIGNS/train_signs/5_IMG_5508.jpg  \n",
            "  inflating: 64x64_SIGNS/train_signs/5_IMG_5534.jpg  \n",
            "  inflating: 64x64_SIGNS/train_signs/5_IMG_5522.jpg  \n",
            "  inflating: 64x64_SIGNS/train_signs/5_IMG_5536.jpg  \n",
            "  inflating: 64x64_SIGNS/train_signs/3_IMG_6158.jpg  \n",
            "  inflating: 64x64_SIGNS/train_signs/3_IMG_6170.jpg  \n",
            "  inflating: 64x64_SIGNS/train_signs/3_IMG_6164.jpg  \n",
            "  inflating: 64x64_SIGNS/train_signs/0_IMG_5897.jpg  \n",
            "  inflating: 64x64_SIGNS/train_signs/4_IMG_5323.jpg  \n",
            "  inflating: 64x64_SIGNS/train_signs/1_IMG_4387.jpg  \n",
            "  inflating: 64x64_SIGNS/train_signs/1_IMG_4393.jpg  \n",
            "  inflating: 64x64_SIGNS/train_signs/2_IMG_4614.jpg  \n",
            "  inflating: 64x64_SIGNS/train_signs/1_IMG_4422.jpg  \n",
            "  inflating: 64x64_SIGNS/train_signs/2_IMG_4748.jpg  \n",
            "  inflating: 64x64_SIGNS/train_signs/4_IMG_5257.jpg  \n",
            "  inflating: 64x64_SIGNS/train_signs/4_IMG_5243.jpg  \n",
            "  inflating: 64x64_SIGNS/train_signs/2_IMG_4774.jpg  \n",
            "  inflating: 64x64_SIGNS/train_signs/3_IMG_6206.jpg  \n",
            "  inflating: 64x64_SIGNS/train_signs/2_IMG_4760.jpg  \n",
            "  inflating: 64x64_SIGNS/train_signs/1_IMG_4556.jpg  \n",
            "  inflating: 64x64_SIGNS/train_signs/4_IMG_5280.jpg  \n",
            "  inflating: 64x64_SIGNS/train_signs/5_IMG_5456.jpg  \n",
            "  inflating: 64x64_SIGNS/train_signs/0_IMG_5934.jpg  \n",
            "  inflating: 64x64_SIGNS/train_signs/2_IMG_4589.jpg  \n",
            "  inflating: 64x64_SIGNS/train_signs/0_IMG_6226.jpg  \n",
            "  inflating: 64x64_SIGNS/train_signs/5_IMG_5495.jpg  \n",
            "  inflating: 64x64_SIGNS/train_signs/5_IMG_5481.jpg  \n",
            "  inflating: 64x64_SIGNS/train_signs/5_IMG_5480.jpg  \n",
            "  inflating: 64x64_SIGNS/train_signs/5_IMG_5494.jpg  \n",
            "  inflating: 64x64_SIGNS/train_signs/2_IMG_4588.jpg  \n",
            "  inflating: 64x64_SIGNS/train_signs/3_IMG_6011.jpg  \n",
            "  inflating: 64x64_SIGNS/train_signs/3_IMG_6005.jpg  \n",
            "  inflating: 64x64_SIGNS/train_signs/0_IMG_5909.jpg  \n",
            "  inflating: 64x64_SIGNS/train_signs/0_IMG_5935.jpg  \n",
            "  inflating: 64x64_SIGNS/train_signs/0_IMG_5989 (1).jpg  \n",
            "  inflating: 64x64_SIGNS/train_signs/5_IMG_5457.jpg  \n",
            "  inflating: 64x64_SIGNS/train_signs/1_IMG_4543.jpg  \n",
            "  inflating: 64x64_SIGNS/train_signs/4_IMG_5281.jpg  \n",
            "  inflating: 64x64_SIGNS/train_signs/1_IMG_4557.jpg  \n",
            "  inflating: 64x64_SIGNS/train_signs/3_IMG_6213.jpg  \n",
            "  inflating: 64x64_SIGNS/train_signs/2_IMG_4775.jpg  \n",
            "  inflating: 64x64_SIGNS/train_signs/1_IMG_4379.jpg  \n",
            "  inflating: 64x64_SIGNS/train_signs/1_IMG_4437.jpg  \n",
            "  inflating: 64x64_SIGNS/train_signs/1_IMG_4423.jpg  \n",
            "  inflating: 64x64_SIGNS/train_signs/2_IMG_4601.jpg  \n",
            "  inflating: 64x64_SIGNS/train_signs/2_IMG_4629.jpg  \n",
            "  inflating: 64x64_SIGNS/train_signs/4_IMG_5336.jpg  \n",
            "  inflating: 64x64_SIGNS/train_signs/1_IMG_4386.jpg  \n",
            "  inflating: 64x64_SIGNS/train_signs/4_IMG_5322.jpg  \n",
            "  inflating: 64x64_SIGNS/train_signs/0_IMG_6270 (1).jpg  \n",
            "  inflating: 64x64_SIGNS/train_signs/0_IMG_5896.jpg  \n",
            "  inflating: 64x64_SIGNS/train_signs/5_IMG_5537.jpg  \n",
            "  inflating: 64x64_SIGNS/train_signs/5_IMG_5523.jpg  \n",
            "  inflating: 64x64_SIGNS/train_signs/3_IMG_6175.jpg  \n",
            "  inflating: 64x64_SIGNS/train_signs/3_IMG_6161.jpg  \n",
            "  inflating: 64x64_SIGNS/train_signs/5_IMG_5527.jpg  \n",
            "  inflating: 64x64_SIGNS/train_signs/5_IMG_5533.jpg  \n",
            "  inflating: 64x64_SIGNS/train_signs/0_IMG_5892.jpg  \n",
            "  inflating: 64x64_SIGNS/train_signs/2_IMG_4605.jpg  \n",
            "  inflating: 64x64_SIGNS/train_signs/2_IMG_4611.jpg  \n",
            "  inflating: 64x64_SIGNS/train_signs/4_IMG_5326.jpg  \n",
            "  inflating: 64x64_SIGNS/train_signs/2_IMG_4639.jpg  \n",
            "  inflating: 64x64_SIGNS/train_signs/1_IMG_4396.jpg  \n",
            "  inflating: 64x64_SIGNS/train_signs/1_IMG_4427.jpg  \n",
            "  inflating: 64x64_SIGNS/train_signs/1_IMG_4433.jpg  \n",
            "  inflating: 64x64_SIGNS/train_signs/2_IMG_4771.jpg  \n",
            "  inflating: 64x64_SIGNS/train_signs/2_IMG_4765.jpg  \n",
            "  inflating: 64x64_SIGNS/train_signs/4_IMG_5252.jpg  \n",
            "  inflating: 64x64_SIGNS/train_signs/4_IMG_5246.jpg  \n",
            "  inflating: 64x64_SIGNS/train_signs/1_IMG_4553.jpg  \n",
            "  inflating: 64x64_SIGNS/train_signs/4_IMG_5291.jpg  \n",
            "  inflating: 64x64_SIGNS/train_signs/1_IMG_4547.jpg  \n",
            "  inflating: 64x64_SIGNS/train_signs/3_IMG_6001.jpg  \n",
            "  inflating: 64x64_SIGNS/train_signs/3_IMG_6015.jpg  \n",
            "  inflating: 64x64_SIGNS/train_signs/3_IMG_6029.jpg  \n",
            "  inflating: 64x64_SIGNS/train_signs/0_IMG_5925.jpg  \n",
            "  inflating: 64x64_SIGNS/train_signs/5_IMG_5490.jpg  \n",
            "  inflating: 64x64_SIGNS/train_signs/2_IMG_4599.jpg  \n",
            "  inflating: 64x64_SIGNS/train_signs/0_IMG_6236.jpg  \n",
            "  inflating: 64x64_SIGNS/train_signs/5_IMG_5491.jpg  \n",
            "  inflating: 64x64_SIGNS/train_signs/3_IMG_6028.jpg  \n",
            "  inflating: 64x64_SIGNS/train_signs/0_IMG_5924.jpg  \n",
            "  inflating: 64x64_SIGNS/train_signs/0_IMG_5930.jpg  \n",
            "  inflating: 64x64_SIGNS/train_signs/0_IMG_5918.jpg  \n",
            "  inflating: 64x64_SIGNS/train_signs/4_IMG_5290.jpg  \n",
            "  inflating: 64x64_SIGNS/train_signs/4_IMG_5247.jpg  \n",
            "  inflating: 64x64_SIGNS/train_signs/4_IMG_5253.jpg  \n",
            "  inflating: 64x64_SIGNS/train_signs/2_IMG_4764.jpg  \n",
            "  inflating: 64x64_SIGNS/train_signs/3_IMG_6216.jpg  \n",
            "  inflating: 64x64_SIGNS/train_signs/3_IMG_6202.jpg  \n",
            "  inflating: 64x64_SIGNS/train_signs/2_IMG_4770.jpg  \n",
            "  inflating: 64x64_SIGNS/train_signs/1_IMG_4426.jpg  \n",
            "  inflating: 64x64_SIGNS/train_signs/0_IMG_6261 (1).jpg  \n",
            "  inflating: 64x64_SIGNS/train_signs/1_IMG_4397.jpg  \n",
            "  inflating: 64x64_SIGNS/train_signs/1_IMG_4383.jpg  \n",
            "  inflating: 64x64_SIGNS/train_signs/4_IMG_5327.jpg  \n",
            "  inflating: 64x64_SIGNS/train_signs/2_IMG_4604.jpg  \n",
            "  inflating: 64x64_SIGNS/train_signs/0_IMG_5893.jpg  \n",
            "  inflating: 64x64_SIGNS/train_signs/5_IMG_5526.jpg  \n",
            "  inflating: 64x64_SIGNS/train_signs/3_IMG_6148.jpg  \n",
            "  inflating: 64x64_SIGNS/train_signs/3_IMG_6160.jpg  \n",
            "  inflating: 64x64_SIGNS/train_signs/3_IMG_6162.jpg  \n",
            "  inflating: 64x64_SIGNS/train_signs/3_IMG_6176.jpg  \n",
            "  inflating: 64x64_SIGNS/train_signs/5_IMG_5518.jpg  \n",
            "  inflating: 64x64_SIGNS/train_signs/5_IMG_5524.jpg  \n",
            "  inflating: 64x64_SIGNS/train_signs/3_IMG_6189.jpg  \n",
            "  inflating: 64x64_SIGNS/train_signs/4_IMG_5319.jpg  \n",
            "  inflating: 64x64_SIGNS/train_signs/2_IMG_4606.jpg  \n",
            "  inflating: 64x64_SIGNS/train_signs/1_IMG_4395.jpg  \n",
            "  inflating: 64x64_SIGNS/train_signs/4_IMG_5325.jpg  \n",
            "  inflating: 64x64_SIGNS/train_signs/1_IMG_4381.jpg  \n",
            "  inflating: 64x64_SIGNS/train_signs/0_IMG_6257 (1).jpg  \n",
            "  inflating: 64x64_SIGNS/train_signs/1_IMG_4424.jpg  \n",
            "  inflating: 64x64_SIGNS/train_signs/2_IMG_4766.jpg  \n",
            "  inflating: 64x64_SIGNS/train_signs/4_IMG_5279.jpg  \n",
            "  inflating: 64x64_SIGNS/train_signs/2_IMG_4772.jpg  \n",
            "  inflating: 64x64_SIGNS/train_signs/4_IMG_5245.jpg  \n",
            "  inflating: 64x64_SIGNS/train_signs/4_IMG_5251.jpg  \n",
            "  inflating: 64x64_SIGNS/train_signs/1_IMG_4578.jpg  \n",
            "  inflating: 64x64_SIGNS/train_signs/4_IMG_5286.jpg  \n",
            "  inflating: 64x64_SIGNS/train_signs/1_IMG_4550.jpg  \n",
            "  inflating: 64x64_SIGNS/train_signs/5_IMG_5478.jpg  \n",
            "  inflating: 64x64_SIGNS/train_signs/3_IMG_6002.jpg  \n",
            "  inflating: 64x64_SIGNS/train_signs/5_IMG_5444.jpg  \n",
            "  inflating: 64x64_SIGNS/train_signs/0_IMG_5926.jpg  \n",
            "  inflating: 64x64_SIGNS/train_signs/0_IMG_5932.jpg  \n",
            "  inflating: 64x64_SIGNS/train_signs/5_IMG_5487.jpg  \n",
            "  inflating: 64x64_SIGNS/train_signs/5_IMG_5493.jpg  \n",
            "  inflating: 64x64_SIGNS/train_signs/5_IMG_5486.jpg  \n",
            "  inflating: 64x64_SIGNS/train_signs/0_IMG_6278 (1).jpg  \n",
            "  inflating: 64x64_SIGNS/train_signs/5_IMG_5451.jpg  \n",
            "  inflating: 64x64_SIGNS/train_signs/0_IMG_5927.jpg  \n",
            "  inflating: 64x64_SIGNS/train_signs/5_IMG_5445.jpg  \n",
            "  inflating: 64x64_SIGNS/train_signs/3_IMG_6003.jpg  \n",
            "  inflating: 64x64_SIGNS/train_signs/4_IMG_5293.jpg  \n",
            "  inflating: 64x64_SIGNS/train_signs/1_IMG_4551.jpg  \n",
            "  inflating: 64x64_SIGNS/train_signs/2_IMG_4798.jpg  \n",
            "  inflating: 64x64_SIGNS/train_signs/4_IMG_5287.jpg  \n",
            "  inflating: 64x64_SIGNS/train_signs/1_IMG_4579.jpg  \n",
            "  inflating: 64x64_SIGNS/train_signs/2_IMG_4773.jpg  \n",
            "  inflating: 64x64_SIGNS/train_signs/4_IMG_5278.jpg  \n",
            "  inflating: 64x64_SIGNS/train_signs/2_IMG_4767.jpg  \n",
            "  inflating: 64x64_SIGNS/train_signs/1_IMG_4425.jpg  \n",
            "  inflating: 64x64_SIGNS/train_signs/1_IMG_4419.jpg  \n",
            "  inflating: 64x64_SIGNS/train_signs/1_IMG_4380.jpg  \n",
            "  inflating: 64x64_SIGNS/train_signs/4_IMG_5324.jpg  \n",
            "  inflating: 64x64_SIGNS/train_signs/4_IMG_5330.jpg  \n",
            "  inflating: 64x64_SIGNS/train_signs/4_IMG_5318.jpg  \n",
            "  inflating: 64x64_SIGNS/train_signs/2_IMG_4613.jpg  \n",
            "  inflating: 64x64_SIGNS/train_signs/3_IMG_6188.jpg  \n",
            "  inflating: 64x64_SIGNS/train_signs/0_IMG_5991 (1).jpg  \n",
            "  inflating: 64x64_SIGNS/train_signs/5_IMG_5531.jpg  \n",
            "  inflating: 64x64_SIGNS/train_signs/3_IMG_6177.jpg  \n",
            "  inflating: 64x64_SIGNS/train_signs/5_IMG_5519.jpg  \n",
            "  inflating: 64x64_SIGNS/train_signs/5_IMG_5514.jpg  \n",
            "  inflating: 64x64_SIGNS/train_signs/5_IMG_5528.jpg  \n",
            "  inflating: 64x64_SIGNS/train_signs/3_IMG_6185.jpg  \n",
            "  inflating: 64x64_SIGNS/train_signs/3_IMG_6191.jpg  \n",
            "  inflating: 64x64_SIGNS/train_signs/4_IMG_5301.jpg  \n",
            "  inflating: 64x64_SIGNS/train_signs/2_IMG_4622.jpg  \n",
            "  inflating: 64x64_SIGNS/train_signs/1_IMG_4414.jpg  \n",
            "  inflating: 64x64_SIGNS/train_signs/2_IMG_4805.jpg  \n",
            "  inflating: 64x64_SIGNS/train_signs/1_IMG_4428.jpg  \n",
            "  inflating: 64x64_SIGNS/train_signs/3_IMG_6218.jpg  \n",
            "  inflating: 64x64_SIGNS/train_signs/4_IMG_5275.jpg  \n",
            "  inflating: 64x64_SIGNS/train_signs/4_IMG_5249.jpg  \n",
            "  inflating: 64x64_SIGNS/train_signs/1_IMG_4560.jpg  \n",
            "  inflating: 64x64_SIGNS/train_signs/2_IMG_4781.jpg  \n",
            "  inflating: 64x64_SIGNS/train_signs/1_IMG_4548.jpg  \n",
            "  inflating: 64x64_SIGNS/train_signs/5_IMG_5460.jpg  \n",
            "  inflating: 64x64_SIGNS/train_signs/0_IMG_5902.jpg  \n",
            "  inflating: 64x64_SIGNS/train_signs/5_IMG_5474.jpg  \n",
            "  inflating: 64x64_SIGNS/train_signs/0_IMG_5916.jpg  \n",
            "  inflating: 64x64_SIGNS/train_signs/5_IMG_5448.jpg  \n",
            "  inflating: 64x64_SIGNS/train_signs/3_IMG_6026.jpg  \n",
            "  inflating: 64x64_SIGNS/train_signs/0_IMG_6239.jpg  \n",
            "  inflating: 64x64_SIGNS/train_signs/2_IMG_4596.jpg  \n",
            "  inflating: 64x64_SIGNS/train_signs/5_IMG_5449.jpg  \n",
            "  inflating: 64x64_SIGNS/train_signs/3_IMG_6027.jpg  \n",
            "  inflating: 64x64_SIGNS/train_signs/0_IMG_5917.jpg  \n",
            "  inflating: 64x64_SIGNS/train_signs/5_IMG_5475.jpg  \n",
            "  inflating: 64x64_SIGNS/train_signs/0_IMG_5960 (1).jpg  \n",
            "  inflating: 64x64_SIGNS/train_signs/0_IMG_5970 (1).jpg  \n",
            "  inflating: 64x64_SIGNS/train_signs/0_IMG_5903.jpg  \n",
            "  inflating: 64x64_SIGNS/train_signs/5_IMG_5461.jpg  \n",
            "  inflating: 64x64_SIGNS/train_signs/1_IMG_4549.jpg  \n",
            "  inflating: 64x64_SIGNS/train_signs/2_IMG_4794.jpg  \n",
            "  inflating: 64x64_SIGNS/train_signs/2_IMG_4780.jpg  \n",
            "  inflating: 64x64_SIGNS/train_signs/1_IMG_4575.jpg  \n",
            "  inflating: 64x64_SIGNS/train_signs/1_IMG_4561.jpg  \n",
            "  inflating: 64x64_SIGNS/train_signs/2_IMG_4743.jpg  \n",
            "  inflating: 64x64_SIGNS/train_signs/4_IMG_5274.jpg  \n",
            "  inflating: 64x64_SIGNS/train_signs/4_IMG_5260.jpg  \n",
            "  inflating: 64x64_SIGNS/train_signs/1_IMG_4429.jpg  \n",
            "  inflating: 64x64_SIGNS/train_signs/1_IMG_4401.jpg  \n",
            "  inflating: 64x64_SIGNS/train_signs/1_IMG_4398.jpg  \n",
            "  inflating: 64x64_SIGNS/train_signs/2_IMG_4623.jpg  \n",
            "  inflating: 64x64_SIGNS/train_signs/2_IMG_4637.jpg  \n",
            "  inflating: 64x64_SIGNS/train_signs/4_IMG_5300.jpg  \n",
            "  inflating: 64x64_SIGNS/train_signs/3_IMG_6190.jpg  \n",
            "  inflating: 64x64_SIGNS/train_signs/3_IMG_6184.jpg  \n",
            "  inflating: 64x64_SIGNS/train_signs/3_IMG_6153.jpg  \n",
            "  inflating: 64x64_SIGNS/train_signs/3_IMG_6147.jpg  \n",
            "  inflating: 64x64_SIGNS/train_signs/5_IMG_5529.jpg  \n",
            "  inflating: 64x64_SIGNS/train_signs/5_IMG_5501.jpg  \n",
            "  inflating: 64x64_SIGNS/train_signs/5_IMG_5503.jpg  \n",
            "  inflating: 64x64_SIGNS/train_signs/5_IMG_5517.jpg  \n",
            "  inflating: 64x64_SIGNS/train_signs/3_IMG_6179.jpg  \n",
            "  inflating: 64x64_SIGNS/train_signs/3_IMG_6151.jpg  \n",
            "  inflating: 64x64_SIGNS/train_signs/3_IMG_6145.jpg  \n",
            "  inflating: 64x64_SIGNS/train_signs/3_IMG_6192.jpg  \n",
            "  inflating: 64x64_SIGNS/train_signs/3_IMG_6186.jpg  \n",
            "  inflating: 64x64_SIGNS/train_signs/4_IMG_5316.jpg  \n",
            "  inflating: 64x64_SIGNS/train_signs/1_IMG_4403.jpg  \n",
            "  inflating: 64x64_SIGNS/train_signs/2_IMG_4769.jpg  \n",
            "  inflating: 64x64_SIGNS/train_signs/4_IMG_5276.jpg  \n",
            "  inflating: 64x64_SIGNS/train_signs/4_IMG_5262.jpg  \n",
            "  inflating: 64x64_SIGNS/train_signs/2_IMG_4741.jpg  \n",
            "  inflating: 64x64_SIGNS/train_signs/1_IMG_4577.jpg  \n",
            "  inflating: 64x64_SIGNS/train_signs/1_IMG_4563.jpg  \n",
            "  inflating: 64x64_SIGNS/train_signs/4_IMG_5289.jpg  \n",
            "  inflating: 64x64_SIGNS/train_signs/0_IMG_6274 (1).jpg  \n",
            "  inflating: 64x64_SIGNS/train_signs/2_IMG_4782.jpg  \n",
            "  inflating: 64x64_SIGNS/train_signs/0_IMG_6264 (1).jpg  \n",
            "  inflating: 64x64_SIGNS/train_signs/3_IMG_6019.jpg  \n",
            "  inflating: 64x64_SIGNS/train_signs/5_IMG_5477.jpg  \n",
            "  inflating: 64x64_SIGNS/train_signs/5_IMG_5463.jpg  \n",
            "  inflating: 64x64_SIGNS/train_signs/0_IMG_5901.jpg  \n",
            "  inflating: 64x64_SIGNS/train_signs/3_IMG_6025.jpg  \n",
            "  inflating: 64x64_SIGNS/train_signs/3_IMG_6031.jpg  \n",
            "  inflating: 64x64_SIGNS/train_signs/2_IMG_4594.jpg  \n",
            "  inflating: 64x64_SIGNS/train_signs/5_IMG_5488.jpg  \n",
            "  inflating: 64x64_SIGNS/train_signs/5_IMG_5489.jpg  \n",
            "  inflating: 64x64_SIGNS/train_signs/3_IMG_6030.jpg  \n",
            "  inflating: 64x64_SIGNS/train_signs/0_IMG_6239 (1).jpg  \n",
            "  inflating: 64x64_SIGNS/train_signs/0_IMG_5928.jpg  \n",
            "  inflating: 64x64_SIGNS/train_signs/0_IMG_5914.jpg  \n",
            "  inflating: 64x64_SIGNS/train_signs/2_IMG_4797.jpg  \n",
            "  inflating: 64x64_SIGNS/train_signs/0_IMG_6280 (1).jpg  \n",
            "  inflating: 64x64_SIGNS/train_signs/1_IMG_4576.jpg  \n",
            "  inflating: 64x64_SIGNS/train_signs/2_IMG_4740.jpg  \n",
            "  inflating: 64x64_SIGNS/train_signs/2_IMG_4754.jpg  \n",
            "  inflating: 64x64_SIGNS/train_signs/4_IMG_5277.jpg  \n",
            "  inflating: 64x64_SIGNS/train_signs/2_IMG_4634.jpg  \n",
            "  inflating: 64x64_SIGNS/train_signs/2_IMG_4620.jpg  \n",
            "  inflating: 64x64_SIGNS/train_signs/0_IMG_5979 (1).jpg  \n",
            "  inflating: 64x64_SIGNS/train_signs/2_IMG_4608.jpg  \n",
            "  inflating: 64x64_SIGNS/train_signs/4_IMG_5317.jpg  \n",
            "  inflating: 64x64_SIGNS/train_signs/4_IMG_5303.jpg  \n",
            "  inflating: 64x64_SIGNS/train_signs/0_IMG_5969 (1).jpg  \n",
            "  inflating: 64x64_SIGNS/train_signs/3_IMG_6150.jpg  \n",
            "  inflating: 64x64_SIGNS/train_signs/5_IMG_5516.jpg  \n",
            "  inflating: 64x64_SIGNS/train_signs/5_IMG_5502.jpg  \n",
            "  inflating: 64x64_SIGNS/train_signs/3_IMG_6154.jpg  \n",
            "  inflating: 64x64_SIGNS/train_signs/0_IMG_5864.jpg  \n",
            "  inflating: 64x64_SIGNS/train_signs/5_IMG_5506.jpg  \n",
            "  inflating: 64x64_SIGNS/train_signs/3_IMG_6168.jpg  \n",
            "  inflating: 64x64_SIGNS/train_signs/3_IMG_6197.jpg  \n",
            "  inflating: 64x64_SIGNS/train_signs/3_IMG_6183.jpg  \n",
            "  inflating: 64x64_SIGNS/train_signs/2_IMG_4624.jpg  \n",
            "  inflating: 64x64_SIGNS/train_signs/2_IMG_4630.jpg  \n",
            "  inflating: 64x64_SIGNS/train_signs/2_IMG_4618.jpg  \n",
            "  inflating: 64x64_SIGNS/train_signs/4_IMG_5313.jpg  \n",
            "  inflating: 64x64_SIGNS/train_signs/1_IMG_4406.jpg  \n",
            "  inflating: 64x64_SIGNS/train_signs/2_IMG_4803.jpg  \n",
            "  inflating: 64x64_SIGNS/train_signs/1_IMG_4412.jpg  \n",
            "  inflating: 64x64_SIGNS/train_signs/0_IMG_5957 (1).jpg  \n",
            "  inflating: 64x64_SIGNS/train_signs/2_IMG_4750.jpg  \n",
            "  inflating: 64x64_SIGNS/train_signs/2_IMG_4744.jpg  \n",
            "  inflating: 64x64_SIGNS/train_signs/4_IMG_5273.jpg  \n",
            "  inflating: 64x64_SIGNS/train_signs/2_IMG_4778.jpg  \n",
            "  inflating: 64x64_SIGNS/train_signs/4_IMG_5298.jpg  \n",
            "  inflating: 64x64_SIGNS/train_signs/1_IMG_4572.jpg  \n",
            "  inflating: 64x64_SIGNS/train_signs/1_IMG_4566.jpg  \n",
            "  inflating: 64x64_SIGNS/train_signs/5_IMG_5472.jpg  \n",
            "  inflating: 64x64_SIGNS/train_signs/0_IMG_5910.jpg  \n",
            "  inflating: 64x64_SIGNS/train_signs/5_IMG_5466.jpg  \n",
            "  inflating: 64x64_SIGNS/train_signs/0_IMG_5904.jpg  \n",
            "  inflating: 64x64_SIGNS/train_signs/0_IMG_6265 (1).jpg  \n",
            "  inflating: 64x64_SIGNS/train_signs/0_IMG_6275 (1).jpg  \n",
            "  inflating: 64x64_SIGNS/train_signs/5_IMG_5499.jpg  \n",
            "  inflating: 64x64_SIGNS/train_signs/2_IMG_4585.jpg  \n",
            "  inflating: 64x64_SIGNS/train_signs/2_IMG_4584.jpg  \n",
            "  inflating: 64x64_SIGNS/train_signs/5_IMG_5498.jpg  \n",
            "  inflating: 64x64_SIGNS/train_signs/2_IMG_4590.jpg  \n",
            "  inflating: 64x64_SIGNS/train_signs/0_IMG_5905.jpg  \n",
            "  inflating: 64x64_SIGNS/train_signs/0_IMG_5911.jpg  \n",
            "  inflating: 64x64_SIGNS/train_signs/5_IMG_5473.jpg  \n",
            "  inflating: 64x64_SIGNS/train_signs/0_IMG_5939.jpg  \n",
            "  inflating: 64x64_SIGNS/train_signs/3_IMG_6021.jpg  \n",
            "  inflating: 64x64_SIGNS/train_signs/1_IMG_4573.jpg  \n",
            "  inflating: 64x64_SIGNS/train_signs/4_IMG_5299.jpg  \n",
            "  inflating: 64x64_SIGNS/train_signs/2_IMG_4792.jpg  \n",
            "  inflating: 64x64_SIGNS/train_signs/2_IMG_4779.jpg  \n",
            "  inflating: 64x64_SIGNS/train_signs/4_IMG_5272.jpg  \n",
            "  inflating: 64x64_SIGNS/train_signs/2_IMG_4745.jpg  \n",
            "  inflating: 64x64_SIGNS/train_signs/2_IMG_4751.jpg  \n",
            "  inflating: 64x64_SIGNS/train_signs/1_IMG_4413.jpg  \n",
            "  inflating: 64x64_SIGNS/train_signs/2_IMG_4802.jpg  \n",
            "  inflating: 64x64_SIGNS/train_signs/4_IMG_5306.jpg  \n",
            "  inflating: 64x64_SIGNS/train_signs/2_IMG_4631.jpg  \n",
            "  inflating: 64x64_SIGNS/train_signs/2_IMG_4625.jpg  \n",
            "  inflating: 64x64_SIGNS/train_signs/3_IMG_6182.jpg  \n",
            "  inflating: 64x64_SIGNS/train_signs/0_IMG_5968 (1).jpg  \n",
            "  inflating: 64x64_SIGNS/train_signs/3_IMG_6169.jpg  \n",
            "  inflating: 64x64_SIGNS/train_signs/0_IMG_5978 (1).jpg  \n",
            "  inflating: 64x64_SIGNS/train_signs/3_IMG_6157.jpg  \n",
            "  inflating: 64x64_SIGNS/train_signs/5_IMG_5539.jpg  \n",
            "  inflating: 64x64_SIGNS/train_signs/5_IMG_5511.jpg  \n",
            "  inflating: 64x64_SIGNS/train_signs/5_IMG_5505.jpg  \n",
            "  inflating: 64x64_SIGNS/train_signs/3_IMG_6194.jpg  \n",
            "  inflating: 64x64_SIGNS/train_signs/0_IMG_5898.jpg  \n",
            "  inflating: 64x64_SIGNS/train_signs/1_IMG_4388.jpg  \n",
            "  inflating: 64x64_SIGNS/train_signs/2_IMG_4633.jpg  \n",
            "  inflating: 64x64_SIGNS/train_signs/2_IMG_4627.jpg  \n",
            "  inflating: 64x64_SIGNS/train_signs/4_IMG_5310.jpg  \n",
            "  inflating: 64x64_SIGNS/train_signs/1_IMG_4405.jpg  \n",
            "  inflating: 64x64_SIGNS/train_signs/2_IMG_4747.jpg  \n",
            "  inflating: 64x64_SIGNS/train_signs/2_IMG_4753.jpg  \n",
            "  inflating: 64x64_SIGNS/train_signs/4_IMG_5264.jpg  \n",
            "  inflating: 64x64_SIGNS/train_signs/4_IMG_5270.jpg  \n",
            "  inflating: 64x64_SIGNS/train_signs/2_IMG_4784.jpg  \n",
            "  inflating: 64x64_SIGNS/train_signs/2_IMG_4790.jpg  \n",
            "  inflating: 64x64_SIGNS/train_signs/5_IMG_5459.jpg  \n",
            "  inflating: 64x64_SIGNS/train_signs/5_IMG_5465.jpg  \n",
            "  inflating: 64x64_SIGNS/train_signs/0_IMG_5907.jpg  \n",
            "  inflating: 64x64_SIGNS/train_signs/5_IMG_5471.jpg  \n",
            "  inflating: 64x64_SIGNS/train_signs/2_IMG_4592.jpg  \n",
            "  inflating: 64x64_SIGNS/train_signs/2_IMG_4593.jpg  \n",
            "  inflating: 64x64_SIGNS/train_signs/0_IMG_5912.jpg  \n",
            "  inflating: 64x64_SIGNS/train_signs/0_IMG_5906.jpg  \n",
            "  inflating: 64x64_SIGNS/train_signs/3_IMG_6022.jpg  \n",
            "  inflating: 64x64_SIGNS/train_signs/5_IMG_5458.jpg  \n",
            "  inflating: 64x64_SIGNS/train_signs/3_IMG_6036.jpg  \n",
            "  inflating: 64x64_SIGNS/train_signs/1_IMG_4570.jpg  \n",
            "  inflating: 64x64_SIGNS/train_signs/1_IMG_4564.jpg  \n",
            "  inflating: 64x64_SIGNS/train_signs/2_IMG_4791.jpg  \n",
            "  inflating: 64x64_SIGNS/train_signs/1_IMG_4558.jpg  \n",
            "  inflating: 64x64_SIGNS/train_signs/2_IMG_4785.jpg  \n",
            "  inflating: 64x64_SIGNS/train_signs/3_IMG_6208.jpg  \n",
            "  inflating: 64x64_SIGNS/train_signs/4_IMG_5265.jpg  \n",
            "  inflating: 64x64_SIGNS/train_signs/2_IMG_4752.jpg  \n",
            "  inflating: 64x64_SIGNS/train_signs/3_IMG_6220.jpg  \n",
            "  inflating: 64x64_SIGNS/train_signs/4_IMG_5259.jpg  \n",
            "  inflating: 64x64_SIGNS/train_signs/2_IMG_4746.jpg  \n",
            "  inflating: 64x64_SIGNS/train_signs/2_IMG_4801.jpg  \n",
            "  inflating: 64x64_SIGNS/train_signs/1_IMG_4404.jpg  \n",
            "  inflating: 64x64_SIGNS/train_signs/1_IMG_4410.jpg  \n",
            "  inflating: 64x64_SIGNS/train_signs/1_IMG_4438.jpg  \n",
            "  inflating: 64x64_SIGNS/train_signs/4_IMG_5305.jpg  \n",
            "  inflating: 64x64_SIGNS/train_signs/4_IMG_5311.jpg  \n",
            "  inflating: 64x64_SIGNS/train_signs/2_IMG_4626.jpg  \n",
            "  inflating: 64x64_SIGNS/train_signs/4_IMG_5339.jpg  \n",
            "  inflating: 64x64_SIGNS/train_signs/2_IMG_4632.jpg  \n",
            "  inflating: 64x64_SIGNS/train_signs/1_IMG_4389.jpg  \n",
            "  inflating: 64x64_SIGNS/train_signs/3_IMG_6181.jpg  \n",
            "  inflating: 64x64_SIGNS/train_signs/5_IMG_5504.jpg  \n",
            "  inflating: 64x64_SIGNS/train_signs/5_IMG_5510.jpg  \n",
            "  inflating: 64x64_SIGNS/train_signs/3_IMG_6156.jpg  \n",
            "  inflating: 64x64_SIGNS/train_signs/5_IMG_5538.jpg  \n",
            "  inflating: 64x64_SIGNS/train_signs/3_IMG_6119.jpg  \n",
            "  inflating: 64x64_SIGNS/train_signs/5_IMG_5563.jpg  \n",
            "  inflating: 64x64_SIGNS/train_signs/1_IMG_4581 (1).jpg  \n",
            "  inflating: 64x64_SIGNS/train_signs/3_IMG_6125.jpg  \n",
            "  inflating: 64x64_SIGNS/train_signs/3_IMG_6131.jpg  \n",
            "  inflating: 64x64_SIGNS/train_signs/5_IMG_5588.jpg  \n",
            "  inflating: 64x64_SIGNS/train_signs/4_IMG_5410.jpg  \n",
            "  inflating: 64x64_SIGNS/train_signs/4_IMG_5376.jpg  \n",
            "  inflating: 64x64_SIGNS/train_signs/2_IMG_4669.jpg  \n",
            "  inflating: 64x64_SIGNS/train_signs/4_IMG_5362.jpg  \n",
            "  inflating: 64x64_SIGNS/train_signs/1_IMG_4488.jpg  \n",
            "  inflating: 64x64_SIGNS/train_signs/2_IMG_4655.jpg  \n",
            "  inflating: 64x64_SIGNS/train_signs/1_IMG_4463.jpg  \n",
            "  inflating: 64x64_SIGNS/train_signs/2_IMG_4696.jpg  \n",
            "  inflating: 64x64_SIGNS/train_signs/5_IMG_5601.jpg  \n",
            "  inflating: 64x64_SIGNS/train_signs/2_IMG_4721.jpg  \n",
            "  inflating: 64x64_SIGNS/train_signs/5_IMG_5629.jpg  \n",
            "  inflating: 64x64_SIGNS/train_signs/2_IMG_4735.jpg  \n",
            "  inflating: 64x64_SIGNS/train_signs/1_IMG_4503.jpg  \n",
            "  inflating: 64x64_SIGNS/train_signs/1_IMG_4517.jpg  \n",
            "  inflating: 64x64_SIGNS/train_signs/0_IMG_5975.jpg  \n",
            "  inflating: 64x64_SIGNS/train_signs/3_IMG_6051.jpg  \n",
            "  inflating: 64x64_SIGNS/train_signs/0_IMG_5949.jpg  \n",
            "  inflating: 64x64_SIGNS/train_signs/0_IMG_6273.jpg  \n",
            "  inflating: 64x64_SIGNS/train_signs/0_IMG_6267.jpg  \n",
            "  inflating: 64x64_SIGNS/train_signs/3_IMG_6086.jpg  \n",
            "  inflating: 64x64_SIGNS/train_signs/3_IMG_6087.jpg  \n",
            "  inflating: 64x64_SIGNS/train_signs/3_IMG_6093.jpg  \n",
            "  inflating: 64x64_SIGNS/train_signs/0_IMG_6266.jpg  \n",
            "  inflating: 64x64_SIGNS/train_signs/0_IMG_6272.jpg  \n",
            "  inflating: 64x64_SIGNS/train_signs/3_IMG_6044.jpg  \n",
            "  inflating: 64x64_SIGNS/train_signs/0_IMG_5948.jpg  \n",
            "  inflating: 64x64_SIGNS/train_signs/3_IMG_6050.jpg  \n",
            "  inflating: 64x64_SIGNS/train_signs/0_IMG_5974.jpg  \n",
            "  inflating: 64x64_SIGNS/train_signs/0_IMG_5960.jpg  \n",
            "  inflating: 64x64_SIGNS/train_signs/5_IMG_5628.jpg  \n",
            "  inflating: 64x64_SIGNS/train_signs/5_IMG_5614.jpg  \n",
            "  inflating: 64x64_SIGNS/train_signs/2_IMG_4683.jpg  \n",
            "  inflating: 64x64_SIGNS/train_signs/4_IMG_5388.jpg  \n",
            "  inflating: 64x64_SIGNS/train_signs/2_IMG_4697.jpg  \n",
            "  inflating: 64x64_SIGNS/train_signs/1_IMG_4462.jpg  \n",
            "  inflating: 64x64_SIGNS/train_signs/1_IMG_4476.jpg  \n",
            "  inflating: 64x64_SIGNS/train_signs/1_IMG_4489.jpg  \n",
            "  inflating: 64x64_SIGNS/train_signs/2_IMG_4654.jpg  \n",
            "  inflating: 64x64_SIGNS/train_signs/4_IMG_5405.jpg  \n",
            "  inflating: 64x64_SIGNS/train_signs/4_IMG_5411.jpg  \n",
            "  inflating: 64x64_SIGNS/train_signs/2_IMG_4668.jpg  \n",
            "  inflating: 64x64_SIGNS/train_signs/3_IMG_6130.jpg  \n",
            "  inflating: 64x64_SIGNS/train_signs/5_IMG_5562.jpg  \n",
            "  inflating: 64x64_SIGNS/train_signs/5_IMG_5576.jpg  \n",
            "  inflating: 64x64_SIGNS/train_signs/3_IMG_6118.jpg  \n",
            "  inflating: 64x64_SIGNS/train_signs/5_IMG_5574.jpg  \n",
            "  inflating: 64x64_SIGNS/train_signs/3_IMG_6132.jpg  \n",
            "  inflating: 64x64_SIGNS/train_signs/3_IMG_6126.jpg  \n",
            "  inflating: 64x64_SIGNS/train_signs/5_IMG_5548.jpg  \n",
            "  inflating: 64x64_SIGNS/train_signs/0_IMG_5987 (1).jpg  \n",
            "  inflating: 64x64_SIGNS/train_signs/4_IMG_5407.jpg  \n",
            "  inflating: 64x64_SIGNS/train_signs/4_IMG_5375.jpg  \n",
            "  inflating: 64x64_SIGNS/train_signs/4_IMG_5413.jpg  \n",
            "  inflating: 64x64_SIGNS/train_signs/4_IMG_5349.jpg  \n",
            "  inflating: 64x64_SIGNS/train_signs/2_IMG_4656.jpg  \n",
            "  inflating: 64x64_SIGNS/train_signs/1_IMG_4460.jpg  \n",
            "  inflating: 64x64_SIGNS/train_signs/1_IMG_4474.jpg  \n",
            "  inflating: 64x64_SIGNS/train_signs/2_IMG_4681.jpg  \n",
            "  inflating: 64x64_SIGNS/train_signs/1_IMG_4448.jpg  \n",
            "  inflating: 64x64_SIGNS/train_signs/5_IMG_5616.jpg  \n",
            "  inflating: 64x64_SIGNS/train_signs/5_IMG_5602.jpg  \n",
            "  inflating: 64x64_SIGNS/train_signs/3_IMG_5995.jpg  \n",
            "  inflating: 64x64_SIGNS/train_signs/2_IMG_4736.jpg  \n",
            "  inflating: 64x64_SIGNS/train_signs/4_IMG_5229.jpg  \n",
            "  inflating: 64x64_SIGNS/train_signs/2_IMG_4722.jpg  \n",
            "  inflating: 64x64_SIGNS/train_signs/1_IMG_4514.jpg  \n",
            "  inflating: 64x64_SIGNS/train_signs/1_IMG_4500.jpg  \n",
            "  inflating: 64x64_SIGNS/train_signs/1_IMG_4528.jpg  \n",
            "  inflating: 64x64_SIGNS/train_signs/0_IMG_5962.jpg  \n",
            "  inflating: 64x64_SIGNS/train_signs/3_IMG_6052.jpg  \n",
            "  inflating: 64x64_SIGNS/train_signs/0_IMG_6264.jpg  \n",
            "  inflating: 64x64_SIGNS/train_signs/0_IMG_6270.jpg  \n",
            "  inflating: 64x64_SIGNS/train_signs/0_IMG_5989.jpg  \n",
            "  inflating: 64x64_SIGNS/train_signs/3_IMG_6085.jpg  \n",
            "  inflating: 64x64_SIGNS/train_signs/3_IMG_6091.jpg  \n",
            "  inflating: 64x64_SIGNS/train_signs/3_IMG_6090.jpg  \n",
            "  inflating: 64x64_SIGNS/train_signs/0_IMG_6259.jpg  \n",
            "  inflating: 64x64_SIGNS/train_signs/0_IMG_5988.jpg  \n",
            "  inflating: 64x64_SIGNS/train_signs/3_IMG_6084.jpg  \n",
            "  inflating: 64x64_SIGNS/train_signs/0_IMG_6271.jpg  \n",
            "  inflating: 64x64_SIGNS/train_signs/0_IMG_6265.jpg  \n",
            "  inflating: 64x64_SIGNS/train_signs/3_IMG_6053.jpg  \n",
            "  inflating: 64x64_SIGNS/train_signs/3_IMG_6047.jpg  \n",
            "  inflating: 64x64_SIGNS/train_signs/0_IMG_5963.jpg  \n",
            "  inflating: 64x64_SIGNS/train_signs/0_IMG_6233 (1).jpg  \n",
            "  inflating: 64x64_SIGNS/train_signs/1_IMG_4501.jpg  \n",
            "  inflating: 64x64_SIGNS/train_signs/1_IMG_4515.jpg  \n",
            "  inflating: 64x64_SIGNS/train_signs/2_IMG_4723.jpg  \n",
            "  inflating: 64x64_SIGNS/train_signs/3_IMG_5994.jpg  \n",
            "  inflating: 64x64_SIGNS/train_signs/4_IMG_5228.jpg  \n",
            "  inflating: 64x64_SIGNS/train_signs/5_IMG_5603.jpg  \n",
            "  inflating: 64x64_SIGNS/train_signs/5_IMG_5617.jpg  \n",
            "  inflating: 64x64_SIGNS/train_signs/2_IMG_4694.jpg  \n",
            "  inflating: 64x64_SIGNS/train_signs/1_IMG_4449.jpg  \n",
            "  inflating: 64x64_SIGNS/train_signs/2_IMG_4680.jpg  \n",
            "  inflating: 64x64_SIGNS/train_signs/1_IMG_4475.jpg  \n",
            "  inflating: 64x64_SIGNS/train_signs/4_IMG_5348.jpg  \n",
            "  inflating: 64x64_SIGNS/train_signs/0_IMG_6251 (1).jpg  \n",
            "  inflating: 64x64_SIGNS/train_signs/4_IMG_5406.jpg  \n",
            "  inflating: 64x64_SIGNS/train_signs/0_IMG_6241 (1).jpg  \n",
            "  inflating: 64x64_SIGNS/train_signs/4_IMG_5360.jpg  \n",
            "  inflating: 64x64_SIGNS/train_signs/0_IMG_5963 (1).jpg  \n",
            "  inflating: 64x64_SIGNS/train_signs/0_IMG_5973 (1).jpg  \n",
            "  inflating: 64x64_SIGNS/train_signs/3_IMG_6127.jpg  \n",
            "  inflating: 64x64_SIGNS/train_signs/5_IMG_5549.jpg  \n",
            "  inflating: 64x64_SIGNS/train_signs/3_IMG_6133.jpg  \n",
            "  inflating: 64x64_SIGNS/train_signs/5_IMG_5575.jpg  \n",
            "  inflating: 64x64_SIGNS/train_signs/3_IMG_6137.jpg  \n",
            "  inflating: 64x64_SIGNS/train_signs/5_IMG_5559.jpg  \n",
            "  inflating: 64x64_SIGNS/train_signs/5_IMG_5565.jpg  \n",
            "  inflating: 64x64_SIGNS/train_signs/5_IMG_5571.jpg  \n",
            "  inflating: 64x64_SIGNS/train_signs/4_IMG_5358.jpg  \n",
            "  inflating: 64x64_SIGNS/train_signs/4_IMG_5364.jpg  \n",
            "  inflating: 64x64_SIGNS/train_signs/4_IMG_5402.jpg  \n",
            "  inflating: 64x64_SIGNS/train_signs/4_IMG_5416.jpg  \n",
            "  inflating: 64x64_SIGNS/train_signs/4_IMG_5370.jpg  \n",
            "  inflating: 64x64_SIGNS/train_signs/2_IMG_4684.jpg  \n",
            "  inflating: 64x64_SIGNS/train_signs/1_IMG_4459.jpg  \n",
            "  inflating: 64x64_SIGNS/train_signs/1_IMG_4465.jpg  \n",
            "  inflating: 64x64_SIGNS/train_signs/0_IMG_5986 (1).jpg  \n",
            "  inflating: 64x64_SIGNS/train_signs/2_IMG_4727.jpg  \n",
            "  inflating: 64x64_SIGNS/train_signs/5_IMG_5613.jpg  \n",
            "  inflating: 64x64_SIGNS/train_signs/5_IMG_5607.jpg  \n",
            "  inflating: 64x64_SIGNS/train_signs/1_IMG_4511.jpg  \n",
            "  inflating: 64x64_SIGNS/train_signs/1_IMG_4505.jpg  \n",
            "  inflating: 64x64_SIGNS/train_signs/3_IMG_6043.jpg  \n",
            "  inflating: 64x64_SIGNS/train_signs/5_IMG_5439.jpg  \n",
            "  inflating: 64x64_SIGNS/train_signs/3_IMG_6057.jpg  \n",
            "  inflating: 64x64_SIGNS/train_signs/0_IMG_5973.jpg  \n",
            "  inflating: 64x64_SIGNS/train_signs/0_IMG_5967.jpg  \n",
            "  inflating: 64x64_SIGNS/train_signs/3_IMG_6080.jpg  \n",
            "  inflating: 64x64_SIGNS/train_signs/0_IMG_6249.jpg  \n",
            "  inflating: 64x64_SIGNS/train_signs/0_IMG_6275.jpg  \n",
            "  inflating: 64x64_SIGNS/train_signs/0_IMG_6274.jpg  \n",
            "  inflating: 64x64_SIGNS/train_signs/0_IMG_6260.jpg  \n",
            "  inflating: 64x64_SIGNS/train_signs/0_IMG_6248.jpg  \n",
            "  inflating: 64x64_SIGNS/train_signs/3_IMG_6095.jpg  \n",
            "  inflating: 64x64_SIGNS/train_signs/3_IMG_6081.jpg  \n",
            "  inflating: 64x64_SIGNS/train_signs/0_IMG_5966.jpg  \n",
            "  inflating: 64x64_SIGNS/train_signs/5_IMG_5438.jpg  \n",
            "  inflating: 64x64_SIGNS/train_signs/3_IMG_6042.jpg  \n",
            "  inflating: 64x64_SIGNS/train_signs/1_IMG_4504.jpg  \n",
            "  inflating: 64x64_SIGNS/train_signs/1_IMG_4510.jpg  \n",
            "  inflating: 64x64_SIGNS/train_signs/1_IMG_4538.jpg  \n",
            "  inflating: 64x64_SIGNS/train_signs/5_IMG_5612.jpg  \n",
            "  inflating: 64x64_SIGNS/train_signs/2_IMG_4726.jpg  \n",
            "  inflating: 64x64_SIGNS/train_signs/1_IMG_4470.jpg  \n",
            "  inflating: 64x64_SIGNS/train_signs/1_IMG_4464.jpg  \n",
            "  inflating: 64x64_SIGNS/train_signs/2_IMG_4691.jpg  \n",
            "  inflating: 64x64_SIGNS/train_signs/1_IMG_4458.jpg  \n",
            "  inflating: 64x64_SIGNS/train_signs/4_IMG_5417.jpg  \n",
            "  inflating: 64x64_SIGNS/train_signs/4_IMG_5371.jpg  \n",
            "  inflating: 64x64_SIGNS/train_signs/4_IMG_5365.jpg  \n",
            "  inflating: 64x64_SIGNS/train_signs/4_IMG_5403.jpg  \n",
            "  inflating: 64x64_SIGNS/train_signs/2_IMG_4646.jpg  \n",
            "  inflating: 64x64_SIGNS/train_signs/4_IMG_5359.jpg  \n",
            "  inflating: 64x64_SIGNS/train_signs/5_IMG_5570.jpg  \n",
            "  inflating: 64x64_SIGNS/train_signs/5_IMG_5564.jpg  \n",
            "  inflating: 64x64_SIGNS/train_signs/3_IMG_6122.jpg  \n",
            "  inflating: 64x64_SIGNS/train_signs/3_IMG_6136.jpg  \n",
            "  inflating: 64x64_SIGNS/train_signs/5_IMG_5558.jpg  \n",
            "  inflating: 64x64_SIGNS/train_signs/3_IMG_6120.jpg  \n",
            "  inflating: 64x64_SIGNS/train_signs/0_IMG_6266 (1).jpg  \n",
            "  inflating: 64x64_SIGNS/train_signs/3_IMG_6134.jpg  \n",
            "  inflating: 64x64_SIGNS/train_signs/5_IMG_5566.jpg  \n",
            "  inflating: 64x64_SIGNS/train_signs/3_IMG_6108.jpg  \n",
            "  inflating: 64x64_SIGNS/train_signs/4_IMG_5429.jpg  \n",
            "  inflating: 64x64_SIGNS/train_signs/1_IMG_4499.jpg  \n",
            "  inflating: 64x64_SIGNS/train_signs/2_IMG_4644.jpg  \n",
            "  inflating: 64x64_SIGNS/train_signs/4_IMG_5373.jpg  \n",
            "  inflating: 64x64_SIGNS/train_signs/4_IMG_5415.jpg  \n",
            "  inflating: 64x64_SIGNS/train_signs/4_IMG_5401.jpg  \n",
            "  inflating: 64x64_SIGNS/train_signs/4_IMG_5367.jpg  \n",
            "  inflating: 64x64_SIGNS/train_signs/2_IMG_4678.jpg  \n",
            "  inflating: 64x64_SIGNS/train_signs/2_IMG_4693.jpg  \n",
            "  inflating: 64x64_SIGNS/train_signs/2_IMG_4687.jpg  \n",
            "  inflating: 64x64_SIGNS/train_signs/4_IMG_5398.jpg  \n",
            "  inflating: 64x64_SIGNS/train_signs/1_IMG_4472.jpg  \n",
            "  inflating: 64x64_SIGNS/train_signs/1_IMG_4466.jpg  \n",
            "  inflating: 64x64_SIGNS/train_signs/2_IMG_4730.jpg  \n",
            "  inflating: 64x64_SIGNS/train_signs/5_IMG_5604.jpg  \n",
            "  inflating: 64x64_SIGNS/train_signs/5_IMG_5610.jpg  \n",
            "  inflating: 64x64_SIGNS/train_signs/1_IMG_4506.jpg  \n",
            "  inflating: 64x64_SIGNS/train_signs/1_IMG_4512.jpg  \n",
            "  inflating: 64x64_SIGNS/train_signs/3_IMG_6054.jpg  \n",
            "  inflating: 64x64_SIGNS/train_signs/3_IMG_6040.jpg  \n",
            "  inflating: 64x64_SIGNS/train_signs/3_IMG_6068.jpg  \n",
            "  inflating: 64x64_SIGNS/train_signs/3_IMG_6097.jpg  \n",
            "  inflating: 64x64_SIGNS/train_signs/3_IMG_6083.jpg  \n",
            "  inflating: 64x64_SIGNS/train_signs/0_IMG_6262.jpg  \n",
            "  inflating: 64x64_SIGNS/train_signs/0_IMG_6277.jpg  \n",
            "  inflating: 64x64_SIGNS/train_signs/3_IMG_6082.jpg  \n",
            "  inflating: 64x64_SIGNS/train_signs/0_IMG_5971.jpg  \n",
            "  inflating: 64x64_SIGNS/train_signs/3_IMG_6069.jpg  \n",
            "  inflating: 64x64_SIGNS/train_signs/0_IMG_5965.jpg  \n",
            "  inflating: 64x64_SIGNS/train_signs/3_IMG_6041.jpg  \n",
            "  inflating: 64x64_SIGNS/train_signs/3_IMG_6055.jpg  \n",
            "  inflating: 64x64_SIGNS/train_signs/0_IMG_5959.jpg  \n",
            "  inflating: 64x64_SIGNS/train_signs/1_IMG_4507.jpg  \n",
            "  inflating: 64x64_SIGNS/train_signs/5_IMG_5611.jpg  \n",
            "  inflating: 64x64_SIGNS/train_signs/2_IMG_4719.jpg  \n",
            "  inflating: 64x64_SIGNS/train_signs/5_IMG_5605.jpg  \n",
            "  inflating: 64x64_SIGNS/train_signs/1_IMG_4473.jpg  \n",
            "  inflating: 64x64_SIGNS/train_signs/2_IMG_4686.jpg  \n",
            "  inflating: 64x64_SIGNS/train_signs/2_IMG_4692.jpg  \n",
            "  inflating: 64x64_SIGNS/train_signs/4_IMG_5366.jpg  \n",
            "  inflating: 64x64_SIGNS/train_signs/4_IMG_5372.jpg  \n",
            "  inflating: 64x64_SIGNS/train_signs/4_IMG_5414.jpg  \n",
            "  inflating: 64x64_SIGNS/train_signs/2_IMG_4651.jpg  \n",
            "  inflating: 64x64_SIGNS/train_signs/5_IMG_5598.jpg  \n",
            "  inflating: 64x64_SIGNS/train_signs/5_IMG_5567.jpg  \n",
            "  inflating: 64x64_SIGNS/train_signs/3_IMG_6109.jpg  \n",
            "  inflating: 64x64_SIGNS/train_signs/3_IMG_6135.jpg  \n",
            "   creating: 64x64_SIGNS/val_signs/\n",
            "  inflating: 64x64_SIGNS/val_signs/5_IMG_5542.jpg  \n",
            "  inflating: 64x64_SIGNS/val_signs/1_IMG_4481.jpg  \n",
            "  inflating: 64x64_SIGNS/val_signs/4_IMG_5380.jpg  \n",
            "  inflating: 64x64_SIGNS/val_signs/1_IMG_4536.jpg  \n",
            "  inflating: 64x64_SIGNS/val_signs/5_IMG_5436.jpg  \n",
            "  inflating: 64x64_SIGNS/val_signs/3_IMG_6065.jpg  \n",
            "  inflating: 64x64_SIGNS/val_signs/0_IMG_6273 (1).jpg  \n",
            "  inflating: 64x64_SIGNS/val_signs/0_IMG_6263 (1).jpg  \n",
            "  inflating: 64x64_SIGNS/val_signs/3_IMG_6059.jpg  \n",
            "  inflating: 64x64_SIGNS/val_signs/4_IMG_5356.jpg  \n",
            "  inflating: 64x64_SIGNS/val_signs/3_IMG_6111.jpg  \n",
            "  inflating: 64x64_SIGNS/val_signs/3_IMG_6105.jpg  \n",
            "  inflating: 64x64_SIGNS/val_signs/5_IMG_5569.jpg  \n",
            "  inflating: 64x64_SIGNS/val_signs/1_IMG_4482.jpg  \n",
            "  inflating: 64x64_SIGNS/val_signs/1_IMG_4496.jpg  \n",
            "  inflating: 64x64_SIGNS/val_signs/2_IMG_4663.jpg  \n",
            "  inflating: 64x64_SIGNS/val_signs/4_IMG_5397.jpg  \n",
            "  inflating: 64x64_SIGNS/val_signs/0_IMG_5967 (1).jpg  \n",
            "  inflating: 64x64_SIGNS/val_signs/1_IMG_4509.jpg  \n",
            "  inflating: 64x64_SIGNS/val_signs/0_IMG_6245 (1).jpg  \n",
            "  inflating: 64x64_SIGNS/val_signs/0_IMG_5981.jpg  \n",
            "  inflating: 64x64_SIGNS/val_signs/0_IMG_6250.jpg  \n",
            "  inflating: 64x64_SIGNS/val_signs/4_IMG_5355.jpg  \n",
            "  inflating: 64x64_SIGNS/val_signs/3_IMG_6116.jpg  \n",
            "  inflating: 64x64_SIGNS/val_signs/5_IMG_5544.jpg  \n",
            "  inflating: 64x64_SIGNS/val_signs/2_IMG_4666.jpg  \n",
            "  inflating: 64x64_SIGNS/val_signs/1_IMG_4450.jpg  \n",
            "  inflating: 64x64_SIGNS/val_signs/0_IMG_6244 (1).jpg  \n",
            "  inflating: 64x64_SIGNS/val_signs/3_IMG_5999.jpg  \n",
            "  inflating: 64x64_SIGNS/val_signs/1_IMG_4518.jpg  \n",
            "  inflating: 64x64_SIGNS/val_signs/1_IMG_4524.jpg  \n",
            "  inflating: 64x64_SIGNS/val_signs/0_IMG_5984.jpg  \n",
            "  inflating: 64x64_SIGNS/val_signs/0_IMG_5953.jpg  \n",
            "  inflating: 64x64_SIGNS/val_signs/5_IMG_5431.jpg  \n",
            "  inflating: 64x64_SIGNS/val_signs/3_IMG_6063.jpg  \n",
            "  inflating: 64x64_SIGNS/val_signs/1_IMG_4519.jpg  \n",
            "  inflating: 64x64_SIGNS/val_signs/4_IMG_5224.jpg  \n",
            "  inflating: 64x64_SIGNS/val_signs/2_IMG_4713.jpg  \n",
            "  inflating: 64x64_SIGNS/val_signs/5_IMG_5586.jpg  \n",
            "  inflating: 64x64_SIGNS/val_signs/5_IMG_5545.jpg  \n",
            "  inflating: 64x64_SIGNS/val_signs/3_IMG_6117.jpg  \n",
            "  inflating: 64x64_SIGNS/val_signs/5_IMG_5590.jpg  \n",
            "  inflating: 64x64_SIGNS/val_signs/4_IMG_5352.jpg  \n",
            "  inflating: 64x64_SIGNS/val_signs/4_IMG_5420.jpg  \n",
            "  inflating: 64x64_SIGNS/val_signs/2_IMG_4711.jpg  \n",
            "  inflating: 64x64_SIGNS/val_signs/0_IMG_5945.jpg  \n",
            "  inflating: 64x64_SIGNS/val_signs/0_IMG_5987.jpg  \n",
            "  inflating: 64x64_SIGNS/val_signs/3_IMG_6060.jpg  \n",
            "  inflating: 64x64_SIGNS/val_signs/0_IMG_5978.jpg  \n",
            "  inflating: 64x64_SIGNS/val_signs/1_IMG_4532.jpg  \n",
            "  inflating: 64x64_SIGNS/val_signs/1_IMG_4526.jpg  \n",
            "  inflating: 64x64_SIGNS/val_signs/0_IMG_6262 (1).jpg  \n",
            "  inflating: 64x64_SIGNS/val_signs/2_IMG_4704.jpg  \n",
            "  inflating: 64x64_SIGNS/val_signs/4_IMG_5353.jpg  \n",
            "  inflating: 64x64_SIGNS/val_signs/3_IMG_6100.jpg  \n",
            "  inflating: 64x64_SIGNS/val_signs/5_IMG_5509.jpg  \n",
            "  inflating: 64x64_SIGNS/val_signs/1_IMG_4390.jpg  \n",
            "  inflating: 64x64_SIGNS/val_signs/2_IMG_4617.jpg  \n",
            "  inflating: 64x64_SIGNS/val_signs/3_IMG_6211.jpg  \n",
            "  inflating: 64x64_SIGNS/val_signs/2_IMG_4777.jpg  \n",
            "  inflating: 64x64_SIGNS/val_signs/1_IMG_4555.jpg  \n",
            "  inflating: 64x64_SIGNS/val_signs/5_IMG_5455.jpg  \n",
            "  inflating: 64x64_SIGNS/val_signs/0_IMG_6225.jpg  \n",
            "  inflating: 64x64_SIGNS/val_signs/2_IMG_4762.jpg  \n",
            "  inflating: 64x64_SIGNS/val_signs/1_IMG_4420.jpg  \n",
            "  inflating: 64x64_SIGNS/val_signs/2_IMG_4616.jpg  \n",
            "  inflating: 64x64_SIGNS/val_signs/4_IMG_5309.jpg  \n",
            "  inflating: 64x64_SIGNS/val_signs/5_IMG_5520.jpg  \n",
            "  inflating: 64x64_SIGNS/val_signs/4_IMG_5337.jpg  \n",
            "  inflating: 64x64_SIGNS/val_signs/1_IMG_4581.jpg  \n",
            "  inflating: 64x64_SIGNS/val_signs/1_IMG_4542.jpg  \n",
            "  inflating: 64x64_SIGNS/val_signs/5_IMG_5442.jpg  \n",
            "  inflating: 64x64_SIGNS/val_signs/3_IMG_6004.jpg  \n",
            "  inflating: 64x64_SIGNS/val_signs/0_IMG_5908.jpg  \n",
            "  inflating: 64x64_SIGNS/val_signs/0_IMG_6233.jpg  \n",
            "  inflating: 64x64_SIGNS/val_signs/5_IMG_5443.jpg  \n",
            "  inflating: 64x64_SIGNS/val_signs/4_IMG_5295.jpg  \n",
            "  inflating: 64x64_SIGNS/val_signs/2_IMG_4761.jpg  \n",
            "  inflating: 64x64_SIGNS/val_signs/3_IMG_6207.jpg  \n",
            "  inflating: 64x64_SIGNS/val_signs/4_IMG_5242.jpg  \n",
            "  inflating: 64x64_SIGNS/val_signs/4_IMG_5256.jpg  \n",
            "  inflating: 64x64_SIGNS/val_signs/2_IMG_4615.jpg  \n",
            "  inflating: 64x64_SIGNS/val_signs/3_IMG_6159.jpg  \n",
            "  inflating: 64x64_SIGNS/val_signs/1_IMG_4382.jpg  \n",
            "  inflating: 64x64_SIGNS/val_signs/4_IMG_5332.jpg  \n",
            "  inflating: 64x64_SIGNS/val_signs/3_IMG_6217.jpg  \n",
            "  inflating: 64x64_SIGNS/val_signs/2_IMG_4759.jpg  \n",
            "  inflating: 64x64_SIGNS/val_signs/0_IMG_5931.jpg  \n",
            "  inflating: 64x64_SIGNS/val_signs/2_IMG_4598.jpg  \n",
            "  inflating: 64x64_SIGNS/val_signs/5_IMG_5485.jpg  \n",
            "  inflating: 64x64_SIGNS/val_signs/5_IMG_5446.jpg  \n",
            "  inflating: 64x64_SIGNS/val_signs/5_IMG_5452.jpg  \n",
            "  inflating: 64x64_SIGNS/val_signs/4_IMG_5284.jpg  \n",
            "  inflating: 64x64_SIGNS/val_signs/1_IMG_4552.jpg  \n",
            "  inflating: 64x64_SIGNS/val_signs/2_IMG_4758.jpg  \n",
            "  inflating: 64x64_SIGNS/val_signs/1_IMG_4432.jpg  \n",
            "  inflating: 64x64_SIGNS/val_signs/2_IMG_4638.jpg  \n",
            "  inflating: 64x64_SIGNS/val_signs/5_IMG_5530.jpg  \n",
            "  inflating: 64x64_SIGNS/val_signs/0_IMG_5891.jpg  \n",
            "  inflating: 64x64_SIGNS/val_signs/4_IMG_5331.jpg  \n",
            "  inflating: 64x64_SIGNS/val_signs/1_IMG_4418.jpg  \n",
            "  inflating: 64x64_SIGNS/val_signs/3_IMG_6200.jpg  \n",
            "  inflating: 64x64_SIGNS/val_signs/4_IMG_5292.jpg  \n",
            "  inflating: 64x64_SIGNS/val_signs/3_IMG_6016.jpg  \n",
            "  inflating: 64x64_SIGNS/val_signs/5_IMG_5450.jpg  \n",
            "  inflating: 64x64_SIGNS/val_signs/0_IMG_6234.jpg  \n",
            "  inflating: 64x64_SIGNS/val_signs/0_IMG_6235.jpg  \n",
            "  inflating: 64x64_SIGNS/val_signs/0_IMG_5933.jpg  \n",
            "  inflating: 64x64_SIGNS/val_signs/5_IMG_5479.jpg  \n",
            "  inflating: 64x64_SIGNS/val_signs/1_IMG_4545.jpg  \n",
            "  inflating: 64x64_SIGNS/val_signs/4_IMG_5250.jpg  \n",
            "  inflating: 64x64_SIGNS/val_signs/4_IMG_5244.jpg  \n",
            "  inflating: 64x64_SIGNS/val_signs/1_IMG_4394.jpg  \n",
            "  inflating: 64x64_SIGNS/val_signs/3_IMG_6152.jpg  \n",
            "  inflating: 64x64_SIGNS/val_signs/4_IMG_5329.jpg  \n",
            "  inflating: 64x64_SIGNS/val_signs/1_IMG_4399.jpg  \n",
            "  inflating: 64x64_SIGNS/val_signs/1_IMG_4400.jpg  \n",
            "  inflating: 64x64_SIGNS/val_signs/4_IMG_5261.jpg  \n",
            "  inflating: 64x64_SIGNS/val_signs/2_IMG_4756.jpg  \n",
            "  inflating: 64x64_SIGNS/val_signs/1_IMG_4574.jpg  \n",
            "  inflating: 64x64_SIGNS/val_signs/3_IMG_6032.jpg  \n",
            "  inflating: 64x64_SIGNS/val_signs/3_IMG_6033.jpg  \n",
            "  inflating: 64x64_SIGNS/val_signs/4_IMG_5248.jpg  \n",
            "  inflating: 64x64_SIGNS/val_signs/3_IMG_6219.jpg  \n",
            "  inflating: 64x64_SIGNS/val_signs/4_IMG_5314.jpg  \n",
            "  inflating: 64x64_SIGNS/val_signs/5_IMG_5515.jpg  \n",
            "  inflating: 64x64_SIGNS/val_signs/4_IMG_5302.jpg  \n",
            "  inflating: 64x64_SIGNS/val_signs/2_IMG_4635.jpg  \n",
            "  inflating: 64x64_SIGNS/val_signs/1_IMG_4417.jpg  \n",
            "  inflating: 64x64_SIGNS/val_signs/2_IMG_4755.jpg  \n",
            "  inflating: 64x64_SIGNS/val_signs/2_IMG_4796.jpg  \n",
            "  inflating: 64x64_SIGNS/val_signs/0_IMG_5915.jpg  \n",
            "  inflating: 64x64_SIGNS/val_signs/0_IMG_5929.jpg  \n",
            "  inflating: 64x64_SIGNS/val_signs/0_IMG_6229 (1).jpg  \n",
            "  inflating: 64x64_SIGNS/val_signs/2_IMG_4783.jpg  \n",
            "  inflating: 64x64_SIGNS/val_signs/4_IMG_5288.jpg  \n",
            "  inflating: 64x64_SIGNS/val_signs/4_IMG_5263.jpg  \n",
            "  inflating: 64x64_SIGNS/val_signs/2_IMG_4768.jpg  \n",
            "  inflating: 64x64_SIGNS/val_signs/1_IMG_4416.jpg  \n",
            "  inflating: 64x64_SIGNS/val_signs/3_IMG_6187.jpg  \n",
            "  inflating: 64x64_SIGNS/val_signs/3_IMG_6193.jpg  \n",
            "  inflating: 64x64_SIGNS/val_signs/5_IMG_5512.jpg  \n",
            "  inflating: 64x64_SIGNS/val_signs/4_IMG_5307.jpg  \n",
            "  inflating: 64x64_SIGNS/val_signs/4_IMG_5267.jpg  \n",
            "  inflating: 64x64_SIGNS/val_signs/0_IMG_5938.jpg  \n",
            "  inflating: 64x64_SIGNS/val_signs/3_IMG_6009.jpg  \n",
            "  inflating: 64x64_SIGNS/val_signs/5_IMG_5467.jpg  \n",
            "  inflating: 64x64_SIGNS/val_signs/4_IMG_5266.jpg  \n",
            "  inflating: 64x64_SIGNS/val_signs/0_IMG_6228 (1).jpg  \n",
            "  inflating: 64x64_SIGNS/val_signs/4_IMG_5312.jpg  \n",
            "  inflating: 64x64_SIGNS/val_signs/0_IMG_5865.jpg  \n",
            "  inflating: 64x64_SIGNS/val_signs/3_IMG_6155.jpg  \n",
            "  inflating: 64x64_SIGNS/val_signs/3_IMG_6143.jpg  \n",
            "  inflating: 64x64_SIGNS/val_signs/4_IMG_5338.jpg  \n",
            "  inflating: 64x64_SIGNS/val_signs/1_IMG_4411.jpg  \n",
            "  inflating: 64x64_SIGNS/val_signs/2_IMG_4800.jpg  \n",
            "  inflating: 64x64_SIGNS/val_signs/3_IMG_6221.jpg  \n",
            "  inflating: 64x64_SIGNS/val_signs/3_IMG_6209.jpg  \n",
            "  inflating: 64x64_SIGNS/val_signs/1_IMG_4559.jpg  \n",
            "  inflating: 64x64_SIGNS/val_signs/1_IMG_4565.jpg  \n",
            "  inflating: 64x64_SIGNS/val_signs/3_IMG_6037.jpg  \n",
            "  inflating: 64x64_SIGNS/val_signs/0_IMG_5913.jpg  \n",
            "  inflating: 64x64_SIGNS/val_signs/0_IMG_6243 (1).jpg  \n",
            "  inflating: 64x64_SIGNS/val_signs/2_IMG_4587.jpg  \n",
            "  inflating: 64x64_SIGNS/val_signs/5_IMG_5464.jpg  \n",
            "  inflating: 64x64_SIGNS/val_signs/5_IMG_5577.jpg  \n",
            "  inflating: 64x64_SIGNS/val_signs/2_IMG_4641.jpg  \n",
            "  inflating: 64x64_SIGNS/val_signs/5_IMG_5615.jpg  \n",
            "  inflating: 64x64_SIGNS/val_signs/3_IMG_6092.jpg  \n",
            "  inflating: 64x64_SIGNS/val_signs/0_IMG_6258 (1).jpg  \n",
            "  inflating: 64x64_SIGNS/val_signs/1_IMG_4502.jpg  \n",
            "  inflating: 64x64_SIGNS/val_signs/2_IMG_4734.jpg  \n",
            "  inflating: 64x64_SIGNS/val_signs/2_IMG_4720.jpg  \n",
            "  inflating: 64x64_SIGNS/val_signs/5_IMG_5600.jpg  \n",
            "  inflating: 64x64_SIGNS/val_signs/2_IMG_4640.jpg  \n",
            "  inflating: 64x64_SIGNS/val_signs/4_IMG_5363.jpg  \n",
            "  inflating: 64x64_SIGNS/val_signs/4_IMG_5377.jpg  \n",
            "  inflating: 64x64_SIGNS/val_signs/5_IMG_5589.jpg  \n",
            "  inflating: 64x64_SIGNS/val_signs/3_IMG_6124.jpg  \n",
            "  inflating: 64x64_SIGNS/val_signs/5_IMG_5560.jpg  \n",
            "  inflating: 64x64_SIGNS/val_signs/2_IMG_4642.jpg  \n",
            "  inflating: 64x64_SIGNS/val_signs/2_IMG_4695.jpg  \n",
            "  inflating: 64x64_SIGNS/val_signs/3_IMG_6046.jpg  \n",
            "  inflating: 64x64_SIGNS/val_signs/0_IMG_6258.jpg  \n",
            "  inflating: 64x64_SIGNS/val_signs/1_IMG_4461.jpg  \n",
            "  inflating: 64x64_SIGNS/val_signs/2_IMG_4657.jpg  \n",
            "  inflating: 64x64_SIGNS/val_signs/2_IMG_4643.jpg  \n",
            "  inflating: 64x64_SIGNS/val_signs/5_IMG_5561.jpg  \n",
            "  inflating: 64x64_SIGNS/val_signs/3_IMG_6123.jpg  \n",
            "  inflating: 64x64_SIGNS/val_signs/2_IMG_4647.jpg  \n",
            "  inflating: 64x64_SIGNS/val_signs/2_IMG_4653.jpg  \n",
            "  inflating: 64x64_SIGNS/val_signs/1_IMG_4471.jpg  \n",
            "  inflating: 64x64_SIGNS/val_signs/3_IMG_6094.jpg  \n",
            "  inflating: 64x64_SIGNS/val_signs/0_IMG_6261.jpg  \n",
            "  inflating: 64x64_SIGNS/val_signs/0_IMG_5972.jpg  \n",
            "  inflating: 64x64_SIGNS/val_signs/3_IMG_6056.jpg  \n",
            "  inflating: 64x64_SIGNS/val_signs/5_IMG_5606.jpg  \n",
            "  inflating: 64x64_SIGNS/val_signs/2_IMG_4685.jpg  \n",
            "  inflating: 64x64_SIGNS/val_signs/2_IMG_4652.jpg  \n",
            "  inflating: 64x64_SIGNS/val_signs/0_IMG_6240 (1).jpg  \n",
            "  inflating: 64x64_SIGNS/val_signs/2_IMG_4724.jpg  \n",
            "  inflating: 64x64_SIGNS/val_signs/2_IMG_4718.jpg  \n",
            "  inflating: 64x64_SIGNS/val_signs/0_IMG_5958.jpg  \n",
            "  inflating: 64x64_SIGNS/val_signs/0_IMG_5964.jpg  \n",
            "  inflating: 64x64_SIGNS/val_signs/0_IMG_5970.jpg  \n",
            "  inflating: 64x64_SIGNS/val_signs/0_IMG_6276.jpg  \n",
            "  inflating: 64x64_SIGNS/val_signs/0_IMG_6263.jpg  \n",
            "  inflating: 64x64_SIGNS/val_signs/3_IMG_6096.jpg  \n",
            "  inflating: 64x64_SIGNS/val_signs/1_IMG_4513.jpg  \n",
            "  inflating: 64x64_SIGNS/val_signs/3_IMG_5992.jpg  \n",
            "  inflating: 64x64_SIGNS/val_signs/2_IMG_4725.jpg  \n",
            "  inflating: 64x64_SIGNS/val_signs/4_IMG_5399.jpg  \n",
            "  inflating: 64x64_SIGNS/val_signs/4_IMG_5400.jpg  \n",
            "  inflating: 64x64_SIGNS/val_signs/4_IMG_5428.jpg  \n",
            "  inflating: 64x64_SIGNS/val_signs/5_IMG_5573.jpg  \n",
            "  inflating: 64x64_SIGNS/val_signs/3_IMG_6121.jpg  \n",
            "   creating: 64x64_SIGNS/test_signs/\n",
            "  inflating: 64x64_SIGNS/test_signs/3_IMG_6110.jpg  \n",
            "  inflating: 64x64_SIGNS/test_signs/4_IMG_5425.jpg  \n",
            "  inflating: 64x64_SIGNS/test_signs/0_IMG_5969.jpg  \n",
            "  inflating: 64x64_SIGNS/test_signs/1_IMG_4523.jpg  \n",
            "  inflating: 64x64_SIGNS/test_signs/5_IMG_5621.jpg  \n",
            "  inflating: 64x64_SIGNS/test_signs/4_IMG_5381.jpg  \n",
            "  inflating: 64x64_SIGNS/test_signs/1_IMG_4457.jpg  \n",
            "  inflating: 64x64_SIGNS/test_signs/2_IMG_4661.jpg  \n",
            "  inflating: 64x64_SIGNS/test_signs/1_IMG_4480.jpg  \n",
            "  inflating: 64x64_SIGNS/test_signs/2_IMG_4649.jpg  \n",
            "  inflating: 64x64_SIGNS/test_signs/4_IMG_5340.jpg  \n",
            "  inflating: 64x64_SIGNS/test_signs/0_IMG_5943.jpg  \n",
            "  inflating: 64x64_SIGNS/test_signs/0_IMG_6278.jpg  \n",
            "  inflating: 64x64_SIGNS/test_signs/3_IMG_6099.jpg  \n",
            "  inflating: 64x64_SIGNS/test_signs/0_IMG_5942.jpg  \n",
            "  inflating: 64x64_SIGNS/test_signs/4_IMG_5235.jpg  \n",
            "  inflating: 64x64_SIGNS/test_signs/4_IMG_5396.jpg  \n",
            "  inflating: 64x64_SIGNS/test_signs/5_IMG_5540.jpg  \n",
            "  inflating: 64x64_SIGNS/test_signs/2_IMG_4699.jpg  \n",
            "  inflating: 64x64_SIGNS/test_signs/0_IMG_6240.jpg  \n",
            "  inflating: 64x64_SIGNS/test_signs/0_IMG_5990.jpg  \n",
            "  inflating: 64x64_SIGNS/test_signs/0_IMG_5947.jpg  \n",
            "  inflating: 64x64_SIGNS/test_signs/4_IMG_5350.jpg  \n",
            "  inflating: 64x64_SIGNS/test_signs/4_IMG_5226.jpg  \n",
            "  inflating: 64x64_SIGNS/test_signs/5_IMG_5625.jpg  \n",
            "  inflating: 64x64_SIGNS/test_signs/0_IMG_6280.jpg  \n",
            "  inflating: 64x64_SIGNS/test_signs/5_IMG_5433.jpg  \n",
            "  inflating: 64x64_SIGNS/test_signs/0_IMG_6242.jpg  \n",
            "  inflating: 64x64_SIGNS/test_signs/3_IMG_6048.jpg  \n",
            "  inflating: 64x64_SIGNS/test_signs/2_IMG_4710.jpg  \n",
            "  inflating: 64x64_SIGNS/test_signs/2_IMG_4658.jpg  \n",
            "  inflating: 64x64_SIGNS/test_signs/1_IMG_4491.jpg  \n",
            "  inflating: 64x64_SIGNS/test_signs/5_IMG_5546.jpg  \n",
            "  inflating: 64x64_SIGNS/test_signs/3_IMG_6198.jpg  \n",
            "  inflating: 64x64_SIGNS/test_signs/1_IMG_4384.jpg  \n",
            "  inflating: 64x64_SIGNS/test_signs/0_IMG_6224.jpg  \n",
            "  inflating: 64x64_SIGNS/test_signs/5_IMG_5440.jpg  \n",
            "  inflating: 64x64_SIGNS/test_signs/0_IMG_5980 (1).jpg  \n",
            "  inflating: 64x64_SIGNS/test_signs/0_IMG_5990 (1).jpg  \n",
            "  inflating: 64x64_SIGNS/test_signs/3_IMG_6172.jpg  \n",
            "  inflating: 64x64_SIGNS/test_signs/2_IMG_4628.jpg  \n",
            "  inflating: 64x64_SIGNS/test_signs/2_IMG_4600.jpg  \n",
            "  inflating: 64x64_SIGNS/test_signs/1_IMG_4436.jpg  \n",
            "  inflating: 64x64_SIGNS/test_signs/3_IMG_6212.jpg  \n",
            "  inflating: 64x64_SIGNS/test_signs/4_IMG_5294.jpg  \n",
            "  inflating: 64x64_SIGNS/test_signs/1_IMG_4580.jpg  \n",
            "  inflating: 64x64_SIGNS/test_signs/1_IMG_4392.jpg  \n",
            "  inflating: 64x64_SIGNS/test_signs/3_IMG_6171.jpg  \n",
            "  inflating: 64x64_SIGNS/test_signs/3_IMG_6149.jpg  \n",
            "  inflating: 64x64_SIGNS/test_signs/3_IMG_6203.jpg  \n",
            "  inflating: 64x64_SIGNS/test_signs/4_IMG_5285.jpg  \n",
            "  inflating: 64x64_SIGNS/test_signs/5_IMG_5453.jpg  \n",
            "  inflating: 64x64_SIGNS/test_signs/5_IMG_5447.jpg  \n",
            "  inflating: 64x64_SIGNS/test_signs/5_IMG_5484.jpg  \n",
            "  inflating: 64x64_SIGNS/test_signs/0_IMG_6237.jpg  \n",
            "  inflating: 64x64_SIGNS/test_signs/4_IMG_5333.jpg  \n",
            "  inflating: 64x64_SIGNS/test_signs/5_IMG_5532.jpg  \n",
            "  inflating: 64x64_SIGNS/test_signs/0_IMG_5975 (1).jpg  \n",
            "  inflating: 64x64_SIGNS/test_signs/2_IMG_4612.jpg  \n",
            "  inflating: 64x64_SIGNS/test_signs/3_IMG_6214.jpg  \n",
            "  inflating: 64x64_SIGNS/test_signs/1_IMG_4544.jpg  \n",
            "  inflating: 64x64_SIGNS/test_signs/2_IMG_4799.jpg  \n",
            "  inflating: 64x64_SIGNS/test_signs/5_IMG_5492.jpg  \n",
            "  inflating: 64x64_SIGNS/test_signs/3_IMG_6201.jpg  \n",
            "  inflating: 64x64_SIGNS/test_signs/3_IMG_6215.jpg  \n",
            "  inflating: 64x64_SIGNS/test_signs/1_IMG_4431.jpg  \n",
            "  inflating: 64x64_SIGNS/test_signs/2_IMG_4607.jpg  \n",
            "  inflating: 64x64_SIGNS/test_signs/5_IMG_5525.jpg  \n",
            "  inflating: 64x64_SIGNS/test_signs/5_IMG_5500.jpg  \n",
            "  inflating: 64x64_SIGNS/test_signs/3_IMG_6146.jpg  \n",
            "  inflating: 64x64_SIGNS/test_signs/4_IMG_5315.jpg  \n",
            "  inflating: 64x64_SIGNS/test_signs/2_IMG_4636.jpg  \n",
            "  inflating: 64x64_SIGNS/test_signs/2_IMG_4795.jpg  \n",
            "  inflating: 64x64_SIGNS/test_signs/0_IMG_6238.jpg  \n",
            "  inflating: 64x64_SIGNS/test_signs/0_IMG_6252 (1).jpg  \n",
            "  inflating: 64x64_SIGNS/test_signs/2_IMG_4757.jpg  \n",
            "  inflating: 64x64_SIGNS/test_signs/2_IMG_4804.jpg  \n",
            "  inflating: 64x64_SIGNS/test_signs/1_IMG_4415.jpg  \n",
            "  inflating: 64x64_SIGNS/test_signs/4_IMG_5328.jpg  \n",
            "  inflating: 64x64_SIGNS/test_signs/2_IMG_4621.jpg  \n",
            "  inflating: 64x64_SIGNS/test_signs/2_IMG_4595.jpg  \n",
            "  inflating: 64x64_SIGNS/test_signs/5_IMG_5462.jpg  \n",
            "  inflating: 64x64_SIGNS/test_signs/5_IMG_5476.jpg  \n",
            "  inflating: 64x64_SIGNS/test_signs/1_IMG_4562.jpg  \n",
            "  inflating: 64x64_SIGNS/test_signs/1_IMG_4402.jpg  \n",
            "  inflating: 64x64_SIGNS/test_signs/3_IMG_6144.jpg  \n",
            "  inflating: 64x64_SIGNS/test_signs/3_IMG_6140.jpg  \n",
            "  inflating: 64x64_SIGNS/test_signs/2_IMG_4787.jpg  \n",
            "  inflating: 64x64_SIGNS/test_signs/1_IMG_4407.jpg  \n",
            "  inflating: 64x64_SIGNS/test_signs/3_IMG_6196.jpg  \n",
            "  inflating: 64x64_SIGNS/test_signs/5_IMG_5513.jpg  \n",
            "  inflating: 64x64_SIGNS/test_signs/5_IMG_5507.jpg  \n",
            "  inflating: 64x64_SIGNS/test_signs/3_IMG_6141.jpg  \n",
            "  inflating: 64x64_SIGNS/test_signs/4_IMG_5304.jpg  \n",
            "  inflating: 64x64_SIGNS/test_signs/4_IMG_5258.jpg  \n",
            "  inflating: 64x64_SIGNS/test_signs/1_IMG_4571.jpg  \n",
            "  inflating: 64x64_SIGNS/test_signs/2_IMG_4586.jpg  \n",
            "  inflating: 64x64_SIGNS/test_signs/0_IMG_6253 (1).jpg  \n",
            "  inflating: 64x64_SIGNS/test_signs/5_IMG_5470.jpg  \n",
            "  inflating: 64x64_SIGNS/test_signs/4_IMG_5271.jpg  \n",
            "  inflating: 64x64_SIGNS/test_signs/3_IMG_6195.jpg  \n",
            "  inflating: 64x64_SIGNS/test_signs/3_IMG_6142.jpg  \n",
            "  inflating: 64x64_SIGNS/test_signs/4_IMG_5404.jpg  \n",
            "  inflating: 64x64_SIGNS/test_signs/4_IMG_5389.jpg  \n",
            "  inflating: 64x64_SIGNS/test_signs/3_IMG_6045.jpg  \n",
            "  inflating: 64x64_SIGNS/test_signs/1_IMG_4516.jpg  \n",
            "  inflating: 64x64_SIGNS/test_signs/4_IMG_5361.jpg  \n",
            "  inflating: 64x64_SIGNS/test_signs/0_IMG_5976.jpg  \n",
            "  inflating: 64x64_SIGNS/test_signs/1_IMG_4529.jpg  \n",
            "  inflating: 64x64_SIGNS/test_signs/4_IMG_5374.jpg  \n",
            "  inflating: 64x64_SIGNS/test_signs/4_IMG_5412.jpg  \n",
            "  inflating: 64x64_SIGNS/test_signs/1_IMG_4539.jpg  \n",
            "  inflating: 64x64_SIGNS/test_signs/0_IMG_6250 (1).jpg  \n",
            "  inflating: 64x64_SIGNS/test_signs/0_IMG_6276 (1).jpg  \n",
            "  inflating: 64x64_SIGNS/test_signs/5_IMG_5572.jpg  \n",
            "  inflating: 64x64_SIGNS/test_signs/5_IMG_5599.jpg  \n",
            "  inflating: 64x64_SIGNS/test_signs/2_IMG_4731.jpg  \n",
            "  inflating: 64x64_SIGNS/test_signs/1_IMG_4467.jpg  \n",
            "  inflating: 64x64_SIGNS/test_signs/2_IMG_4679.jpg  \n",
            "  inflating: 64x64_SIGNS/test_signs/1_IMG_4498.jpg  \n"
          ],
          "name": "stdout"
        }
      ]
    },
    {
      "cell_type": "code",
      "metadata": {
        "id": "nZgslj-HqTiV",
        "outputId": "2065f416-16eb-4949-e266-f8c3ed75133b",
        "colab": {
          "base_uri": "https://localhost:8080/",
          "height": 170
        }
      },
      "source": [
        "import sys\n",
        "course_path = '/content/drive/My Drive/data/dl-pytorch'\n",
        "sys.path   # rutas actuales"
      ],
      "execution_count": null,
      "outputs": [
        {
          "output_type": "execute_result",
          "data": {
            "text/plain": [
              "['',\n",
              " '/env/python',\n",
              " '/usr/lib/python36.zip',\n",
              " '/usr/lib/python3.6',\n",
              " '/usr/lib/python3.6/lib-dynload',\n",
              " '/usr/local/lib/python3.6/dist-packages',\n",
              " '/usr/lib/python3/dist-packages',\n",
              " '/usr/local/lib/python3.6/dist-packages/IPython/extensions',\n",
              " '/root/.ipython']"
            ]
          },
          "metadata": {
            "tags": []
          },
          "execution_count": 14
        }
      ]
    },
    {
      "cell_type": "code",
      "metadata": {
        "id": "HjE-bPwHrZds",
        "outputId": "b653870b-a1fd-44e5-e594-c78ff1931498",
        "colab": {
          "base_uri": "https://localhost:8080/",
          "height": 187
        }
      },
      "source": [
        "# agregamos nuestra ruta\n",
        "sys.path.append(course_path)\n",
        "sys.path"
      ],
      "execution_count": null,
      "outputs": [
        {
          "output_type": "execute_result",
          "data": {
            "text/plain": [
              "['',\n",
              " '/env/python',\n",
              " '/usr/lib/python36.zip',\n",
              " '/usr/lib/python3.6',\n",
              " '/usr/lib/python3.6/lib-dynload',\n",
              " '/usr/local/lib/python3.6/dist-packages',\n",
              " '/usr/lib/python3/dist-packages',\n",
              " '/usr/local/lib/python3.6/dist-packages/IPython/extensions',\n",
              " '/root/.ipython',\n",
              " '/content/drive/My Drive/data/dl-pytorch']"
            ]
          },
          "metadata": {
            "tags": []
          },
          "execution_count": 17
        }
      ]
    },
    {
      "cell_type": "code",
      "metadata": {
        "id": "ERO801Jmr4yb",
        "outputId": "4f8f374c-3a71-41bd-eabb-ac5eacacfc27",
        "colab": {
          "base_uri": "https://localhost:8080/",
          "height": 306
        }
      },
      "source": [
        "import plot_helpers   # importamos desde nuestra ruta actual un modulo para visualización\n",
        "dir(plot_helpers)"
      ],
      "execution_count": null,
      "outputs": [
        {
          "output_type": "execute_result",
          "data": {
            "text/plain": [
              "['__builtins__',\n",
              " '__cached__',\n",
              " '__doc__',\n",
              " '__file__',\n",
              " '__loader__',\n",
              " '__name__',\n",
              " '__package__',\n",
              " '__spec__',\n",
              " 'french',\n",
              " 'imshow',\n",
              " 'io',\n",
              " 'np',\n",
              " 'plot_cube',\n",
              " 'plot_rgb_image',\n",
              " 'plt',\n",
              " 'torch',\n",
              " 'visualize_model']"
            ]
          },
          "metadata": {
            "tags": []
          },
          "execution_count": 18
        }
      ]
    },
    {
      "cell_type": "markdown",
      "metadata": {
        "id": "l2Mgf4REu0SO"
      },
      "source": [
        "! : es un indicador para decirle a Jupyter Notebook que quieres ejecutar un comando de Bash Linux\n",
        "\n",
        "% : es un indicador para indicarle a Jupyter Notebook que vas a ejecutar un “comando mágico” del notebook (no de python)\n",
        "\n",
        "[Más sobre comando ! y % ](https://www.dataquest.io/blog/jupyter-notebook-tips-tricks-shortcuts/)"
      ]
    },
    {
      "cell_type": "markdown",
      "metadata": {
        "id": "rQHJUgCNXxkt"
      },
      "source": [
        "# 1. Entender la API de Pytorch"
      ]
    },
    {
      "cell_type": "markdown",
      "metadata": {
        "id": "Kz_fuDwjC3S2"
      },
      "source": [
        "## Tensores and GPU('cuda')"
      ]
    },
    {
      "cell_type": "markdown",
      "metadata": {
        "id": "Z9A2m24VLLjH"
      },
      "source": [
        "![](https://i.imgur.com/21Ln3BP.png)"
      ]
    },
    {
      "cell_type": "code",
      "metadata": {
        "id": "YoxLc9j-C7LZ"
      },
      "source": [
        "import torch"
      ],
      "execution_count": null,
      "outputs": []
    },
    {
      "cell_type": "code",
      "metadata": {
        "id": "6G13J3bHC9Kx",
        "outputId": "325593a7-6c2a-45c0-f085-a681f28b007a",
        "colab": {
          "base_uri": "https://localhost:8080/",
          "height": 306
        }
      },
      "source": [
        "A = torch.randn((3,5,2))  # (matrices, filas, columnas)\n",
        "A"
      ],
      "execution_count": null,
      "outputs": [
        {
          "output_type": "execute_result",
          "data": {
            "text/plain": [
              "tensor([[[ 1.1086,  2.0216],\n",
              "         [ 0.1844, -0.8044],\n",
              "         [ 0.4765, -1.5248],\n",
              "         [ 0.1392, -1.3775],\n",
              "         [ 0.4683, -0.8484]],\n",
              "\n",
              "        [[-0.7939,  0.3436],\n",
              "         [ 0.0150, -1.6270],\n",
              "         [-0.1125,  0.5792],\n",
              "         [-0.9158,  0.9424],\n",
              "         [-0.4783, -0.4690]],\n",
              "\n",
              "        [[-1.3132,  0.4804],\n",
              "         [-0.0224,  0.0593],\n",
              "         [-1.2595, -0.3889],\n",
              "         [-0.7609, -0.5239],\n",
              "         [ 0.2234,  1.7180]]])"
            ]
          },
          "metadata": {
            "tags": []
          },
          "execution_count": 20
        }
      ]
    },
    {
      "cell_type": "code",
      "metadata": {
        "id": "_9gp3Na4C9nE",
        "outputId": "7ff56b9e-4fcf-455f-b0b2-0d3ad0482af9",
        "colab": {
          "base_uri": "https://localhost:8080/",
          "height": 85
        }
      },
      "source": [
        "A.shape, A.size(), A[0][0], A[0,0,:] # [matriz, fila, columna]"
      ],
      "execution_count": null,
      "outputs": [
        {
          "output_type": "execute_result",
          "data": {
            "text/plain": [
              "(torch.Size([3, 5, 2]),\n",
              " torch.Size([3, 5, 2]),\n",
              " tensor([1.1086, 2.0216]),\n",
              " tensor([1.1086, 2.0216]))"
            ]
          },
          "metadata": {
            "tags": []
          },
          "execution_count": 28
        }
      ]
    },
    {
      "cell_type": "code",
      "metadata": {
        "id": "H2dp03YUDunj",
        "outputId": "f6198bdf-06dd-4d5e-8c05-2165204413df",
        "colab": {
          "base_uri": "https://localhost:8080/",
          "height": 272
        }
      },
      "source": [
        "B = torch.zeros((2,3,4),dtype=int)\n",
        "C = torch.zeros((2,3,4)).to(dtype=int)\n",
        "print(B)\n",
        "print('\\n',C)"
      ],
      "execution_count": null,
      "outputs": [
        {
          "output_type": "stream",
          "text": [
            "tensor([[[0, 0, 0, 0],\n",
            "         [0, 0, 0, 0],\n",
            "         [0, 0, 0, 0]],\n",
            "\n",
            "        [[0, 0, 0, 0],\n",
            "         [0, 0, 0, 0],\n",
            "         [0, 0, 0, 0]]])\n",
            "\n",
            " tensor([[[0, 0, 0, 0],\n",
            "         [0, 0, 0, 0],\n",
            "         [0, 0, 0, 0]],\n",
            "\n",
            "        [[0, 0, 0, 0],\n",
            "         [0, 0, 0, 0],\n",
            "         [0, 0, 0, 0]]])\n"
          ],
          "name": "stdout"
        }
      ]
    },
    {
      "cell_type": "code",
      "metadata": {
        "id": "iXfATWwFD2vp",
        "outputId": "5638eb69-bacc-432b-f116-9a7ba1dfe34a",
        "colab": {
          "base_uri": "https://localhost:8080/",
          "height": 34
        }
      },
      "source": [
        "B.dtype, C.dtype"
      ],
      "execution_count": null,
      "outputs": [
        {
          "output_type": "execute_result",
          "data": {
            "text/plain": [
              "(torch.int64, torch.int64)"
            ]
          },
          "metadata": {
            "tags": []
          },
          "execution_count": 42
        }
      ]
    },
    {
      "cell_type": "code",
      "metadata": {
        "id": "V8Syfd1bEtRc",
        "outputId": "483322b7-6d6f-483f-d3e7-43cdc8cc99d1",
        "colab": {
          "base_uri": "https://localhost:8080/",
          "height": 85
        }
      },
      "source": [
        "A = torch.ones((4,3))  # float64\n",
        "D = torch.randint(3,(4,3))  # ('0-rango', (filas, columnas))   # int64\n",
        "D, D.dtype"
      ],
      "execution_count": null,
      "outputs": [
        {
          "output_type": "execute_result",
          "data": {
            "text/plain": [
              "(tensor([[2, 0, 0],\n",
              "         [1, 0, 1],\n",
              "         [2, 0, 0],\n",
              "         [0, 2, 1]]), torch.int64)"
            ]
          },
          "metadata": {
            "tags": []
          },
          "execution_count": 45
        }
      ]
    },
    {
      "cell_type": "code",
      "metadata": {
        "id": "F5HPIczLE_CL",
        "outputId": "351d4abf-74cb-41a9-846c-91f2a816f445",
        "colab": {
          "base_uri": "https://localhost:8080/",
          "height": 85
        }
      },
      "source": [
        "A + D  # modo actualizado"
      ],
      "execution_count": null,
      "outputs": [
        {
          "output_type": "execute_result",
          "data": {
            "text/plain": [
              "tensor([[3., 1., 1.],\n",
              "        [2., 1., 2.],\n",
              "        [3., 1., 1.],\n",
              "        [1., 3., 2.]])"
            ]
          },
          "metadata": {
            "tags": []
          },
          "execution_count": 46
        }
      ]
    },
    {
      "cell_type": "code",
      "metadata": {
        "id": "5nZkL5JQF34J",
        "outputId": "f4a55d3b-b431-4418-c221-25bcf7d4eb28",
        "colab": {
          "base_uri": "https://localhost:8080/",
          "height": 85
        }
      },
      "source": [
        "A + D.float() # en caso que no se pueda sumar como en las anteriores versiones"
      ],
      "execution_count": null,
      "outputs": [
        {
          "output_type": "execute_result",
          "data": {
            "text/plain": [
              "tensor([[3., 1., 1.],\n",
              "        [2., 1., 2.],\n",
              "        [3., 1., 1.],\n",
              "        [1., 3., 2.]])"
            ]
          },
          "metadata": {
            "tags": []
          },
          "execution_count": 56
        }
      ]
    },
    {
      "cell_type": "code",
      "metadata": {
        "id": "k8gEadgTGiTB"
      },
      "source": [
        "# Comando para establecer el tipo de dato por defectuo de los tensores\n",
        "torch.set_default_tensor_type('torch.FloatTensor')"
      ],
      "execution_count": null,
      "outputs": []
    },
    {
      "cell_type": "code",
      "metadata": {
        "id": "n8EFx8qAGy5H",
        "outputId": "9ed6a1a8-93c2-4302-a8ab-a0accdfbd403",
        "colab": {
          "base_uri": "https://localhost:8080/",
          "height": 34
        }
      },
      "source": [
        "A.device # por defectuo el tensor esta en la cpu"
      ],
      "execution_count": null,
      "outputs": [
        {
          "output_type": "execute_result",
          "data": {
            "text/plain": [
              "device(type='cpu')"
            ]
          },
          "metadata": {
            "tags": []
          },
          "execution_count": 58
        }
      ]
    },
    {
      "cell_type": "code",
      "metadata": {
        "id": "iXsvKjBJHFdh",
        "outputId": "3f0422e7-a298-4aaf-f031-2092418decd9",
        "colab": {
          "base_uri": "https://localhost:8080/",
          "height": 34
        }
      },
      "source": [
        "torch.cuda.is_available()  # esta disponible la GPU ?"
      ],
      "execution_count": null,
      "outputs": [
        {
          "output_type": "execute_result",
          "data": {
            "text/plain": [
              "False"
            ]
          },
          "metadata": {
            "tags": []
          },
          "execution_count": 62
        }
      ]
    },
    {
      "cell_type": "code",
      "metadata": {
        "id": "-9BmngJTLd-o",
        "outputId": "2e287180-f892-473a-894f-85c5e12b959e",
        "colab": {
          "base_uri": "https://localhost:8080/",
          "height": 34
        }
      },
      "source": [
        "# 1. Runtime\n",
        "# 2. Change RunTime Type\n",
        "# 3. choose GPU\n",
        "import torch\n",
        "torch.cuda.is_available()   # ahora si esta disponible el GPU"
      ],
      "execution_count": null,
      "outputs": [
        {
          "output_type": "execute_result",
          "data": {
            "text/plain": [
              "True"
            ]
          },
          "metadata": {
            "tags": []
          },
          "execution_count": 2
        }
      ]
    },
    {
      "cell_type": "code",
      "metadata": {
        "id": "hRK27cl8op72"
      },
      "source": [
        "# condicion\n",
        "device = torch.device('cuda' if torch.cuda.is_available() else 'cpu')"
      ],
      "execution_count": null,
      "outputs": []
    },
    {
      "cell_type": "code",
      "metadata": {
        "id": "fmxL5Cpao6pQ",
        "outputId": "4b23be7c-8ff7-4932-e823-3d9e638e372d",
        "colab": {
          "base_uri": "https://localhost:8080/",
          "height": 68
        }
      },
      "source": [
        "x = torch.randn(3,5) #cpu\n",
        "y = torch.ones_like(x, device = device)  #ones_like = crea un tensor con las mismas dimensiones de '1's. # device = dispositivo( cpu o gpu)\n",
        "y  # el 'cuda:0' significa que esta listo para hacer los calculos por defectuo se encuentra así."
      ],
      "execution_count": null,
      "outputs": [
        {
          "output_type": "execute_result",
          "data": {
            "text/plain": [
              "tensor([[1., 1., 1., 1., 1.],\n",
              "        [1., 1., 1., 1., 1.],\n",
              "        [1., 1., 1., 1., 1.]], device='cuda:0')"
            ]
          },
          "metadata": {
            "tags": []
          },
          "execution_count": 4
        }
      ]
    },
    {
      "cell_type": "code",
      "metadata": {
        "id": "uT_U8jKKqfLa"
      },
      "source": [
        "# no se puede sumar un tensor en 'cpu' con uno en 'gpu'\n",
        "x = x.to(device = device)"
      ],
      "execution_count": null,
      "outputs": []
    },
    {
      "cell_type": "code",
      "metadata": {
        "id": "ERGExTrGqvxH",
        "outputId": "4c7784ef-2977-45a7-c215-d3aa737c1dff",
        "colab": {
          "base_uri": "https://localhost:8080/",
          "height": 119
        }
      },
      "source": [
        "z = x + y\n",
        "print(z)\n",
        "print(z.cpu())"
      ],
      "execution_count": null,
      "outputs": [
        {
          "output_type": "stream",
          "text": [
            "tensor([[ 0.8593,  2.2526,  0.6198, -0.0335,  2.6306],\n",
            "        [ 1.9018,  2.0303,  0.8731,  0.3449,  1.1482],\n",
            "        [-0.5884,  1.0163,  0.6442,  0.8751,  1.6258]], device='cuda:0')\n",
            "tensor([[ 0.8593,  2.2526,  0.6198, -0.0335,  2.6306],\n",
            "        [ 1.9018,  2.0303,  0.8731,  0.3449,  1.1482],\n",
            "        [-0.5884,  1.0163,  0.6442,  0.8751,  1.6258]])\n"
          ],
          "name": "stdout"
        }
      ]
    },
    {
      "cell_type": "code",
      "metadata": {
        "id": "t2azLLk7rq97",
        "outputId": "5acfc907-ac94-4551-9164-301ae3c546c3",
        "colab": {
          "base_uri": "https://localhost:8080/",
          "height": 34
        }
      },
      "source": [
        "from google.colab import drive\n",
        "drive.mount('/content/drive')"
      ],
      "execution_count": null,
      "outputs": [
        {
          "output_type": "stream",
          "text": [
            "Mounted at /content/drive\n"
          ],
          "name": "stdout"
        }
      ]
    },
    {
      "cell_type": "code",
      "metadata": {
        "id": "ufJiCIFZr4wY",
        "outputId": "bc038e53-cdcb-4de5-e233-e632fc3456dc",
        "colab": {
          "base_uri": "https://localhost:8080/",
          "height": 1000
        }
      },
      "source": [
        "from torchvision import datasets\n",
        "dir(datasets)"
      ],
      "execution_count": null,
      "outputs": [
        {
          "output_type": "execute_result",
          "data": {
            "text/plain": [
              "['CIFAR10',\n",
              " 'CIFAR100',\n",
              " 'Caltech101',\n",
              " 'Caltech256',\n",
              " 'CelebA',\n",
              " 'Cityscapes',\n",
              " 'CocoCaptions',\n",
              " 'CocoDetection',\n",
              " 'DatasetFolder',\n",
              " 'EMNIST',\n",
              " 'FakeData',\n",
              " 'FashionMNIST',\n",
              " 'Flickr30k',\n",
              " 'Flickr8k',\n",
              " 'HMDB51',\n",
              " 'ImageFolder',\n",
              " 'ImageNet',\n",
              " 'KMNIST',\n",
              " 'Kinetics400',\n",
              " 'LSUN',\n",
              " 'LSUNClass',\n",
              " 'MNIST',\n",
              " 'Omniglot',\n",
              " 'PhotoTour',\n",
              " 'QMNIST',\n",
              " 'SBDataset',\n",
              " 'SBU',\n",
              " 'SEMEION',\n",
              " 'STL10',\n",
              " 'SVHN',\n",
              " 'UCF101',\n",
              " 'USPS',\n",
              " 'VOCDetection',\n",
              " 'VOCSegmentation',\n",
              " 'VisionDataset',\n",
              " '__all__',\n",
              " '__builtins__',\n",
              " '__cached__',\n",
              " '__doc__',\n",
              " '__file__',\n",
              " '__loader__',\n",
              " '__name__',\n",
              " '__package__',\n",
              " '__path__',\n",
              " '__spec__',\n",
              " 'caltech',\n",
              " 'celeba',\n",
              " 'cifar',\n",
              " 'cityscapes',\n",
              " 'coco',\n",
              " 'fakedata',\n",
              " 'flickr',\n",
              " 'folder',\n",
              " 'hmdb51',\n",
              " 'imagenet',\n",
              " 'kinetics',\n",
              " 'lsun',\n",
              " 'mnist',\n",
              " 'omniglot',\n",
              " 'phototour',\n",
              " 'sbd',\n",
              " 'sbu',\n",
              " 'semeion',\n",
              " 'stl10',\n",
              " 'svhn',\n",
              " 'ucf101',\n",
              " 'usps',\n",
              " 'utils',\n",
              " 'video_utils',\n",
              " 'vision',\n",
              " 'voc']"
            ]
          },
          "metadata": {
            "tags": []
          },
          "execution_count": 9
        }
      ]
    },
    {
      "cell_type": "code",
      "metadata": {
        "id": "jH33bIwHsCsx",
        "outputId": "45ee12ef-5e6a-436f-d475-e274bab833ee",
        "colab": {
          "base_uri": "https://localhost:8080/",
          "height": 83,
          "referenced_widgets": [
            "1cba372b406f4314ad7c2a025a087511",
            "56f818c279d74cd392de8c96451ebfac",
            "6089dfecdf64405984637860e8c4f111",
            "a22cc768fe05416dafb0e9134213db79",
            "edc49aa380a24718837d5ba3f32ccf42",
            "f10c7d19a8eb4c63acb8de08b75859aa",
            "d5dabd65f1a646a68cd4f5ce4d168f0a",
            "3e2535e5a289440092534394df04f85d"
          ]
        }
      },
      "source": [
        "cifar = datasets.CIFAR10('/content/drive/My Drive/dl-pytorch/datasets', download=True)"
      ],
      "execution_count": null,
      "outputs": [
        {
          "output_type": "stream",
          "text": [
            "Downloading https://www.cs.toronto.edu/~kriz/cifar-10-python.tar.gz to /content/drive/My Drive/dl-pytorch/datasets/cifar-10-python.tar.gz\n"
          ],
          "name": "stdout"
        },
        {
          "output_type": "display_data",
          "data": {
            "application/vnd.jupyter.widget-view+json": {
              "model_id": "1cba372b406f4314ad7c2a025a087511",
              "version_minor": 0,
              "version_major": 2
            },
            "text/plain": [
              "HBox(children=(FloatProgress(value=1.0, bar_style='info', max=1.0), HTML(value='')))"
            ]
          },
          "metadata": {
            "tags": []
          }
        },
        {
          "output_type": "stream",
          "text": [
            "Extracting /content/drive/My Drive/dl-pytorch/datasets/cifar-10-python.tar.gz to /content/drive/My Drive/dl-pytorch/datasets\n"
          ],
          "name": "stdout"
        }
      ]
    },
    {
      "cell_type": "code",
      "metadata": {
        "id": "1ScaN_NcsjFu",
        "outputId": "81bbfc1e-1c8a-49a6-c9d5-1a5e53f63614",
        "colab": {
          "base_uri": "https://localhost:8080/",
          "height": 34
        }
      },
      "source": [
        "len(cifar)"
      ],
      "execution_count": null,
      "outputs": [
        {
          "output_type": "execute_result",
          "data": {
            "text/plain": [
              "50000"
            ]
          },
          "metadata": {
            "tags": []
          },
          "execution_count": 11
        }
      ]
    },
    {
      "cell_type": "code",
      "metadata": {
        "id": "EIY4As-MsoKU",
        "outputId": "f8f1fb75-9691-4e8f-94f6-db34e98d77af",
        "colab": {
          "base_uri": "https://localhost:8080/",
          "height": 1000
        }
      },
      "source": [
        "data = torch.tensor(cifar.data)\n",
        "data"
      ],
      "execution_count": null,
      "outputs": [
        {
          "output_type": "execute_result",
          "data": {
            "text/plain": [
              "tensor([[[[ 59,  62,  63],\n",
              "          [ 43,  46,  45],\n",
              "          [ 50,  48,  43],\n",
              "          ...,\n",
              "          [158, 132, 108],\n",
              "          [152, 125, 102],\n",
              "          [148, 124, 103]],\n",
              "\n",
              "         [[ 16,  20,  20],\n",
              "          [  0,   0,   0],\n",
              "          [ 18,   8,   0],\n",
              "          ...,\n",
              "          [123,  88,  55],\n",
              "          [119,  83,  50],\n",
              "          [122,  87,  57]],\n",
              "\n",
              "         [[ 25,  24,  21],\n",
              "          [ 16,   7,   0],\n",
              "          [ 49,  27,   8],\n",
              "          ...,\n",
              "          [118,  84,  50],\n",
              "          [120,  84,  50],\n",
              "          [109,  73,  42]],\n",
              "\n",
              "         ...,\n",
              "\n",
              "         [[208, 170,  96],\n",
              "          [201, 153,  34],\n",
              "          [198, 161,  26],\n",
              "          ...,\n",
              "          [160, 133,  70],\n",
              "          [ 56,  31,   7],\n",
              "          [ 53,  34,  20]],\n",
              "\n",
              "         [[180, 139,  96],\n",
              "          [173, 123,  42],\n",
              "          [186, 144,  30],\n",
              "          ...,\n",
              "          [184, 148,  94],\n",
              "          [ 97,  62,  34],\n",
              "          [ 83,  53,  34]],\n",
              "\n",
              "         [[177, 144, 116],\n",
              "          [168, 129,  94],\n",
              "          [179, 142,  87],\n",
              "          ...,\n",
              "          [216, 184, 140],\n",
              "          [151, 118,  84],\n",
              "          [123,  92,  72]]],\n",
              "\n",
              "\n",
              "        [[[154, 177, 187],\n",
              "          [126, 137, 136],\n",
              "          [105, 104,  95],\n",
              "          ...,\n",
              "          [ 91,  95,  71],\n",
              "          [ 87,  90,  71],\n",
              "          [ 79,  81,  70]],\n",
              "\n",
              "         [[140, 160, 169],\n",
              "          [145, 153, 154],\n",
              "          [125, 125, 118],\n",
              "          ...,\n",
              "          [ 96,  99,  78],\n",
              "          [ 77,  80,  62],\n",
              "          [ 71,  73,  61]],\n",
              "\n",
              "         [[140, 155, 164],\n",
              "          [139, 146, 149],\n",
              "          [115, 115, 112],\n",
              "          ...,\n",
              "          [ 79,  82,  64],\n",
              "          [ 68,  70,  55],\n",
              "          [ 67,  69,  55]],\n",
              "\n",
              "         ...,\n",
              "\n",
              "         [[175, 167, 166],\n",
              "          [156, 154, 160],\n",
              "          [154, 160, 170],\n",
              "          ...,\n",
              "          [ 42,  34,  36],\n",
              "          [ 61,  53,  57],\n",
              "          [ 93,  83,  91]],\n",
              "\n",
              "         [[165, 154, 128],\n",
              "          [156, 152, 130],\n",
              "          [159, 161, 142],\n",
              "          ...,\n",
              "          [103,  93,  96],\n",
              "          [123, 114, 120],\n",
              "          [131, 121, 131]],\n",
              "\n",
              "         [[163, 148, 120],\n",
              "          [158, 148, 122],\n",
              "          [163, 156, 133],\n",
              "          ...,\n",
              "          [143, 133, 139],\n",
              "          [143, 134, 142],\n",
              "          [143, 133, 144]]],\n",
              "\n",
              "\n",
              "        [[[255, 255, 255],\n",
              "          [253, 253, 253],\n",
              "          [253, 253, 253],\n",
              "          ...,\n",
              "          [253, 253, 253],\n",
              "          [253, 253, 253],\n",
              "          [253, 253, 253]],\n",
              "\n",
              "         [[255, 255, 255],\n",
              "          [255, 255, 255],\n",
              "          [255, 255, 255],\n",
              "          ...,\n",
              "          [255, 255, 255],\n",
              "          [255, 255, 255],\n",
              "          [255, 255, 255]],\n",
              "\n",
              "         [[255, 255, 255],\n",
              "          [254, 254, 254],\n",
              "          [254, 254, 254],\n",
              "          ...,\n",
              "          [254, 254, 254],\n",
              "          [254, 254, 254],\n",
              "          [254, 254, 254]],\n",
              "\n",
              "         ...,\n",
              "\n",
              "         [[113, 120, 112],\n",
              "          [111, 118, 111],\n",
              "          [105, 112, 106],\n",
              "          ...,\n",
              "          [ 72,  81,  80],\n",
              "          [ 72,  80,  79],\n",
              "          [ 72,  80,  79]],\n",
              "\n",
              "         [[111, 118, 110],\n",
              "          [104, 111, 104],\n",
              "          [ 99, 106,  98],\n",
              "          ...,\n",
              "          [ 68,  75,  73],\n",
              "          [ 70,  76,  75],\n",
              "          [ 78,  84,  82]],\n",
              "\n",
              "         [[106, 113, 105],\n",
              "          [ 99, 106,  98],\n",
              "          [ 95, 102,  94],\n",
              "          ...,\n",
              "          [ 78,  85,  83],\n",
              "          [ 79,  85,  83],\n",
              "          [ 80,  86,  84]]],\n",
              "\n",
              "\n",
              "        ...,\n",
              "\n",
              "\n",
              "        [[[ 35, 178, 235],\n",
              "          [ 40, 176, 239],\n",
              "          [ 42, 176, 241],\n",
              "          ...,\n",
              "          [ 99, 177, 219],\n",
              "          [ 79, 147, 197],\n",
              "          [ 89, 148, 189]],\n",
              "\n",
              "         [[ 57, 182, 234],\n",
              "          [ 44, 184, 250],\n",
              "          [ 50, 183, 240],\n",
              "          ...,\n",
              "          [156, 182, 200],\n",
              "          [141, 177, 206],\n",
              "          [116, 149, 175]],\n",
              "\n",
              "         [[ 98, 197, 237],\n",
              "          [ 64, 189, 252],\n",
              "          [ 69, 192, 245],\n",
              "          ...,\n",
              "          [188, 195, 206],\n",
              "          [119, 135, 147],\n",
              "          [ 61,  79,  90]],\n",
              "\n",
              "         ...,\n",
              "\n",
              "         [[ 73,  79,  77],\n",
              "          [ 53,  63,  68],\n",
              "          [ 54,  68,  80],\n",
              "          ...,\n",
              "          [ 17,  40,  64],\n",
              "          [ 21,  36,  51],\n",
              "          [ 33,  48,  49]],\n",
              "\n",
              "         [[ 61,  68,  75],\n",
              "          [ 55,  70,  86],\n",
              "          [ 57,  79, 103],\n",
              "          ...,\n",
              "          [ 24,  48,  72],\n",
              "          [ 17,  35,  53],\n",
              "          [  7,  23,  32]],\n",
              "\n",
              "         [[ 44,  56,  73],\n",
              "          [ 46,  66,  88],\n",
              "          [ 49,  77, 105],\n",
              "          ...,\n",
              "          [ 27,  52,  77],\n",
              "          [ 21,  43,  66],\n",
              "          [ 12,  31,  50]]],\n",
              "\n",
              "\n",
              "        [[[189, 211, 240],\n",
              "          [186, 208, 236],\n",
              "          [185, 207, 235],\n",
              "          ...,\n",
              "          [175, 195, 224],\n",
              "          [172, 194, 222],\n",
              "          [169, 194, 220]],\n",
              "\n",
              "         [[194, 210, 239],\n",
              "          [191, 207, 236],\n",
              "          [190, 206, 235],\n",
              "          ...,\n",
              "          [173, 192, 220],\n",
              "          [171, 191, 218],\n",
              "          [167, 190, 216]],\n",
              "\n",
              "         [[208, 219, 244],\n",
              "          [205, 216, 240],\n",
              "          [204, 215, 239],\n",
              "          ...,\n",
              "          [175, 191, 217],\n",
              "          [172, 190, 216],\n",
              "          [169, 191, 215]],\n",
              "\n",
              "         ...,\n",
              "\n",
              "         [[207, 199, 181],\n",
              "          [203, 195, 175],\n",
              "          [203, 196, 173],\n",
              "          ...,\n",
              "          [135, 132, 127],\n",
              "          [162, 158, 150],\n",
              "          [168, 163, 151]],\n",
              "\n",
              "         [[198, 190, 170],\n",
              "          [189, 181, 159],\n",
              "          [180, 172, 147],\n",
              "          ...,\n",
              "          [178, 171, 160],\n",
              "          [175, 169, 156],\n",
              "          [175, 169, 154]],\n",
              "\n",
              "         [[198, 189, 173],\n",
              "          [189, 181, 162],\n",
              "          [178, 170, 149],\n",
              "          ...,\n",
              "          [195, 184, 169],\n",
              "          [196, 189, 171],\n",
              "          [195, 190, 171]]],\n",
              "\n",
              "\n",
              "        [[[229, 229, 239],\n",
              "          [236, 237, 247],\n",
              "          [234, 236, 247],\n",
              "          ...,\n",
              "          [217, 219, 233],\n",
              "          [221, 223, 234],\n",
              "          [222, 223, 233]],\n",
              "\n",
              "         [[222, 221, 229],\n",
              "          [239, 239, 249],\n",
              "          [233, 234, 246],\n",
              "          ...,\n",
              "          [223, 223, 236],\n",
              "          [227, 228, 238],\n",
              "          [210, 211, 220]],\n",
              "\n",
              "         [[213, 206, 211],\n",
              "          [234, 232, 239],\n",
              "          [231, 233, 244],\n",
              "          ...,\n",
              "          [220, 220, 232],\n",
              "          [220, 219, 232],\n",
              "          [202, 203, 215]],\n",
              "\n",
              "         ...,\n",
              "\n",
              "         [[150, 143, 135],\n",
              "          [140, 135, 127],\n",
              "          [132, 127, 120],\n",
              "          ...,\n",
              "          [224, 222, 218],\n",
              "          [230, 228, 225],\n",
              "          [241, 241, 238]],\n",
              "\n",
              "         [[137, 132, 126],\n",
              "          [130, 127, 120],\n",
              "          [125, 121, 115],\n",
              "          ...,\n",
              "          [181, 180, 178],\n",
              "          [202, 201, 198],\n",
              "          [212, 211, 207]],\n",
              "\n",
              "         [[122, 119, 114],\n",
              "          [118, 116, 110],\n",
              "          [120, 116, 111],\n",
              "          ...,\n",
              "          [179, 177, 173],\n",
              "          [164, 164, 162],\n",
              "          [163, 163, 161]]]], dtype=torch.uint8)"
            ]
          },
          "metadata": {
            "tags": []
          },
          "execution_count": 16
        }
      ]
    },
    {
      "cell_type": "code",
      "metadata": {
        "id": "2xK8sQXUs4z5",
        "outputId": "a3710196-796b-4c5f-a567-9d79272776bb",
        "colab": {
          "base_uri": "https://localhost:8080/",
          "height": 34
        }
      },
      "source": [
        "data.size()  # es un tensor 4D, el '3' representa un encoding RGB y las 32 matrices y 32 filas representan el cuadrado o una imagen\n",
        "# CUADRADO: imagina que el (32,3) es una capa lateral y son en total 32 capas conformando un Cuadrado o Imagen."
      ],
      "execution_count": null,
      "outputs": [
        {
          "output_type": "execute_result",
          "data": {
            "text/plain": [
              "torch.Size([50000, 32, 32, 3])"
            ]
          },
          "metadata": {
            "tags": []
          },
          "execution_count": 17
        }
      ]
    },
    {
      "cell_type": "markdown",
      "metadata": {
        "id": "ozTyEVnEvQx4"
      },
      "source": [
        "![](https://cdn-images-1.medium.com/max/2000/1*_D5ZvufDS38WkhK9rK32hQ.jpeg)"
      ]
    },
    {
      "cell_type": "code",
      "metadata": {
        "id": "HHgRQNtqtIM-",
        "outputId": "d2b5a8a1-e986-4855-8584-4c1c3e25256e",
        "colab": {
          "base_uri": "https://localhost:8080/",
          "height": 527
        }
      },
      "source": [
        "a = torch.ones((2,3,4,5))  # como vimos un tensor es una matriz de matrices.\n",
        "a"
      ],
      "execution_count": null,
      "outputs": [
        {
          "output_type": "execute_result",
          "data": {
            "text/plain": [
              "tensor([[[[1., 1., 1., 1., 1.],\n",
              "          [1., 1., 1., 1., 1.],\n",
              "          [1., 1., 1., 1., 1.],\n",
              "          [1., 1., 1., 1., 1.]],\n",
              "\n",
              "         [[1., 1., 1., 1., 1.],\n",
              "          [1., 1., 1., 1., 1.],\n",
              "          [1., 1., 1., 1., 1.],\n",
              "          [1., 1., 1., 1., 1.]],\n",
              "\n",
              "         [[1., 1., 1., 1., 1.],\n",
              "          [1., 1., 1., 1., 1.],\n",
              "          [1., 1., 1., 1., 1.],\n",
              "          [1., 1., 1., 1., 1.]]],\n",
              "\n",
              "\n",
              "        [[[1., 1., 1., 1., 1.],\n",
              "          [1., 1., 1., 1., 1.],\n",
              "          [1., 1., 1., 1., 1.],\n",
              "          [1., 1., 1., 1., 1.]],\n",
              "\n",
              "         [[1., 1., 1., 1., 1.],\n",
              "          [1., 1., 1., 1., 1.],\n",
              "          [1., 1., 1., 1., 1.],\n",
              "          [1., 1., 1., 1., 1.]],\n",
              "\n",
              "         [[1., 1., 1., 1., 1.],\n",
              "          [1., 1., 1., 1., 1.],\n",
              "          [1., 1., 1., 1., 1.],\n",
              "          [1., 1., 1., 1., 1.]]]])"
            ]
          },
          "metadata": {
            "tags": []
          },
          "execution_count": 19
        }
      ]
    },
    {
      "cell_type": "markdown",
      "metadata": {
        "id": "-v1DdLotxGN_"
      },
      "source": [
        "## Capas de una RN"
      ]
    },
    {
      "cell_type": "code",
      "metadata": {
        "id": "4AxsRveqUzFa"
      },
      "source": [
        "import torch\n",
        "import torch.nn as nn\n",
        "\n",
        "# Todo lo que se ve dentro de '()' son los Hipérparametros los cuales tendremos que optimizar nosotros mismo, una decision sabía.\n",
        "linear = nn.Linear(in_features=4096, out_features=10) # tensores de dim 1(vectores) input\n",
        "conv = nn.Conv2d(in_channels=3, out_channels=9, kernel_size=3, stride=1, padding=1) #modificar los canales, no va a modificar la imagen\n",
        "# nn.Conv2d(Canales=RGB, Aumento_de_canales_de_salida, como_hace_los_computos, etc)\n",
        "# nn.Conv2d() = imagenes, nn.Conv3d() = video\n",
        "relu = nn.ReLU(False) #False, para que me de un nuevo tensor y no me de el tensor original"
      ],
      "execution_count": null,
      "outputs": []
    },
    {
      "cell_type": "code",
      "metadata": {
        "id": "rwxuY7rCWIG-",
        "outputId": "9c977be1-afe4-4d6a-d063-dc2bed865788",
        "colab": {
          "base_uri": "https://localhost:8080/"
        }
      },
      "source": [
        "x = torch.randn(4096)\n",
        "y = linear(x) # fullyconected\n",
        "y.size() # da como desultado 10 salidas"
      ],
      "execution_count": null,
      "outputs": [
        {
          "output_type": "execute_result",
          "data": {
            "text/plain": [
              "torch.Size([10])"
            ]
          },
          "metadata": {
            "tags": []
          },
          "execution_count": 2
        }
      ]
    },
    {
      "cell_type": "code",
      "metadata": {
        "id": "moNu45QnXYWA"
      },
      "source": [
        "x = torch.randn(1,3,7,7)\n",
        "y = conv(x)\n",
        "z = relu(x)"
      ],
      "execution_count": null,
      "outputs": []
    },
    {
      "cell_type": "code",
      "metadata": {
        "id": "p6W4qUWYvQlQ",
        "outputId": "e627d87f-bcf3-4bd0-f20e-eb2def68b48f",
        "colab": {
          "base_uri": "https://localhost:8080/"
        }
      },
      "source": [
        "y"
      ],
      "execution_count": null,
      "outputs": [
        {
          "output_type": "execute_result",
          "data": {
            "text/plain": [
              "tensor([[[[-2.5293e-01,  3.0165e-02,  6.9102e-01,  5.6740e-01, -6.6227e-01,\n",
              "           -7.8145e-01,  1.6705e-01],\n",
              "          [ 6.3218e-02, -3.0156e-01, -6.0685e-01, -8.0579e-01,  1.1468e+00,\n",
              "            6.4885e-01, -2.5987e-01],\n",
              "          [ 7.4427e-01,  5.6476e-01, -3.0823e-01,  6.8816e-01, -1.1298e+00,\n",
              "            3.3281e-01,  7.5268e-01],\n",
              "          [-1.0021e-01, -3.1208e-01,  1.3384e-01,  1.2276e-01, -1.0489e-01,\n",
              "            2.2348e-01, -2.4450e-01],\n",
              "          [ 5.2580e-01,  4.7002e-01,  5.2143e-01, -1.6143e-01,  1.0933e+00,\n",
              "            1.8656e-01, -6.7272e-02],\n",
              "          [-1.9148e-01, -1.4555e-01,  3.7233e-01,  6.9002e-01, -9.9869e-02,\n",
              "            4.3081e-01,  3.2496e-02],\n",
              "          [ 1.3090e-01, -2.0349e-01, -3.8637e-01,  4.4414e-01,  2.5601e-01,\n",
              "            4.3751e-02,  3.4715e-02]],\n",
              "\n",
              "         [[-5.4598e-01, -2.8434e-01,  9.5476e-03, -1.5914e-01, -6.3608e-01,\n",
              "            1.4177e-01,  1.2071e-01],\n",
              "          [ 7.6841e-01, -4.2823e-01,  6.4012e-01, -3.6712e-01,  1.3558e+00,\n",
              "           -1.0141e+00,  1.5089e+00],\n",
              "          [ 7.4110e-01, -2.1520e-01, -3.5406e-01,  3.0187e-01, -8.6374e-01,\n",
              "           -7.0153e-01, -2.2623e+00],\n",
              "          [-1.0734e-01,  8.8923e-01,  1.1023e-01,  1.1446e-01, -1.9521e-01,\n",
              "            5.1543e-01,  7.4162e-01],\n",
              "          [-1.1256e+00, -6.3800e-01, -1.5174e-01, -5.1314e-01,  1.1719e+00,\n",
              "           -6.8526e-01,  2.6966e-01],\n",
              "          [-8.4551e-01,  1.8957e-01,  2.9758e-01, -3.7291e-01, -1.0572e+00,\n",
              "            1.3152e-01, -7.0822e-01],\n",
              "          [ 2.0528e-01, -8.4769e-01,  2.3341e-01,  6.2540e-01, -3.2503e-01,\n",
              "            3.7314e-01,  2.3188e-03]],\n",
              "\n",
              "         [[-6.1857e-01, -1.9414e-02,  2.6809e-03,  1.2866e-01,  2.0770e-01,\n",
              "           -5.7691e-01, -9.5621e-02],\n",
              "          [ 5.1855e-02,  2.9002e-01,  3.5352e-01, -2.9457e-01, -2.3393e-01,\n",
              "           -3.1150e-01, -1.4486e+00],\n",
              "          [ 4.4138e-01, -2.0419e-01, -5.7038e-01, -1.9150e-02, -1.2919e+00,\n",
              "           -4.3078e-01,  3.0675e-01],\n",
              "          [ 4.3934e-01,  2.3840e-01, -6.7216e-01,  6.0046e-01,  8.2479e-01,\n",
              "            9.2742e-01,  9.9975e-01],\n",
              "          [-7.9336e-02, -3.2272e-01, -7.2358e-01, -5.6257e-01,  1.5126e-01,\n",
              "            9.6691e-02, -4.6794e-01],\n",
              "          [-3.2674e-01, -2.3023e-01,  1.5377e-02, -7.6214e-01,  1.5300e-01,\n",
              "            3.0742e-01,  5.7132e-02],\n",
              "          [-7.0054e-01, -5.0797e-01, -3.1172e-01,  9.3059e-02, -1.1466e-01,\n",
              "            3.0847e-01,  4.5954e-01]],\n",
              "\n",
              "         [[ 5.9030e-01, -1.7575e-01, -4.6971e-01,  5.5025e-01,  1.4998e-01,\n",
              "            6.5875e-01, -2.1877e-01],\n",
              "          [ 2.1357e-01,  8.6829e-01, -5.8109e-02, -6.5093e-01, -3.0852e-01,\n",
              "            3.0967e-01, -4.8443e-01],\n",
              "          [-3.8922e-01, -3.6626e-01,  4.4716e-01,  7.1490e-01,  6.4704e-01,\n",
              "            5.0755e-01,  1.3921e+00],\n",
              "          [-3.8364e-01, -2.7823e-01, -5.0485e-01, -1.9496e-02, -5.2882e-01,\n",
              "           -5.6782e-01, -6.3406e-01],\n",
              "          [ 2.2138e-01,  3.1425e-02, -3.7151e-01,  2.4878e-01, -4.0126e-01,\n",
              "           -3.2690e-01,  2.2486e-01],\n",
              "          [-6.0911e-02, -3.8142e-01, -5.0452e-02,  5.2442e-01,  9.3025e-01,\n",
              "            7.0619e-01,  7.1173e-02],\n",
              "          [ 4.1478e-01,  6.9837e-01,  3.9073e-01,  1.0530e-01,  3.2635e-01,\n",
              "            2.2545e-01,  2.1128e-01]],\n",
              "\n",
              "         [[-7.7903e-01, -5.5524e-01,  1.3667e-03, -4.2640e-02, -4.3101e-01,\n",
              "            4.6594e-01, -1.6211e-01],\n",
              "          [-2.4363e-01,  6.1636e-01, -3.4914e-01, -7.1311e-01,  2.7080e-02,\n",
              "            6.3915e-01,  3.1360e-01],\n",
              "          [ 1.8929e-01,  1.1987e-01,  1.4089e-01,  1.0893e+00, -5.4994e-01,\n",
              "           -1.9717e+00,  4.6084e-01],\n",
              "          [-3.7051e-01,  7.5169e-01, -2.7589e-01, -8.9965e-02,  6.5159e-02,\n",
              "            4.4604e-02, -7.5476e-01],\n",
              "          [ 9.9431e-02,  1.7079e-01,  1.0964e+00,  7.7955e-01,  1.0482e-01,\n",
              "            2.0784e-01,  1.2115e-01],\n",
              "          [-1.0702e+00,  3.7965e-01,  5.3625e-02, -4.9042e-01, -1.0337e-01,\n",
              "           -5.6631e-01, -5.2347e-01],\n",
              "          [-3.0238e-01,  8.2000e-03,  1.6966e-01,  6.4146e-01, -3.0230e-01,\n",
              "            2.7788e-01, -2.6140e-02]],\n",
              "\n",
              "         [[-4.6889e-01, -3.5087e-01,  1.3608e-01, -5.2160e-01,  6.9991e-01,\n",
              "           -1.9514e-01,  3.6302e-03],\n",
              "          [ 1.9690e-01, -1.4679e-01, -1.7662e-01,  1.3856e-01, -1.0265e+00,\n",
              "            3.4685e-01, -5.9742e-01],\n",
              "          [-6.5999e-01,  1.0389e+00, -3.0244e-01, -1.3634e-02,  1.4930e-01,\n",
              "           -1.6985e-01,  1.1432e-01],\n",
              "          [ 3.1859e-01, -1.0551e-01, -5.7564e-01,  1.3949e-01,  4.8059e-03,\n",
              "           -1.2500e+00,  1.5068e+00],\n",
              "          [-5.9108e-01,  1.3987e-01,  3.8196e-01, -3.1766e-01,  1.8902e-01,\n",
              "            3.6668e-01, -8.3943e-01],\n",
              "          [-3.6254e-02, -3.4268e-01, -7.8265e-02,  8.5633e-01,  1.3522e-01,\n",
              "           -4.6628e-01,  2.7431e-01],\n",
              "          [-4.1349e-01,  9.3223e-02,  7.7415e-02, -1.8644e-01,  3.7514e-02,\n",
              "            4.1146e-01, -2.3952e-01]],\n",
              "\n",
              "         [[ 1.1678e+00,  3.0661e-01, -6.5121e-01,  2.5404e-01,  4.5126e-01,\n",
              "            3.9632e-02, -3.2792e-01],\n",
              "          [ 2.6398e-01,  7.2436e-01,  1.0431e-01, -4.8219e-01,  3.9372e-02,\n",
              "            1.8227e+00,  5.3057e-01],\n",
              "          [-2.0455e-01, -3.9853e-01,  3.9114e-01,  1.2208e+00, -6.0211e-02,\n",
              "           -1.8960e-01, -4.4245e-01],\n",
              "          [-9.7192e-01, -5.7727e-01, -7.1226e-01, -3.9299e-01,  2.9342e-01,\n",
              "            1.3864e+00,  1.3181e-01],\n",
              "          [ 5.3583e-01,  6.0995e-01, -5.2030e-01,  6.9385e-01, -3.0878e-01,\n",
              "            9.0883e-02,  9.5415e-01],\n",
              "          [ 8.1585e-02,  3.3214e-01,  6.7714e-02,  1.0565e-01, -4.1599e-01,\n",
              "           -3.8320e-01, -6.2933e-01],\n",
              "          [ 5.6579e-01,  7.4575e-01,  5.2515e-01,  7.5757e-01,  9.6271e-01,\n",
              "           -1.1353e-01,  2.4094e-01]],\n",
              "\n",
              "         [[-2.2948e-01, -9.0788e-01, -5.4898e-01,  7.8850e-01,  8.6082e-01,\n",
              "            5.6036e-01, -1.0203e+00],\n",
              "          [-1.7706e-01,  7.4328e-01,  6.3451e-01, -8.3865e-01, -2.3088e+00,\n",
              "           -1.0496e+00,  1.8584e-01],\n",
              "          [-7.9092e-01,  4.8378e-01,  8.6232e-02,  7.3484e-01,  5.9762e-01,\n",
              "           -1.0459e+00, -5.4930e-02],\n",
              "          [-4.1614e-01, -2.8606e-01, -1.2748e-01, -2.0946e-02,  1.3293e+00,\n",
              "           -1.8737e-01, -9.4121e-01],\n",
              "          [ 7.8459e-01,  4.3624e-02,  6.6416e-01,  3.3711e-01, -6.0852e-01,\n",
              "            3.3183e-01,  5.0706e-01],\n",
              "          [-9.1622e-02, -4.9104e-01, -1.4901e-01, -5.8055e-01, -7.6627e-01,\n",
              "            6.0698e-01, -1.0765e-02],\n",
              "          [ 6.9115e-02,  4.0953e-01, -4.4211e-01, -3.3402e-01,  3.2308e-01,\n",
              "            4.8468e-01,  6.9094e-01]],\n",
              "\n",
              "         [[-2.8520e-01, -1.7795e-01,  6.6530e-02,  8.9431e-01, -7.6984e-02,\n",
              "           -6.2709e-01,  5.1978e-01],\n",
              "          [-6.4138e-02,  8.5507e-01, -2.5239e-01, -2.2445e-01,  4.2305e-01,\n",
              "            1.9917e+00, -2.8067e-01],\n",
              "          [-2.7027e-01,  8.0331e-01,  1.6645e-01,  8.0516e-02, -3.2015e-01,\n",
              "           -4.1124e-01,  7.7447e-02],\n",
              "          [ 5.9158e-01,  8.7921e-02,  1.0313e-01,  5.3790e-01,  7.3282e-01,\n",
              "           -7.6279e-01,  1.0703e+00],\n",
              "          [ 6.4942e-01,  3.5522e-02,  6.1491e-01,  1.2649e-01,  3.9627e-01,\n",
              "            8.0070e-01, -9.3849e-01],\n",
              "          [ 5.4187e-01, -6.9101e-01,  4.9453e-01, -3.0498e-02, -8.2543e-02,\n",
              "           -1.4980e-01,  5.9806e-02],\n",
              "          [ 4.5004e-02,  6.7530e-01,  5.1817e-01,  2.7584e-01,  7.3777e-01,\n",
              "           -1.5141e-01,  4.8426e-01]]]], grad_fn=<MkldnnConvolutionBackward>)"
            ]
          },
          "metadata": {
            "tags": []
          },
          "execution_count": 4
        }
      ]
    },
    {
      "cell_type": "code",
      "metadata": {
        "id": "zKoMErOfYDJe",
        "outputId": "3bb58fa1-816e-40da-acd6-aaee54ddc0eb",
        "colab": {
          "base_uri": "https://localhost:8080/",
          "height": 34
        }
      },
      "source": [
        "y.size() # solo cambio la estructura de los canales de 3 a 9."
      ],
      "execution_count": null,
      "outputs": [
        {
          "output_type": "execute_result",
          "data": {
            "text/plain": [
              "torch.Size([1, 9, 7, 7])"
            ]
          },
          "metadata": {
            "tags": []
          },
          "execution_count": 5
        }
      ]
    },
    {
      "cell_type": "code",
      "metadata": {
        "id": "G0OYPifiYJYb",
        "outputId": "1e23a50e-5913-4a5f-fb5c-061fe6232583",
        "colab": {
          "base_uri": "https://localhost:8080/",
          "height": 765
        }
      },
      "source": [
        "x"
      ],
      "execution_count": null,
      "outputs": [
        {
          "output_type": "execute_result",
          "data": {
            "text/plain": [
              "tensor([[[[ 1.1818e+00,  1.4488e-01,  3.1153e+00, -1.0907e+00, -1.3091e+00,\n",
              "           -1.2948e+00, -4.2107e-02],\n",
              "          [ 1.4966e+00,  3.0494e-04, -1.4958e+00,  4.5115e-01, -1.6647e+00,\n",
              "            4.4865e-02,  6.3480e-01],\n",
              "          [-4.7727e-02,  7.2763e-01,  1.9652e+00, -6.7361e-01,  1.4049e+00,\n",
              "            1.0087e+00,  6.5679e-02],\n",
              "          [ 1.2529e+00, -2.5300e-01,  5.8300e-01, -3.5777e-01,  2.3995e+00,\n",
              "            3.1473e-01, -3.1453e-01],\n",
              "          [ 8.7604e-02,  5.8687e-01,  1.5785e+00,  5.4938e-01,  1.6361e-01,\n",
              "            2.1970e+00,  6.5820e-01],\n",
              "          [ 1.0922e+00, -3.9210e-01,  9.6425e-01,  8.5721e-01,  6.3573e-02,\n",
              "            1.4798e+00,  9.2712e-02],\n",
              "          [-1.3258e+00,  2.9604e-01, -1.8203e+00, -1.6573e-01, -3.9500e-01,\n",
              "           -5.2394e-01,  8.0319e-01]],\n",
              "\n",
              "         [[-1.5926e+00,  3.4785e-01, -4.8902e-01,  1.9419e+00,  1.7935e-01,\n",
              "            1.5582e-01,  3.4815e-01],\n",
              "          [-1.1935e+00, -1.1163e+00, -1.6433e+00,  7.2817e-01, -1.6554e+00,\n",
              "           -1.7405e+00,  3.7709e-01],\n",
              "          [ 9.8899e-01,  1.5473e+00, -3.2792e-01, -1.4855e-01, -1.0805e+00,\n",
              "            1.8388e+00,  3.0101e-01],\n",
              "          [-1.0519e+00, -1.7652e+00, -9.2148e-01,  3.3835e-01,  1.4053e-01,\n",
              "           -9.8181e-01,  1.8816e+00],\n",
              "          [-1.7940e+00, -1.2316e+00, -1.9467e+00, -1.3766e+00,  1.7239e+00,\n",
              "            5.3944e-01,  1.3428e-01],\n",
              "          [-2.1638e+00,  1.1548e+00, -6.7425e-01, -7.7036e-01, -7.9795e-01,\n",
              "            9.5795e-01, -2.0045e+00],\n",
              "          [ 1.8608e+00,  8.9459e-01, -4.6732e-02, -8.5492e-02,  6.3817e-01,\n",
              "           -6.3903e-01, -3.1709e-01]],\n",
              "\n",
              "         [[ 2.2218e-01, -3.5570e-01, -3.9896e-01,  1.3939e+00,  6.7564e-01,\n",
              "            6.6084e-01,  1.4785e-01],\n",
              "          [-4.6121e-01,  6.9373e-01, -2.4326e-01, -8.9600e-01, -5.8625e-02,\n",
              "           -8.7105e-02,  3.6108e-01],\n",
              "          [-1.9226e+00, -8.8630e-01,  9.3890e-01, -1.6836e-01, -6.3063e-01,\n",
              "           -1.2733e+00,  4.6466e-02],\n",
              "          [ 1.2062e-01,  7.2663e-01, -1.1990e+00, -2.8498e-01, -1.0314e+00,\n",
              "            2.7100e-01, -1.3313e+00],\n",
              "          [ 5.3277e-02,  3.5177e-01, -1.2967e-01, -3.1254e-01, -2.9972e+00,\n",
              "            1.0701e+00,  2.4631e+00],\n",
              "          [-9.2994e-01, -1.5380e-01,  1.4142e+00,  1.1662e-01, -6.2105e-01,\n",
              "            5.3890e-01,  6.3484e-01],\n",
              "          [-5.7002e-01, -1.1725e+00,  9.0040e-02,  1.3239e+00, -1.3795e+00,\n",
              "            1.6924e-01, -9.5098e-01]]]])"
            ]
          },
          "metadata": {
            "tags": []
          },
          "execution_count": 7
        }
      ]
    },
    {
      "cell_type": "code",
      "metadata": {
        "id": "-pwr4qqZYN_s",
        "outputId": "1816397d-8763-4efb-98d8-66774ab31988",
        "colab": {
          "base_uri": "https://localhost:8080/",
          "height": 765
        }
      },
      "source": [
        "z  # x aplicado con ReLU, valores menores a 0 son igualados a 0"
      ],
      "execution_count": null,
      "outputs": [
        {
          "output_type": "execute_result",
          "data": {
            "text/plain": [
              "tensor([[[[1.1818e+00, 1.4488e-01, 3.1153e+00, 0.0000e+00, 0.0000e+00,\n",
              "           0.0000e+00, 0.0000e+00],\n",
              "          [1.4966e+00, 3.0494e-04, 0.0000e+00, 4.5115e-01, 0.0000e+00,\n",
              "           4.4865e-02, 6.3480e-01],\n",
              "          [0.0000e+00, 7.2763e-01, 1.9652e+00, 0.0000e+00, 1.4049e+00,\n",
              "           1.0087e+00, 6.5679e-02],\n",
              "          [1.2529e+00, 0.0000e+00, 5.8300e-01, 0.0000e+00, 2.3995e+00,\n",
              "           3.1473e-01, 0.0000e+00],\n",
              "          [8.7604e-02, 5.8687e-01, 1.5785e+00, 5.4938e-01, 1.6361e-01,\n",
              "           2.1970e+00, 6.5820e-01],\n",
              "          [1.0922e+00, 0.0000e+00, 9.6425e-01, 8.5721e-01, 6.3573e-02,\n",
              "           1.4798e+00, 9.2712e-02],\n",
              "          [0.0000e+00, 2.9604e-01, 0.0000e+00, 0.0000e+00, 0.0000e+00,\n",
              "           0.0000e+00, 8.0319e-01]],\n",
              "\n",
              "         [[0.0000e+00, 3.4785e-01, 0.0000e+00, 1.9419e+00, 1.7935e-01,\n",
              "           1.5582e-01, 3.4815e-01],\n",
              "          [0.0000e+00, 0.0000e+00, 0.0000e+00, 7.2817e-01, 0.0000e+00,\n",
              "           0.0000e+00, 3.7709e-01],\n",
              "          [9.8899e-01, 1.5473e+00, 0.0000e+00, 0.0000e+00, 0.0000e+00,\n",
              "           1.8388e+00, 3.0101e-01],\n",
              "          [0.0000e+00, 0.0000e+00, 0.0000e+00, 3.3835e-01, 1.4053e-01,\n",
              "           0.0000e+00, 1.8816e+00],\n",
              "          [0.0000e+00, 0.0000e+00, 0.0000e+00, 0.0000e+00, 1.7239e+00,\n",
              "           5.3944e-01, 1.3428e-01],\n",
              "          [0.0000e+00, 1.1548e+00, 0.0000e+00, 0.0000e+00, 0.0000e+00,\n",
              "           9.5795e-01, 0.0000e+00],\n",
              "          [1.8608e+00, 8.9459e-01, 0.0000e+00, 0.0000e+00, 6.3817e-01,\n",
              "           0.0000e+00, 0.0000e+00]],\n",
              "\n",
              "         [[2.2218e-01, 0.0000e+00, 0.0000e+00, 1.3939e+00, 6.7564e-01,\n",
              "           6.6084e-01, 1.4785e-01],\n",
              "          [0.0000e+00, 6.9373e-01, 0.0000e+00, 0.0000e+00, 0.0000e+00,\n",
              "           0.0000e+00, 3.6108e-01],\n",
              "          [0.0000e+00, 0.0000e+00, 9.3890e-01, 0.0000e+00, 0.0000e+00,\n",
              "           0.0000e+00, 4.6466e-02],\n",
              "          [1.2062e-01, 7.2663e-01, 0.0000e+00, 0.0000e+00, 0.0000e+00,\n",
              "           2.7100e-01, 0.0000e+00],\n",
              "          [5.3277e-02, 3.5177e-01, 0.0000e+00, 0.0000e+00, 0.0000e+00,\n",
              "           1.0701e+00, 2.4631e+00],\n",
              "          [0.0000e+00, 0.0000e+00, 1.4142e+00, 1.1662e-01, 0.0000e+00,\n",
              "           5.3890e-01, 6.3484e-01],\n",
              "          [0.0000e+00, 0.0000e+00, 9.0040e-02, 1.3239e+00, 0.0000e+00,\n",
              "           1.6924e-01, 0.0000e+00]]]])"
            ]
          },
          "metadata": {
            "tags": []
          },
          "execution_count": 8
        }
      ]
    },
    {
      "cell_type": "code",
      "metadata": {
        "id": "ptrBjmHdYZp1",
        "outputId": "ace5b1ec-d8b0-4cec-b393-738582c820dc",
        "colab": {
          "base_uri": "https://localhost:8080/",
          "height": 119
        }
      },
      "source": [
        "for name, p in linear.named_parameters():\n",
        "  print(name)\n",
        "  print(p.size())\n",
        "  print()\n",
        "# miremos a los pesos y bias como perillas de una guitarra, las ajustaremos hasta que tengan una buena tonalidad"
      ],
      "execution_count": null,
      "outputs": [
        {
          "output_type": "stream",
          "text": [
            "weight\n",
            "torch.Size([10, 4096])\n",
            "\n",
            "bias\n",
            "torch.Size([10])\n",
            "\n"
          ],
          "name": "stdout"
        }
      ]
    },
    {
      "cell_type": "markdown",
      "metadata": {
        "id": "_pEYK1Fe1rqr"
      },
      "source": [
        "## Creando una RN"
      ]
    },
    {
      "cell_type": "code",
      "metadata": {
        "id": "yg1E8pwX1wpd"
      },
      "source": [
        "import torch\n",
        "import torch.nn as nn\n",
        "import torch.nn.functional as F #capas sin parametros"
      ],
      "execution_count": null,
      "outputs": []
    },
    {
      "cell_type": "code",
      "metadata": {
        "id": "WMGOiCWx7U1j"
      },
      "source": [
        "class Net(nn.Module):\n",
        "  def __init__(self, num_channels):\n",
        "    super(Net,self).__init__()\n",
        "    \n",
        "    self.num_channels = num_channels\n",
        "    \n",
        "    self.conv1 = nn.Conv2d(3, self.num_channels, 3, stride = 1, padding = 1)\n",
        "    self.conv2 = nn.Conv2d(self.num_channels, self.num_channels*2, 3, stride = 1, padding = 1)\n",
        "    self.conv3 = nn.Conv2d(self.num_channels*2, self.num_channels*4, 3, stride = 1, padding = 1)\n",
        "    \n",
        "    self.fc1 = nn.Linear(self.num_channels*4*8*8, self.num_channels*4)\n",
        "    self.fc2 = nn.Linear(self.num_channels*4, 6)\n",
        "    \n",
        "  def forward(self,x):\n",
        "    #Empieza 3x64x64\n",
        "    x = self.conv1(x) # num_channels x 64 x 64\n",
        "    x = F.relu(F.max_pool2d(x, 2)) # num_channels x 32 x 32  # max_pool2d(tensor, cuantos valores serán evaluados 2 = (2,2))\n",
        "    x = self.conv2(x) # num_channels*2 x 32 x32\n",
        "    x = F.relu(F.max_pool2d(x, 2)) #num_channels*2 x 16 x 16\n",
        "    x = self.conv3(x) # num_channels*4 x16x16\n",
        "    x = F.relu(F.max_pool2d(x, 2)) # num_channels*4 x 8 x 8\n",
        "      \n",
        "    #flatten\n",
        "    x = x.view(-1, self.num_channels*4*8*8)\n",
        "      \n",
        "    #fc\n",
        "    x = self.fc1(x)\n",
        "    x = F.relu(x)\n",
        "    x = self.fc2(x)\n",
        "      \n",
        "    #log_softmax\n",
        "      \n",
        "    x = F.log_softmax(x, dim=1)\n",
        "      \n",
        "    return x"
      ],
      "execution_count": null,
      "outputs": []
    },
    {
      "cell_type": "code",
      "metadata": {
        "id": "geOnrnod0oLC",
        "outputId": "cc35d65a-edc2-4f78-cf4d-9dde599e05c7",
        "colab": {
          "base_uri": "https://localhost:8080/"
        }
      },
      "source": [
        "import torch\n",
        "a = torch.tensor([[1,2,3],[4,5,6]])\n",
        "a = a.view(1,-1)\n",
        "a"
      ],
      "execution_count": null,
      "outputs": [
        {
          "output_type": "execute_result",
          "data": {
            "text/plain": [
              "tensor([[1, 2, 3, 4, 5, 6]])"
            ]
          },
          "metadata": {
            "tags": []
          },
          "execution_count": 33
        }
      ]
    },
    {
      "cell_type": "markdown",
      "metadata": {
        "id": "aqodGjNp79un"
      },
      "source": [
        "**porque vamos expandiendo la cantidad de canales en cada capa convolucional?**\n",
        "\n",
        "Porque al final quieres codificar las caracteristicas de las imagenes reduciendo su dimensionalidad, pero agregando canales. Digamos que tienes una imagen de 100100 pixeles y tres canales, cada que convolucionas, digamos, reduces la dimensión de la imagen a 5050 pero aumentas a 10 canales. Ahora en lugar de tener una imagen de tres canales (que codifican color), ahora tienes 10 “filtros” de 50*50 que te van a codificar caracteristicas de la imagen (tal vez color, luminosidad, texturas, esquinas, fronteras, bordes, etc).\n",
        "Y yo difieron con lo que te comentaron. Yo creo que es muy importante saber como funcionan las arquitecturas de las redes, y ya después saber como implementarlas practicamente, eso nos recomienda Geoffrey Hinton."
      ]
    },
    {
      "cell_type": "markdown",
      "metadata": {
        "id": "LaoB2IyJuoUX"
      },
      "source": [
        "## Cargar Datos en Pytorch"
      ]
    },
    {
      "cell_type": "code",
      "metadata": {
        "id": "ygW_XKWRzG-b",
        "outputId": "f3b64bca-dd82-42aa-ef00-c4602d1a0ae1",
        "colab": {
          "base_uri": "https://localhost:8080/",
          "height": 34
        }
      },
      "source": [
        "from google.colab import drive\n",
        "drive.mount('/content/drive')"
      ],
      "execution_count": null,
      "outputs": [
        {
          "output_type": "stream",
          "text": [
            "Mounted at /content/drive\n"
          ],
          "name": "stdout"
        }
      ]
    },
    {
      "cell_type": "code",
      "metadata": {
        "id": "y3tZURW9zajn",
        "outputId": "9027e050-c549-44b2-eff2-07b1b500f8c7",
        "colab": {
          "base_uri": "https://localhost:8080/",
          "height": 34
        }
      },
      "source": [
        "!ls '/content/drive/My Drive/data/dl-pytorch/datasets/64x64_SIGNS'\n",
        "path_data = '/content/drive/My Drive/data/dl-pytorch/datasets/64x64_SIGNS'"
      ],
      "execution_count": null,
      "outputs": [
        {
          "output_type": "stream",
          "text": [
            "test_signs  train_signs  val_signs\n"
          ],
          "name": "stdout"
        }
      ]
    },
    {
      "cell_type": "code",
      "metadata": {
        "id": "SG198Whcz_ab"
      },
      "source": [
        "import sys\n",
        "sys.path.append('/content/drive/My Drive/data/dl-pytorch')"
      ],
      "execution_count": null,
      "outputs": []
    },
    {
      "cell_type": "code",
      "metadata": {
        "id": "cnhTEd-g0JG4"
      },
      "source": [
        "from plot_helpers import imshow"
      ],
      "execution_count": null,
      "outputs": []
    },
    {
      "cell_type": "code",
      "metadata": {
        "id": "bGg_ZFtz0P_S",
        "outputId": "bed69de1-a98c-4de5-d7ea-18e36ae9beb4",
        "colab": {
          "base_uri": "https://localhost:8080/",
          "height": 88
        }
      },
      "source": [
        "import os\n",
        "path = os.path.join('/content/drive/My Drive/data/dl-pytorch/datasets/64x64_SIGNS','train_signs') # concatena un path con un archivo\n",
        "print(path)\n",
        "list_dir = os.listdir(path)  # lista de todos los elementos en ese path\n",
        "print(list_dir)\n",
        "print(list_dir[0].endswith('.jpg'))  # .endswith(condicion) # T or F segun termine la string"
      ],
      "execution_count": null,
      "outputs": [
        {
          "output_type": "stream",
          "text": [
            "/content/drive/My Drive/data/dl-pytorch/datasets/64x64_SIGNS/train_signs\n",
            "['1_IMG_4448.jpg', '1_IMG_4561.jpg', '2_IMG_4702.jpg', '1_IMG_4391.jpg', '3_IMG_6055.jpg', '2_IMG_4747.jpg', '0_IMG_5932.jpg', '1_IMG_4423.jpg', '4_IMG_5385.jpg', '3_IMG_6184.jpg', '2_IMG_4803.jpg', '4_IMG_5411.jpg', '1_IMG_4553.jpg', '5_IMG_5496.jpg', '5_IMG_5506.jpg', '1_IMG_4531.jpg', '1_IMG_4401.jpg', '4_IMG_5275.jpg', '4_IMG_5364.jpg', '2_IMG_4744.jpg', '3_IMG_6070.jpg', '2_IMG_4766.jpg', '1_IMG_4438.jpg', '4_IMG_5227.jpg', '3_IMG_6087.jpg', '1_IMG_4408.jpg', '0_IMG_5991.jpg', '3_IMG_6104.jpg', '5_IMG_5510.jpg', '0_IMG_5937.jpg', '5_IMG_5469.jpg', '4_IMG_5229.jpg', '5_IMG_5630.jpg', '0_IMG_5973 (1).jpg', '5_IMG_5504.jpg', '5_IMG_5596.jpg', '4_IMG_5245.jpg', '2_IMG_4680.jpg', '3_IMG_6168.jpg', '5_IMG_5461.jpg', '2_IMG_4738.jpg', '4_IMG_5270.jpg', '0_IMG_5923.jpg', '4_IMG_5351.jpg', '3_IMG_6003.jpg', '5_IMG_5568.jpg', '5_IMG_5627.jpg', '0_IMG_6245.jpg', '3_IMG_6147.jpg', '0_IMG_5960 (1).jpg', '5_IMG_5448.jpg', '4_IMG_5379.jpg', '2_IMG_4780.jpg', '3_IMG_6081.jpg', '4_IMG_5423.jpg', '1_IMG_4449.jpg', '1_IMG_4517.jpg', '4_IMG_5247.jpg', '1_IMG_4396.jpg', '0_IMG_6270.jpg', '0_IMG_5974.jpg', '1_IMG_4487.jpg', '5_IMG_5631.jpg', '3_IMG_6091.jpg', '0_IMG_5987 (1).jpg', '3_IMG_6130.jpg', '0_IMG_6270 (1).jpg', '2_IMG_4603.jpg', '3_IMG_6186.jpg', '0_IMG_6244.jpg', '0_IMG_5927.jpg', '0_IMG_6237 (1).jpg', '4_IMG_5317.jpg', '5_IMG_5580.jpg', '5_IMG_5494.jpg', '2_IMG_4779.jpg', '2_IMG_4637.jpg', '0_IMG_6269 (1).jpg', '5_IMG_5511.jpg', '5_IMG_5432.jpg', '3_IMG_6107.jpg', '2_IMG_4644.jpg', '5_IMG_5445.jpg', '0_IMG_6226.jpg', '5_IMG_5438.jpg', '1_IMG_4494.jpg', '1_IMG_4379.jpg', '4_IMG_5305.jpg', '0_IMG_5918.jpg', '1_IMG_4484.jpg', '2_IMG_4681.jpg', '0_IMG_6251.jpg', '1_IMG_4543.jpg', '5_IMG_5537.jpg', '1_IMG_4578.jpg', '1_IMG_4475.jpg', '3_IMG_6057.jpg', '1_IMG_4445.jpg', '3_IMG_6054.jpg', '3_IMG_6001.jpg', '1_IMG_4462.jpg', '5_IMG_5557.jpg', '4_IMG_5259.jpg', '4_IMG_5303.jpg', '3_IMG_6164.jpg', '0_IMG_5896.jpg', '5_IMG_5539.jpg', '5_IMG_5533.jpg', '1_IMG_4528.jpg', '0_IMG_5936.jpg', '0_IMG_5973.jpg', '1_IMG_4385.jpg', '2_IMG_4728.jpg', '4_IMG_5272.jpg', '3_IMG_6216.jpg', '4_IMG_5318.jpg', '2_IMG_4604.jpg', '2_IMG_4750.jpg', '4_IMG_5252.jpg', '3_IMG_6158.jpg', '4_IMG_5319.jpg', '1_IMG_4525.jpg', '4_IMG_5255.jpg', '1_IMG_4428.jpg', '0_IMG_5958 (1).jpg', '2_IMG_4712.jpg', '2_IMG_4590.jpg', '3_IMG_6115.jpg', '1_IMG_4469.jpg', '5_IMG_5623.jpg', '1_IMG_4520.jpg', '2_IMG_4646.jpg', '1_IMG_4493.jpg', '2_IMG_4701.jpg', '1_IMG_4515.jpg', '0_IMG_6261 (1).jpg', '2_IMG_4605.jpg', '0_IMG_6227 (1).jpg', '2_IMG_4727.jpg', '0_IMG_5960.jpg', '0_IMG_5963.jpg', '4_IMG_5354.jpg', '1_IMG_4560.jpg', '4_IMG_5306.jpg', '0_IMG_5907.jpg', '2_IMG_4623.jpg', '0_IMG_5925.jpg', '2_IMG_4774.jpg', '0_IMG_6260.jpg', '5_IMG_5516.jpg', '5_IMG_5565.jpg', '0_IMG_6269.jpg', '1_IMG_4504.jpg', '2_IMG_4584.jpg', '0_IMG_5898.jpg', '2_IMG_4613.jpg', '2_IMG_4769.jpg', '0_IMG_5968 (1).jpg', '5_IMG_5562.jpg', '4_IMG_5330.jpg', '2_IMG_4801.jpg', '2_IMG_4735.jpg', '1_IMG_4501.jpg', '0_IMG_5934.jpg', '3_IMG_6027.jpg', '2_IMG_4651.jpg', '1_IMG_4454.jpg', '2_IMG_4776.jpg', '4_IMG_5297.jpg', '3_IMG_6199.jpg', '0_IMG_5905.jpg', '5_IMG_5550.jpg', '1_IMG_4577.jpg', '2_IMG_4743.jpg', '3_IMG_6026.jpg', '3_IMG_6012.jpg', '1_IMG_4506.jpg', '5_IMG_5483.jpg', '3_IMG_6197.jpg', '4_IMG_5280.jpg', '2_IMG_4753.jpg', '2_IMG_4634.jpg', '1_IMG_4414.jpg', '4_IMG_5408.jpg', '0_IMG_6259.jpg', '2_IMG_4671.jpg', '2_IMG_4683.jpg', '4_IMG_5234.jpg', '1_IMG_4419.jpg', '5_IMG_5480.jpg', '4_IMG_5344.jpg', '3_IMG_6151.jpg', '1_IMG_4534.jpg', '5_IMG_5574.jpg', '4_IMG_5357.jpg', '3_IMG_6062.jpg', '0_IMG_5910.jpg', '5_IMG_5439.jpg', '4_IMG_5415.jpg', '2_IMG_4625.jpg', '1_IMG_4507.jpg', '0_IMG_6278 (1).jpg', '3_IMG_6030.jpg', '4_IMG_5375.jpg', '3_IMG_6189.jpg', '1_IMG_4569.jpg', '5_IMG_5498.jpg', '4_IMG_5393.jpg', '1_IMG_4458.jpg', '1_IMG_4429.jpg', '1_IMG_4447.jpg', '5_IMG_5508.jpg', '0_IMG_5935.jpg', '1_IMG_4582.jpg', '3_IMG_6043.jpg', '2_IMG_4739.jpg', '0_IMG_5911.jpg', '0_IMG_6239 (1).jpg', '1_IMG_4514.jpg', '1_IMG_4464.jpg', '4_IMG_5359.jpg', '3_IMG_6069.jpg', '2_IMG_4629.jpg', '0_IMG_5893.jpg', '2_IMG_4775.jpg', '1_IMG_4380.jpg', '5_IMG_5535.jpg', '5_IMG_5517.jpg', '2_IMG_4659.jpg', '4_IMG_5327.jpg', '0_IMG_5864.jpg', '3_IMG_6080.jpg', '1_IMG_4503.jpg', '2_IMG_4594.jpg', '1_IMG_4387.jpg', '0_IMG_5968.jpg', '5_IMG_5527.jpg', '4_IMG_5236.jpg', '5_IMG_5472.jpg', '0_IMG_5926.jpg', '4_IMG_5417.jpg', '1_IMG_4472.jpg', '3_IMG_6218.jpg', '2_IMG_4618.jpg', '5_IMG_5486.jpg', '5_IMG_5518.jpg', '4_IMG_5371.jpg', '4_IMG_5326.jpg', '1_IMG_4485.jpg', '5_IMG_5616.jpg', '5_IMG_5614.jpg', '4_IMG_5283.jpg', '4_IMG_5334.jpg', '0_IMG_5964 (1).jpg', '4_IMG_5346.jpg', '3_IMG_6067.jpg', '5_IMG_5489.jpg', '1_IMG_4406.jpg', '4_IMG_5394.jpg', '2_IMG_4668.jpg', '3_IMG_6194.jpg', '4_IMG_5416.jpg', '0_IMG_5975.jpg', '3_IMG_6061.jpg', '2_IMG_4689.jpg', '2_IMG_4767.jpg', '5_IMG_5514.jpg', '2_IMG_4782.jpg', '5_IMG_5566.jpg', '3_IMG_6210.jpg', '4_IMG_5372.jpg', '1_IMG_4424.jpg', '1_IMG_4413.jpg', '5_IMG_5608.jpg', '0_IMG_5924.jpg', '1_IMG_4440.jpg', '2_IMG_4672.jpg', '1_IMG_4386.jpg', '1_IMG_4570.jpg', '5_IMG_5559.jpg', '2_IMG_4662.jpg', '1_IMG_4541.jpg', '0_IMG_5912.jpg', '2_IMG_4697.jpg', '1_IMG_4583.jpg', '3_IMG_6075.jpg', '4_IMG_5336.jpg', '3_IMG_6176.jpg', '0_IMG_5978 (1).jpg', '0_IMG_5988.jpg', '1_IMG_4426.jpg', '5_IMG_5610.jpg', '0_IMG_6262.jpg', '1_IMG_4551.jpg', '1_IMG_4497.jpg', '4_IMG_5277.jpg', '2_IMG_4676.jpg', '1_IMG_4511.jpg', '4_IMG_5279.jpg', '3_IMG_5994.jpg', '1_IMG_4558.jpg', '4_IMG_5421.jpg', '4_IMG_5388.jpg', '4_IMG_5291.jpg', '2_IMG_4706.jpg', '0_IMG_6265 (1).jpg', '2_IMG_4670.jpg', '2_IMG_4687.jpg', '0_IMG_6271.jpg', '3_IMG_6191.jpg', '3_IMG_6113.jpg', '3_IMG_6206.jpg', '1_IMG_4446.jpg', '5_IMG_5597.jpg', '0_IMG_6239.jpg', '0_IMG_5983.jpg', '4_IMG_5405.jpg', '5_IMG_5607.jpg', '4_IMG_5383.jpg', '0_IMG_5946.jpg', '3_IMG_6058.jpg', '1_IMG_4486.jpg', '2_IMG_4703.jpg', '0_IMG_5957.jpg', '5_IMG_5458.jpg', '4_IMG_5253.jpg', '4_IMG_5260.jpg', '2_IMG_4630.jpg', '1_IMG_4512.jpg', '3_IMG_6089.jpg', '2_IMG_4686.jpg', '4_IMG_5265.jpg', '5_IMG_5576.jpg', '4_IMG_5348.jpg', '4_IMG_5251.jpg', '4_IMG_5287.jpg', '0_IMG_5989.jpg', '0_IMG_6246 (1).jpg', '3_IMG_6090.jpg', '4_IMG_5286.jpg', '0_IMG_5941.jpg', '4_IMG_5281.jpg', '2_IMG_4624.jpg', '5_IMG_5581.jpg', '0_IMG_5948.jpg', '5_IMG_5556.jpg', '2_IMG_4716.jpg', '1_IMG_4535.jpg', '0_IMG_5979 (1).jpg', '0_IMG_5902.jpg', '0_IMG_5965.jpg', '5_IMG_5490.jpg', '2_IMG_4631.jpg', '3_IMG_6127.jpg', '0_IMG_5897.jpg', '4_IMG_5269.jpg', '2_IMG_4596.jpg', '2_IMG_4765.jpg', '4_IMG_5367.jpg', '0_IMG_6251 (1).jpg', '1_IMG_4456.jpg', '0_IMG_5950.jpg', '4_IMG_5233.jpg', '5_IMG_5564.jpg', '4_IMG_5342.jpg', '3_IMG_6119.jpg', '0_IMG_5985.jpg', '1_IMG_4393.jpg', '3_IMG_6122.jpg', '5_IMG_5474.jpg', '4_IMG_5360.jpg', '2_IMG_4722.jpg', '5_IMG_5583.jpg', '0_IMG_5914.jpg', '4_IMG_5257.jpg', '5_IMG_5551.jpg', '0_IMG_5949.jpg', '4_IMG_5231.jpg', '0_IMG_6280 (1).jpg', '0_IMG_5991 (1).jpg', '2_IMG_4614.jpg', '5_IMG_5547.jpg', '5_IMG_5594.jpg', '0_IMG_6266 (1).jpg', '3_IMG_6129.jpg', '2_IMG_4740.jpg', '5_IMG_5548.jpg', '3_IMG_6170.jpg', '5_IMG_5482.jpg', '5_IMG_5601.jpg', '4_IMG_5246.jpg', '5_IMG_5528.jpg', '4_IMG_5324.jpg', '5_IMG_5473.jpg', '1_IMG_4476.jpg', '0_IMG_5894.jpg', '2_IMG_4639.jpg', '3_IMG_6103.jpg', '5_IMG_5618.jpg', '3_IMG_6169.jpg', '3_IMG_6145.jpg', '3_IMG_6050.jpg', '2_IMG_4797.jpg', '3_IMG_6097.jpg', '5_IMG_5624.jpg', '1_IMG_4435.jpg', '3_IMG_6182.jpg', '4_IMG_5290.jpg', '5_IMG_5501.jpg', '1_IMG_4473.jpg', '1_IMG_4437.jpg', '2_IMG_4602.jpg', '2_IMG_4696.jpg', '3_IMG_6041.jpg', '0_IMG_6243.jpg', '1_IMG_4398.jpg', '4_IMG_5268.jpg', '3_IMG_6114.jpg', '1_IMG_4410.jpg', '2_IMG_4805.jpg', '1_IMG_4460.jpg', '3_IMG_6154.jpg', '5_IMG_5456.jpg', '0_IMG_5959 (1).jpg', '1_IMG_4389.jpg', '3_IMG_6177.jpg', '4_IMG_5273.jpg', '1_IMG_4564.jpg', '0_IMG_6274 (1).jpg', '5_IMG_5499.jpg', '2_IMG_4752.jpg', '4_IMG_5366.jpg', '4_IMG_5429.jpg', '2_IMG_4606.jpg', '4_IMG_5349.jpg', '4_IMG_5365.jpg', '0_IMG_6277.jpg', '3_IMG_6109.jpg', '4_IMG_5341.jpg', '4_IMG_5422.jpg', '0_IMG_6233 (1).jpg', '2_IMG_4626.jpg', '3_IMG_6071.jpg', '4_IMG_5406.jpg', '1_IMG_4442.jpg', '4_IMG_5298.jpg', '3_IMG_6128.jpg', '5_IMG_5534.jpg', '2_IMG_4648.jpg', '5_IMG_5526.jpg', '4_IMG_5339.jpg', '4_IMG_5347.jpg', '1_IMG_4451.jpg', '1_IMG_4568.jpg', '3_IMG_6042.jpg', '5_IMG_5522.jpg', '3_IMG_6135.jpg', '5_IMG_5598.jpg', '1_IMG_4455.jpg', '3_IMG_6019.jpg', '1_IMG_4405.jpg', '3_IMG_6132.jpg', '1_IMG_4388.jpg', '3_IMG_6064.jpg', '0_IMG_5901.jpg', '3_IMG_6220.jpg', '0_IMG_6254 (1).jpg', '5_IMG_5435.jpg', '5_IMG_5491.jpg', '0_IMG_6241.jpg', '4_IMG_5407.jpg', '3_IMG_6179.jpg', '0_IMG_5982.jpg', '4_IMG_5376.jpg', '4_IMG_5321.jpg', '2_IMG_4592.jpg', '2_IMG_4688.jpg', '2_IMG_4798.jpg', '2_IMG_4669.jpg', '4_IMG_5401.jpg', '5_IMG_5468.jpg', '0_IMG_5967.jpg', '3_IMG_6049.jpg', '0_IMG_6267.jpg', '1_IMG_4433.jpg', '0_IMG_6265.jpg', '2_IMG_4726.jpg', '5_IMG_5463.jpg', '3_IMG_6181.jpg', '4_IMG_5391.jpg', '5_IMG_5524.jpg', '1_IMG_4434.jpg', '5_IMG_5567.jpg', '3_IMG_6101.jpg', '2_IMG_4633.jpg', '0_IMG_6249.jpg', '4_IMG_5390.jpg', '4_IMG_5232.jpg', '5_IMG_5585.jpg', '2_IMG_4714.jpg', '0_IMG_6268.jpg', '2_IMG_4773.jpg', '5_IMG_5554.jpg', '0_IMG_6241 (1).jpg', '1_IMG_4444.jpg', '2_IMG_4736.jpg', '2_IMG_4656.jpg', '0_IMG_6275.jpg', '1_IMG_4547.jpg', '1_IMG_4557.jpg', '2_IMG_4660.jpg', '5_IMG_5628.jpg', '3_IMG_6136.jpg', '2_IMG_4694.jpg', '3_IMG_6157.jpg', '2_IMG_4772.jpg', '2_IMG_4802.jpg', '0_IMG_6247.jpg', '1_IMG_4443.jpg', '3_IMG_6126.jpg', '3_IMG_6052.jpg', '4_IMG_5370.jpg', '3_IMG_6134.jpg', '4_IMG_5322.jpg', '5_IMG_5466.jpg', '5_IMG_5478.jpg', '3_IMG_6183.jpg', '5_IMG_5609.jpg', '5_IMG_5584.jpg', '4_IMG_5358.jpg', '3_IMG_6025.jpg', '2_IMG_4715.jpg', '2_IMG_4675.jpg', '1_IMG_4500.jpg', '4_IMG_5282.jpg', '3_IMG_6031.jpg', '1_IMG_4530.jpg', '1_IMG_4548.jpg', '4_IMG_5316.jpg', '3_IMG_6072.jpg', '2_IMG_4611.jpg', '3_IMG_6082.jpg', '2_IMG_4705.jpg', '0_IMG_6256.jpg', '2_IMG_4700.jpg', '0_IMG_5989 (1).jpg', '0_IMG_5939.jpg', '2_IMG_4770.jpg', '3_IMG_6185.jpg', '0_IMG_5916.jpg', '0_IMG_5944.jpg', '0_IMG_5909.jpg', '0_IMG_5980.jpg', '1_IMG_4463.jpg', '5_IMG_5529.jpg', '2_IMG_4664.jpg', '2_IMG_4784.jpg', '4_IMG_5384.jpg', '4_IMG_5373.jpg', '3_IMG_6002.jpg', '2_IMG_4585.jpg', '1_IMG_4468.jpg', '1_IMG_4465.jpg', '3_IMG_6190.jpg', '0_IMG_6255.jpg', '0_IMG_5986 (1).jpg', '5_IMG_5603.jpg', '3_IMG_6208.jpg', '5_IMG_5454.jpg', '5_IMG_5519.jpg', '3_IMG_6202.jpg', '3_IMG_6029.jpg', '4_IMG_5320.jpg', '1_IMG_4453.jpg', '5_IMG_5595.jpg', '3_IMG_6188.jpg', '2_IMG_4794.jpg', '5_IMG_5549.jpg', '3_IMG_6213.jpg', '1_IMG_4441.jpg', '3_IMG_6083.jpg', '5_IMG_5493.jpg', '5_IMG_5570.jpg', '1_IMG_4479.jpg', '5_IMG_5541.jpg', '0_IMG_5940.jpg', '1_IMG_4412.jpg', '1_IMG_4483.jpg', '3_IMG_6011.jpg', '2_IMG_4754.jpg', '2_IMG_4790.jpg', '2_IMG_4693.jpg', '4_IMG_5240.jpg', '1_IMG_4495.jpg', '5_IMG_5592.jpg', '0_IMG_6279.jpg', '3_IMG_6108.jpg', '4_IMG_5289.jpg', '3_IMG_6015.jpg', '2_IMG_4632.jpg', '3_IMG_6098.jpg', '4_IMG_5413.jpg', '1_IMG_4572.jpg', '0_IMG_5892.jpg', '4_IMG_5264.jpg', '5_IMG_5465.jpg', '0_IMG_5966.jpg', '1_IMG_4581 (1).jpg', '5_IMG_5571.jpg', '1_IMG_4527.jpg', '3_IMG_6156.jpg', '3_IMG_6112.jpg', '3_IMG_6204.jpg', '0_IMG_6254.jpg', '0_IMG_6252.jpg', '4_IMG_5424.jpg', '5_IMG_5459.jpg', '2_IMG_4707.jpg', '1_IMG_4537.jpg', '5_IMG_5503.jpg', '2_IMG_4771.jpg', '3_IMG_6160.jpg', '4_IMG_5274.jpg', '4_IMG_5278.jpg', '2_IMG_4748.jpg', '3_IMG_6153.jpg', '5_IMG_5617.jpg', '1_IMG_4521.jpg', '2_IMG_4620.jpg', '2_IMG_4729.jpg', '3_IMG_6021.jpg', '5_IMG_5602.jpg', '1_IMG_4554.jpg', '5_IMG_5553.jpg', '2_IMG_4698.jpg', '5_IMG_5451.jpg', '5_IMG_5538.jpg', '2_IMG_4763.jpg', '5_IMG_5543.jpg', '5_IMG_5558.jpg', '3_IMG_6120.jpg', '2_IMG_4589.jpg', '3_IMG_6068.jpg', '0_IMG_5971.jpg', '4_IMG_5311.jpg', '0_IMG_5906.jpg', '2_IMG_4781.jpg', '3_IMG_6118.jpg', '4_IMG_5387.jpg', '3_IMG_6066.jpg', '3_IMG_6175.jpg', '5_IMG_5612.jpg', '0_IMG_5976 (1).jpg', '3_IMG_6131.jpg', '3_IMG_6085.jpg', '1_IMG_4499.jpg', '5_IMG_5591.jpg', '3_IMG_6125.jpg', '3_IMG_6073.jpg', '4_IMG_5254.jpg', '2_IMG_4760.jpg', '3_IMG_6086.jpg', '0_IMG_5979.jpg', '3_IMG_6095.jpg', '3_IMG_6205.jpg', '1_IMG_4538.jpg', '2_IMG_4599.jpg', '0_IMG_5928.jpg', '2_IMG_4751.jpg', '5_IMG_5555.jpg', '5_IMG_5487.jpg', '5_IMG_5626.jpg', '2_IMG_4622.jpg', '1_IMG_4522.jpg', '3_IMG_6150.jpg', '4_IMG_5310.jpg', '3_IMG_6133.jpg', '0_IMG_6266.jpg', '2_IMG_4719.jpg', '5_IMG_5477.jpg', '5_IMG_5593.jpg', '5_IMG_5611.jpg', '3_IMG_6088.jpg', '3_IMG_6102.jpg', '5_IMG_5622.jpg', '0_IMG_5962.jpg', '4_IMG_5241.jpg', '5_IMG_5582.jpg', '1_IMG_4533.jpg', '3_IMG_6028.jpg', '5_IMG_5613.jpg', '5_IMG_5521.jpg', '4_IMG_5403.jpg', '2_IMG_4746.jpg', '0_IMG_6264.jpg', '4_IMG_5293.jpg', '5_IMG_5502.jpg', '4_IMG_5230.jpg', '1_IMG_4575.jpg', '3_IMG_6051.jpg', '1_IMG_4563.jpg', '2_IMG_4741.jpg', '4_IMG_5410.jpg', '5_IMG_5552.jpg', '2_IMG_4654.jpg', '1_IMG_4490.jpg', '5_IMG_5605.jpg', '5_IMG_5563.jpg', '1_IMG_4427.jpg', '5_IMG_5531.jpg', '2_IMG_4792.jpg', '2_IMG_4667.jpg', '0_IMG_5951.jpg', '5_IMG_5495.jpg', '4_IMG_5343.jpg', '1_IMG_4381.jpg', '1_IMG_4573.jpg', '1_IMG_4549.jpg', '5_IMG_5523.jpg', '5_IMG_5457.jpg', '4_IMG_5426.jpg', '2_IMG_4593.jpg', '3_IMG_6192.jpg', '0_IMG_6248.jpg', '1_IMG_4452.jpg', '4_IMG_5414.jpg', '5_IMG_5575.jpg', '5_IMG_5536.jpg', '2_IMG_4655.jpg', '2_IMG_4789.jpg', '4_IMG_5335.jpg', '5_IMG_5434.jpg', '3_IMG_6013.jpg', '3_IMG_6077.jpg', '4_IMG_5392.jpg', '1_IMG_4466.jpg', '3_IMG_6148.jpg', '5_IMG_5619.jpg', '2_IMG_4730.jpg', '5_IMG_5497.jpg', '0_IMG_5963 (1).jpg', '1_IMG_4556.jpg', '5_IMG_5437.jpg', '4_IMG_5228.jpg', '1_IMG_4579.jpg', '5_IMG_5579.jpg', '5_IMG_5449.jpg', '0_IMG_6273.jpg', '1_IMG_4404.jpg', '3_IMG_6084.jpg', '4_IMG_5301.jpg', '4_IMG_5409.jpg', '0_IMG_6236 (1).jpg', '3_IMG_6162.jpg', '0_IMG_5986.jpg', '2_IMG_4588.jpg', '1_IMG_4470.jpg', '2_IMG_4691.jpg', '1_IMG_4489.jpg', '2_IMG_4721.jpg', '1_IMG_4540.jpg', '4_IMG_5378.jpg', '1_IMG_4474.jpg', '2_IMG_4627.jpg', '3_IMG_6093.jpg', '0_IMG_5904.jpg', '0_IMG_5957 (1).jpg', '5_IMG_5588.jpg', '3_IMG_6139.jpg', '4_IMG_5325.jpg', '5_IMG_5460.jpg', '1_IMG_4550.jpg', '0_IMG_6257.jpg', '0_IMG_5952.jpg', '3_IMG_6044.jpg', '0_IMG_6264 (1).jpg', '3_IMG_6161.jpg', '4_IMG_5313.jpg', '5_IMG_5471.jpg', '2_IMG_4788.jpg', '1_IMG_4488.jpg', '1_IMG_4403.jpg', '2_IMG_4785.jpg', '0_IMG_6257 (1).jpg', '0_IMG_5970 (1).jpg', '3_IMG_6047.jpg', '1_IMG_4510.jpg', '4_IMG_5362.jpg', '1_IMG_4505.jpg', '0_IMG_5917.jpg', '0_IMG_5930.jpg', '0_IMG_5903.jpg', '0_IMG_6236.jpg', '5_IMG_5444.jpg', '4_IMG_5308.jpg', '4_IMG_5382.jpg', '3_IMG_6137.jpg', '4_IMG_5418.jpg', '0_IMG_5922.jpg', '1_IMG_4508.jpg', '3_IMG_6040.jpg', '3_IMG_6022.jpg', '3_IMG_6053.jpg', '4_IMG_5262.jpg', '3_IMG_6036.jpg', '1_IMG_4566.jpg', '1_IMG_4421.jpg', '4_IMG_5345.jpg', '5_IMG_5505.jpg', '5_IMG_5620.jpg', '4_IMG_5276.jpg', '2_IMG_4723.jpg', '2_IMG_4791.jpg', '4_IMG_5300.jpg', '0_IMG_6274.jpg', '5_IMG_5604.jpg', '2_IMG_4745.jpg', '0_IMG_6275 (1).jpg', '3_IMG_5995.jpg', '2_IMG_4678.jpg', '1_IMG_4425.jpg', '4_IMG_5299.jpg', '5_IMG_5587.jpg', '4_IMG_5225.jpg', '1_IMG_4459.jpg', '3_IMG_6173.jpg', '0_IMG_6253.jpg', '0_IMG_6272.jpg', '4_IMG_5427.jpg', '1_IMG_4576.jpg', '4_IMG_5386.jpg', '2_IMG_4764.jpg', '4_IMG_5398.jpg', '4_IMG_5402.jpg', '0_IMG_5959.jpg', '5_IMG_5578.jpg', '5_IMG_5475.jpg', '0_IMG_5974 (1).jpg', '2_IMG_4684.jpg', '1_IMG_4395.jpg', '1_IMG_4397.jpg', '0_IMG_5969 (1).jpg', '1_IMG_4383.jpg', '1_IMG_4409.jpg', '2_IMG_4778.jpg', '2_IMG_4692.jpg', '3_IMG_6138.jpg', '5_IMG_5481.jpg', '1_IMG_4422.jpg', '2_IMG_4601.jpg', '4_IMG_5323.jpg', '4_IMG_5249.jpg', '2_IMG_4608.jpg', '2_IMG_4665.jpg', '1_IMG_4492.jpg', '4_IMG_5243.jpg', '4_IMG_5430.jpg', '4_IMG_5419.jpg', '0_IMG_6279 (1).jpg', '3_IMG_6005.jpg', '5_IMG_5629.jpg', '3_IMG_6076.jpg', '0_IMG_6246.jpg', '5_IMG_5488.jpg']\n",
            "True\n"
          ],
          "name": "stdout"
        }
      ]
    },
    {
      "cell_type": "code",
      "metadata": {
        "id": "DpdpYMHoCZ9n"
      },
      "source": [
        "import os\n",
        "from PIL import Image\n",
        "from torch.utils.data import Dataset, DataLoader\n",
        "\n",
        "class SIGNSDataset(Dataset):\n",
        "  def __init__(self, base_dir, split = 'train', transform = None):\n",
        "    path = os.path.join(base_dir, '{}_signs'.format(split))\n",
        "    files = os.listdir(path)\n",
        "\n",
        "    self.filenames = [os.path.join(path, f) for f in files if f.endswith('.jpg')]\n",
        "\n",
        "    self.targets = [int(f[0]) for f in files if f.endswith('.jpg')]\n",
        "    self.transform = transform\n",
        "\n",
        "  def __len__(self):  # nos permitira hacer \"len(OBJETO)\"\n",
        "    return len(self.filenames)\n",
        "\n",
        "  def __getitem__(self, idx):  # poner haci la func nos permitira hacer \"OBJETO[0], etc\"\n",
        "    image = Image.open(self.filenames[idx])\n",
        "    if self.transform:\n",
        "      image = self.transform(image)\n",
        "    return image, self.targets[idx]"
      ],
      "execution_count": null,
      "outputs": []
    },
    {
      "cell_type": "code",
      "metadata": {
        "id": "Sx-z5gykGMoJ",
        "outputId": "641cb9b4-1424-462d-8105-885d4703836a",
        "colab": {
          "base_uri": "https://localhost:8080/",
          "height": 81
        }
      },
      "source": [
        "signs = SIGNSDataset(path_data,split='train')\n",
        "signs[0][0]  # se pone '[0][0]' porque [indice_de_imagenes][indice_de_tupla(imagen,target)]"
      ],
      "execution_count": null,
      "outputs": [
        {
          "output_type": "execute_result",
          "data": {
            "image/png": "[encoded data removed]",
            "text/plain": [
              "<PIL.JpegImagePlugin.JpegImageFile image mode=RGB size=64x64 at 0x7F8B7F9230F0>"
            ]
          },
          "metadata": {
            "tags": []
          },
          "execution_count": 10
        }
      ]
    },
    {
      "cell_type": "code",
      "metadata": {
        "id": "FTEGpX0LIDTp",
        "outputId": "48d10d0c-7068-482f-b14a-d18c53af5992",
        "colab": {
          "base_uri": "https://localhost:8080/",
          "height": 81
        }
      },
      "source": [
        "Image.open(signs.filenames[0])"
      ],
      "execution_count": null,
      "outputs": [
        {
          "output_type": "execute_result",
          "data": {
            "image/png": "[encoded data removed]",
            "text/plain": [
              "<PIL.JpegImagePlugin.JpegImageFile image mode=RGB size=64x64 at 0x7F8B7F922DD8>"
            ]
          },
          "metadata": {
            "tags": []
          },
          "execution_count": 11
        }
      ]
    },
    {
      "cell_type": "code",
      "metadata": {
        "id": "2eBR-O_sr2nz"
      },
      "source": [
        "import torchvision.transforms as transforms\n",
        "\n",
        "trainset = SIGNSDataset(path_data, split=\"train\", transform = transforms.ToTensor())\n",
        "dataloader = DataLoader(trainset, batch_size=32)   # crea un tensor de las imagenes en lotes de 32"
      ],
      "execution_count": null,
      "outputs": []
    },
    {
      "cell_type": "code",
      "metadata": {
        "id": "M15G6IBTsBpN",
        "outputId": "67717ec5-7635-4fbb-fa07-4a84add0548c",
        "colab": {
          "base_uri": "https://localhost:8080/"
        }
      },
      "source": [
        "from torchvision.utils import make_grid\n",
        "\n",
        "for inputs, targets in dataloader:\n",
        "  out = make_grid(inputs)\n",
        "  imshow(out)\n",
        "  print(targets)\n",
        "  break   # hacemos un break porque solo queremos ver el primer lote de los tantos que hay."
      ],
      "execution_count": null,
      "outputs": [
        {
          "output_type": "display_data",
          "data": {
            "image/png": "[encoded data removed]",
            "text/plain": [
              "<Figure size 432x288 with 1 Axes>"
            ]
          },
          "metadata": {
            "tags": [],
            "needs_background": "light"
          }
        },
        {
          "output_type": "stream",
          "text": [
            "tensor([1, 1, 2, 1, 3, 2, 0, 1, 4, 3, 2, 4, 1, 5, 5, 1, 1, 4, 4, 2, 3, 2, 1, 4,\n",
            "        3, 1, 0, 3, 5, 0, 5, 4])\n"
          ],
          "name": "stdout"
        }
      ]
    },
    {
      "cell_type": "markdown",
      "metadata": {
        "id": "3IX06a-QnGNF"
      },
      "source": [
        "## Como entrenar una RN"
      ]
    },
    {
      "cell_type": "code",
      "metadata": {
        "id": "sssiqOY3sgU5"
      },
      "source": [
        "import torch\n",
        "import torch.optim as optim"
      ],
      "execution_count": null,
      "outputs": []
    },
    {
      "cell_type": "code",
      "metadata": {
        "id": "sbgNSNyrw1Fc",
        "outputId": "2b4d2154-e953-4b07-97a7-07bd9e62f6b9",
        "colab": {
          "base_uri": "https://localhost:8080/",
          "height": 51
        }
      },
      "source": [
        "device = torch.device('cuda')\n",
        "print(torch.cuda.is_available())\n",
        "print(device)"
      ],
      "execution_count": null,
      "outputs": [
        {
          "output_type": "stream",
          "text": [
            "True\n",
            "cuda\n"
          ],
          "name": "stdout"
        }
      ]
    },
    {
      "cell_type": "code",
      "metadata": {
        "id": "fOXe7i1DxMyb"
      },
      "source": [
        "net = Net(32).to(device)\n",
        "\n",
        "loss_fn = nn.NLLLoss()\n",
        "optimizer = optim.SGD(net.parameters(), lr=1e-3, momentum = 0.9)"
      ],
      "execution_count": null,
      "outputs": []
    },
    {
      "cell_type": "code",
      "metadata": {
        "id": "qHEO3UEtyTN8"
      },
      "source": [
        "class RunningMetric():\n",
        "  def __init__(self):\n",
        "    self.S = 0\n",
        "    self.N = 0\n",
        "    \n",
        "  def update(self, val, size):\n",
        "    self.S += val\n",
        "    self.N += size\n",
        "    \n",
        "  def __call__(self):  # nos permitira \"OBJETO()\"\n",
        "    return self.S/float(self.N)"
      ],
      "execution_count": null,
      "outputs": []
    },
    {
      "cell_type": "code",
      "metadata": {
        "id": "kZ_RjWkMyx9i"
      },
      "source": [
        "num_epochs = 100"
      ],
      "execution_count": null,
      "outputs": []
    },
    {
      "cell_type": "code",
      "metadata": {
        "id": "GEU_41JdyyjT"
      },
      "source": [
        "for epoch in range(num_epochs):\n",
        "  print('Epoch {}/{}'.format(epoch+1, num_epochs))\n",
        "  print('(',end='')\n",
        "  \n",
        "  running_loss = RunningMetric() # perdida\n",
        "  running_acc = RunningMetric() #precision\n",
        "  \n",
        "  for inputs, targets in dataloader:\n",
        "    inputs, targets = inputs.to(device), targets.to(device)\n",
        "    optimizer.zero_grad()   # para volver a lo gradientes a '0', como se ya uso antes para un nuevo batch tendremos que reiniciarlo. \n",
        "    \n",
        "    outputs = net(inputs)\n",
        "    _, preds = torch.max(outputs,1) # el maximo del resultado de nuestra RN, (resultado_RN, cuantos maximos).\n",
        "    loss = loss_fn(outputs, targets)\n",
        "    \n",
        "    loss.backward() #magias: gradientes calculados automaticamente.\n",
        "    optimizer.step() #magia2: actualiza las perillas, pesos, o los parametros.\n",
        "    \n",
        "    batch_size = inputs.size()[0]\n",
        "    running_loss.update(loss.item()*batch_size,\n",
        "                       batch_size)\n",
        "    running_acc.update(torch.sum(preds == targets).float(),\n",
        "                       batch_size)\n",
        "    print('=',end='')\n",
        "  print(\") Loss: {:.4f} Acc: {:.4f} \\n\".format(running_loss(),\n",
        "                                          running_acc()))"
      ],
      "execution_count": null,
      "outputs": []
    },
    {
      "cell_type": "code",
      "metadata": {
        "id": "ChkmLLX85XNB"
      },
      "source": [
        "class aea:\n",
        "  def __init__(self,name):\n",
        "    self.name = name\n",
        "  def __call__(self,x):\n",
        "    return self.name*x\n",
        "\n",
        "cl = aea('alex')\n",
        "x = 3\n",
        "res = cl(x)\n",
        "res\n",
        "import torch\n",
        "torch.max(torch.tensor([[1,2,3,5,2,4],[6,4,2,1,7,4]]),1)"
      ],
      "execution_count": null,
      "outputs": []
    },
    {
      "cell_type": "markdown",
      "metadata": {
        "id": "P7BM6YJoA1_R"
      },
      "source": [
        "# 2. Como aprenden las redes neuronales"
      ]
    },
    {
      "cell_type": "markdown",
      "metadata": {
        "id": "Hp-tD3PbFHsO"
      },
      "source": [
        "## Intro CNN"
      ]
    },
    {
      "cell_type": "markdown",
      "metadata": {
        "id": "k6IHo6-AFJq4"
      },
      "source": [
        "![](https://static.platzi.com/media/user_upload/cnn-f4e9d2df-5cf8-4413-af76-cdc972716a12.jpg)\n",
        "![](https://static.platzi.com/media/user_upload/cnn_formula-6b2f92a3-f0d2-402e-b389-9ba578399c14.jpg)"
      ]
    },
    {
      "cell_type": "markdown",
      "metadata": {
        "id": "Uf2Kmkn2PyqF"
      },
      "source": [
        "* Una capa Convolucional es menos costosa que una fully connected(linear).\n",
        "* conectadas localmente.\n",
        "* comparten parametros."
      ]
    },
    {
      "cell_type": "markdown",
      "metadata": {
        "id": "y4Z-72KGMcmG"
      },
      "source": [
        "<h1>Espacio de Modelos</h1>\n",
        "\n",
        "* una arquitectura define diferentes modelos dependiendo de los parametros.\n",
        "\n",
        "* mientras más grande sea el espacio de modelos decimos que tiene más capacidad \n",
        "y mientras más capacidad más potencial de aprender, pero más dificil de enseñar.\n",
        "\n",
        "* quiere decir que mientras más clases de salida(1,2,3,4..; perro, gato, mono, ...; etc.) mejor es el modelo, pero más dificil a la hora de entrenar, o sea que buscar en un espacio grande puede ser muy lento y puede que no funcione.\n",
        "\n",
        "* recomendable, un modelo con un espacio grande para que la precision sea buena, pero suficientemente chico para que se pueda entrenar el modelo.\n"
      ]
    },
    {
      "cell_type": "markdown",
      "metadata": {
        "id": "d9Fkqhu-vWV7"
      },
      "source": [
        "## Functions (Loss and Activation)"
      ]
    },
    {
      "cell_type": "markdown",
      "metadata": {
        "id": "EY_shI4QzC-k"
      },
      "source": [
        "![](https://static.platzi.com/media/user_upload/T_problema-2439be9a-7e48-4864-aa4a-2613fef1e2c8.jpg)"
      ]
    },
    {
      "cell_type": "markdown",
      "metadata": {
        "id": "j1r01r_qzQ7f"
      },
      "source": [
        "* En el multi clase y multi label, predice varias etiquetas de varias clases ejemplo: Peliculas, Scary movie es una pelicula de terror y comedia.\n",
        "o esa es una $'persona', 'feliz', y 'brasil'$. "
      ]
    },
    {
      "cell_type": "markdown",
      "metadata": {
        "id": "ubyqDvJYoaYy"
      },
      "source": [
        "<h1> Funciones de Perdida</h1>\n",
        "\n",
        "[Pytorch Docs](https://pytorch.org/docs/stable/nn.html#loss-functions)\n",
        "\n",
        "* **nn.MSELoss:** Para un problema de regresión, Crea un criterio que mide el error cuadrático medio (norma L2 cuadrática) entre cada elemento de la entrada X y objetivo Y.\n",
        "\n",
        "* **nn.NLLLoss:** Para un problema de clasificación multiclase, La pérdida de probabilidad logarítmica negativa o The negative log likelihood loss.\n",
        "\n",
        "* **nn.BCELoss:** Para un problema de clasificación binaria, una única etiqueta y multiples clases, Crea un criterio que mide la entropía cruzada binaria entre el objetivo y la salida.\n",
        "\n",
        "* **nn.CrossEntropyLoss:** clasificación de multiples etiquetas y clases, Este criterio combina nn.LogSoftmax() y nn.NLLLoss() en una sola clase.\n",
        "\n",
        "* **Problema-Especifico:** Divergencia KL, donde lo que queremos predecir no es una clase sino una distribución de probabilidad, la que es para medir distribuciones de probabilidad.\n"
      ]
    },
    {
      "cell_type": "markdown",
      "metadata": {
        "id": "Oj8_12otvmW3"
      },
      "source": [
        "![](https://github.com/rb-one/Curso_RedesNeuronales_ScikitLearn/raw/master/Notes/src/hiper_parametros_5.png)"
      ]
    },
    {
      "cell_type": "markdown",
      "metadata": {
        "id": "kIERK44O4eGU"
      },
      "source": [
        "## Autograd and Methods of Optimization"
      ]
    },
    {
      "cell_type": "markdown",
      "metadata": {
        "id": "GEuLRorqH1rm"
      },
      "source": [
        "* **SGD:** la perdida es una suma sobre todo el dataset, eso es cósto de computo alto.\n",
        "* **Mini-Batch SGD:** rapido, osea menos costo eligiendo un batch aleatorio de la dataset para encontrar la perdida, pero puede bloquearse en mínimos locales.\n"
      ]
    },
    {
      "cell_type": "code",
      "metadata": {
        "id": "e7AV3cDD9pEa",
        "outputId": "87cf1641-dd4d-4020-a1a8-fa65add33781",
        "colab": {
          "base_uri": "https://localhost:8080/",
          "height": 34
        }
      },
      "source": [
        "import torch\n",
        "x = torch.Tensor(2)\n",
        "x.requies_grad = True  # permitira  que cuando se use el \"loss.backward()\" se aplique para ese tensor.\n",
        "x, x.requies_grad"
      ],
      "execution_count": null,
      "outputs": [
        {
          "output_type": "execute_result",
          "data": {
            "text/plain": [
              "(tensor([1.8160e-35, 0.0000e+00]), True)"
            ]
          },
          "metadata": {
            "tags": []
          },
          "execution_count": 1
        }
      ]
    },
    {
      "cell_type": "markdown",
      "metadata": {
        "id": "PGtQXa44HzQt"
      },
      "source": [
        "## Implementar la regularizacion de las redes neuronales"
      ]
    },
    {
      "cell_type": "markdown",
      "metadata": {
        "id": "1djs2d7IVWxG"
      },
      "source": [
        "**Fase de evaluación:**\n",
        "\n",
        "* Separemos la data aleatoriamente en Train(60%), Validation(20%), and Test(20%), Por qué Validation?, porque a la hora de entrenar el modelo utilizaremos la data de Test para evaluar y así ajustar los hiperparametros, varias veces segun los epochs y una ves nuestro modelo este entrenado la metrica de error final la cual evaluara a nuestro modelo no nos dira nada o tendra los mismos resultado que en la fase de entrenamiento, por eso separamos nuestra data en un set más 'Validation' la cual utilizaremos para evaluar la metrica de error en la fase de entrenamiento, y finalmente una vez ya entrenado nuestro modelo, lo evaluaremos con la data de 'Test' para ver el performance o rendimiento de nuestro modelo ya entrenado.\n",
        "\n",
        "* mientras más data tenga el set de Entrenamiento más puede aprender el modelo, en grandes datasets(1M) la separacion recomendada es Train(98%), Validation(1%), Test(1%).\n",
        "\n",
        "![](https://static.platzi.com/media/user_upload/UJO-3dd713cd-7a95-4fb3-9f5b-e6a3524eadef.jpg)"
      ]
    },
    {
      "cell_type": "markdown",
      "metadata": {
        "id": "oWSMojN_9Rk0"
      },
      "source": [
        "<h1>La receta para construir una RN de buena Performance:</h1>\n",
        "\n",
        "1. Construir un primer modelo simple que logre aprender sobre los datos.\n",
        "2. Este modelo probablemente a pesar de haber aprendido sea muy simple y tenga sesgo(Underfitting).\n",
        "3. Aumentamos la capacidad del modelo hasta Overfittearlo.\n",
        "4. Regulizar para encontrar el buen punto medio(JustRight) entre Underfitting y Overfitting.\n",
        "\n",
        "<h1>Cómo controlar la capacidad de mi modelo</h1>\n",
        "\n",
        "**Aumentar:**\n",
        "* Agregar capas.\n",
        "* Agregar cantidad de neuronas por cada.\n",
        "* Aumentar el numero de epochs.\n",
        "* Elegir un método de optimización más complejo (adaptividad, momentum, etc).\n",
        "\n",
        "**Disminuir:**\n",
        "* Entrenar con mayor cantidad de datos.\n",
        "* Utilizar técnicas de regularización."
      ]
    },
    {
      "cell_type": "markdown",
      "metadata": {
        "id": "60ZZ0P5H-tDh"
      },
      "source": [
        "<h1>regularizaciones</h1>\n",
        "\n",
        "* **L2** o decaimiento de los pesos, donde los errores altos seran elevado al cuadrado y penalizaran a sus respectivos pesos, y esto hara que decayga rapidamente el error del modelo.\n",
        "\n",
        "* **Dropout** o freeze random de las Neuronas de las capas intermedias, solo actúan durante la fase de entrenamiento, durante la fase de evaluacion dropout no tiene efecto, el probabilidad de aleatoriedad se definira en los hiperparametros, esto nos sirve para que las neuronas no dependan de otras neuronas vecinas.\n",
        "\n",
        "* **Batch Norm**: al igual que se normalizan los imputs, esta normalizara las capas intermedias de nuestra RN.\n",
        "* * calcula la media y varianza de cada batch de datos.\n",
        "* * Actualiza los datos restando la media y dividiendola por la (varianza más epsilo).\n",
        "* * despues de eso hacer la normalización, $f(x) = x * y + β $, que esa funcion lineal lo llevara a la imagen a una distribucion Gausseana.\n",
        "* * Por qué es eficiente Batch Norm?, porque usar batch norm hace que el entrenamiento sea más rapido, porque de muchos minimos y maximos locales con batch norm hace que de una cordillera tan dificil de performance se convierta en un monte que es más plano y más rapido a la hora del entrenamiento de nuestra RN.\n",
        "![](https://static.platzi.com/media/user_upload/Barttchhnorm-4fbb5965-cd04-40cb-8e06-84e5759c8148.jpg)\n",
        "\n",
        "* **Data Augmentation:** con el fin de aumentar nuestra data para haci disminuir la capacidad de nuestro modelo y estar en un JustRight, imaginemos que utilizamos una imagen del data set la cual le aplicaremos pequeñas transformaciones como rotar, filtros, zoon, etc. la cual para nuestra red estos representaran tensores completamente distintos a la imagen orginal y para así tener un dataset más extenso.\n",
        "![](https://static.platzi.com/media/user_upload/BN-c4b0ddec-a071-4c92-a76b-b176da88515b.jpg)\n"
      ]
    },
    {
      "cell_type": "code",
      "metadata": {
        "id": "ePnAYbV8xwCN",
        "outputId": "fb480171-f4d7-41b5-87a7-6ef7081657b6",
        "colab": {
          "base_uri": "https://localhost:8080/",
          "height": 34
        }
      },
      "source": [
        "from google.colab import drive\n",
        "drive.mount('/content/drive')"
      ],
      "execution_count": null,
      "outputs": [
        {
          "output_type": "stream",
          "text": [
            "Mounted at /content/drive\n"
          ],
          "name": "stdout"
        }
      ]
    },
    {
      "cell_type": "code",
      "metadata": {
        "id": "1K__IOXWyMd9"
      },
      "source": [
        "import torch\n",
        "import torchvision.transforms as transforms\n",
        "\n",
        "path_data = '/content/drive/My Drive/data/dl-pytorch/datasets/64x64_SIGNS'\n",
        "\n",
        "transform = transforms.Compose(  # .Compose: compone varias transformacion juntas.\n",
        "  [\n",
        "   transforms.RandomHorizontalFlip(), # data augmentation, aleatoriamente gira la imagen horizontalmente.\n",
        "   transforms.ToTensor(),  # convierte una PIL Image o numpy.ndarray a un Tensor flotante.\n",
        "   transforms.Normalize((0.5,0.5,0.5), (0.5,0.5,0.5))  # normalización por defectuo de inputs.\n",
        "  ]\n",
        ")"
      ],
      "execution_count": null,
      "outputs": []
    },
    {
      "cell_type": "code",
      "metadata": {
        "id": "q0Qynae3yt0c"
      },
      "source": [
        "trainset = SIGNSDataset(path_data, split=\"train\", transform = transform)\n",
        "trainloader = DataLoader(trainset,batch_size=32)"
      ],
      "execution_count": null,
      "outputs": []
    },
    {
      "cell_type": "code",
      "metadata": {
        "id": "aM5NL4Xby_sx"
      },
      "source": [
        "valset = SIGNSDataset(path_data, split=\"val\", transform = transform)\n",
        "valloader = DataLoader(trainset,batch_size=32)"
      ],
      "execution_count": null,
      "outputs": []
    },
    {
      "cell_type": "code",
      "metadata": {
        "id": "rIC2mYHozF6_"
      },
      "source": [
        "testset = SIGNSDataset(path_data, split=\"test\", transform = transform)\n",
        "testloader = DataLoader(trainset,batch_size=32)"
      ],
      "execution_count": null,
      "outputs": []
    },
    {
      "cell_type": "code",
      "metadata": {
        "id": "evt8VJQszKDd"
      },
      "source": [
        "dataloaders = {'train':trainloader,\n",
        "              'val':valloader,\n",
        "              'test':testloader}"
      ],
      "execution_count": null,
      "outputs": []
    },
    {
      "cell_type": "code",
      "metadata": {
        "id": "c9oZO970z4m7"
      },
      "source": [
        "import torch\n",
        "import torch.nn as nn\n",
        "import torch.nn.functional as F #capas sin parametros\n",
        "\n",
        "class Net(nn.Module):\n",
        "  def __init__(self, num_channels):\n",
        "    super(Net,self).__init__()\n",
        "    \n",
        "    self.num_channels = num_channels\n",
        "    \n",
        "    self.conv1 = nn.Conv2d(3, self.num_channels, 3, stride = 1, padding = 1)\n",
        "    self.bn1 = nn.BatchNorm2d(self.num_channels)\n",
        "    self.conv2 = nn.Conv2d(self.num_channels, self.num_channels*2, 3, stride = 1, padding = 1)\n",
        "    self.bn2 = nn.BatchNorm2d(self.num_channels*2)\n",
        "    self.conv3 = nn.Conv2d(self.num_channels*2, self.num_channels*4, 3, stride = 1, padding = 1)\n",
        "    self.bn3 = nn.BatchNorm2d(self.num_channels*4)\n",
        "    \n",
        "    self.fc1 = nn.Linear(self.num_channels*4*8*8, self.num_channels*4)\n",
        "    self.fcbn1 = nn.BatchNorm1d(self.num_channels*4)  # '1D' porque ya se aplano el tensor en x.view().\n",
        "    self.fc2 = nn.Linear(self.num_channels*4, 6)\n",
        "    \n",
        "  def forward(self,x):\n",
        "    #Empieza 3x64x64\n",
        "    x = self.bn1(self.conv1(x)) # num_channels x 64 x 64\n",
        "    x = F.relu(F.max_pool2d(x, 2)) # num_channels x 32 x 32\n",
        "    x = self.bn2(self.conv2(x)) # num_channels*2 x 32 x32\n",
        "    x = F.relu(F.max_pool2d(x, 2)) #num_channels*2 x 16 x 16\n",
        "    x = self.bn3(self.conv3(x)) # num_channels*4 x16x16\n",
        "    x = F.relu(F.max_pool2d(x, 2)) # num_channels*4 x 8 x 8\n",
        "\n",
        "    #flatten\n",
        "    x = x.view(-1, self.num_channels*4*8*8) # aplanamiento de de los tensores\n",
        "\n",
        "    #fc\n",
        "    x = F.relu(self.fcbn1(self.fc1(x)))\n",
        "    x = F.dropout(x, p = 0.5, training=True) # (x, drop out light, aplicar en entrenamiento por defectuo True)\n",
        "    x = self.fc2(x)\n",
        "\n",
        "    #log_softmax\n",
        "\n",
        "    x = F.log_softmax(x, dim=1)\n",
        "\n",
        "    return x     "
      ],
      "execution_count": null,
      "outputs": []
    },
    {
      "cell_type": "markdown",
      "metadata": {
        "id": "JTRfBqeyC-CT"
      },
      "source": [
        "## Optimizacion de hiperparametros"
      ]
    },
    {
      "cell_type": "markdown",
      "metadata": {
        "id": "n8D0ExfVQ73U"
      },
      "source": [
        "<h1>Hiperparametros Importantes de DL</h1>\n",
        "\n",
        "* Learning Rate (LR).\n",
        "* Momentum.\n",
        "* Mini-Batch size.\n",
        "* Neuronas en cada Layer.\n",
        "* Cantidad de Layers.\n",
        "\n",
        "<h1>Metodos de Optimización</h1>\n",
        "\n",
        "* **BabySitting(Panda):** conocido tambien como **Student Gradient Descent** XD, donde el estudiante prueba diferentes parametros esperando el resultado y así varias veces, no es robusto a empresas o papers.\n",
        "\n",
        "* **Grid Search:** aplicado en el ML tradicional, donde se establecen ciertos hiperparametros y nuestro modelo va probando diferentes combinaciones hasta encontrar la más optima para nuestro modelo.\n",
        "\n",
        "```\n",
        "params = {'kernel' :  ['linear', 'poly', 'rbf'],\n",
        "            'gamma' : ['auto', 'scale'],\n",
        "            'C' : [1,5,10]}\n",
        "\n",
        "```\n",
        "* **Random Search:** el DL tiene muchos más parametros que el ML, Random Search al igual que el el Grid Search, definira ciertos parametros a probar, pero estos no seran definidos como en Grid Search, sino estaran definidos en un rango los cuales seran tomados aleatoriamente, por eso Random Search es más eficiente para DL.\n",
        "* * **LR:** Escala Logaritmica (10e-3, 10e-2, etc).\n",
        "* * **Batch_size:** potencias de 2 (2e5, 2e6, 2e7, etc).\n",
        "* * por coste computacional lo recomendable es optimizar 1 o 2 hiperparametros.\n",
        "\n",
        "```\n",
        "parametros = {\n",
        "  'n_estimators' : range(4,16),\n",
        "  'criterion' : ['mse', 'mae'],\n",
        "  'max_depth' : range(2,11)}\n",
        "```\n",
        "\n",
        "![](https://i.stack.imgur.com/cIDuR.png)"
      ]
    },
    {
      "cell_type": "code",
      "metadata": {
        "id": "PvrH3ytqeIM4"
      },
      "source": [
        "net = Net(32).to(device)\n",
        "\n",
        "loss_fn = nn.NLLLoss()\n",
        "optimizer = optim.SGD(net.parameters(), lr=1e-3, momentum = 0.9)"
      ],
      "execution_count": null,
      "outputs": []
    },
    {
      "cell_type": "code",
      "metadata": {
        "id": "f8dPhwXAcf6n"
      },
      "source": [
        "def train_and_evaluate(model, optimizer, loss_fn, dataloaders, device, num_epochs = 10, lr = 0.001):\n",
        "  for g in optimizer.param_groups:\n",
        "    g['lr'] = lr\n",
        "    \n",
        "  for epoch in range(num_epochs):\n",
        "    print('Epoch {}/{}'.format(epoch+1, num_epochs))\n",
        "    print('-'*10)\n",
        "    \n",
        "    for phase in ['train','val']:\n",
        "      if phase == 'train':\n",
        "        model.train()\n",
        "      else:\n",
        "        model.eval()\n",
        "\n",
        "      running_loss = RunningMetric() # perdida\n",
        "      running_acc = RunningMetric() # precision\n",
        "\n",
        "      for inputs, targets in dataloaders[phase]:\n",
        "        inputs, targets = inputs.to(device), targets.to(device)\n",
        "        optimizer.zero_grad()\n",
        "        with torch.set_grad_enabled(phase == 'train'):\n",
        "          outputs = net(inputs)\n",
        "          _, preds = torch.max(outputs,1)\n",
        "          loss = loss_fn(outputs, targets)\n",
        "          if phase == 'train':\n",
        "            loss.backward() #magias: gradientes calculados automaticamente\n",
        "            optimizer.step() #magia2: actualiza las perillas o los parametros\n",
        "\n",
        "        batch_size = inputs.size()[0]\n",
        "        running_loss.update(loss.item()*batch_size,\n",
        "                           batch_size)\n",
        "        running_acc.update(torch.sum(preds == targets).float(),\n",
        "                           batch_size)\n",
        "      print(\"Loss: {:.4f} Acc: {:.4f} \".format(running_loss(),\n",
        "                                              running_acc()))\n",
        "  return model, running_loss(), running_acc()"
      ],
      "execution_count": null,
      "outputs": []
    },
    {
      "cell_type": "code",
      "metadata": {
        "id": "K2dz2r_NcjFU"
      },
      "source": [
        "import random\n",
        "\n",
        "lrs = [10**(-random.randint(3,7)) for _ in range(3)]"
      ],
      "execution_count": null,
      "outputs": []
    },
    {
      "cell_type": "code",
      "metadata": {
        "id": "TaNJYxlxckiX",
        "outputId": "ada46ef6-8d5c-4235-e52c-43baa02f05dd",
        "colab": {
          "base_uri": "https://localhost:8080/",
          "height": 1000
        }
      },
      "source": [
        "respuesta = {}\n",
        "for lr in lrs:\n",
        "  _, loss_m, acc_m = train_and_evaluate(net,optimizer,loss_fn,dataloaders, device, 10, lr)\n",
        "  respuesta[lr] = [loss_m, acc_m]\n",
        "print('\\n',respuesta)"
      ],
      "execution_count": null,
      "outputs": [
        {
          "output_type": "stream",
          "text": [
            "Epoch 1/10\n",
            "----------\n",
            "Loss: 1.9450 Acc: 0.1586 \n",
            "Loss: 1.8679 Acc: 0.1655 \n",
            "Epoch 2/10\n",
            "----------\n",
            "Loss: 1.9348 Acc: 0.1713 \n",
            "Loss: 1.9195 Acc: 0.1609 \n",
            "Epoch 3/10\n",
            "----------\n",
            "Loss: 1.9236 Acc: 0.1574 \n",
            "Loss: 1.9291 Acc: 0.1713 \n",
            "Epoch 4/10\n",
            "----------\n",
            "Loss: 1.9386 Acc: 0.1690 \n",
            "Loss: 1.8932 Acc: 0.1956 \n",
            "Epoch 5/10\n",
            "----------\n",
            "Loss: 1.9091 Acc: 0.1551 \n",
            "Loss: 1.9079 Acc: 0.1748 \n",
            "Epoch 6/10\n",
            "----------\n",
            "Loss: 1.9241 Acc: 0.1528 \n",
            "Loss: 1.9006 Acc: 0.1562 \n",
            "Epoch 7/10\n",
            "----------\n",
            "Loss: 1.8957 Acc: 0.1782 \n",
            "Loss: 1.8974 Acc: 0.1713 \n",
            "Epoch 8/10\n",
            "----------\n",
            "Loss: 1.8935 Acc: 0.1736 \n",
            "Loss: 1.8973 Acc: 0.1736 \n",
            "Epoch 9/10\n",
            "----------\n",
            "Loss: 1.8686 Acc: 0.1725 \n",
            "Loss: 1.8665 Acc: 0.2037 \n",
            "Epoch 10/10\n",
            "----------\n",
            "Loss: 1.8726 Acc: 0.2025 \n",
            "Loss: 1.8487 Acc: 0.2014 \n",
            "Epoch 1/10\n",
            "----------\n",
            "Loss: 1.8530 Acc: 0.1956 \n",
            "Loss: 1.7819 Acc: 0.2361 \n",
            "Epoch 2/10\n",
            "----------\n",
            "Loss: 1.7720 Acc: 0.2407 \n",
            "Loss: 1.7124 Acc: 0.2917 \n",
            "Epoch 3/10\n",
            "----------\n",
            "Loss: 1.7151 Acc: 0.2940 \n",
            "Loss: 1.6445 Acc: 0.3113 \n",
            "Epoch 4/10\n",
            "----------\n",
            "Loss: 1.6723 Acc: 0.3032 \n",
            "Loss: 1.5715 Acc: 0.3692 \n",
            "Epoch 5/10\n",
            "----------\n",
            "Loss: 1.5858 Acc: 0.3403 \n",
            "Loss: 1.5849 Acc: 0.3681 \n",
            "Epoch 6/10\n",
            "----------\n",
            "Loss: 1.5592 Acc: 0.3785 \n",
            "Loss: 1.5344 Acc: 0.4132 \n",
            "Epoch 7/10\n",
            "----------\n",
            "Loss: 1.5332 Acc: 0.3935 \n",
            "Loss: 1.5154 Acc: 0.3900 \n",
            "Epoch 8/10\n",
            "----------\n",
            "Loss: 1.5149 Acc: 0.3912 \n",
            "Loss: 1.4579 Acc: 0.4549 \n",
            "Epoch 9/10\n",
            "----------\n",
            "Loss: 1.4514 Acc: 0.4514 \n",
            "Loss: 1.4285 Acc: 0.4618 \n",
            "Epoch 10/10\n",
            "----------\n",
            "Loss: 1.4366 Acc: 0.4248 \n",
            "Loss: 1.3879 Acc: 0.5150 \n",
            "Epoch 1/10\n",
            "----------\n",
            "Loss: 1.4494 Acc: 0.4421 \n",
            "Loss: 1.4175 Acc: 0.4757 \n",
            "Epoch 2/10\n",
            "----------\n",
            "Loss: 1.4369 Acc: 0.4444 \n",
            "Loss: 1.4156 Acc: 0.4745 \n",
            "Epoch 3/10\n",
            "----------\n",
            "Loss: 1.4289 Acc: 0.4387 \n",
            "Loss: 1.4040 Acc: 0.4769 \n",
            "Epoch 4/10\n",
            "----------\n",
            "Loss: 1.4261 Acc: 0.4792 \n",
            "Loss: 1.3873 Acc: 0.4850 \n",
            "Epoch 5/10\n",
            "----------\n",
            "Loss: 1.4091 Acc: 0.4653 \n",
            "Loss: 1.3870 Acc: 0.4907 \n",
            "Epoch 6/10\n",
            "----------\n",
            "Loss: 1.4370 Acc: 0.4560 \n",
            "Loss: 1.4047 Acc: 0.4745 \n",
            "Epoch 7/10\n",
            "----------\n",
            "Loss: 1.4223 Acc: 0.4572 \n",
            "Loss: 1.4147 Acc: 0.4699 \n",
            "Epoch 8/10\n",
            "----------\n",
            "Loss: 1.4119 Acc: 0.4757 \n",
            "Loss: 1.4170 Acc: 0.4664 \n",
            "Epoch 9/10\n",
            "----------\n",
            "Loss: 1.4270 Acc: 0.4688 \n",
            "Loss: 1.4086 Acc: 0.4676 \n",
            "Epoch 10/10\n",
            "----------\n",
            "Loss: 1.4357 Acc: 0.4572 \n",
            "Loss: 1.3992 Acc: 0.4699 \n",
            "\n",
            " {1e-06: [1.8486544776845861, tensor(0.2014, device='cuda:0')], 1e-05: [1.3879421242961176, tensor(0.5150, device='cuda:0')], 1e-07: [1.3991976888091475, tensor(0.4699, device='cuda:0')]}\n"
          ],
          "name": "stdout"
        }
      ]
    },
    {
      "cell_type": "markdown",
      "metadata": {
        "id": "7YPUIgFfyk57"
      },
      "source": [
        "Primero veamos que tipo de metodos llama cada bloque de codigo:\n",
        "El if permite setear el model en modo en entrenamiento o test con train y eval.\n",
        "\n",
        "El with ocupa el metodo torch.set_grad_enabled.\n",
        "\n",
        "Ambos metodos cumplen roles distintos.\n",
        "\n",
        "Por un lado .train() y .eval() cambian el comportamiento de ciertas capas. Hay capas que no tienen que hacer lo mismo en entrenamiento vs evaluacion. El caso mas iconico es el de dropout. Para entrenar con dropout quieres simular como si tuvieras menos neuronas en la red, eligiendo aleatoriamiente ciertas neuronas que “apagar”. Esto permite regularizar la red (bajar la complejidad para evitar overfitting). Por otro lado una vez que la red ya fue entrenada, hay que utilizar la red completo y por lo tanto ya la capa de dropout no tiene que “apagar” neuronas pero realizar sus calculos de manera completa.\n",
        "\n",
        "Por otro lado set_grad_enabled permite controlar si se calculan o no los grafos necesarios para hacer la backpropagation (asi mismo como cuando vimos con tensores que podiamos activar o desactivar los gradientes para los tensores). En tiempo de evaluacion no haremos una backpropagation por la tanto estos computos no son necesarios y podemos acelerar todo el proceso de computo si no realizamos el calculo de estos grafos.\n",
        "\n",
        "En conclusion el if y el with llaman metodos que cumplen roles distintos y que son importantes de entender de manera independiente (train()/eval() vs set_grad_enabled())\n",
        "\n",
        "Hay algunas buenas referencias sobre esto en el foro de pytorch que por lo demas es muy recomendable para cualquier duda que tengas.\n",
        "\n",
        "[link foro Pytorch](https://discuss.pytorch.org/t/confused-about-set-grad-enabled/38417)\n",
        "\n"
      ]
    },
    {
      "cell_type": "markdown",
      "metadata": {
        "id": "FIdmx1HRwmJ1"
      },
      "source": [
        "## Transfer learning"
      ]
    },
    {
      "cell_type": "markdown",
      "metadata": {
        "id": "QjwazLrlXmt8"
      },
      "source": [
        "<h1>Extracción de Features</h1>\n",
        "\n",
        "Una primera forma de ver el transfer learning es considerar los valores de las neuronas de las capas interiores de la red son features. En particular nos interesamos en la penúltima capa de una red profunda ya entrenada:\n",
        "\n",
        "* Estas features al haber sido calculadas por el entrenamiento con gradiente en datasets públicos de gran tamaño como ImageNet contienen mucha información.\n",
        "* Vamos a utilizar la red neuronal solo como preprocesamiento para obtener las features de la penúltima capa.\n",
        "* La idea inteligente es construir por sobre estas features un clasificador tradicional (por ende no profundo) y entrenar este con nuestro dataset.\n",
        "\n",
        "\n",
        "Recuerden que dijimos que casi siempre la última capa de una red neuronal profunda es una capa lineal -a.k.a fully connected- así que para realizar nuestro propósito nos bastaría con botar esta capa y añadir un clasificador por encima.\n",
        "\n",
        "\n",
        "Los clasificadores tradicionales pueden ser: regresión logística, clasificación lineal, SVM, clasificadores basados en árboles, etc.\n",
        "\n",
        "\n",
        "Las redes profundas pre-entrenadas ya son la mayoría muy complejas, y por lo tanto sus features son muy expresivas. Una solución simple pero eficaz es agregar una capa lineal al final de la red, es decir realizar una clasificación lineal simple por sobre las features.\n",
        "\n",
        "\n",
        "Veamos esto en código.\n",
        "\n",
        "\n",
        "1. Cargo el modelo pre-entrenado\n",
        "\n",
        "\n",
        "```\n",
        "from torchvision import models\n",
        "vgg = models.vgg16(pretrained=True)\n",
        "vgg = vgg.to(device)\n",
        "\n",
        "```\n",
        "\n",
        "2. Deshabilito el gradiente de todos los parametros de la red\n",
        "\n",
        "```\n",
        "for param in vgg.parameters():\n",
        "  param.requires_grad = False\n",
        "\n",
        "```\n",
        "\n",
        "Esto se hace porque no queremos seguir cambiando los valores de los parametros. La red ya tiene una buena combinación de valores para calcular features, y el entrenamiento lo realizaremos únicamente en la capa adicional que agregaremos.\n",
        "\n",
        "3. Extraemos la última capa de la red\n",
        "\n",
        "VGG fue construida usando nn.Sequential. Esto quiere decir que la “ultima capa” en realidad son muchas capas juntas. Por esto deberemos llamar dos veces el metódo children para acceder a la última capa lineal.\n",
        "\n",
        "```\n",
        "last_sequential_layer = list(vgg.children())[-1]\n",
        "*list_of_layers, last_layer = list(last_sequential_layer.children())\n",
        "in_features = last_layer.in_features\n",
        "\n",
        "```\n",
        "\n",
        "Para mantener orden dejo en el mismo atributo classifier todas las últimas capas que iban en nn.Sequential, menos evidentemente la última, más la capa nueva lineal que si quiero entrenar y que por lo tanto le habilito el gradiente.\n",
        "\n",
        "```\n",
        "vgg.fc = nn.Linear(in_features,6)\n",
        "vgg.fc.requires_grad = True\n",
        "vgg.classifier = nn.Sequential(*(list_of_layers+[vgg.fc]))\n",
        "\n",
        "```\n",
        "\n",
        "**Transfer Learning**\n",
        "\n",
        "El transfer learning consiste basicamente en inicializar los parametros de una red con buenos valores iniciales, extraidos del entrenamiento de la red sobre un dataset publico.\n",
        "\n",
        "Existen 4 formas de hacer transfer learning y estas dependen directamente del dominio y el tamano del dataset de imagenes.\n",
        "\n",
        "4. Lanzo el entrenamiento\n",
        "\n",
        "Un pequeño consejo. En general las redes pre-entrenadas fueron entrenadas con datasets que tenían cierta media y desviación estándar. Es recomendable usar esa media y varianza en el pipeline de preprocesamiento.\n",
        "\n",
        "```\n",
        "transform = transforms.Compose(\n",
        "  [transforms.RandomHorizontalFlip(), #data augmentation\n",
        "   transforms.ToTensor(),\n",
        "   transforms.Normalize([0.485, 0.456, 0.406], [0.229, 0.224, 0.225])    \n",
        "  ]\n",
        ")\n",
        "\n",
        "trainset = SIGNSDataset('/gdrive/My Drive/dl-pytorch/datasets/64x64_SIGNS', split=\"train\", transform = transform)\n",
        "trainloader = DataLoader(trainset,batch_size=32)\n",
        "\n",
        "valset = SIGNSDataset('/gdrive/My Drive/dl-pytorch/datasets/64x64_SIGNS', split=\"val\", transform = transform)\n",
        "valloader = DataLoader(trainset,batch_size=32)\n",
        "\n",
        "testset = SIGNSDataset('/gdrive/My Drive/dl-pytorch/datasets/64x64_SIGNS', split=\"test\", transform = transform)\n",
        "testloader = DataLoader(trainset,batch_size=32)\n",
        "\n",
        "dataloaders = {'train':trainloader,\n",
        "              'val':valloader,\n",
        "              'test':testloader}\n",
        "\n",
        "```\n",
        "\n",
        "Ocupamos la función train_and_evaluate que ya construimos y que nos facilita la vida:\n",
        "\n",
        "```\n",
        "loss_fn = nn.NLLLoss()\n",
        "optimizer = optim.SGD(net.parameters(), lr=1e-3, momentum = 0.9)\n",
        "\n",
        "train_and_evaluate(vgg, optimizer, loss_fn, dataloaders, device, num_epochs = 100)\n",
        "```"
      ]
    },
    {
      "cell_type": "markdown",
      "metadata": {
        "id": "_Q1tUjc2ZInx"
      },
      "source": [
        "<h1>Inicialización de parámetros</h1>\n",
        "\n",
        "Una forma más general de ver el Transfer Learning es entenderlo cómo una forma de inicializar los parámetros de manera inteligente (weight initialization).\n",
        "\n",
        "Existen más formas de inicializar estos parámetros, como una inicialización random, o la Xavier initialization. Sin embargo el transfer learning es por lejos la inicialización más potente ya que los parámetros de una red profunda contienen información muy valiosa. En el paper siguiente podemos entender más de esto y ver que:\n",
        "\n",
        "* En una red convolucional los parámetros vistos en su conjunto (parámetros de un mismo canal) pueden ser entendidos como un filtro. Así es cómo los filtros que conoces y transforman el look de una imagen.\n",
        "* Los filtros de las primeras capas en una red profunda realizan acciones muy generales: pueden extraer colores, texturas y bordes.\n",
        "* Los filtros de las capas más profundas están muy ligados al dominio del cual provienen las fotos y ya son más específico y por lo tanto menos abstractos que los primeros filtros. Por ejemplo en el caso de un dataset de caras, los filtros van a reconocer conceptos ligados a una cara como narices, ojos, orejas, etc. Estos filtros se dice que son específicos al dominio de caras, que claramente sería menos útil para reconocer autos por ejemplo.\n",
        "\n",
        "\n",
        "La técnica que utilizamos anteriormente (extracción de features) corresponde a un caso particular de Transfer Learning. Este se ocupa por ejemplo cuando el dataset que tienes es pequeño (el nuestro tiene algunos miles de imagenes), o cuando el dominio de tu dataset es muy distinto al que se utilizó para entrenar la red.\n",
        "\n",
        "En total hay 4 casos a considerar para el Transfer Learning:\n",
        "\n",
        "Tamaño del dataset\t|     Dominio\t  ||    Transferencia\n",
        "\n",
        "Pequeño\t|Similar\tRemplazar capa final. || Sólo entrenar última capa.\n",
        "\n",
        "Grande\t|Similar\tRemplazar capa final. ||Entrenar toda la red.\n",
        "\n",
        "Pequeño\t|Diferente\tBotar múltiples capas finales y poner capa adicional únicamente sobre una capa que tenga features no espécificas al dominio. ||Sólo entrenar última capa.\n",
        "\n",
        "Grande\t|Diferente\tRemplazar capa final. ||Entrenar toda la red."
      ]
    },
    {
      "cell_type": "markdown",
      "metadata": {
        "id": "9C29Tbc1tSJp"
      },
      "source": [
        "# 3. Proyecto: CycleGAN"
      ]
    },
    {
      "cell_type": "markdown",
      "metadata": {
        "id": "D_JIBPa4hxtO"
      },
      "source": [
        "## Introduction"
      ]
    },
    {
      "cell_type": "markdown",
      "metadata": {
        "id": "zltCHf9Sh1NM"
      },
      "source": [
        "[Video de explicacion de las GAN´s](https://drive.google.com/file/d/1apFEm70BPCWZ7eXI-1pjL19S1-BYGaTY/view?usp=sharing)\n",
        "\n",
        "Ejemplo: Donde para entrar a un evento se necesita una pulzera de entrada, para eso el Discriminador sera el Guardia de la entrada y el Generador será nuestro amigo que quiere piratear la entrada.\n",
        "\n",
        "* el Guardia viendo como es la pulzera del evento(Real Data) ya sabe como es para así idenficar si una es Real o Fake.\n",
        "\n",
        "* nuestro amigo intentara recrear una pulzera igual a la del evento y cada vez que el Guardia le diga que es falsa, nuestro amigo tratara de corregir(BackPropagation) su intento de pulzera hasta lograr engañar al Guardia.\n",
        "\n",
        "![](https://static.platzi.com/media/user_upload/GAN_colom-10ddd654-5416-4a2d-a494-8acc89b427b5.jpg)\n",
        "\n",
        "**Pasos para una GAN(Generative Adversarial Network)**\n",
        "\n",
        "* Entrenamos al discriminador.\n",
        "* Congelamos sus coeficientes.\n",
        "* Entrenar generador.\n",
        "* Descongelar los coeficientes del discriminador."
      ]
    },
    {
      "cell_type": "markdown",
      "metadata": {
        "id": "1ZwbvCpTIJy5"
      },
      "source": [
        "<h1>Perdidas de Gans</h1>\n",
        "\n",
        "* **Discriminator Network:**  Entropia cruzada cuando la red debería/rechazar.\n",
        "\n",
        "$ L_D $ ~ $ - log(D(x)) + - log(1 - D(G(z)))$\n",
        "\n",
        "* **Generative Network:** inversa de la discriminativa(juego a suma nula).\n",
        "\n",
        "$ L_G $ ~ $ C + log(1 - D(G(z)))$  // no usaremos esta porque se descrubiro en papers que es dificil de optimizar\n",
        "\n",
        "$Or$\n",
        "\n",
        "$ - log(D(G(z)))$\n",
        "\n",
        "* * practicamente lo que hace es en vez de rechazar a la red generativa, esta hara que la red discriminativa sea más tonta o algo así(una aumenta y otra disminuye)."
      ]
    },
    {
      "cell_type": "markdown",
      "metadata": {
        "id": "paz51oKnUQjx"
      },
      "source": [
        "<h1>DCGAN (Deep Convolutional Generative Adversarial Network):</h1>\n",
        "\n",
        "Recomendaciones de Papers:\n",
        "\n",
        "* No tener Pooling Layers.\n",
        "* Recomendable usar Batch Norma en ambas Redes, tambien Instant Norm es recomendable.\n",
        "* Instant Norm es mejor para GANs, porque trabaja mejor con el contraste, pero Batch Norm sigue siendo superior en Normalización, así que usar Instant Norm tiene un buen compromiso en mejor contraste y buena regularización.\n",
        "* Usar la funcion de activación LeakyReLU(agugero ReLU) para todos los layers del Discriminador.\n",
        "* No usar capas ocultas Fully Connected para la arquitectura.\n",
        "* Usar ReLU Activacion para todas las capas de la red Generativa exceptuo para nuestro output la cual será TanH."
      ]
    },
    {
      "cell_type": "markdown",
      "metadata": {
        "id": "9-VjiGSNY7xO"
      },
      "source": [
        "<h1>Perdida de CycleGAN</h1>\n",
        "\n",
        "* **Perdida de las 2 GANs:**\n",
        "* * Con MSE en vez de cross-entropy.\n",
        "* **Perdida Cíclica:**\n",
        "* * Distancia del ciclo original(norma L1). lo que se evalua aquí es como de la imagen original transformada mediante la red generativa la convertimos denuevo a su estado original,  o sea de \"x\" a -> \"y\" y de \"y\" a -> \"x\". Sera penalizada  según que tanto cambio.\n",
        "* **Perdida por identidad:**\n",
        "* * Esta es por el color (norma L1), la cual al volver debe tener el mismo color, en base a eso se penalizara."
      ]
    },
    {
      "cell_type": "markdown",
      "metadata": {
        "id": "la4V5zue6yJM"
      },
      "source": [
        "## Definiendo la red genedora (Residual Blocks)"
      ]
    },
    {
      "cell_type": "code",
      "metadata": {
        "id": "8fl2JMe-ltIk",
        "outputId": "c59b8ecb-d981-4048-93ee-33a9dc43ee56",
        "colab": {
          "base_uri": "https://localhost:8080/",
          "height": 34
        }
      },
      "source": [
        "from google.colab import drive\n",
        "drive.mount('/content/drive')"
      ],
      "execution_count": null,
      "outputs": [
        {
          "output_type": "stream",
          "text": [
            "Mounted at /content/drive\n"
          ],
          "name": "stdout"
        }
      ]
    },
    {
      "cell_type": "code",
      "metadata": {
        "id": "t3yrw0KzmGfr",
        "outputId": "f2495d68-53e4-487f-de04-5022ad5b2373",
        "colab": {
          "base_uri": "https://localhost:8080/",
          "height": 34
        }
      },
      "source": [
        "%cd '/content/drive/My Drive'"
      ],
      "execution_count": null,
      "outputs": [
        {
          "output_type": "stream",
          "text": [
            "/content/drive/My Drive\n"
          ],
          "name": "stdout"
        }
      ]
    },
    {
      "cell_type": "code",
      "metadata": {
        "id": "Dyj7XSy5n7b4",
        "outputId": "c3acb09a-487e-4e77-bdb5-75efe5579db2",
        "colab": {
          "base_uri": "https://localhost:8080/",
          "height": 85
        }
      },
      "source": [
        "!git clone https://github.com/aitorzip/PyTorch-CycleGAN.git"
      ],
      "execution_count": null,
      "outputs": [
        {
          "output_type": "stream",
          "text": [
            "Cloning into 'PyTorch-CycleGAN'...\n",
            "remote: Enumerating objects: 60, done.\u001b[K\n",
            "remote: Total 60 (delta 0), reused 0 (delta 0), pack-reused 60\u001b[K\n",
            "Unpacking objects: 100% (60/60), done.\n"
          ],
          "name": "stdout"
        }
      ]
    },
    {
      "cell_type": "code",
      "metadata": {
        "id": "QYCpwtUEoA3d",
        "outputId": "e539dff5-99ff-43a5-acb1-1e938e76c8c0",
        "colab": {
          "base_uri": "https://localhost:8080/",
          "height": 34
        }
      },
      "source": [
        "%cd '/content/drive/My Drive/PyTorch-CycleGAN'"
      ],
      "execution_count": null,
      "outputs": [
        {
          "output_type": "stream",
          "text": [
            "/content/drive/My Drive/PyTorch-CycleGAN\n"
          ],
          "name": "stdout"
        }
      ]
    },
    {
      "cell_type": "code",
      "metadata": {
        "id": "j6Nw3sNiogK1"
      },
      "source": [
        "# comando shell\n",
        "%%sh\n",
        "sh ./download_dataset summer2winter_yosemite"
      ],
      "execution_count": null,
      "outputs": []
    },
    {
      "cell_type": "code",
      "metadata": {
        "id": "dSzt5D9alxut"
      },
      "source": [
        "!mv datasets/summer2winter_yosemite /content/drive/My\\ Drive/data/dl-pytorch/datasets/"
      ],
      "execution_count": null,
      "outputs": []
    },
    {
      "cell_type": "code",
      "metadata": {
        "id": "sP37bSlMn0As",
        "outputId": "d14a4fec-ffe4-4aef-9541-62276c48f8d9",
        "colab": {
          "base_uri": "https://localhost:8080/",
          "height": 34
        }
      },
      "source": [
        "!ls /content/drive/My\\ Drive/data/dl-pytorch/datasets/"
      ],
      "execution_count": null,
      "outputs": [
        {
          "output_type": "stream",
          "text": [
            "64x64_SIGNS  64x64_SIGNS.zip  summer2winter_yosemite\n"
          ],
          "name": "stdout"
        }
      ]
    },
    {
      "cell_type": "code",
      "metadata": {
        "id": "xQ9l_4t9tC4W"
      },
      "source": [
        "import torch.nn as nn\n",
        "import torch.nn.functional as F\n",
        "\n",
        "class ResidualBlock(nn.Module):\n",
        "  def __init__(self, in_features):\n",
        "    super(ResidualBlock, self).__init__()\n",
        "    \n",
        "    conv_block = [ nn.ReflectionPad2d(1), #mejor padding, lo que hace es agrandarla y \"rellenarla\" con los datos del tensor en parejas de (parametros).\n",
        "                   nn.Conv2d(in_features, in_features, 3), # la imagen sigue igual\n",
        "                   nn.InstanceNorm2d(in_features), #BN para GANS\n",
        "                   nn.ReLU(True),  # True, porque queremos que si modifique el input\n",
        "                   nn.ReflectionPad2d(1), # mejor para conservar distribucion\n",
        "                   nn.Conv2d(in_features, in_features, 3),\n",
        "                   nn.InstanceNorm2d(in_features)\n",
        "                 ]\n",
        "    \n",
        "    self.conv_block = nn.Sequential(*conv_block)\n",
        "\n",
        "  def forward(self, x):\n",
        "    return self.conv_block(x) + x # una idea poderosa, para tener una mejor capacidad a medida utilizamos esta clase en cada capa"
      ],
      "execution_count": null,
      "outputs": []
    },
    {
      "cell_type": "code",
      "metadata": {
        "id": "8FnU2xxc6sGG",
        "outputId": "40dfed07-1f2e-47a3-c731-5fdf409adcd5",
        "colab": {
          "base_uri": "https://localhost:8080/",
          "height": 408
        }
      },
      "source": [
        "# l = [1,2,'aea',True]\n",
        "# a = {'aea':1,'gaa':3}\n",
        "# print(*l)\n",
        "# print(l)\n",
        "# print(*a)\n",
        "# print(a)\n",
        "import torch\n",
        "m = nn.ReflectionPad2d(1)\n",
        "input = torch.arange(9, dtype=torch.float).reshape(1, 1, 3, 3)\n",
        "c1 = nn.Conv2d(1,1,3)\n",
        "it1 = nn.InstanceNorm2d(1)\n",
        "rl = nn.ReLU(False)\n",
        "lrl = nn.LeakyReLU(0.2)\n",
        "print(input)\n",
        "print(m(input))\n",
        "print(c1(m(input)))\n",
        "print(it1(c1(m(input))))\n",
        "print(rl(it1(c1(m(input)))))\n",
        "print(lrl(it1(c1(m(input)))))\n",
        "print(rl(it1(c1(m(input))))+input)"
      ],
      "execution_count": null,
      "outputs": [
        {
          "output_type": "stream",
          "text": [
            "tensor([[[[0., 1., 2.],\n",
            "          [3., 4., 5.],\n",
            "          [6., 7., 8.]]]])\n",
            "tensor([[[[4., 3., 4., 5., 4.],\n",
            "          [1., 0., 1., 2., 1.],\n",
            "          [4., 3., 4., 5., 4.],\n",
            "          [7., 6., 7., 8., 7.],\n",
            "          [4., 3., 4., 5., 4.]]]])\n",
            "tensor([[[[-0.4862, -0.7135, -1.1261],\n",
            "          [-0.2232, -0.4505, -0.8630],\n",
            "          [-0.9926, -1.2199, -1.6325]]]], grad_fn=<MkldnnConvolutionBackward>)\n",
            "tensor([[[[ 0.8922,  0.3443, -0.6501],\n",
            "          [ 1.5263,  0.9784, -0.0160],\n",
            "          [-0.3283, -0.8762, -1.8707]]]], grad_fn=<ViewBackward>)\n",
            "tensor([[[[0.8922, 0.3443, 0.0000],\n",
            "          [1.5263, 0.9784, 0.0000],\n",
            "          [0.0000, 0.0000, 0.0000]]]], grad_fn=<ReluBackward0>)\n",
            "tensor([[[[ 0.8922,  0.3443, -0.1300],\n",
            "          [ 1.5263,  0.9784, -0.0032],\n",
            "          [-0.0657, -0.1752, -0.3741]]]], grad_fn=<LeakyReluBackward0>)\n",
            "tensor([[[[0.8922, 1.3443, 2.0000],\n",
            "          [4.5263, 4.9784, 5.0000],\n",
            "          [6.0000, 7.0000, 8.0000]]]], grad_fn=<AddBackward0>)\n"
          ],
          "name": "stdout"
        }
      ]
    },
    {
      "cell_type": "code",
      "metadata": {
        "id": "cAV-9bVVhiY0"
      },
      "source": [
        "class Generator(nn.Module):\n",
        "  def __init__(self, input_nc, output_nc, n_residual_blocks=9):\n",
        "    super(Generator,self).__init__()\n",
        "    \n",
        "    # Bloqueconvolucional\n",
        "    model = [ \n",
        "            nn.ReflectionPad2d(3), # formula: \" O = [(I - kernel + 2*padding)/ stride] + 1 = I\n",
        "            nn.Conv2d(input_nc, 64, 7), # O = (I - 7 + 6 /1) + 1 = I\n",
        "            nn.InstanceNorm2d(64),\n",
        "            nn.ReLU(True)\n",
        "            ]\n",
        "    \n",
        "    in_features = 64\n",
        "    out_features = in_features * 2\n",
        "    \n",
        "    #Encoding\n",
        "    for _ in range(2):\n",
        "      model += [ \n",
        "                nn.Conv2d(in_features, out_features, 3, stride=2, padding=1), # O = I/2\n",
        "                nn.InstanceNorm2d(out_features),\n",
        "                nn.ReLU(True)\n",
        "               ]\n",
        "      in_features = out_features\n",
        "      out_features = in_features*2\n",
        "    #transformaciones residuales\n",
        "    \n",
        "    for _ in range(n_residual_blocks):\n",
        "      model += [ResidualBlock(in_features)]\n",
        "    \n",
        "    #decoding\n",
        "    \n",
        "    out_features = in_features// 2\n",
        "    for _ in range(2):\n",
        "      model += [ \n",
        "                nn.ConvTranspose2d(in_features, out_features, 3, stride=2, padding=1, output_padding=1), # O = 2I # desconvolucion\n",
        "                nn.InstanceNorm2d(out_features),\n",
        "                nn.ReLU(inplace=True)\n",
        "               ]\n",
        "      in_features = out_features\n",
        "      out_features = in_features //2\n",
        "  \n",
        "    #salida\n",
        "    model += [ \n",
        "              nn.ReflectionPad2d(3),\n",
        "              nn.Conv2d(64, output_nc, 7), # I\n",
        "              nn.Tanh()  # funcion se salida recomendada para Red Generativa.\n",
        "             ]\n",
        "      \n",
        "    self.model = nn.Sequential(*model)\n",
        "      \n",
        "  def forward(self,x):\n",
        "    return self.model(x)"
      ],
      "execution_count": null,
      "outputs": []
    },
    {
      "cell_type": "code",
      "metadata": {
        "id": "IrDSpGgwDdxW"
      },
      "source": [
        "class Discriminator(nn.Module):\n",
        "  \"PatchGAN: discrimina estilo o textura\"\n",
        "  def __init__(self, input_nc):\n",
        "    super(Discriminator, self).__init__()\n",
        "    \n",
        "    model = [\n",
        "             nn.Conv2d(input_nc, 64, 4, stride=2, padding=1), #I/2\n",
        "             nn.LeakyReLU(0.2, inplace=True)  # (slope, aplicar_original): [x if x >= 0 else slope * x]\n",
        "            ]\n",
        "    \n",
        "    model += [ \n",
        "              nn.Conv2d(64, 128, 4, stride=2, padding=1), #I/2\n",
        "              nn.InstanceNorm2d(128),\n",
        "              nn.LeakyReLU(0.2, inplace=True)\n",
        "             ]\n",
        "    \n",
        "    model += [ \n",
        "              nn.Conv2d(128, 256, 4, stride=2, padding=1), #I/2\n",
        "              nn.InstanceNorm2d(256),\n",
        "              nn.LeakyReLU(0.2, inplace=True)\n",
        "             ]\n",
        "    \n",
        "    model += [ \n",
        "              nn.Conv2d(256, 512, 4, padding=1), #I-1\n",
        "              nn.InstanceNorm2d(512),\n",
        "              nn.LeakyReLU(0.2, inplace=True)\n",
        "             ]\n",
        "    \n",
        "    # Flatten\n",
        "    model += [nn.Conv2d(512, 1, 4, padding=1)] #I-1\n",
        "    \n",
        "    self.model = nn.Sequential(*model)\n",
        "    \n",
        "  def forward(self, x):\n",
        "    x = self.model(x)\n",
        "    return F.avg_pool2d(x, x.size()[2:]).view(x.size()[0], -1)"
      ],
      "execution_count": null,
      "outputs": []
    },
    {
      "cell_type": "code",
      "metadata": {
        "id": "F47xTD4Jb7hZ"
      },
      "source": [
        "import sys\n",
        "path_data = '/content/drive/My Drive/data/dl-pytorch/'\n",
        "sys.path.append('/content/drive/My Drive/data/dl-pytorch/')"
      ],
      "execution_count": null,
      "outputs": []
    },
    {
      "cell_type": "code",
      "metadata": {
        "id": "4qEiH8aHj2WU",
        "outputId": "9d4e6884-44c7-4c41-8711-13b25f2ab5e0",
        "colab": {
          "base_uri": "https://localhost:8080/",
          "height": 34
        }
      },
      "source": [
        "%cd '/content/drive/My Drive/data/dl-pytorch/'\n",
        "import glob\n",
        "import random\n",
        "import os\n",
        "import itertools\n",
        "from PIL import Image\n",
        "\n",
        "import torch \n",
        "\n",
        "from torch.utils.data import Dataset, DataLoader\n",
        "import torchvision.transforms as transforms\n",
        "\n",
        "from utils import ReplayBuffer"
      ],
      "execution_count": null,
      "outputs": [
        {
          "output_type": "stream",
          "text": [
            "/content/drive/My Drive/data/dl-pytorch\n"
          ],
          "name": "stdout"
        }
      ]
    },
    {
      "cell_type": "code",
      "metadata": {
        "id": "Yd4tWrT2j4Jc"
      },
      "source": [
        "class ImageDataset(Dataset):\n",
        "  def __init__(self, base_dir, transform=None, split='train'):\n",
        "    self.transform = transforms.Compose(transform)\n",
        "    self.files_A = sorted(glob.glob(os.path.join(base_dir, '{}/A/*.*'.format(split)))) # A/*.* imagenes que tengan una extencion\n",
        "    self.files_B = sorted(glob.glob(os.path.join(base_dir, '{}/B/*.*'.format(split))))\n",
        "    \n",
        "  def __len__(self):\n",
        "    return max(len(self.files_A), len(self.files_B))\n",
        "  \n",
        "  def __getitem__(self,idx):\n",
        "    image_A = self.transform(Image.open(self.files_A[idx]))\n",
        "    image_B = self.transform(Image.open(self.files_B[random.randint(0,len(self.files_B)-1)]))\n",
        "    return {'A': image_A, 'B': image_B}"
      ],
      "execution_count": null,
      "outputs": []
    },
    {
      "cell_type": "code",
      "metadata": {
        "id": "4aaIdsSCrLyG"
      },
      "source": [
        "epoch = 0\n",
        "n_epochs = 200\n",
        "batch_size = 2\n",
        "lr = 0.0002\n",
        "size = 256\n",
        "input_nc = 3\n",
        "output_nc = 3\n",
        "decay_epoch = 100 #pending\n",
        "\n",
        "cuda = True\n",
        "n_cpu = 8\n",
        "\n",
        "base_dir = '/content/drive/My Drive/data/dl-pytorch/datasets/summer2winter_yosemite/'"
      ],
      "execution_count": null,
      "outputs": []
    },
    {
      "cell_type": "code",
      "metadata": {
        "id": "FKcnJHkrrOnL",
        "outputId": "8121de11-a11b-46ca-dda3-c9e20dd130dc",
        "colab": {
          "base_uri": "https://localhost:8080/",
          "height": 51
        }
      },
      "source": [
        "device = torch.device('cuda' if cuda else 'cpu')\n",
        "\n",
        "def weights_init_normal(m):   # INICIALIZACIÓN DE LOS PESOS SEGUNA LA CAPA\n",
        "  if isinstance(m, nn.Conv2d):  # si la capa es Convolucional\n",
        "    torch.nn.init.normal(m.weight.data, 0.0, 0.02)  # (parametros a inicializar, media, desviacion estandar)\n",
        "  elif isinstance(m, nn.BatchNorm2d): # si la capa contiene BN\n",
        "    torch.nn.init.normal(m.weight.data, 1.0, 0.02)\n",
        "    torch.nn.init.constant(m.bias, 0.0)\n",
        "    \n",
        "netG_A2B = Generator(input_nc, output_nc)\n",
        "netG_B2A = Generator(input_nc, output_nc)\n",
        "netD_A = Discriminator(input_nc)\n",
        "netD_B = Discriminator(input_nc)\n",
        "\n",
        "netG_A2B.apply(weights_init_normal)\n",
        "netG_B2A.apply(weights_init_normal)\n",
        "netD_A.apply(weights_init_normal)\n",
        "netD_B.apply(weights_init_normal)\n",
        "\n",
        "if cuda:\n",
        "  netG_A2B.to(device)\n",
        "  netG_B2A.to(device)\n",
        "  netD_A.to(device)\n",
        "  netD_B.to(device)\n",
        "  \n",
        "criterion_GAN = torch.nn.MSELoss()\n",
        "criterion_cycle = torch.nn.L1Loss()\n",
        "criterion_identity = torch.nn.L1Loss()"
      ],
      "execution_count": null,
      "outputs": [
        {
          "output_type": "stream",
          "text": [
            "/usr/local/lib/python3.6/dist-packages/ipykernel_launcher.py:5: UserWarning: nn.init.normal is now deprecated in favor of nn.init.normal_.\n",
            "  \"\"\"\n"
          ],
          "name": "stderr"
        }
      ]
    },
    {
      "cell_type": "code",
      "metadata": {
        "id": "zPrjIdNu2sHQ"
      },
      "source": [
        "optimizer_G = torch.optim.Adam(itertools.chain(netG_A2B.parameters(), netG_B2A.parameters()),\n",
        "                              lr=lr, betas=(0.5, 0.999))\n",
        "optimizer_D_A = torch.optim.Adam(netD_A.parameters(), lr=lr, betas=(0.5,0.999))\n",
        "optimizer_D_B = torch.optim.Adam(netD_B.parameters(), lr=lr, betas=(0.5,0.999))\n",
        "\n",
        "#schedulers (actualizar el learning rate de forma dinamica durante el entrenamiento)\n",
        "\n",
        "class LambdaLR():\n",
        "  def __init__(self, n_epochs, offset, decay_start_epoch):\n",
        "    assert ((n_epochs - decay_start_epoch) > 0)\n",
        "    self.n_epochs = n_epochs\n",
        "    self.offset = offset\n",
        "    self.decay_start_epoch = decay_start_epoch\n",
        "    \n",
        "  def step(self, epoch):\n",
        "    return 1 - max(0, epoch + self.offset - self.decay_start_epoch)/(self.n_epochs - self.decay_start_epoch)\n",
        "\n",
        "lr_scheduler_G = torch.optim.lr_scheduler.LambdaLR(optimizer_G, lr_lambda=LambdaLR(n_epochs,epoch,decay_epoch).step)\n",
        "lr_scheduler_D_A = torch.optim.lr_scheduler.LambdaLR(optimizer_D_A, lr_lambda=LambdaLR(n_epochs,epoch,decay_epoch).step)\n",
        "lr_scheduler_D_B = torch.optim.lr_scheduler.LambdaLR(optimizer_D_B, lr_lambda=LambdaLR(n_epochs,epoch,decay_epoch).step)"
      ],
      "execution_count": null,
      "outputs": []
    },
    {
      "cell_type": "code",
      "metadata": {
        "id": "Z446aIQRgnPS"
      },
      "source": [
        "#inputs y targets\n",
        "\n",
        "Tensor = torch.cuda.FloatTensor if cuda else torch.Tensor\n",
        "target_real = Tensor(batch_size).fill_(1.0)\n",
        "target_fake = Tensor(batch_size).fill_(0.0)\n",
        "\n",
        "fake_A_buffer = ReplayBuffer()\n",
        "fake_B_buffer = ReplayBuffer()\n",
        "\n",
        "#Dataloader\n",
        "\n",
        "transform = [ \n",
        "             transforms.Resize(int(size*1.12), Image.BICUBIC),\n",
        "             transforms.RandomCrop(size),\n",
        "             transforms.RandomHorizontalFlip(),\n",
        "             transforms.ToTensor(),\n",
        "             transforms.Normalize((0.5,0.5,0.5),(0.5,0.5,0.5))\n",
        "            ]\n",
        "\n",
        "dataloader = DataLoader(ImageDataset(base_dir,transform=transform),\n",
        "                       batch_size=batch_size, shuffle=True, num_workers=n_cpu, drop_last=True)\n",
        "\n",
        "def Gen_GAN_loss(G, D, real, loss, target_real):\n",
        "  fake = G(real)\n",
        "  pred_fake = D(fake)\n",
        "  L = loss(pred_fake, target_real)\n",
        "  return L, fake\n",
        "\n",
        "def cycle_loss(G1, G2, real, loss):\n",
        "  recovered = G2(G1(real))\n",
        "  L = loss(recovered, real)\n",
        "  return L\n",
        "\n",
        "def identity_loss(G, real, loss):\n",
        "  same = G(real)\n",
        "  L = loss(same,real)\n",
        "  return L\n",
        "\n",
        "def Disc_GAN_loss(D2, fake2, real2, fake_2_buffer, loss, target_real, target_fake):\n",
        "  pred_real = D2(real2)\n",
        "  loss_D2_real = loss(pred_real, target_real)\n",
        "  \n",
        "  fake2 = fake_2_buffer.push_and_pop(fake2)\n",
        "  pred_fake = D2(fake2.detach())\n",
        "  loss_D2_fake = loss(pred_fake, target_fake)\n",
        "  loss_D2 = (loss_D2_real + loss_D2_fake) * 0.5\n",
        "  return loss_D2"
      ],
      "execution_count": null,
      "outputs": []
    },
    {
      "cell_type": "code",
      "metadata": {
        "id": "0Nv5Hug4jUNL"
      },
      "source": [
        "!pip install livelossplot"
      ],
      "execution_count": null,
      "outputs": []
    },
    {
      "cell_type": "code",
      "metadata": {
        "id": "c6hU6pUPjU_a"
      },
      "source": [
        "from livelossplot import PlotLosses\n",
        "from utils import Logger\n",
        "\n",
        "logger = Logger(n_epochs, len(dataloader), epoch=epoch)\n",
        "liveloss= PlotLosses()"
      ],
      "execution_count": null,
      "outputs": []
    },
    {
      "cell_type": "code",
      "metadata": {
        "id": "4hV4DMSzi2Rk"
      },
      "source": [
        "for epoch in range(epoch, n_epochs):\n",
        "  for i, batch in enumerate(dataloader):\n",
        "    real_A = batch['A'].to(device)\n",
        "    real_B = batch['B'].to(device)\n",
        "    \n",
        "    # Generativas\n",
        "    optimizer_G.zero_grad()\n",
        "    \n",
        "    loss_GAN_A2B, fake_B = Gen_GAN_loss(netG_A2B, netD_B, real_A, criterion_GAN, target_real)\n",
        "    loss_GAN_B2A, fake_A = Gen_GAN_loss(netG_B2A, netD_A, real_B, criterion_GAN, target_real)\n",
        "    \n",
        "    loss_cycle_ABA = cycle_loss(netG_A2B, netG_B2A, real_A, criterion_cycle)\n",
        "    loss_cycle_BAB = cycle_loss(netG_B2A, netG_A2B, real_B, criterion_cycle)\n",
        "    \n",
        "    loss_identity_A = identity_loss(netG_B2A, real_A, criterion_identity)\n",
        "    loss_identity_B = identity_loss(netG_A2B, real_B, criterion_identity)\n",
        "    \n",
        "    loss_G = (loss_GAN_A2B + loss_GAN_B2A) + 10.0*(loss_cycle_ABA + loss_cycle_BAB) + 5.0 *(loss_identity_A + loss_identity_B)\n",
        "    loss_G.backward()\n",
        "    \n",
        "    optimizer_G.step()\n",
        "    \n",
        "    #Discriminativas\n",
        "    optimizer_D_A.zero_grad()\n",
        "    \n",
        "    loss_D_A = Disc_GAN_loss(netD_A, fake_A, real_A, fake_A_buffer, criterion_GAN, target_real, target_fake)\n",
        "    loss_D_A.backward()\n",
        "    optimizer_D_A.step()\n",
        "    \n",
        "    optimizer_D_B.zero_grad()\n",
        "    \n",
        "    loss_D_B = Disc_GAN_loss(netD_B, fake_B, real_B, fake_B_buffer, criterion_GAN, target_real, target_fake)\n",
        "    loss_D_B.backward()\n",
        "    optimizer_D_B.step()\n",
        "    \n",
        "    log_values = {'loss_G': loss_G,\n",
        "                 'loss_G_identity': (loss_identity_A + loss_identity_B),\n",
        "                 'loss_G_GAN': (loss_GAN_A2B + loss_GAN_B2A),\n",
        "                 'loss_G_cyle': loss_cycle_ABA + loss_cycle_BAB,\n",
        "                  'loss_D': loss_D_A + loss_D_B\n",
        "                 }\n",
        "    logger.log(log_values, images={'real_A': real_A,'real_B': real_B, 'fake_A': fake_A,'fake_B': fake_B  })\n",
        "  \n",
        "  liveloss.update(log_values)\n",
        "  liveloss.draw()\n",
        "    \n",
        "  lr_scheduler_G.step()\n",
        "  lr_scheduler_D_A.step()\n",
        "  lr_scheduler_D_B.step()"
      ],
      "execution_count": null,
      "outputs": []
    },
    {
      "cell_type": "markdown",
      "metadata": {
        "id": "BlSQhm88U2ib"
      },
      "source": [
        "# 4. Bonus"
      ]
    },
    {
      "cell_type": "markdown",
      "metadata": {
        "id": "GpLT49WhmtfM"
      },
      "source": [
        "## Cómo utilizar una GPU personal con Google Cloud"
      ]
    },
    {
      "cell_type": "markdown",
      "metadata": {
        "id": "BhE0Mh3B0P6P"
      },
      "source": [
        "Como utilizar una GPU personal con Google Cloud\n",
        "\n",
        "Para muchos propósitos Colab es una excelente herramienta:\n",
        "\n",
        "Nos entrega un ambiente con las principales librerías Pydata para trabajar.\n",
        "Es colaborativo.\n",
        "Da acceso a una GPU de manera gratuita.\n",
        "Sin embargo la GPU que utilizamos es compartida. Por lo general si chequeamos la memoria de GPU disponible no es muy alta: 100MB o algunos cientos de MB.\n",
        "\n",
        "Para modelos pesados o entrenamientos complejos como en el caso de CycleGAN esto puede ser un cuello de botella a la hora de ejecutar el entrenamiento. Me han tocado errores de memoria por ejemplo al aumentar el batch_size de imágenes ya que esto provoca que una mayor cantidad de imágenes sean transferidas a la GPU.\n",
        "\n",
        "Para estos casos, y de forma mas general, cuando quieras utilizar una GPU de manera exclusiva puedes crear una instancia en Google Cloud Engine de la forma siguiente.\n",
        "\n",
        "Este paso no es obligatorio para completar el curso (con un batch_size de 2 no deberías tener problemas) pero si quieres explorar mas valores para los hiperparametros, o no tener problemas de disponibilidad de GPU, este es el camino a seguir.\n",
        "\n",
        "Advertencia: Crear una instancia en Google Cloud tiene un costo, y con GPU este costo es más elevado. Procura tener la instancia activada solo cuando la ocupes y si no quieres tener costos utiliza simplemente Colab con un batch_size pequeño.\n",
        "\n",
        "Prerrequisitos\n",
        "Une cuenta en Google Cloud\n",
        "Ve a esta pagina https://console.cloud.google.com/ y crea una billing account.\n",
        "\n",
        "Chequea si puedes usar GPUs en Google Cloud\n",
        "En esta pagina puedes ver si tienes GPUs disponibles ligadas a tu cuenta. Por defecto no tendrás GPUs a menos que ya hayas hecho una solicitud, por lo que tendrás que hacer una solicitud manual. Google tratara tu request en un máximo de 48 horas. Una vez que Google haya validado tu solicitud puedes mirar la tab Metric y setear el limite de GPUs a 1 (o mas).\n",
        "\n",
        "La command line de Google Cloud\n",
        "Puedes instalar la linea de comando de google cloud descargando la herramienta en esta pagina\n",
        "\n",
        "Crear una instancia con GPU\n",
        "export IMAGE_FAMILY=\"pytorch-latest-cu100\"\n",
        "export ZONE=\"us-west1-b\"\n",
        "export INSTANCE_NAME=\"my-instance\"\n",
        "\n",
        "gcloud compute instances create $INSTANCE_NAME \\\n",
        "  --zone=$ZONE \\\n",
        "  --image-family=$IMAGE_FAMILY \\\n",
        "  --image-project=deeplearning-platform-release \\\n",
        "  --maintenance-policy=TERMINATE \\\n",
        "  --accelerator=\"type=nvidia-tesla-v100,count=1\" \\\n",
        "  --metadata=\"install-nvidia-driver=True\"\n",
        "\n",
        "Puedes cambiar la zona a una zona que te quede mas cerca como por ejemplo southamerica-east1. El nombre de la instancia lo puedes elegir tu. También puedes cambiar el tipo de la gpu (con el argumento --accelerator) y la cantidad de gpus (ejemplo type=nvidia-tesla-k80,count=2)\n",
        "\n",
        "Conectar tu instancia\n",
        "Ahora puedes chequear si tu instancia esta arriba con el comando siguiente:\n",
        "\n",
        "gcloud compute instances list\n",
        "En la lista que obtienes deberías tener my-instance-vm marcado RUNNING.\n",
        "\n",
        "Lo practico de crear la instancia de esta manera es que viene con jupyterlab corriendo. Para exponer jupyterlab en un puerto corre este comando:\n",
        "\n",
        "gcloud compute ssh $INSTANCE_NAME -- -L 8080:localhost:8080\n",
        "Con esto ya tiene un jupyter lab disponible a través de tu browser en la dirección http://localhost:8080. Este jupyter tiene pytorch instalado y GPU.\n",
        "\n",
        "Copia tu código en un notebook nuevo y ya puedes entrenar con una GPU exclusiva para ti!"
      ]
    },
    {
      "cell_type": "markdown",
      "metadata": {
        "id": "mvVeQTTGqcUp"
      },
      "source": [
        "## ¿Por qué el Deep Learning es más poderoso que el Machine Learning Tradicional?"
      ]
    },
    {
      "cell_type": "markdown",
      "metadata": {
        "id": "fXJiDo6KqjJ2"
      },
      "source": [
        "* Toda función continua en [0,1] es aproximable con una red de solo una capa suficientemente grande.\n",
        "\n",
        "* **Key Takeaway:** las redes de una capa son iguales de \"expresivas\" que las redes profundas.\n"
      ]
    },
    {
      "cell_type": "markdown",
      "metadata": {
        "id": "7Kop1cIlztNv"
      },
      "source": [
        "## Para ir más lejos"
      ]
    },
    {
      "cell_type": "markdown",
      "metadata": {
        "id": "79NYJUuzzEys"
      },
      "source": [
        "**Topics adicionales**\n",
        "\n",
        "* Embeddings y arquitecturas para NLP\n",
        "* Redes Recursivas y LSTM\n",
        "* Deep Reinforcement Learning\n",
        "* Autoencoders y Deep Learning Bayesiano\n",
        "\n",
        "Los embeddings son una forma de representar datasets de texto en espacios vectoriales. Esto permite que ciertas propiedades semánticas sean transportadas a propiedades naturales del espacio vectorial (distancia por ejemplo). Un modelo de base es Word2Vec que és una red neuronal de 2 capas. Últimamente han habido grandes avances gracias a redes neuronales profundas que permiten construir embeddings interesantes como BERT, GPT o ELMO.\n",
        "\n",
        "Las redes recursivas permiten trabajar con data secuencial, como por ejemplo datos de stock, datos de venta o datos de sensores. Las capas LSTM son de las más iconicas y probablemente algo que necesites aprender sí o sí.\n",
        "\n",
        "El Deep Reinforcement Learning corresponde a lo que se ha utilizado para resolver juegos como el Go y Dota. De manera general el aprendizaje reforzado consiste en optimizar una función de recompensa según la acción que uno (el programa) realice. Optimizar directamente la función corresponde a las técnica de Policy Gradient, mientras que a esta optimización agregarle una noción de predicción del retorno según la acción aplicada son las técnicas de Q-learning. AlphaGo ocupa ambas a traves de redes profundas.\n",
        "\n",
        "Por último los autoencoders son redes generativas así como las GAN sólo que reposan más en una lógica de compresión óptima en vez de una noción de juego a suma nula entre dos redes. Las redes bayesanas reposan cómo su nombre lo indica en técnicas bayesianas, donde no solo se aprende un estimador puntual de los párametros de la red, sino que una distribución de probabilidad sobre estos. El tener una distribución de probabilidad entrega mucha más información sobre la situación en la que estamos trabajando, y gracias a esto podemos tener margenes de confianza sobre nuestras predicciones y hacer inferencia más robusta en casos delicados como por ejemplo casos médicos.\n",
        "\n",
        "**Recursos**\n",
        "\n",
        "Google Scholar, Arxiv (sanity)\n",
        "Deep Learning Book\n",
        "Canal Youtube: 2 minute papers\n",
        "Deep Learning cheatsheets\n",
        "The Incredible Pytorch en Github\n",
        "Twitter\n",
        "\n",
        "Google Scholar te permitirá buscar papers, mientras que arxiv sanity te permitirá descubrir papers de calidad que han salido recientemente, quitando el ruido que puede haber por la gran cantidad de papers publicados en Deep Learning.\n",
        "\n",
        "2 minutes papers es un recurso genial para ver resumenes rápidos de papers y elegir los que te parezcan más interesantes. The increible Pytorch es una lista de referencias hacia recursos interesantes de Deep Learning realizados en Pytorch. Y por último si te olvidas de algunas formulas o tienes algunas dudas el Deep Learning Cheatsheet te servirá de apoyo ya que resume los puntos cruciales de dos excelentes cursos de Deep Learning de Stanford.\n",
        "\n",
        "**Personas**\n",
        "* Fei Fei Li, Justin Johnson, Andrej Karpathy\n",
        "* Andrew NG\n",
        "* Roger Grosse\n",
        "* Yoshua Bengio e Ian Goodfellow\n",
        "* Ali Rahimi y Ben Recht\n",
        "* Gabriel Peyré\n",
        "* Y muchos más…\n",
        "\n",
        "Fei Fei Li, Justin Johnson y Andrej Karpathy son profesores en Stanford, y su cursos son al mismo tiempo de un nivel avanzado pero de una claridad pocas veces encontrada en el medio. Por lo demas Fei Fei y Andrej son figuras muy conocidas por sus puestos en la industria.\n",
        "\n",
        "Andrew NG es un reconocido investigador y fundador de Coursera, tiene el MOOC más visto de Machine Learning de todos los tiempos, y también fue Director de AI de Baidu.\n",
        "\n",
        "Roger Grosse tiene excelentes cursos, muy claros sobre todo en la parte matemática. Su twitter es muy interesante también.\n",
        "\n",
        "Yoshua Bengio es premio Turing e Ian Goodfellow inventó las GAN. Conjuntamente escribieron el excelente libro Deep Leanrning Book cuyos capitulos se encuentran disponibloes gratuitamente en internet.\n",
        "\n",
        "Ali Rahimi y Ben Wrecht sobre salen un poco del lote por sus posturas críticas acertadas y son un agrado de leer. Ali y Ben buscan una mejor formalización del éxito del aprendizaje de las redes neuronales, hoy en día una disciplina muy empírica pero que podría beneficiar de insights téoricos y de frameworks de modelización más claros.\n",
        "\n",
        "Gabriel Peyré es profesor en ENS Paris, y tanto sus mathematical tours of data science como sus infografías en twitter son geniales para entender mejor el aprendizaje, el deep learning y el computer vision.\n",
        "\n",
        "Reportar un problema\n",
        "Cierre del curso\n"
      ]
    }
  ]
}